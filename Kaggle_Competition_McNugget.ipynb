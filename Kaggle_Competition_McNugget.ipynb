{
 "cells": [
  {
   "cell_type": "markdown",
   "metadata": {},
   "source": [
    "\n",
    "# Jonathan McNutt Kaggle ID: McNugget"
   ]
  },
  {
   "cell_type": "code",
   "execution_count": 2,
   "metadata": {
    "collapsed": true
   },
   "outputs": [],
   "source": [
    "#Prepare the notebook\n",
    "\n",
    "%matplotlib inline\n",
    "\n",
    "import pandas as pd\n",
    "import matplotlib.pyplot as plt\n",
    "from matplotlib.colors import ListedColormap\n",
    "import seaborn as sns\n",
    "# color = sns.color_palette()\n",
    "# sns.set_style('darkgrid')\n",
    "import warnings\n",
    "def ignore_warn(*args, **kwargs):\n",
    "    pass\n",
    "warnings.warn = ignore_warn\n",
    "\n",
    "import numpy as np\n",
    "from numpy import loadtxt\n",
    "from scipy.stats import norm, skew\n",
    "from sklearn.preprocessing import StandardScaler\n",
    "from scipy import stats\n",
    "\n",
    "from sklearn.feature_selection import SelectFromModel\n",
    "from sklearn.model_selection import cross_val_score\n",
    "from sklearn.metrics import accuracy_score\n",
    "from sklearn.model_selection import GridSearchCV\n",
    "from sklearn.metrics import f1_score\n",
    "from sklearn.model_selection import train_test_split\n",
    "from sklearn.cross_validation import StratifiedKFold\n",
    "\n",
    "from sklearn.metrics import mean_squared_error\n",
    "\n",
    "from sklearn.preprocessing import label_binarize\n",
    "from sklearn.metrics import roc_curve, auc\n",
    "from sklearn import metrics\n",
    "\n",
    "# Import classifiers to try out\n",
    "from sklearn.ensemble import RandomForestClassifier, VotingClassifier\n",
    "from sklearn.ensemble import GradientBoostingClassifier, ExtraTreesClassifier\n",
    "from mlxtend.classifier import StackingClassifier\n",
    "from sklearn.linear_model import LogisticRegression\n",
    "from sklearn.discriminant_analysis import QuadraticDiscriminantAnalysis\n",
    "from sklearn.neighbors import KNeighborsClassifier\n",
    "from sklearn.svm import SVC \n",
    "from sklearn.naive_bayes import GaussianNB\n",
    "from sklearn.ensemble import AdaBoostClassifier\n",
    "import sklearn.linear_model\n",
    "import sklearn.svm\n",
    "import xgboost as xgb #had to use \"conda install -c conda-forge xgboost=0.6a2\" command to install xgboost\n",
    "from xgboost.sklearn import XGBClassifier\n",
    "\n",
    "dark2_colors = [(0.10588235294117647, 0.6196078431372549, 0.4666666666666667),\n",
    "                (0.9058823529411765, 0.1607843137254902, 0.5411764705882353),\n",
    "                (0.8509803921568627, 0.37254901960784315, 0.00784313725490196),\n",
    "                (0.4588235294117647, 0.4392156862745098, 0.7019607843137254),            \n",
    "                (0.4, 0.6509803921568628, 0.11764705882352941),\n",
    "                (0.9019607843137255, 0.6705882352941176, 0.00784313725490196),\n",
    "                (0.6509803921568628, 0.4627450980392157, 0.11372549019607843)]\n",
    "\n",
    "dark2_cmap=ListedColormap(dark2_colors)\n",
    "\n",
    "# Set random seed\n",
    "np.random.seed(0)"
   ]
  },
  {
   "cell_type": "code",
   "execution_count": 294,
   "metadata": {
    "collapsed": true
   },
   "outputs": [],
   "source": [
    "#read in the training data file\n",
    "df_train = pd.read_csv('train_data.csv')"
   ]
  },
  {
   "cell_type": "code",
   "execution_count": 422,
   "metadata": {
    "collapsed": true
   },
   "outputs": [],
   "source": [
    "#read in the test data file\n",
    "df_test = pd.read_csv('test_data.csv')"
   ]
  },
  {
   "cell_type": "code",
   "execution_count": 295,
   "metadata": {},
   "outputs": [
    {
     "data": {
      "text/plain": [
       "(4584, 670)"
      ]
     },
     "execution_count": 295,
     "metadata": {},
     "output_type": "execute_result"
    }
   ],
   "source": [
    "#check training data dimensions\n",
    "df_train.shape"
   ]
  },
  {
   "cell_type": "code",
   "execution_count": 424,
   "metadata": {},
   "outputs": [
    {
     "data": {
      "text/plain": [
       "(1732, 669)"
      ]
     },
     "execution_count": 424,
     "metadata": {},
     "output_type": "execute_result"
    }
   ],
   "source": [
    "#check test data dimensions\n",
    "df_test.shape\n",
    "\n",
    "#makes sense that we have one less column for test data, since the 'output' response variable is what we need to predict"
   ]
  },
  {
   "cell_type": "code",
   "execution_count": 296,
   "metadata": {},
   "outputs": [
    {
     "data": {
      "text/plain": [
       "Index(['x1', 'x2', 'x3', 'x4', 'x5', 'x6', 'x7', 'x8', 'x9', 'x10',\n",
       "       ...\n",
       "       'z217', 'z218', 'z219', 'z220', 'z221', 'z222', 'subject', 'phase',\n",
       "       'state', 'output'],\n",
       "      dtype='object', length=670)"
      ]
     },
     "execution_count": 296,
     "metadata": {},
     "output_type": "execute_result"
    }
   ],
   "source": [
    "#check columns\n",
    "df_train.columns"
   ]
  },
  {
   "cell_type": "code",
   "execution_count": 297,
   "metadata": {},
   "outputs": [
    {
     "data": {
      "image/png": "[encoded data removed]",
      "text/plain": [
       "<matplotlib.figure.Figure at 0x115080668>"
      ]
     },
     "metadata": {},
     "output_type": "display_data"
    }
   ],
   "source": [
    "#get descriptive stats of the response variable we want to predict (output)\n",
    "\n",
    "#histogram\n",
    "plt.hist(df_train['output'])\n",
    "plt.xlabel('Output value')\n",
    "plt.ylabel('Value Counts')\n",
    "plt.title('Training Data Histogram of Output Values');\n"
   ]
  },
  {
   "cell_type": "code",
   "execution_count": 298,
   "metadata": {},
   "outputs": [
    {
     "data": {
      "text/plain": [
       "1    3873\n",
       "0     711\n",
       "Name: output, dtype: int64"
      ]
     },
     "execution_count": 298,
     "metadata": {},
     "output_type": "execute_result"
    }
   ],
   "source": [
    "#more specific look at distribution of 1's and 0's for output column\n",
    "df_train['output'].value_counts()"
   ]
  },
  {
   "cell_type": "code",
   "execution_count": 299,
   "metadata": {},
   "outputs": [
    {
     "name": "stdout",
     "output_type": "stream",
     "text": [
      "0.844895287958\n"
     ]
    }
   ],
   "source": [
    "#print ratio of number of 1's (output value) to total rowcount\n",
    "ratio = df_train['output'].value_counts()[1] / (df_train['output'].value_counts()[0] + df_train['output'].value_counts()[1])  \n",
    "print(ratio)"
   ]
  },
  {
   "cell_type": "markdown",
   "metadata": {},
   "source": [
    "So far, we've discovered that roughly 84% of the training data is classified as output = '1'.  Now we will continue in our exploratory data analysis on the three categorical variables before jumping into some machine learning fun."
   ]
  },
  {
   "cell_type": "code",
   "execution_count": 300,
   "metadata": {},
   "outputs": [
    {
     "data": {
      "text/html": [
       "<div>\n",
       "<style>\n",
       "    .dataframe thead tr:only-child th {\n",
       "        text-align: right;\n",
       "    }\n",
       "\n",
       "    .dataframe thead th {\n",
       "        text-align: left;\n",
       "    }\n",
       "\n",
       "    .dataframe tbody tr th {\n",
       "        vertical-align: top;\n",
       "    }\n",
       "</style>\n",
       "<table border=\"1\" class=\"dataframe\">\n",
       "  <thead>\n",
       "    <tr style=\"text-align: right;\">\n",
       "      <th></th>\n",
       "      <th>subject</th>\n",
       "      <th>phase</th>\n",
       "      <th>state</th>\n",
       "      <th>output</th>\n",
       "    </tr>\n",
       "  </thead>\n",
       "  <tbody>\n",
       "    <tr>\n",
       "      <th>0</th>\n",
       "      <td>A</td>\n",
       "      <td>3</td>\n",
       "      <td>B</td>\n",
       "      <td>0</td>\n",
       "    </tr>\n",
       "    <tr>\n",
       "      <th>1</th>\n",
       "      <td>A</td>\n",
       "      <td>3</td>\n",
       "      <td>C</td>\n",
       "      <td>0</td>\n",
       "    </tr>\n",
       "    <tr>\n",
       "      <th>2</th>\n",
       "      <td>A</td>\n",
       "      <td>3</td>\n",
       "      <td>B</td>\n",
       "      <td>0</td>\n",
       "    </tr>\n",
       "    <tr>\n",
       "      <th>3</th>\n",
       "      <td>A</td>\n",
       "      <td>3</td>\n",
       "      <td>A</td>\n",
       "      <td>0</td>\n",
       "    </tr>\n",
       "    <tr>\n",
       "      <th>4</th>\n",
       "      <td>A</td>\n",
       "      <td>4</td>\n",
       "      <td>C</td>\n",
       "      <td>0</td>\n",
       "    </tr>\n",
       "  </tbody>\n",
       "</table>\n",
       "</div>"
      ],
      "text/plain": [
       "  subject  phase state  output\n",
       "0       A      3     B       0\n",
       "1       A      3     C       0\n",
       "2       A      3     B       0\n",
       "3       A      3     A       0\n",
       "4       A      4     C       0"
      ]
     },
     "execution_count": 300,
     "metadata": {},
     "output_type": "execute_result"
    }
   ],
   "source": [
    "#correlation matrix of categorical variables\n",
    "df_train_last_four = df_train[['subject','phase','state','output']]\n",
    "df_train_last_four.head()"
   ]
  },
  {
   "cell_type": "markdown",
   "metadata": {},
   "source": [
    "So it appears that the rows are \"grouped\" by the 'subject' column, which Prof Henstock confirmed on Piazza represents individual persons, and the 'state' column represents some activity.  Perhaps some more data aggregation along these axes is needed to obtain the best prediction results."
   ]
  },
  {
   "cell_type": "code",
   "execution_count": 301,
   "metadata": {},
   "outputs": [
    {
     "data": {
      "text/plain": [
       "C    2106\n",
       "B    1502\n",
       "D     576\n",
       "A     398\n",
       "E       2\n",
       "Name: state, dtype: int64"
      ]
     },
     "execution_count": 301,
     "metadata": {},
     "output_type": "execute_result"
    }
   ],
   "source": [
    "#training value counts for the 'state' variable\n",
    "df_train['state'].value_counts()"
   ]
  },
  {
   "cell_type": "code",
   "execution_count": 425,
   "metadata": {},
   "outputs": [
    {
     "data": {
      "text/plain": [
       "C    841\n",
       "B    525\n",
       "D    253\n",
       "A    112\n",
       "E      1\n",
       "Name: state, dtype: int64"
      ]
     },
     "execution_count": 425,
     "metadata": {},
     "output_type": "execute_result"
    }
   ],
   "source": [
    "#test value counts for the 'state' variable\n",
    "df_test['state'].value_counts()"
   ]
  },
  {
   "cell_type": "code",
   "execution_count": 303,
   "metadata": {},
   "outputs": [
    {
     "data": {
      "image/png": "[encoded data removed]",
      "text/plain": [
       "<matplotlib.figure.Figure at 0x11512d080>"
      ]
     },
     "metadata": {},
     "output_type": "display_data"
    }
   ],
   "source": [
    "#Training data histogram of states\n",
    "df_train['state'].value_counts().plot(kind='bar')\n",
    "plt.xlabel('State (Activity)')\n",
    "plt.ylabel('Value Counts')\n",
    "plt.title('Training Data Histogram of States');"
   ]
  },
  {
   "cell_type": "code",
   "execution_count": 426,
   "metadata": {},
   "outputs": [
    {
     "data": {
      "image/png": "[encoded data removed]",
      "text/plain": [
       "<matplotlib.figure.Figure at 0x126932e48>"
      ]
     },
     "metadata": {},
     "output_type": "display_data"
    }
   ],
   "source": [
    "#Test data histogram of states\n",
    "df_test['state'].value_counts().plot(kind='bar')\n",
    "plt.xlabel('State (Activity)')\n",
    "plt.ylabel('Value Counts')\n",
    "plt.title('Test Data Histogram of States');"
   ]
  },
  {
   "cell_type": "markdown",
   "metadata": {},
   "source": [
    "So roughly 45% of all training data observations (rows) are measurements related to state \"C\" (a particular activity), and 32% of training data observations are state \"B\".  This means that states \"D\", \"A\", and \"E\" combined account for less than 23% of the training data observations.  \n",
    "\n",
    "We can visually verify that the distribution (value counts) for each state is roughly the same between the training data and the test data.  So far, so good for modeling purposes."
   ]
  },
  {
   "cell_type": "code",
   "execution_count": 304,
   "metadata": {},
   "outputs": [
    {
     "data": {
      "text/plain": [
       "4    1291\n",
       "1    1215\n",
       "2    1063\n",
       "3    1015\n",
       "Name: phase, dtype: int64"
      ]
     },
     "execution_count": 304,
     "metadata": {},
     "output_type": "execute_result"
    }
   ],
   "source": [
    "#Training value counts for the 'phase' variable\n",
    "df_train['phase'].value_counts()"
   ]
  },
  {
   "cell_type": "code",
   "execution_count": 428,
   "metadata": {},
   "outputs": [
    {
     "data": {
      "text/plain": [
       "4    559\n",
       "1    488\n",
       "3    358\n",
       "2    327\n",
       "Name: phase, dtype: int64"
      ]
     },
     "execution_count": 428,
     "metadata": {},
     "output_type": "execute_result"
    }
   ],
   "source": [
    "#Test value counts for the 'phase' variable\n",
    "df_test['phase'].value_counts()"
   ]
  },
  {
   "cell_type": "code",
   "execution_count": 429,
   "metadata": {},
   "outputs": [
    {
     "data": {
      "image/png": "[encoded data removed]",
      "text/plain": [
       "<matplotlib.figure.Figure at 0x1204840f0>"
      ]
     },
     "metadata": {},
     "output_type": "display_data"
    }
   ],
   "source": [
    "#Training data histogram of phases\n",
    "df_train['phase'].value_counts().plot(kind='bar')\n",
    "plt.xlabel('Phase')\n",
    "plt.ylabel('Value Counts')\n",
    "plt.title('Training Data Histogram of Phases');"
   ]
  },
  {
   "cell_type": "code",
   "execution_count": 427,
   "metadata": {},
   "outputs": [
    {
     "data": {
      "image/png": "[encoded data removed]",
      "text/plain": [
       "<matplotlib.figure.Figure at 0x115172f98>"
      ]
     },
     "metadata": {},
     "output_type": "display_data"
    }
   ],
   "source": [
    "#Test data histogram of phases\n",
    "df_test['phase'].value_counts().plot(kind='bar')\n",
    "plt.xlabel('Phase')\n",
    "plt.ylabel('Value Counts')\n",
    "plt.title('Test Data Histogram of Phases');"
   ]
  },
  {
   "cell_type": "markdown",
   "metadata": {},
   "source": [
    "Again, for the four possible phases, the training and test data sets are similarly distributed among the classes, although there are slightly more observations with phase = 4 and phase = 1 in the test data set."
   ]
  },
  {
   "cell_type": "code",
   "execution_count": 306,
   "metadata": {},
   "outputs": [
    {
     "data": {
      "text/plain": [
       "I    663\n",
       "G    518\n",
       "B    513\n",
       "K    468\n",
       "L    444\n",
       "D    420\n",
       "A    380\n",
       "C    361\n",
       "F    330\n",
       "M    306\n",
       "H    181\n",
       "Name: subject, dtype: int64"
      ]
     },
     "execution_count": 306,
     "metadata": {},
     "output_type": "execute_result"
    }
   ],
   "source": [
    "#Training value counts for the 'subject' variable (individuals in this study)\n",
    "df_train['subject'].value_counts()"
   ]
  },
  {
   "cell_type": "code",
   "execution_count": 430,
   "metadata": {},
   "outputs": [
    {
     "data": {
      "text/plain": [
       "J    629\n",
       "E    312\n",
       "I    124\n",
       "G     88\n",
       "D     83\n",
       "B     78\n",
       "C     71\n",
       "L     71\n",
       "K     69\n",
       "F     60\n",
       "A     59\n",
       "M     55\n",
       "H     33\n",
       "Name: subject, dtype: int64"
      ]
     },
     "execution_count": 430,
     "metadata": {},
     "output_type": "execute_result"
    }
   ],
   "source": [
    "#Test value counts for the 'subject' variable (individuals in this study)\n",
    "df_test['subject'].value_counts()"
   ]
  },
  {
   "cell_type": "code",
   "execution_count": 307,
   "metadata": {},
   "outputs": [
    {
     "data": {
      "image/png": "[encoded data removed]",
      "text/plain": [
       "<matplotlib.figure.Figure at 0x128fee208>"
      ]
     },
     "metadata": {},
     "output_type": "display_data"
    }
   ],
   "source": [
    "#Training data histogram of subjects\n",
    "df_train['subject'].value_counts().plot(kind='bar')\n",
    "plt.xlabel('Subject (Individual Persons)')\n",
    "plt.ylabel('Value Counts')\n",
    "plt.title('Training Data Histogram of Subjects')\n",
    "plt.show();"
   ]
  },
  {
   "cell_type": "code",
   "execution_count": 431,
   "metadata": {},
   "outputs": [
    {
     "data": {
      "image/png": "[encoded data removed]",
      "text/plain": [
       "<matplotlib.figure.Figure at 0x11f6efb70>"
      ]
     },
     "metadata": {},
     "output_type": "display_data"
    }
   ],
   "source": [
    "#Test data histogram of subjects\n",
    "df_test['subject'].value_counts().plot(kind='bar')\n",
    "plt.xlabel('Subject (Individual Persons)')\n",
    "plt.ylabel('Value Counts')\n",
    "plt.title('Test Data Histogram of Subjects')\n",
    "plt.show();"
   ]
  },
  {
   "cell_type": "markdown",
   "metadata": {},
   "source": [
    "YOWZA!  The two subject count histograms above for training and test data show that the test data set includes two classes not seen even once in the training data set.  These two subject classes are \"J\" and \"E\".  That means we should probably remove this column from BOTH the training AND test data sets, otherwise our model based on the training data would be off by a lot when taking this subject variable into account with the test data.  Good thing we looked at this variable!"
   ]
  },
  {
   "cell_type": "code",
   "execution_count": 448,
   "metadata": {},
   "outputs": [
    {
     "name": "stdout",
     "output_type": "stream",
     "text": [
      "output     0    1\n",
      "subject          \n",
      "A         11  369\n",
      "B         72  441\n",
      "C         88  273\n",
      "D         26  394\n",
      "F         73  257\n",
      "G        263  255\n",
      "H         25  156\n",
      "I         25  638\n",
      "K          0  468\n",
      "L         39  405\n",
      "M         89  217\n"
     ]
    }
   ],
   "source": [
    "subject_output_train = df_train_last_four.groupby(['subject', 'output']).size().unstack(fill_value=0)\n",
    "print(subject_output_train)"
   ]
  },
  {
   "cell_type": "code",
   "execution_count": 449,
   "metadata": {},
   "outputs": [
    {
     "name": "stdout",
     "output_type": "stream",
     "text": [
      "RangeIndex(start=0, stop=11, step=1)\n"
     ]
    }
   ],
   "source": [
    "subject_output_train = subject_output_train.reset_index()\n",
    "print(subject_output_train.index)"
   ]
  },
  {
   "cell_type": "code",
   "execution_count": 450,
   "metadata": {},
   "outputs": [
    {
     "name": "stdout",
     "output_type": "stream",
     "text": [
      "Index(['subject', 'zero', 'one'], dtype='object')\n"
     ]
    }
   ],
   "source": [
    "subject_output_train.columns = ['subject', 'zero', 'one']\n",
    "print(subject_output_train.columns)"
   ]
  },
  {
   "cell_type": "code",
   "execution_count": 451,
   "metadata": {},
   "outputs": [
    {
     "data": {
      "image/png": "[encoded data removed]",
      "text/plain": [
       "<matplotlib.figure.Figure at 0x132ca5da0>"
      ]
     },
     "metadata": {},
     "output_type": "display_data"
    }
   ],
   "source": [
    "#stacked barplot of Training data subjects\n",
    "subject_output_train.plot(x=\"subject\", y=[\"zero\", \"one\"], kind=\"bar\", stacked=True)\n",
    "plt.xlabel('Subject')\n",
    "plt.ylabel('Output Counts')\n",
    "plt.title('Stacked Barplot of Output Grouped By Subject')\n",
    "plt.show();"
   ]
  },
  {
   "cell_type": "code",
   "execution_count": 452,
   "metadata": {},
   "outputs": [
    {
     "name": "stdout",
     "output_type": "stream",
     "text": [
      "Index(['output', 'A', 'B', 'C', 'D', 'F', 'G', 'H', 'I', 'K', 'L', 'M'], dtype='object', name='subject')\n"
     ]
    }
   ],
   "source": [
    "output_subject_train = df_train_last_four.groupby(['output', 'subject']).size().unstack(fill_value=0)\n",
    "output_subject_train = output_subject_train.reset_index()\n",
    "print(output_subject_train.columns)"
   ]
  },
  {
   "cell_type": "code",
   "execution_count": 453,
   "metadata": {},
   "outputs": [
    {
     "data": {
      "image/png": "[encoded data removed]",
      "text/plain": [
       "<matplotlib.figure.Figure at 0x126d365c0>"
      ]
     },
     "metadata": {},
     "output_type": "display_data"
    }
   ],
   "source": [
    "#unstacked barplot of Training data subjects grouped by output\n",
    "output_subject_train.plot(x=\"output\", y=[\"A\", \"B\",\"C\",\"D\",\"F\",\"G\",\"H\",\"I\",\"K\",\"L\",\"M\"], kind=\"bar\", stacked=False)\n",
    "plt.xlabel('Outcome')\n",
    "plt.ylabel('Outcome Counts')\n",
    "plt.title('Stacked Barplot of Subjects Grouped By Output')\n",
    "plt.show();"
   ]
  },
  {
   "cell_type": "markdown",
   "metadata": {},
   "source": [
    "Now these two plots above related to output and subject variables are very interesting.  We see here in the training data that at least ONE of the subjects (subject = \"G\") has a much higher ratio of output = '0' to ouput = '1', nearly 50%! The rest of the subjects have a much higher rate of output = '1' compared with output = '0'.  "
   ]
  },
  {
   "cell_type": "code",
   "execution_count": 455,
   "metadata": {
    "scrolled": true
   },
   "outputs": [
    {
     "data": {
      "text/html": [
       "<div>\n",
       "<style>\n",
       "    .dataframe thead tr:only-child th {\n",
       "        text-align: right;\n",
       "    }\n",
       "\n",
       "    .dataframe thead th {\n",
       "        text-align: left;\n",
       "    }\n",
       "\n",
       "    .dataframe tbody tr th {\n",
       "        vertical-align: top;\n",
       "    }\n",
       "</style>\n",
       "<table border=\"1\" class=\"dataframe\">\n",
       "  <thead>\n",
       "    <tr style=\"text-align: right;\">\n",
       "      <th>output</th>\n",
       "      <th>0</th>\n",
       "      <th>1</th>\n",
       "    </tr>\n",
       "    <tr>\n",
       "      <th>state</th>\n",
       "      <th></th>\n",
       "      <th></th>\n",
       "    </tr>\n",
       "  </thead>\n",
       "  <tbody>\n",
       "    <tr>\n",
       "      <th>A</th>\n",
       "      <td>54</td>\n",
       "      <td>344</td>\n",
       "    </tr>\n",
       "    <tr>\n",
       "      <th>B</th>\n",
       "      <td>211</td>\n",
       "      <td>1291</td>\n",
       "    </tr>\n",
       "    <tr>\n",
       "      <th>C</th>\n",
       "      <td>326</td>\n",
       "      <td>1780</td>\n",
       "    </tr>\n",
       "    <tr>\n",
       "      <th>D</th>\n",
       "      <td>120</td>\n",
       "      <td>456</td>\n",
       "    </tr>\n",
       "    <tr>\n",
       "      <th>E</th>\n",
       "      <td>0</td>\n",
       "      <td>2</td>\n",
       "    </tr>\n",
       "  </tbody>\n",
       "</table>\n",
       "</div>"
      ],
      "text/plain": [
       "output    0     1\n",
       "state            \n",
       "A        54   344\n",
       "B       211  1291\n",
       "C       326  1780\n",
       "D       120   456\n",
       "E         0     2"
      ]
     },
     "execution_count": 455,
     "metadata": {},
     "output_type": "execute_result"
    }
   ],
   "source": [
    "state_output_train = df_train_last_four.groupby(['state', 'output']).size().unstack(fill_value=0)\n",
    "state_output_train"
   ]
  },
  {
   "cell_type": "code",
   "execution_count": 456,
   "metadata": {},
   "outputs": [
    {
     "name": "stdout",
     "output_type": "stream",
     "text": [
      "Index(['A', 'B', 'C', 'D', 'E'], dtype='object', name='state')\n"
     ]
    }
   ],
   "source": [
    "print(state_output_train.index)"
   ]
  },
  {
   "cell_type": "code",
   "execution_count": 457,
   "metadata": {},
   "outputs": [
    {
     "name": "stdout",
     "output_type": "stream",
     "text": [
      "RangeIndex(start=0, stop=5, step=1)\n"
     ]
    }
   ],
   "source": [
    "state_output_train = state_output_train.reset_index()\n",
    "print(state_output_train.index)"
   ]
  },
  {
   "cell_type": "code",
   "execution_count": 458,
   "metadata": {},
   "outputs": [
    {
     "name": "stdout",
     "output_type": "stream",
     "text": [
      "Index(['state', 'zero', 'one'], dtype='object')\n"
     ]
    }
   ],
   "source": [
    "state_output_train.columns = ['state','zero', 'one']\n",
    "print(state_output_train.columns)"
   ]
  },
  {
   "cell_type": "code",
   "execution_count": 459,
   "metadata": {},
   "outputs": [
    {
     "data": {
      "image/png": "[encoded data removed]",
      "text/plain": [
       "<matplotlib.figure.Figure at 0x120436470>"
      ]
     },
     "metadata": {},
     "output_type": "display_data"
    }
   ],
   "source": [
    "#stacked barplot of Training data states\n",
    "state_output_train.plot(x=\"state\", y=[\"zero\", \"one\"], kind=\"bar\", stacked=True)\n",
    "plt.xlabel('State')\n",
    "plt.ylabel('Outcome Counts')\n",
    "plt.title('Stacked Barplot of Training Output Grouped By State')\n",
    "plt.show();"
   ]
  },
  {
   "cell_type": "code",
   "execution_count": 460,
   "metadata": {
    "collapsed": true
   },
   "outputs": [],
   "source": [
    "# try grouping in reverse to show barplot from different perspective\n",
    "output_state_train = df_train_last_four.groupby(['output', 'state']).size().unstack(fill_value=0)\n",
    "output_state_train = output_state_train.reset_index()"
   ]
  },
  {
   "cell_type": "code",
   "execution_count": 461,
   "metadata": {},
   "outputs": [
    {
     "data": {
      "image/png": "[encoded data removed]",
      "text/plain": [
       "<matplotlib.figure.Figure at 0x132c8c320>"
      ]
     },
     "metadata": {},
     "output_type": "display_data"
    }
   ],
   "source": [
    "#unstacked barplot of Training data states grouped by output\n",
    "output_state_train.plot(x=\"output\", y=[\"A\", \"B\",\"C\",\"D\",\"E\"], kind=\"bar\", stacked=False)\n",
    "plt.xlabel('Outcome')\n",
    "plt.ylabel('Outcome Counts')\n",
    "plt.title('Stacked Barplot of Training States Grouped By Output')\n",
    "plt.show();"
   ]
  },
  {
   "cell_type": "code",
   "execution_count": 463,
   "metadata": {},
   "outputs": [
    {
     "data": {
      "text/html": [
       "<div>\n",
       "<style>\n",
       "    .dataframe thead tr:only-child th {\n",
       "        text-align: right;\n",
       "    }\n",
       "\n",
       "    .dataframe thead th {\n",
       "        text-align: left;\n",
       "    }\n",
       "\n",
       "    .dataframe tbody tr th {\n",
       "        vertical-align: top;\n",
       "    }\n",
       "</style>\n",
       "<table border=\"1\" class=\"dataframe\">\n",
       "  <thead>\n",
       "    <tr style=\"text-align: right;\">\n",
       "      <th>output</th>\n",
       "      <th>0</th>\n",
       "      <th>1</th>\n",
       "    </tr>\n",
       "    <tr>\n",
       "      <th>phase</th>\n",
       "      <th></th>\n",
       "      <th></th>\n",
       "    </tr>\n",
       "  </thead>\n",
       "  <tbody>\n",
       "    <tr>\n",
       "      <th>1</th>\n",
       "      <td>210</td>\n",
       "      <td>1005</td>\n",
       "    </tr>\n",
       "    <tr>\n",
       "      <th>2</th>\n",
       "      <td>215</td>\n",
       "      <td>848</td>\n",
       "    </tr>\n",
       "    <tr>\n",
       "      <th>3</th>\n",
       "      <td>130</td>\n",
       "      <td>885</td>\n",
       "    </tr>\n",
       "    <tr>\n",
       "      <th>4</th>\n",
       "      <td>156</td>\n",
       "      <td>1135</td>\n",
       "    </tr>\n",
       "  </tbody>\n",
       "</table>\n",
       "</div>"
      ],
      "text/plain": [
       "output    0     1\n",
       "phase            \n",
       "1       210  1005\n",
       "2       215   848\n",
       "3       130   885\n",
       "4       156  1135"
      ]
     },
     "execution_count": 463,
     "metadata": {},
     "output_type": "execute_result"
    }
   ],
   "source": [
    "phase_output_train = df_train_last_four.groupby(['phase', 'output']).size().unstack(fill_value=0)\n",
    "phase_output_train"
   ]
  },
  {
   "cell_type": "code",
   "execution_count": 464,
   "metadata": {
    "collapsed": true
   },
   "outputs": [],
   "source": [
    "phase_output_train = phase_output_train.reset_index()"
   ]
  },
  {
   "cell_type": "code",
   "execution_count": 465,
   "metadata": {},
   "outputs": [
    {
     "name": "stdout",
     "output_type": "stream",
     "text": [
      "Index(['phase', 'zero', 'one'], dtype='object')\n"
     ]
    }
   ],
   "source": [
    "phase_output_train.columns = ['phase','zero', 'one']\n",
    "print(phase_output_train.columns)"
   ]
  },
  {
   "cell_type": "code",
   "execution_count": 467,
   "metadata": {},
   "outputs": [
    {
     "data": {
      "image/png": "[encoded data removed]",
      "text/plain": [
       "<matplotlib.figure.Figure at 0x132b7f2b0>"
      ]
     },
     "metadata": {},
     "output_type": "display_data"
    }
   ],
   "source": [
    "#stacked barplot of Training Output by phases\n",
    "phase_output_train.plot(x=\"phase\", y=[\"zero\", \"one\"], kind=\"bar\", stacked=False)\n",
    "plt.xlabel('Phase')\n",
    "plt.ylabel('Outcome Counts')\n",
    "plt.title('Stacked Barplot of Training Output Grouped By Phase')\n",
    "plt.show();"
   ]
  },
  {
   "cell_type": "code",
   "execution_count": 468,
   "metadata": {},
   "outputs": [
    {
     "data": {
      "text/html": [
       "<div>\n",
       "<style>\n",
       "    .dataframe thead tr:only-child th {\n",
       "        text-align: right;\n",
       "    }\n",
       "\n",
       "    .dataframe thead th {\n",
       "        text-align: left;\n",
       "    }\n",
       "\n",
       "    .dataframe tbody tr th {\n",
       "        vertical-align: top;\n",
       "    }\n",
       "</style>\n",
       "<table border=\"1\" class=\"dataframe\">\n",
       "  <thead>\n",
       "    <tr style=\"text-align: right;\">\n",
       "      <th>phase</th>\n",
       "      <th>1</th>\n",
       "      <th>2</th>\n",
       "      <th>3</th>\n",
       "      <th>4</th>\n",
       "    </tr>\n",
       "    <tr>\n",
       "      <th>output</th>\n",
       "      <th></th>\n",
       "      <th></th>\n",
       "      <th></th>\n",
       "      <th></th>\n",
       "    </tr>\n",
       "  </thead>\n",
       "  <tbody>\n",
       "    <tr>\n",
       "      <th>0</th>\n",
       "      <td>210</td>\n",
       "      <td>215</td>\n",
       "      <td>130</td>\n",
       "      <td>156</td>\n",
       "    </tr>\n",
       "    <tr>\n",
       "      <th>1</th>\n",
       "      <td>1005</td>\n",
       "      <td>848</td>\n",
       "      <td>885</td>\n",
       "      <td>1135</td>\n",
       "    </tr>\n",
       "  </tbody>\n",
       "</table>\n",
       "</div>"
      ],
      "text/plain": [
       "phase      1    2    3     4\n",
       "output                      \n",
       "0        210  215  130   156\n",
       "1       1005  848  885  1135"
      ]
     },
     "execution_count": 468,
     "metadata": {},
     "output_type": "execute_result"
    }
   ],
   "source": [
    "output_phase_train = df_train_last_four.groupby(['output', 'phase']).size().unstack(fill_value=0)\n",
    "output_phase_train"
   ]
  },
  {
   "cell_type": "code",
   "execution_count": 469,
   "metadata": {},
   "outputs": [
    {
     "name": "stdout",
     "output_type": "stream",
     "text": [
      "Index(['output', 'phase_1', 'phase_2', 'phase_3', 'phase_4'], dtype='object')\n"
     ]
    }
   ],
   "source": [
    "output_phase_train = output_phase_train.reset_index()\n",
    "output_phase_train.columns = ['output','phase_1', 'phase_2','phase_3','phase_4']\n",
    "print(output_phase_train.columns)"
   ]
  },
  {
   "cell_type": "code",
   "execution_count": 470,
   "metadata": {},
   "outputs": [
    {
     "data": {
      "text/html": [
       "<div>\n",
       "<style>\n",
       "    .dataframe thead tr:only-child th {\n",
       "        text-align: right;\n",
       "    }\n",
       "\n",
       "    .dataframe thead th {\n",
       "        text-align: left;\n",
       "    }\n",
       "\n",
       "    .dataframe tbody tr th {\n",
       "        vertical-align: top;\n",
       "    }\n",
       "</style>\n",
       "<table border=\"1\" class=\"dataframe\">\n",
       "  <thead>\n",
       "    <tr style=\"text-align: right;\">\n",
       "      <th></th>\n",
       "      <th>output</th>\n",
       "      <th>phase_1</th>\n",
       "      <th>phase_2</th>\n",
       "      <th>phase_3</th>\n",
       "      <th>phase_4</th>\n",
       "    </tr>\n",
       "  </thead>\n",
       "  <tbody>\n",
       "    <tr>\n",
       "      <th>0</th>\n",
       "      <td>0</td>\n",
       "      <td>210</td>\n",
       "      <td>215</td>\n",
       "      <td>130</td>\n",
       "      <td>156</td>\n",
       "    </tr>\n",
       "    <tr>\n",
       "      <th>1</th>\n",
       "      <td>1</td>\n",
       "      <td>1005</td>\n",
       "      <td>848</td>\n",
       "      <td>885</td>\n",
       "      <td>1135</td>\n",
       "    </tr>\n",
       "  </tbody>\n",
       "</table>\n",
       "</div>"
      ],
      "text/plain": [
       "   output  phase_1  phase_2  phase_3  phase_4\n",
       "0       0      210      215      130      156\n",
       "1       1     1005      848      885     1135"
      ]
     },
     "execution_count": 470,
     "metadata": {},
     "output_type": "execute_result"
    }
   ],
   "source": [
    "output_phase_train"
   ]
  },
  {
   "cell_type": "code",
   "execution_count": 472,
   "metadata": {},
   "outputs": [
    {
     "data": {
      "image/png": "[encoded data removed]",
      "text/plain": [
       "<matplotlib.figure.Figure at 0x126d05e80>"
      ]
     },
     "metadata": {},
     "output_type": "display_data"
    }
   ],
   "source": [
    "#stacked barplot of Training phases grouped by output\n",
    "output_phase_train.plot(x=\"output\", y=[\"phase_1\", \"phase_2\",\"phase_3\",\"phase_4\"], kind=\"bar\", stacked=False)\n",
    "plt.xlabel('Outcome')\n",
    "plt.ylabel('Outcome Counts')\n",
    "plt.title('Stacked Barplot of Training Phases Grouped By Output')\n",
    "plt.show();"
   ]
  },
  {
   "cell_type": "markdown",
   "metadata": {
    "collapsed": true
   },
   "source": [
    "So far, my conclusions regarding State, Subject, Phase and Outcome are that the strongest relationship exists between the subject and the outcome.  HOWEVER, as Prof Henstock mentioned in Piazza, the same subjects are not present in both training and test data, and even those that are present in both have differing distributions of observation counts. \n",
    "\n",
    "Therefore, from this point onwards I will attempt to predict the outcome WITHOUT using the subject variable, and see how my cross validation on the training set compares with the actual score on Kaggle, and adjust accordingly from there."
   ]
  },
  {
   "cell_type": "code",
   "execution_count": 332,
   "metadata": {
    "collapsed": true
   },
   "outputs": [],
   "source": [
    "#Save the Training output column to a separate array\n",
    "y = df_train['output'].values"
   ]
  },
  {
   "cell_type": "code",
   "execution_count": 333,
   "metadata": {
    "collapsed": true
   },
   "outputs": [],
   "source": [
    "#Drop the Training output column from the rest of the dataframe so only predictors remain\n",
    "df_train = df_train.drop('output',1)"
   ]
  },
  {
   "cell_type": "code",
   "execution_count": 392,
   "metadata": {},
   "outputs": [
    {
     "data": {
      "text/html": [
       "<div>\n",
       "<style>\n",
       "    .dataframe thead tr:only-child th {\n",
       "        text-align: right;\n",
       "    }\n",
       "\n",
       "    .dataframe thead th {\n",
       "        text-align: left;\n",
       "    }\n",
       "\n",
       "    .dataframe tbody tr th {\n",
       "        vertical-align: top;\n",
       "    }\n",
       "</style>\n",
       "<table border=\"1\" class=\"dataframe\">\n",
       "  <thead>\n",
       "    <tr style=\"text-align: right;\">\n",
       "      <th></th>\n",
       "      <th>x1</th>\n",
       "      <th>x2</th>\n",
       "      <th>x3</th>\n",
       "      <th>x4</th>\n",
       "      <th>x5</th>\n",
       "      <th>x6</th>\n",
       "      <th>x7</th>\n",
       "      <th>x8</th>\n",
       "      <th>x9</th>\n",
       "      <th>x10</th>\n",
       "      <th>...</th>\n",
       "      <th>z215</th>\n",
       "      <th>z216</th>\n",
       "      <th>z217</th>\n",
       "      <th>z218</th>\n",
       "      <th>z219</th>\n",
       "      <th>z220</th>\n",
       "      <th>z221</th>\n",
       "      <th>z222</th>\n",
       "      <th>phase</th>\n",
       "      <th>state</th>\n",
       "    </tr>\n",
       "  </thead>\n",
       "  <tbody>\n",
       "    <tr>\n",
       "      <th>0</th>\n",
       "      <td>0</td>\n",
       "      <td>0</td>\n",
       "      <td>0</td>\n",
       "      <td>1</td>\n",
       "      <td>-300.361218</td>\n",
       "      <td>0.886360</td>\n",
       "      <td>-2.590886</td>\n",
       "      <td>225.001899</td>\n",
       "      <td>0.006204</td>\n",
       "      <td>3.710000e-05</td>\n",
       "      <td>...</td>\n",
       "      <td>0.021695</td>\n",
       "      <td>0.010894</td>\n",
       "      <td>0.005242</td>\n",
       "      <td>0.024971</td>\n",
       "      <td>-1017.620978</td>\n",
       "      <td>-382.850838</td>\n",
       "      <td>-48.275711</td>\n",
       "      <td>-2.040336</td>\n",
       "      <td>3</td>\n",
       "      <td>B</td>\n",
       "    </tr>\n",
       "    <tr>\n",
       "      <th>1</th>\n",
       "      <td>0</td>\n",
       "      <td>0</td>\n",
       "      <td>0</td>\n",
       "      <td>1</td>\n",
       "      <td>-297.126090</td>\n",
       "      <td>0.622211</td>\n",
       "      <td>-3.960940</td>\n",
       "      <td>220.179017</td>\n",
       "      <td>0.006167</td>\n",
       "      <td>-1.420000e-05</td>\n",
       "      <td>...</td>\n",
       "      <td>0.037434</td>\n",
       "      <td>0.003062</td>\n",
       "      <td>0.001722</td>\n",
       "      <td>0.023595</td>\n",
       "      <td>91.229094</td>\n",
       "      <td>24.802230</td>\n",
       "      <td>1.783950</td>\n",
       "      <td>0.022620</td>\n",
       "      <td>3</td>\n",
       "      <td>C</td>\n",
       "    </tr>\n",
       "    <tr>\n",
       "      <th>2</th>\n",
       "      <td>0</td>\n",
       "      <td>0</td>\n",
       "      <td>0</td>\n",
       "      <td>1</td>\n",
       "      <td>-236.460253</td>\n",
       "      <td>0.423640</td>\n",
       "      <td>-12.656341</td>\n",
       "      <td>139.453445</td>\n",
       "      <td>0.006276</td>\n",
       "      <td>-2.790000e-05</td>\n",
       "      <td>...</td>\n",
       "      <td>-0.024443</td>\n",
       "      <td>0.029441</td>\n",
       "      <td>-0.010894</td>\n",
       "      <td>-0.036318</td>\n",
       "      <td>-188.232347</td>\n",
       "      <td>-17.474861</td>\n",
       "      <td>-1.005571</td>\n",
       "      <td>-0.021628</td>\n",
       "      <td>3</td>\n",
       "      <td>B</td>\n",
       "    </tr>\n",
       "    <tr>\n",
       "      <th>3</th>\n",
       "      <td>0</td>\n",
       "      <td>0</td>\n",
       "      <td>0</td>\n",
       "      <td>1</td>\n",
       "      <td>33.411458</td>\n",
       "      <td>2.854415</td>\n",
       "      <td>-1.962432</td>\n",
       "      <td>3.208911</td>\n",
       "      <td>0.009752</td>\n",
       "      <td>-2.726060e-04</td>\n",
       "      <td>...</td>\n",
       "      <td>-0.018837</td>\n",
       "      <td>-0.033223</td>\n",
       "      <td>-0.034184</td>\n",
       "      <td>-0.047734</td>\n",
       "      <td>185.122907</td>\n",
       "      <td>-549.282067</td>\n",
       "      <td>542.193381</td>\n",
       "      <td>-178.049926</td>\n",
       "      <td>3</td>\n",
       "      <td>A</td>\n",
       "    </tr>\n",
       "    <tr>\n",
       "      <th>4</th>\n",
       "      <td>0</td>\n",
       "      <td>0</td>\n",
       "      <td>0</td>\n",
       "      <td>1</td>\n",
       "      <td>-118.125214</td>\n",
       "      <td>2.009809</td>\n",
       "      <td>-3.291637</td>\n",
       "      <td>34.874176</td>\n",
       "      <td>0.007598</td>\n",
       "      <td>1.260000e-06</td>\n",
       "      <td>...</td>\n",
       "      <td>-0.010815</td>\n",
       "      <td>0.003117</td>\n",
       "      <td>0.001963</td>\n",
       "      <td>0.004084</td>\n",
       "      <td>35.207794</td>\n",
       "      <td>-78.143166</td>\n",
       "      <td>57.084208</td>\n",
       "      <td>-13.700212</td>\n",
       "      <td>4</td>\n",
       "      <td>C</td>\n",
       "    </tr>\n",
       "    <tr>\n",
       "      <th>5</th>\n",
       "      <td>0</td>\n",
       "      <td>0</td>\n",
       "      <td>0</td>\n",
       "      <td>0</td>\n",
       "      <td>-112.915717</td>\n",
       "      <td>1.460692</td>\n",
       "      <td>-3.620890</td>\n",
       "      <td>31.872719</td>\n",
       "      <td>0.008966</td>\n",
       "      <td>2.870000e-06</td>\n",
       "      <td>...</td>\n",
       "      <td>-0.006278</td>\n",
       "      <td>-0.003937</td>\n",
       "      <td>-0.016509</td>\n",
       "      <td>-0.002701</td>\n",
       "      <td>68.468100</td>\n",
       "      <td>-159.552693</td>\n",
       "      <td>123.355439</td>\n",
       "      <td>-31.642511</td>\n",
       "      <td>4</td>\n",
       "      <td>C</td>\n",
       "    </tr>\n",
       "    <tr>\n",
       "      <th>6</th>\n",
       "      <td>0</td>\n",
       "      <td>0</td>\n",
       "      <td>0</td>\n",
       "      <td>0</td>\n",
       "      <td>-380.665387</td>\n",
       "      <td>0.244520</td>\n",
       "      <td>-15.883882</td>\n",
       "      <td>374.574698</td>\n",
       "      <td>0.103286</td>\n",
       "      <td>-2.535020e-04</td>\n",
       "      <td>...</td>\n",
       "      <td>-0.038073</td>\n",
       "      <td>0.310532</td>\n",
       "      <td>0.060122</td>\n",
       "      <td>0.181599</td>\n",
       "      <td>-0.509000</td>\n",
       "      <td>-0.322042</td>\n",
       "      <td>-0.268659</td>\n",
       "      <td>-0.033342</td>\n",
       "      <td>4</td>\n",
       "      <td>C</td>\n",
       "    </tr>\n",
       "    <tr>\n",
       "      <th>7</th>\n",
       "      <td>0</td>\n",
       "      <td>0</td>\n",
       "      <td>0</td>\n",
       "      <td>0</td>\n",
       "      <td>-386.604055</td>\n",
       "      <td>0.261595</td>\n",
       "      <td>-8.788641</td>\n",
       "      <td>377.746106</td>\n",
       "      <td>0.062311</td>\n",
       "      <td>-6.979360e-04</td>\n",
       "      <td>...</td>\n",
       "      <td>-0.014172</td>\n",
       "      <td>0.004308</td>\n",
       "      <td>0.026389</td>\n",
       "      <td>-0.001390</td>\n",
       "      <td>-5.203930</td>\n",
       "      <td>-1.018364</td>\n",
       "      <td>-0.267002</td>\n",
       "      <td>-0.015707</td>\n",
       "      <td>4</td>\n",
       "      <td>C</td>\n",
       "    </tr>\n",
       "    <tr>\n",
       "      <th>8</th>\n",
       "      <td>0</td>\n",
       "      <td>0</td>\n",
       "      <td>0</td>\n",
       "      <td>1</td>\n",
       "      <td>-316.067981</td>\n",
       "      <td>0.063321</td>\n",
       "      <td>-14.192416</td>\n",
       "      <td>249.138026</td>\n",
       "      <td>0.005854</td>\n",
       "      <td>-1.510000e-05</td>\n",
       "      <td>...</td>\n",
       "      <td>0.015327</td>\n",
       "      <td>0.014646</td>\n",
       "      <td>0.011750</td>\n",
       "      <td>0.002515</td>\n",
       "      <td>-1383.819560</td>\n",
       "      <td>-2535.123020</td>\n",
       "      <td>-1548.717057</td>\n",
       "      <td>-315.499039</td>\n",
       "      <td>4</td>\n",
       "      <td>B</td>\n",
       "    </tr>\n",
       "    <tr>\n",
       "      <th>9</th>\n",
       "      <td>0</td>\n",
       "      <td>0</td>\n",
       "      <td>0</td>\n",
       "      <td>1</td>\n",
       "      <td>-39.243035</td>\n",
       "      <td>0.495243</td>\n",
       "      <td>-14.500527</td>\n",
       "      <td>3.857580</td>\n",
       "      <td>0.005821</td>\n",
       "      <td>3.190000e-06</td>\n",
       "      <td>...</td>\n",
       "      <td>0.023301</td>\n",
       "      <td>0.002547</td>\n",
       "      <td>-0.016651</td>\n",
       "      <td>-0.034821</td>\n",
       "      <td>-774.085217</td>\n",
       "      <td>401.745970</td>\n",
       "      <td>-70.010427</td>\n",
       "      <td>4.096719</td>\n",
       "      <td>4</td>\n",
       "      <td>C</td>\n",
       "    </tr>\n",
       "    <tr>\n",
       "      <th>10</th>\n",
       "      <td>0</td>\n",
       "      <td>0</td>\n",
       "      <td>0</td>\n",
       "      <td>1</td>\n",
       "      <td>-278.297968</td>\n",
       "      <td>1.516408</td>\n",
       "      <td>-1.736766</td>\n",
       "      <td>193.174400</td>\n",
       "      <td>0.006180</td>\n",
       "      <td>5.440000e-05</td>\n",
       "      <td>...</td>\n",
       "      <td>-0.013031</td>\n",
       "      <td>-0.013232</td>\n",
       "      <td>-0.027770</td>\n",
       "      <td>0.001013</td>\n",
       "      <td>-7.295979</td>\n",
       "      <td>2.209541</td>\n",
       "      <td>-0.194557</td>\n",
       "      <td>0.004856</td>\n",
       "      <td>4</td>\n",
       "      <td>B</td>\n",
       "    </tr>\n",
       "    <tr>\n",
       "      <th>11</th>\n",
       "      <td>0</td>\n",
       "      <td>0</td>\n",
       "      <td>0</td>\n",
       "      <td>1</td>\n",
       "      <td>0.613300</td>\n",
       "      <td>2.232521</td>\n",
       "      <td>-2.700590</td>\n",
       "      <td>0.085573</td>\n",
       "      <td>0.006835</td>\n",
       "      <td>1.110000e-05</td>\n",
       "      <td>...</td>\n",
       "      <td>-0.023656</td>\n",
       "      <td>0.040468</td>\n",
       "      <td>0.019214</td>\n",
       "      <td>-0.012835</td>\n",
       "      <td>-1049.941086</td>\n",
       "      <td>2948.006091</td>\n",
       "      <td>-2759.604388</td>\n",
       "      <td>861.232991</td>\n",
       "      <td>1</td>\n",
       "      <td>C</td>\n",
       "    </tr>\n",
       "    <tr>\n",
       "      <th>12</th>\n",
       "      <td>0</td>\n",
       "      <td>0</td>\n",
       "      <td>0</td>\n",
       "      <td>1</td>\n",
       "      <td>7.685398</td>\n",
       "      <td>2.253553</td>\n",
       "      <td>-3.561061</td>\n",
       "      <td>0.233087</td>\n",
       "      <td>0.006836</td>\n",
       "      <td>2.750000e-05</td>\n",
       "      <td>...</td>\n",
       "      <td>-0.008333</td>\n",
       "      <td>0.006965</td>\n",
       "      <td>-0.000672</td>\n",
       "      <td>0.004248</td>\n",
       "      <td>-859.068318</td>\n",
       "      <td>2431.811994</td>\n",
       "      <td>-2295.195551</td>\n",
       "      <td>722.261551</td>\n",
       "      <td>1</td>\n",
       "      <td>B</td>\n",
       "    </tr>\n",
       "    <tr>\n",
       "      <th>13</th>\n",
       "      <td>0</td>\n",
       "      <td>0</td>\n",
       "      <td>0</td>\n",
       "      <td>1</td>\n",
       "      <td>9.619752</td>\n",
       "      <td>2.137068</td>\n",
       "      <td>-3.683101</td>\n",
       "      <td>0.319419</td>\n",
       "      <td>0.007055</td>\n",
       "      <td>3.290000e-05</td>\n",
       "      <td>...</td>\n",
       "      <td>-0.008382</td>\n",
       "      <td>0.025586</td>\n",
       "      <td>-0.002574</td>\n",
       "      <td>-0.006469</td>\n",
       "      <td>-516.889026</td>\n",
       "      <td>1452.627437</td>\n",
       "      <td>-1361.260354</td>\n",
       "      <td>425.362402</td>\n",
       "      <td>1</td>\n",
       "      <td>C</td>\n",
       "    </tr>\n",
       "    <tr>\n",
       "      <th>14</th>\n",
       "      <td>0</td>\n",
       "      <td>0</td>\n",
       "      <td>0</td>\n",
       "      <td>1</td>\n",
       "      <td>13.800448</td>\n",
       "      <td>1.994840</td>\n",
       "      <td>-3.029048</td>\n",
       "      <td>0.531994</td>\n",
       "      <td>0.006372</td>\n",
       "      <td>-4.190000e-05</td>\n",
       "      <td>...</td>\n",
       "      <td>-0.013346</td>\n",
       "      <td>-0.011660</td>\n",
       "      <td>-0.018362</td>\n",
       "      <td>-0.021383</td>\n",
       "      <td>-1708.733552</td>\n",
       "      <td>4795.963044</td>\n",
       "      <td>-4487.421937</td>\n",
       "      <td>1399.709392</td>\n",
       "      <td>1</td>\n",
       "      <td>C</td>\n",
       "    </tr>\n",
       "    <tr>\n",
       "      <th>15</th>\n",
       "      <td>0</td>\n",
       "      <td>0</td>\n",
       "      <td>0</td>\n",
       "      <td>1</td>\n",
       "      <td>12.051557</td>\n",
       "      <td>1.880766</td>\n",
       "      <td>-1.779390</td>\n",
       "      <td>0.417584</td>\n",
       "      <td>0.006501</td>\n",
       "      <td>-1.530000e-05</td>\n",
       "      <td>...</td>\n",
       "      <td>-0.018965</td>\n",
       "      <td>-0.003831</td>\n",
       "      <td>-0.001417</td>\n",
       "      <td>0.020322</td>\n",
       "      <td>-368.245353</td>\n",
       "      <td>1046.135636</td>\n",
       "      <td>-991.246713</td>\n",
       "      <td>313.261911</td>\n",
       "      <td>1</td>\n",
       "      <td>D</td>\n",
       "    </tr>\n",
       "    <tr>\n",
       "      <th>16</th>\n",
       "      <td>0</td>\n",
       "      <td>0</td>\n",
       "      <td>0</td>\n",
       "      <td>1</td>\n",
       "      <td>-16.349036</td>\n",
       "      <td>2.314615</td>\n",
       "      <td>-3.504911</td>\n",
       "      <td>0.802298</td>\n",
       "      <td>0.007573</td>\n",
       "      <td>1.950000e-05</td>\n",
       "      <td>...</td>\n",
       "      <td>-0.021187</td>\n",
       "      <td>0.007336</td>\n",
       "      <td>0.005751</td>\n",
       "      <td>-0.032402</td>\n",
       "      <td>-565.694145</td>\n",
       "      <td>1423.095923</td>\n",
       "      <td>-1193.830335</td>\n",
       "      <td>333.968076</td>\n",
       "      <td>1</td>\n",
       "      <td>C</td>\n",
       "    </tr>\n",
       "    <tr>\n",
       "      <th>17</th>\n",
       "      <td>0</td>\n",
       "      <td>0</td>\n",
       "      <td>0</td>\n",
       "      <td>1</td>\n",
       "      <td>-18.450880</td>\n",
       "      <td>2.104648</td>\n",
       "      <td>-2.656847</td>\n",
       "      <td>0.948585</td>\n",
       "      <td>0.007441</td>\n",
       "      <td>-8.420000e-05</td>\n",
       "      <td>...</td>\n",
       "      <td>0.033382</td>\n",
       "      <td>-0.015244</td>\n",
       "      <td>0.026636</td>\n",
       "      <td>-0.010414</td>\n",
       "      <td>-263.198466</td>\n",
       "      <td>660.643369</td>\n",
       "      <td>-553.280449</td>\n",
       "      <td>154.599716</td>\n",
       "      <td>1</td>\n",
       "      <td>C</td>\n",
       "    </tr>\n",
       "    <tr>\n",
       "      <th>18</th>\n",
       "      <td>0</td>\n",
       "      <td>0</td>\n",
       "      <td>0</td>\n",
       "      <td>1</td>\n",
       "      <td>-20.970432</td>\n",
       "      <td>2.360314</td>\n",
       "      <td>-3.622693</td>\n",
       "      <td>1.194240</td>\n",
       "      <td>0.006850</td>\n",
       "      <td>6.880000e-05</td>\n",
       "      <td>...</td>\n",
       "      <td>0.002738</td>\n",
       "      <td>-0.008092</td>\n",
       "      <td>-0.024161</td>\n",
       "      <td>-0.008001</td>\n",
       "      <td>-238.208081</td>\n",
       "      <td>595.869017</td>\n",
       "      <td>-497.557923</td>\n",
       "      <td>138.683631</td>\n",
       "      <td>1</td>\n",
       "      <td>B</td>\n",
       "    </tr>\n",
       "    <tr>\n",
       "      <th>19</th>\n",
       "      <td>0</td>\n",
       "      <td>0</td>\n",
       "      <td>0</td>\n",
       "      <td>1</td>\n",
       "      <td>-21.808020</td>\n",
       "      <td>2.495906</td>\n",
       "      <td>-4.069194</td>\n",
       "      <td>1.306510</td>\n",
       "      <td>0.006927</td>\n",
       "      <td>3.430000e-05</td>\n",
       "      <td>...</td>\n",
       "      <td>-0.011360</td>\n",
       "      <td>0.020000</td>\n",
       "      <td>0.000372</td>\n",
       "      <td>0.002380</td>\n",
       "      <td>-933.809408</td>\n",
       "      <td>2333.259435</td>\n",
       "      <td>-1943.867967</td>\n",
       "      <td>539.969062</td>\n",
       "      <td>1</td>\n",
       "      <td>C</td>\n",
       "    </tr>\n",
       "    <tr>\n",
       "      <th>20</th>\n",
       "      <td>0</td>\n",
       "      <td>0</td>\n",
       "      <td>0</td>\n",
       "      <td>1</td>\n",
       "      <td>-20.776064</td>\n",
       "      <td>2.311754</td>\n",
       "      <td>-4.047862</td>\n",
       "      <td>1.195429</td>\n",
       "      <td>0.006935</td>\n",
       "      <td>-2.790000e-05</td>\n",
       "      <td>...</td>\n",
       "      <td>0.007207</td>\n",
       "      <td>0.005264</td>\n",
       "      <td>0.002861</td>\n",
       "      <td>-0.003488</td>\n",
       "      <td>-804.383817</td>\n",
       "      <td>2009.981934</td>\n",
       "      <td>-1674.681985</td>\n",
       "      <td>465.245882</td>\n",
       "      <td>1</td>\n",
       "      <td>D</td>\n",
       "    </tr>\n",
       "    <tr>\n",
       "      <th>21</th>\n",
       "      <td>0</td>\n",
       "      <td>0</td>\n",
       "      <td>0</td>\n",
       "      <td>1</td>\n",
       "      <td>-20.664341</td>\n",
       "      <td>2.395650</td>\n",
       "      <td>-4.090336</td>\n",
       "      <td>1.174979</td>\n",
       "      <td>0.006633</td>\n",
       "      <td>-4.600000e-05</td>\n",
       "      <td>...</td>\n",
       "      <td>0.009301</td>\n",
       "      <td>-0.002062</td>\n",
       "      <td>-0.009014</td>\n",
       "      <td>0.010189</td>\n",
       "      <td>-1216.845004</td>\n",
       "      <td>3040.184516</td>\n",
       "      <td>-2532.372860</td>\n",
       "      <td>703.263836</td>\n",
       "      <td>1</td>\n",
       "      <td>C</td>\n",
       "    </tr>\n",
       "    <tr>\n",
       "      <th>22</th>\n",
       "      <td>0</td>\n",
       "      <td>0</td>\n",
       "      <td>0</td>\n",
       "      <td>0</td>\n",
       "      <td>-82.168535</td>\n",
       "      <td>2.252529</td>\n",
       "      <td>-3.426443</td>\n",
       "      <td>16.948742</td>\n",
       "      <td>0.007072</td>\n",
       "      <td>9.850000e-05</td>\n",
       "      <td>...</td>\n",
       "      <td>-0.001653</td>\n",
       "      <td>-0.003026</td>\n",
       "      <td>0.007073</td>\n",
       "      <td>-0.000433</td>\n",
       "      <td>-582.927309</td>\n",
       "      <td>1481.458038</td>\n",
       "      <td>-1255.586204</td>\n",
       "      <td>354.887093</td>\n",
       "      <td>1</td>\n",
       "      <td>B</td>\n",
       "    </tr>\n",
       "    <tr>\n",
       "      <th>23</th>\n",
       "      <td>0</td>\n",
       "      <td>0</td>\n",
       "      <td>0</td>\n",
       "      <td>1</td>\n",
       "      <td>-84.473942</td>\n",
       "      <td>2.172769</td>\n",
       "      <td>-2.376567</td>\n",
       "      <td>17.867326</td>\n",
       "      <td>0.006347</td>\n",
       "      <td>-6.940000e-05</td>\n",
       "      <td>...</td>\n",
       "      <td>0.031007</td>\n",
       "      <td>0.020711</td>\n",
       "      <td>0.002172</td>\n",
       "      <td>0.016125</td>\n",
       "      <td>-162.873531</td>\n",
       "      <td>410.483289</td>\n",
       "      <td>-345.428605</td>\n",
       "      <td>97.063473</td>\n",
       "      <td>1</td>\n",
       "      <td>C</td>\n",
       "    </tr>\n",
       "    <tr>\n",
       "      <th>24</th>\n",
       "      <td>0</td>\n",
       "      <td>0</td>\n",
       "      <td>0</td>\n",
       "      <td>1</td>\n",
       "      <td>-127.399898</td>\n",
       "      <td>3.407902</td>\n",
       "      <td>-1.760284</td>\n",
       "      <td>40.790658</td>\n",
       "      <td>0.007695</td>\n",
       "      <td>8.550000e-05</td>\n",
       "      <td>...</td>\n",
       "      <td>0.005642</td>\n",
       "      <td>0.008839</td>\n",
       "      <td>0.009318</td>\n",
       "      <td>-0.003543</td>\n",
       "      <td>-145.419857</td>\n",
       "      <td>360.929020</td>\n",
       "      <td>-298.717862</td>\n",
       "      <td>82.436627</td>\n",
       "      <td>1</td>\n",
       "      <td>C</td>\n",
       "    </tr>\n",
       "    <tr>\n",
       "      <th>25</th>\n",
       "      <td>0</td>\n",
       "      <td>0</td>\n",
       "      <td>0</td>\n",
       "      <td>1</td>\n",
       "      <td>-110.822892</td>\n",
       "      <td>2.563317</td>\n",
       "      <td>-4.255509</td>\n",
       "      <td>30.757732</td>\n",
       "      <td>0.006840</td>\n",
       "      <td>3.750000e-07</td>\n",
       "      <td>...</td>\n",
       "      <td>0.018528</td>\n",
       "      <td>0.032931</td>\n",
       "      <td>0.013888</td>\n",
       "      <td>0.003958</td>\n",
       "      <td>295.861953</td>\n",
       "      <td>-726.746745</td>\n",
       "      <td>594.430808</td>\n",
       "      <td>-161.897066</td>\n",
       "      <td>1</td>\n",
       "      <td>B</td>\n",
       "    </tr>\n",
       "    <tr>\n",
       "      <th>26</th>\n",
       "      <td>0</td>\n",
       "      <td>0</td>\n",
       "      <td>0</td>\n",
       "      <td>1</td>\n",
       "      <td>-94.534583</td>\n",
       "      <td>2.704725</td>\n",
       "      <td>-4.840516</td>\n",
       "      <td>22.470040</td>\n",
       "      <td>0.006697</td>\n",
       "      <td>-1.500000e-05</td>\n",
       "      <td>...</td>\n",
       "      <td>-0.014639</td>\n",
       "      <td>-0.009078</td>\n",
       "      <td>-0.058743</td>\n",
       "      <td>0.005343</td>\n",
       "      <td>-288.048102</td>\n",
       "      <td>717.472971</td>\n",
       "      <td>-596.325944</td>\n",
       "      <td>165.385666</td>\n",
       "      <td>1</td>\n",
       "      <td>C</td>\n",
       "    </tr>\n",
       "    <tr>\n",
       "      <th>27</th>\n",
       "      <td>0</td>\n",
       "      <td>0</td>\n",
       "      <td>0</td>\n",
       "      <td>1</td>\n",
       "      <td>-72.806687</td>\n",
       "      <td>2.599037</td>\n",
       "      <td>-2.265400</td>\n",
       "      <td>13.365994</td>\n",
       "      <td>0.007102</td>\n",
       "      <td>-4.080000e-05</td>\n",
       "      <td>...</td>\n",
       "      <td>0.027168</td>\n",
       "      <td>-0.008143</td>\n",
       "      <td>-0.011524</td>\n",
       "      <td>0.003335</td>\n",
       "      <td>-442.513749</td>\n",
       "      <td>1126.045736</td>\n",
       "      <td>-955.367958</td>\n",
       "      <td>270.258088</td>\n",
       "      <td>1</td>\n",
       "      <td>C</td>\n",
       "    </tr>\n",
       "    <tr>\n",
       "      <th>28</th>\n",
       "      <td>0</td>\n",
       "      <td>0</td>\n",
       "      <td>0</td>\n",
       "      <td>0</td>\n",
       "      <td>-124.004059</td>\n",
       "      <td>1.217027</td>\n",
       "      <td>-3.003007</td>\n",
       "      <td>38.380150</td>\n",
       "      <td>0.006622</td>\n",
       "      <td>6.660000e-05</td>\n",
       "      <td>...</td>\n",
       "      <td>-0.005011</td>\n",
       "      <td>0.029790</td>\n",
       "      <td>0.015736</td>\n",
       "      <td>0.012590</td>\n",
       "      <td>-1102.893410</td>\n",
       "      <td>2738.834070</td>\n",
       "      <td>-2267.775201</td>\n",
       "      <td>626.088526</td>\n",
       "      <td>1</td>\n",
       "      <td>A</td>\n",
       "    </tr>\n",
       "    <tr>\n",
       "      <th>29</th>\n",
       "      <td>0</td>\n",
       "      <td>0</td>\n",
       "      <td>0</td>\n",
       "      <td>1</td>\n",
       "      <td>-196.998885</td>\n",
       "      <td>0.698350</td>\n",
       "      <td>-3.941220</td>\n",
       "      <td>96.804999</td>\n",
       "      <td>0.006451</td>\n",
       "      <td>2.160000e-07</td>\n",
       "      <td>...</td>\n",
       "      <td>-0.010051</td>\n",
       "      <td>-0.000046</td>\n",
       "      <td>-0.043944</td>\n",
       "      <td>-0.011340</td>\n",
       "      <td>-283.286471</td>\n",
       "      <td>584.784129</td>\n",
       "      <td>-403.125128</td>\n",
       "      <td>92.805533</td>\n",
       "      <td>1</td>\n",
       "      <td>C</td>\n",
       "    </tr>\n",
       "    <tr>\n",
       "      <th>...</th>\n",
       "      <td>...</td>\n",
       "      <td>...</td>\n",
       "      <td>...</td>\n",
       "      <td>...</td>\n",
       "      <td>...</td>\n",
       "      <td>...</td>\n",
       "      <td>...</td>\n",
       "      <td>...</td>\n",
       "      <td>...</td>\n",
       "      <td>...</td>\n",
       "      <td>...</td>\n",
       "      <td>...</td>\n",
       "      <td>...</td>\n",
       "      <td>...</td>\n",
       "      <td>...</td>\n",
       "      <td>...</td>\n",
       "      <td>...</td>\n",
       "      <td>...</td>\n",
       "      <td>...</td>\n",
       "      <td>...</td>\n",
       "      <td>...</td>\n",
       "    </tr>\n",
       "    <tr>\n",
       "      <th>4554</th>\n",
       "      <td>0</td>\n",
       "      <td>0</td>\n",
       "      <td>0</td>\n",
       "      <td>0</td>\n",
       "      <td>-338.390120</td>\n",
       "      <td>3.403997</td>\n",
       "      <td>-2.175616</td>\n",
       "      <td>287.791202</td>\n",
       "      <td>0.009235</td>\n",
       "      <td>-2.803040e-04</td>\n",
       "      <td>...</td>\n",
       "      <td>0.106693</td>\n",
       "      <td>0.092422</td>\n",
       "      <td>0.079856</td>\n",
       "      <td>0.079746</td>\n",
       "      <td>0.323928</td>\n",
       "      <td>0.480987</td>\n",
       "      <td>0.225047</td>\n",
       "      <td>0.033521</td>\n",
       "      <td>4</td>\n",
       "      <td>C</td>\n",
       "    </tr>\n",
       "    <tr>\n",
       "      <th>4555</th>\n",
       "      <td>0</td>\n",
       "      <td>0</td>\n",
       "      <td>0</td>\n",
       "      <td>1</td>\n",
       "      <td>-366.054762</td>\n",
       "      <td>3.416519</td>\n",
       "      <td>-2.142271</td>\n",
       "      <td>335.054443</td>\n",
       "      <td>0.007388</td>\n",
       "      <td>-2.896410e-04</td>\n",
       "      <td>...</td>\n",
       "      <td>-0.021588</td>\n",
       "      <td>-0.007671</td>\n",
       "      <td>-0.024432</td>\n",
       "      <td>-0.008391</td>\n",
       "      <td>0.248860</td>\n",
       "      <td>0.219230</td>\n",
       "      <td>0.047970</td>\n",
       "      <td>0.002163</td>\n",
       "      <td>4</td>\n",
       "      <td>B</td>\n",
       "    </tr>\n",
       "    <tr>\n",
       "      <th>4556</th>\n",
       "      <td>0</td>\n",
       "      <td>0</td>\n",
       "      <td>0</td>\n",
       "      <td>1</td>\n",
       "      <td>-198.601197</td>\n",
       "      <td>3.617812</td>\n",
       "      <td>-1.119553</td>\n",
       "      <td>126.927196</td>\n",
       "      <td>0.018454</td>\n",
       "      <td>1.015286e-03</td>\n",
       "      <td>...</td>\n",
       "      <td>-0.040594</td>\n",
       "      <td>-0.011133</td>\n",
       "      <td>-0.029792</td>\n",
       "      <td>-0.007169</td>\n",
       "      <td>-0.124376</td>\n",
       "      <td>-0.299654</td>\n",
       "      <td>-0.238890</td>\n",
       "      <td>-0.062682</td>\n",
       "      <td>4</td>\n",
       "      <td>C</td>\n",
       "    </tr>\n",
       "    <tr>\n",
       "      <th>4557</th>\n",
       "      <td>0</td>\n",
       "      <td>0</td>\n",
       "      <td>0</td>\n",
       "      <td>1</td>\n",
       "      <td>-316.190829</td>\n",
       "      <td>4.003277</td>\n",
       "      <td>0.452948</td>\n",
       "      <td>280.861255</td>\n",
       "      <td>0.023110</td>\n",
       "      <td>1.668731e-03</td>\n",
       "      <td>...</td>\n",
       "      <td>-0.039958</td>\n",
       "      <td>-0.076565</td>\n",
       "      <td>-0.053918</td>\n",
       "      <td>-0.035892</td>\n",
       "      <td>-0.102140</td>\n",
       "      <td>-0.066463</td>\n",
       "      <td>0.018853</td>\n",
       "      <td>-0.000209</td>\n",
       "      <td>4</td>\n",
       "      <td>C</td>\n",
       "    </tr>\n",
       "    <tr>\n",
       "      <th>4558</th>\n",
       "      <td>0</td>\n",
       "      <td>0</td>\n",
       "      <td>0</td>\n",
       "      <td>0</td>\n",
       "      <td>-386.859107</td>\n",
       "      <td>0.570178</td>\n",
       "      <td>-13.695394</td>\n",
       "      <td>378.555431</td>\n",
       "      <td>0.065213</td>\n",
       "      <td>-4.230000e-05</td>\n",
       "      <td>...</td>\n",
       "      <td>-0.155013</td>\n",
       "      <td>-0.134687</td>\n",
       "      <td>-0.075813</td>\n",
       "      <td>-0.107204</td>\n",
       "      <td>-4.365499</td>\n",
       "      <td>-0.001464</td>\n",
       "      <td>-0.043675</td>\n",
       "      <td>0.005836</td>\n",
       "      <td>4</td>\n",
       "      <td>D</td>\n",
       "    </tr>\n",
       "    <tr>\n",
       "      <th>4559</th>\n",
       "      <td>0</td>\n",
       "      <td>0</td>\n",
       "      <td>0</td>\n",
       "      <td>0</td>\n",
       "      <td>-333.640596</td>\n",
       "      <td>3.090604</td>\n",
       "      <td>-1.839979</td>\n",
       "      <td>278.379112</td>\n",
       "      <td>0.010668</td>\n",
       "      <td>-2.920000e-05</td>\n",
       "      <td>...</td>\n",
       "      <td>-0.101782</td>\n",
       "      <td>-0.141551</td>\n",
       "      <td>-0.140412</td>\n",
       "      <td>-0.124885</td>\n",
       "      <td>-0.214087</td>\n",
       "      <td>-0.169362</td>\n",
       "      <td>-0.042132</td>\n",
       "      <td>-0.004270</td>\n",
       "      <td>4</td>\n",
       "      <td>B</td>\n",
       "    </tr>\n",
       "    <tr>\n",
       "      <th>4560</th>\n",
       "      <td>0</td>\n",
       "      <td>0</td>\n",
       "      <td>0</td>\n",
       "      <td>1</td>\n",
       "      <td>-388.345699</td>\n",
       "      <td>0.759304</td>\n",
       "      <td>-12.909762</td>\n",
       "      <td>377.592901</td>\n",
       "      <td>0.022676</td>\n",
       "      <td>1.282440e-04</td>\n",
       "      <td>...</td>\n",
       "      <td>-0.006484</td>\n",
       "      <td>-0.009900</td>\n",
       "      <td>0.001354</td>\n",
       "      <td>-0.028366</td>\n",
       "      <td>0.195157</td>\n",
       "      <td>0.400362</td>\n",
       "      <td>-0.161571</td>\n",
       "      <td>0.009536</td>\n",
       "      <td>4</td>\n",
       "      <td>C</td>\n",
       "    </tr>\n",
       "    <tr>\n",
       "      <th>4561</th>\n",
       "      <td>0</td>\n",
       "      <td>0</td>\n",
       "      <td>0</td>\n",
       "      <td>1</td>\n",
       "      <td>-363.632059</td>\n",
       "      <td>2.380254</td>\n",
       "      <td>-2.712477</td>\n",
       "      <td>330.022393</td>\n",
       "      <td>0.012352</td>\n",
       "      <td>3.090000e-05</td>\n",
       "      <td>...</td>\n",
       "      <td>0.003024</td>\n",
       "      <td>-0.003764</td>\n",
       "      <td>0.011938</td>\n",
       "      <td>0.016600</td>\n",
       "      <td>-2.736681</td>\n",
       "      <td>2.958135</td>\n",
       "      <td>-1.133447</td>\n",
       "      <td>0.155201</td>\n",
       "      <td>4</td>\n",
       "      <td>B</td>\n",
       "    </tr>\n",
       "    <tr>\n",
       "      <th>4562</th>\n",
       "      <td>0</td>\n",
       "      <td>0</td>\n",
       "      <td>0</td>\n",
       "      <td>1</td>\n",
       "      <td>-381.706786</td>\n",
       "      <td>0.844486</td>\n",
       "      <td>-7.800131</td>\n",
       "      <td>364.208988</td>\n",
       "      <td>0.019380</td>\n",
       "      <td>-3.300000e-05</td>\n",
       "      <td>...</td>\n",
       "      <td>0.005674</td>\n",
       "      <td>0.169802</td>\n",
       "      <td>0.072720</td>\n",
       "      <td>0.055668</td>\n",
       "      <td>1.378666</td>\n",
       "      <td>-0.650497</td>\n",
       "      <td>0.032381</td>\n",
       "      <td>0.008894</td>\n",
       "      <td>4</td>\n",
       "      <td>C</td>\n",
       "    </tr>\n",
       "    <tr>\n",
       "      <th>4563</th>\n",
       "      <td>0</td>\n",
       "      <td>0</td>\n",
       "      <td>0</td>\n",
       "      <td>1</td>\n",
       "      <td>-291.926666</td>\n",
       "      <td>2.318259</td>\n",
       "      <td>-3.993992</td>\n",
       "      <td>212.663063</td>\n",
       "      <td>0.006839</td>\n",
       "      <td>-4.460000e-05</td>\n",
       "      <td>...</td>\n",
       "      <td>-0.011416</td>\n",
       "      <td>-0.007022</td>\n",
       "      <td>0.003961</td>\n",
       "      <td>0.015732</td>\n",
       "      <td>8.857164</td>\n",
       "      <td>-17.900030</td>\n",
       "      <td>11.920500</td>\n",
       "      <td>-2.614685</td>\n",
       "      <td>4</td>\n",
       "      <td>B</td>\n",
       "    </tr>\n",
       "    <tr>\n",
       "      <th>4564</th>\n",
       "      <td>0</td>\n",
       "      <td>0</td>\n",
       "      <td>0</td>\n",
       "      <td>1</td>\n",
       "      <td>-382.879490</td>\n",
       "      <td>2.838180</td>\n",
       "      <td>-2.001880</td>\n",
       "      <td>365.748960</td>\n",
       "      <td>0.008833</td>\n",
       "      <td>-3.240000e-05</td>\n",
       "      <td>...</td>\n",
       "      <td>-0.027452</td>\n",
       "      <td>-0.023403</td>\n",
       "      <td>-0.018708</td>\n",
       "      <td>-0.027259</td>\n",
       "      <td>-0.459238</td>\n",
       "      <td>0.230924</td>\n",
       "      <td>-0.041113</td>\n",
       "      <td>0.003417</td>\n",
       "      <td>4</td>\n",
       "      <td>C</td>\n",
       "    </tr>\n",
       "    <tr>\n",
       "      <th>4565</th>\n",
       "      <td>0</td>\n",
       "      <td>0</td>\n",
       "      <td>0</td>\n",
       "      <td>1</td>\n",
       "      <td>-307.693069</td>\n",
       "      <td>2.474713</td>\n",
       "      <td>-2.419144</td>\n",
       "      <td>236.155479</td>\n",
       "      <td>0.006214</td>\n",
       "      <td>9.130000e-05</td>\n",
       "      <td>...</td>\n",
       "      <td>-0.005114</td>\n",
       "      <td>0.020844</td>\n",
       "      <td>0.011654</td>\n",
       "      <td>-0.010390</td>\n",
       "      <td>-63.959404</td>\n",
       "      <td>126.383085</td>\n",
       "      <td>-83.385008</td>\n",
       "      <td>18.369093</td>\n",
       "      <td>4</td>\n",
       "      <td>C</td>\n",
       "    </tr>\n",
       "    <tr>\n",
       "      <th>4566</th>\n",
       "      <td>0</td>\n",
       "      <td>0</td>\n",
       "      <td>0</td>\n",
       "      <td>1</td>\n",
       "      <td>-350.267294</td>\n",
       "      <td>2.865120</td>\n",
       "      <td>-1.558543</td>\n",
       "      <td>306.861095</td>\n",
       "      <td>0.013725</td>\n",
       "      <td>3.501580e-04</td>\n",
       "      <td>...</td>\n",
       "      <td>-0.036101</td>\n",
       "      <td>0.017297</td>\n",
       "      <td>0.003186</td>\n",
       "      <td>-0.035623</td>\n",
       "      <td>-10.702179</td>\n",
       "      <td>16.012665</td>\n",
       "      <td>-7.911601</td>\n",
       "      <td>1.291965</td>\n",
       "      <td>4</td>\n",
       "      <td>C</td>\n",
       "    </tr>\n",
       "    <tr>\n",
       "      <th>4567</th>\n",
       "      <td>0</td>\n",
       "      <td>0</td>\n",
       "      <td>0</td>\n",
       "      <td>1</td>\n",
       "      <td>-342.254955</td>\n",
       "      <td>2.223729</td>\n",
       "      <td>-3.690804</td>\n",
       "      <td>292.708451</td>\n",
       "      <td>0.013920</td>\n",
       "      <td>1.010000e-05</td>\n",
       "      <td>...</td>\n",
       "      <td>-0.038159</td>\n",
       "      <td>-0.001109</td>\n",
       "      <td>-0.010219</td>\n",
       "      <td>0.026940</td>\n",
       "      <td>-5.615761</td>\n",
       "      <td>8.512842</td>\n",
       "      <td>-4.305907</td>\n",
       "      <td>0.727528</td>\n",
       "      <td>4</td>\n",
       "      <td>C</td>\n",
       "    </tr>\n",
       "    <tr>\n",
       "      <th>4568</th>\n",
       "      <td>0</td>\n",
       "      <td>0</td>\n",
       "      <td>0</td>\n",
       "      <td>0</td>\n",
       "      <td>-392.082451</td>\n",
       "      <td>1.178920</td>\n",
       "      <td>-4.215863</td>\n",
       "      <td>383.563954</td>\n",
       "      <td>0.014734</td>\n",
       "      <td>-8.820000e-05</td>\n",
       "      <td>...</td>\n",
       "      <td>-0.020680</td>\n",
       "      <td>0.008722</td>\n",
       "      <td>0.014327</td>\n",
       "      <td>0.010010</td>\n",
       "      <td>-1.930457</td>\n",
       "      <td>0.616862</td>\n",
       "      <td>-0.059547</td>\n",
       "      <td>0.001707</td>\n",
       "      <td>4</td>\n",
       "      <td>B</td>\n",
       "    </tr>\n",
       "    <tr>\n",
       "      <th>4569</th>\n",
       "      <td>0</td>\n",
       "      <td>0</td>\n",
       "      <td>0</td>\n",
       "      <td>0</td>\n",
       "      <td>-388.082272</td>\n",
       "      <td>1.669321</td>\n",
       "      <td>-2.490454</td>\n",
       "      <td>375.979685</td>\n",
       "      <td>0.014944</td>\n",
       "      <td>-1.762680e-04</td>\n",
       "      <td>...</td>\n",
       "      <td>0.001400</td>\n",
       "      <td>-0.006127</td>\n",
       "      <td>0.021628</td>\n",
       "      <td>0.046537</td>\n",
       "      <td>-9.263141</td>\n",
       "      <td>-1.249600</td>\n",
       "      <td>-0.040722</td>\n",
       "      <td>-0.000568</td>\n",
       "      <td>4</td>\n",
       "      <td>C</td>\n",
       "    </tr>\n",
       "    <tr>\n",
       "      <th>4570</th>\n",
       "      <td>0</td>\n",
       "      <td>0</td>\n",
       "      <td>0</td>\n",
       "      <td>1</td>\n",
       "      <td>-78.396190</td>\n",
       "      <td>2.875243</td>\n",
       "      <td>-3.696979</td>\n",
       "      <td>15.545576</td>\n",
       "      <td>0.006766</td>\n",
       "      <td>-1.130000e-05</td>\n",
       "      <td>...</td>\n",
       "      <td>0.013255</td>\n",
       "      <td>0.009608</td>\n",
       "      <td>0.004277</td>\n",
       "      <td>-0.018599</td>\n",
       "      <td>-336.989379</td>\n",
       "      <td>998.343830</td>\n",
       "      <td>-986.379095</td>\n",
       "      <td>325.021192</td>\n",
       "      <td>4</td>\n",
       "      <td>A</td>\n",
       "    </tr>\n",
       "    <tr>\n",
       "      <th>4571</th>\n",
       "      <td>0</td>\n",
       "      <td>0</td>\n",
       "      <td>0</td>\n",
       "      <td>0</td>\n",
       "      <td>-301.091918</td>\n",
       "      <td>3.629598</td>\n",
       "      <td>-2.711524</td>\n",
       "      <td>249.258364</td>\n",
       "      <td>0.018833</td>\n",
       "      <td>3.192980e-04</td>\n",
       "      <td>...</td>\n",
       "      <td>-0.061406</td>\n",
       "      <td>-0.083995</td>\n",
       "      <td>-0.043843</td>\n",
       "      <td>-0.062729</td>\n",
       "      <td>-0.124634</td>\n",
       "      <td>-0.191332</td>\n",
       "      <td>-0.085028</td>\n",
       "      <td>-0.010738</td>\n",
       "      <td>4</td>\n",
       "      <td>B</td>\n",
       "    </tr>\n",
       "    <tr>\n",
       "      <th>4572</th>\n",
       "      <td>0</td>\n",
       "      <td>0</td>\n",
       "      <td>0</td>\n",
       "      <td>1</td>\n",
       "      <td>-367.539813</td>\n",
       "      <td>2.928255</td>\n",
       "      <td>-2.352820</td>\n",
       "      <td>337.466183</td>\n",
       "      <td>0.010335</td>\n",
       "      <td>3.960000e-05</td>\n",
       "      <td>...</td>\n",
       "      <td>0.023610</td>\n",
       "      <td>0.058385</td>\n",
       "      <td>0.022199</td>\n",
       "      <td>0.007174</td>\n",
       "      <td>-1.715863</td>\n",
       "      <td>-1.707875</td>\n",
       "      <td>-0.547304</td>\n",
       "      <td>-0.056556</td>\n",
       "      <td>4</td>\n",
       "      <td>B</td>\n",
       "    </tr>\n",
       "    <tr>\n",
       "      <th>4573</th>\n",
       "      <td>0</td>\n",
       "      <td>0</td>\n",
       "      <td>0</td>\n",
       "      <td>0</td>\n",
       "      <td>-164.521457</td>\n",
       "      <td>4.120263</td>\n",
       "      <td>-2.200715</td>\n",
       "      <td>107.704642</td>\n",
       "      <td>0.018958</td>\n",
       "      <td>2.002660e-03</td>\n",
       "      <td>...</td>\n",
       "      <td>0.106538</td>\n",
       "      <td>0.172712</td>\n",
       "      <td>0.090395</td>\n",
       "      <td>0.154493</td>\n",
       "      <td>-0.413508</td>\n",
       "      <td>-0.662663</td>\n",
       "      <td>-0.296251</td>\n",
       "      <td>-0.036656</td>\n",
       "      <td>4</td>\n",
       "      <td>B</td>\n",
       "    </tr>\n",
       "    <tr>\n",
       "      <th>4574</th>\n",
       "      <td>0</td>\n",
       "      <td>0</td>\n",
       "      <td>0</td>\n",
       "      <td>0</td>\n",
       "      <td>-216.741954</td>\n",
       "      <td>2.613357</td>\n",
       "      <td>-2.613396</td>\n",
       "      <td>117.300069</td>\n",
       "      <td>0.006846</td>\n",
       "      <td>3.110000e-05</td>\n",
       "      <td>...</td>\n",
       "      <td>0.020534</td>\n",
       "      <td>-0.009121</td>\n",
       "      <td>0.017935</td>\n",
       "      <td>0.028810</td>\n",
       "      <td>-429.754571</td>\n",
       "      <td>995.344978</td>\n",
       "      <td>-768.398262</td>\n",
       "      <td>197.723157</td>\n",
       "      <td>4</td>\n",
       "      <td>B</td>\n",
       "    </tr>\n",
       "    <tr>\n",
       "      <th>4575</th>\n",
       "      <td>0</td>\n",
       "      <td>0</td>\n",
       "      <td>0</td>\n",
       "      <td>0</td>\n",
       "      <td>-185.452873</td>\n",
       "      <td>2.932351</td>\n",
       "      <td>-2.072963</td>\n",
       "      <td>86.122797</td>\n",
       "      <td>0.008068</td>\n",
       "      <td>4.670000e-06</td>\n",
       "      <td>...</td>\n",
       "      <td>-0.033270</td>\n",
       "      <td>0.025951</td>\n",
       "      <td>0.033993</td>\n",
       "      <td>0.036729</td>\n",
       "      <td>-219.504612</td>\n",
       "      <td>593.675898</td>\n",
       "      <td>-535.247585</td>\n",
       "      <td>160.862968</td>\n",
       "      <td>4</td>\n",
       "      <td>A</td>\n",
       "    </tr>\n",
       "    <tr>\n",
       "      <th>4576</th>\n",
       "      <td>0</td>\n",
       "      <td>0</td>\n",
       "      <td>0</td>\n",
       "      <td>1</td>\n",
       "      <td>-373.144132</td>\n",
       "      <td>1.814027</td>\n",
       "      <td>-1.925366</td>\n",
       "      <td>347.345414</td>\n",
       "      <td>0.008845</td>\n",
       "      <td>1.969910e-04</td>\n",
       "      <td>...</td>\n",
       "      <td>-0.005756</td>\n",
       "      <td>-0.007196</td>\n",
       "      <td>0.013007</td>\n",
       "      <td>0.020008</td>\n",
       "      <td>-14.016332</td>\n",
       "      <td>-12.970203</td>\n",
       "      <td>-3.975185</td>\n",
       "      <td>-0.403395</td>\n",
       "      <td>4</td>\n",
       "      <td>B</td>\n",
       "    </tr>\n",
       "    <tr>\n",
       "      <th>4577</th>\n",
       "      <td>0</td>\n",
       "      <td>0</td>\n",
       "      <td>0</td>\n",
       "      <td>0</td>\n",
       "      <td>-395.344232</td>\n",
       "      <td>1.086392</td>\n",
       "      <td>-5.387118</td>\n",
       "      <td>389.856339</td>\n",
       "      <td>0.009869</td>\n",
       "      <td>-2.770000e-06</td>\n",
       "      <td>...</td>\n",
       "      <td>0.010062</td>\n",
       "      <td>0.009449</td>\n",
       "      <td>-0.004931</td>\n",
       "      <td>-0.003810</td>\n",
       "      <td>-1.918749</td>\n",
       "      <td>0.345588</td>\n",
       "      <td>-0.001456</td>\n",
       "      <td>-0.000875</td>\n",
       "      <td>4</td>\n",
       "      <td>C</td>\n",
       "    </tr>\n",
       "    <tr>\n",
       "      <th>4578</th>\n",
       "      <td>0</td>\n",
       "      <td>0</td>\n",
       "      <td>0</td>\n",
       "      <td>1</td>\n",
       "      <td>-393.831848</td>\n",
       "      <td>1.336427</td>\n",
       "      <td>-5.731723</td>\n",
       "      <td>386.904205</td>\n",
       "      <td>0.010297</td>\n",
       "      <td>4.250000e-05</td>\n",
       "      <td>...</td>\n",
       "      <td>-0.006749</td>\n",
       "      <td>0.014485</td>\n",
       "      <td>0.010438</td>\n",
       "      <td>-0.011261</td>\n",
       "      <td>-1.121097</td>\n",
       "      <td>0.445533</td>\n",
       "      <td>-0.059136</td>\n",
       "      <td>0.003440</td>\n",
       "      <td>4</td>\n",
       "      <td>B</td>\n",
       "    </tr>\n",
       "    <tr>\n",
       "      <th>4579</th>\n",
       "      <td>0</td>\n",
       "      <td>0</td>\n",
       "      <td>0</td>\n",
       "      <td>0</td>\n",
       "      <td>-392.943756</td>\n",
       "      <td>0.507873</td>\n",
       "      <td>-9.590259</td>\n",
       "      <td>385.796557</td>\n",
       "      <td>0.030013</td>\n",
       "      <td>-2.187110e-04</td>\n",
       "      <td>...</td>\n",
       "      <td>-0.086613</td>\n",
       "      <td>-0.044379</td>\n",
       "      <td>-0.071424</td>\n",
       "      <td>-0.039891</td>\n",
       "      <td>-4.364444</td>\n",
       "      <td>2.504250</td>\n",
       "      <td>-0.606341</td>\n",
       "      <td>0.054899</td>\n",
       "      <td>4</td>\n",
       "      <td>B</td>\n",
       "    </tr>\n",
       "    <tr>\n",
       "      <th>4580</th>\n",
       "      <td>0</td>\n",
       "      <td>0</td>\n",
       "      <td>0</td>\n",
       "      <td>1</td>\n",
       "      <td>-395.031790</td>\n",
       "      <td>0.597027</td>\n",
       "      <td>-7.508490</td>\n",
       "      <td>390.195252</td>\n",
       "      <td>0.027614</td>\n",
       "      <td>1.123410e-04</td>\n",
       "      <td>...</td>\n",
       "      <td>-0.094154</td>\n",
       "      <td>-0.095121</td>\n",
       "      <td>-0.117562</td>\n",
       "      <td>-0.066158</td>\n",
       "      <td>-0.184795</td>\n",
       "      <td>0.403598</td>\n",
       "      <td>-0.059706</td>\n",
       "      <td>-0.004628</td>\n",
       "      <td>4</td>\n",
       "      <td>C</td>\n",
       "    </tr>\n",
       "    <tr>\n",
       "      <th>4581</th>\n",
       "      <td>0</td>\n",
       "      <td>0</td>\n",
       "      <td>0</td>\n",
       "      <td>0</td>\n",
       "      <td>-388.253018</td>\n",
       "      <td>3.220873</td>\n",
       "      <td>-1.805565</td>\n",
       "      <td>376.110018</td>\n",
       "      <td>0.007341</td>\n",
       "      <td>9.810000e-05</td>\n",
       "      <td>...</td>\n",
       "      <td>-0.029737</td>\n",
       "      <td>0.003684</td>\n",
       "      <td>-0.022551</td>\n",
       "      <td>-0.004467</td>\n",
       "      <td>0.081567</td>\n",
       "      <td>0.026408</td>\n",
       "      <td>-0.006096</td>\n",
       "      <td>-0.001487</td>\n",
       "      <td>4</td>\n",
       "      <td>B</td>\n",
       "    </tr>\n",
       "    <tr>\n",
       "      <th>4582</th>\n",
       "      <td>0</td>\n",
       "      <td>0</td>\n",
       "      <td>0</td>\n",
       "      <td>1</td>\n",
       "      <td>-371.090638</td>\n",
       "      <td>3.310164</td>\n",
       "      <td>4.297033</td>\n",
       "      <td>345.459580</td>\n",
       "      <td>0.008189</td>\n",
       "      <td>9.673000e-04</td>\n",
       "      <td>...</td>\n",
       "      <td>0.012520</td>\n",
       "      <td>-0.003872</td>\n",
       "      <td>0.010352</td>\n",
       "      <td>-0.010393</td>\n",
       "      <td>0.019687</td>\n",
       "      <td>-0.006893</td>\n",
       "      <td>-0.006143</td>\n",
       "      <td>-0.002103</td>\n",
       "      <td>4</td>\n",
       "      <td>C</td>\n",
       "    </tr>\n",
       "    <tr>\n",
       "      <th>4583</th>\n",
       "      <td>0</td>\n",
       "      <td>0</td>\n",
       "      <td>0</td>\n",
       "      <td>1</td>\n",
       "      <td>-385.821109</td>\n",
       "      <td>1.639557</td>\n",
       "      <td>-3.585026</td>\n",
       "      <td>371.283755</td>\n",
       "      <td>0.007655</td>\n",
       "      <td>1.300000e-05</td>\n",
       "      <td>...</td>\n",
       "      <td>-0.015781</td>\n",
       "      <td>-0.010540</td>\n",
       "      <td>-0.013283</td>\n",
       "      <td>-0.005421</td>\n",
       "      <td>-4.267607</td>\n",
       "      <td>3.382366</td>\n",
       "      <td>-0.909481</td>\n",
       "      <td>0.082632</td>\n",
       "      <td>4</td>\n",
       "      <td>C</td>\n",
       "    </tr>\n",
       "  </tbody>\n",
       "</table>\n",
       "<p>4584 rows × 668 columns</p>\n",
       "</div>"
      ],
      "text/plain": [
       "      x1  x2  x3  x4          x5        x6         x7          x8        x9  \\\n",
       "0      0   0   0   1 -300.361218  0.886360  -2.590886  225.001899  0.006204   \n",
       "1      0   0   0   1 -297.126090  0.622211  -3.960940  220.179017  0.006167   \n",
       "2      0   0   0   1 -236.460253  0.423640 -12.656341  139.453445  0.006276   \n",
       "3      0   0   0   1   33.411458  2.854415  -1.962432    3.208911  0.009752   \n",
       "4      0   0   0   1 -118.125214  2.009809  -3.291637   34.874176  0.007598   \n",
       "5      0   0   0   0 -112.915717  1.460692  -3.620890   31.872719  0.008966   \n",
       "6      0   0   0   0 -380.665387  0.244520 -15.883882  374.574698  0.103286   \n",
       "7      0   0   0   0 -386.604055  0.261595  -8.788641  377.746106  0.062311   \n",
       "8      0   0   0   1 -316.067981  0.063321 -14.192416  249.138026  0.005854   \n",
       "9      0   0   0   1  -39.243035  0.495243 -14.500527    3.857580  0.005821   \n",
       "10     0   0   0   1 -278.297968  1.516408  -1.736766  193.174400  0.006180   \n",
       "11     0   0   0   1    0.613300  2.232521  -2.700590    0.085573  0.006835   \n",
       "12     0   0   0   1    7.685398  2.253553  -3.561061    0.233087  0.006836   \n",
       "13     0   0   0   1    9.619752  2.137068  -3.683101    0.319419  0.007055   \n",
       "14     0   0   0   1   13.800448  1.994840  -3.029048    0.531994  0.006372   \n",
       "15     0   0   0   1   12.051557  1.880766  -1.779390    0.417584  0.006501   \n",
       "16     0   0   0   1  -16.349036  2.314615  -3.504911    0.802298  0.007573   \n",
       "17     0   0   0   1  -18.450880  2.104648  -2.656847    0.948585  0.007441   \n",
       "18     0   0   0   1  -20.970432  2.360314  -3.622693    1.194240  0.006850   \n",
       "19     0   0   0   1  -21.808020  2.495906  -4.069194    1.306510  0.006927   \n",
       "20     0   0   0   1  -20.776064  2.311754  -4.047862    1.195429  0.006935   \n",
       "21     0   0   0   1  -20.664341  2.395650  -4.090336    1.174979  0.006633   \n",
       "22     0   0   0   0  -82.168535  2.252529  -3.426443   16.948742  0.007072   \n",
       "23     0   0   0   1  -84.473942  2.172769  -2.376567   17.867326  0.006347   \n",
       "24     0   0   0   1 -127.399898  3.407902  -1.760284   40.790658  0.007695   \n",
       "25     0   0   0   1 -110.822892  2.563317  -4.255509   30.757732  0.006840   \n",
       "26     0   0   0   1  -94.534583  2.704725  -4.840516   22.470040  0.006697   \n",
       "27     0   0   0   1  -72.806687  2.599037  -2.265400   13.365994  0.007102   \n",
       "28     0   0   0   0 -124.004059  1.217027  -3.003007   38.380150  0.006622   \n",
       "29     0   0   0   1 -196.998885  0.698350  -3.941220   96.804999  0.006451   \n",
       "...   ..  ..  ..  ..         ...       ...        ...         ...       ...   \n",
       "4554   0   0   0   0 -338.390120  3.403997  -2.175616  287.791202  0.009235   \n",
       "4555   0   0   0   1 -366.054762  3.416519  -2.142271  335.054443  0.007388   \n",
       "4556   0   0   0   1 -198.601197  3.617812  -1.119553  126.927196  0.018454   \n",
       "4557   0   0   0   1 -316.190829  4.003277   0.452948  280.861255  0.023110   \n",
       "4558   0   0   0   0 -386.859107  0.570178 -13.695394  378.555431  0.065213   \n",
       "4559   0   0   0   0 -333.640596  3.090604  -1.839979  278.379112  0.010668   \n",
       "4560   0   0   0   1 -388.345699  0.759304 -12.909762  377.592901  0.022676   \n",
       "4561   0   0   0   1 -363.632059  2.380254  -2.712477  330.022393  0.012352   \n",
       "4562   0   0   0   1 -381.706786  0.844486  -7.800131  364.208988  0.019380   \n",
       "4563   0   0   0   1 -291.926666  2.318259  -3.993992  212.663063  0.006839   \n",
       "4564   0   0   0   1 -382.879490  2.838180  -2.001880  365.748960  0.008833   \n",
       "4565   0   0   0   1 -307.693069  2.474713  -2.419144  236.155479  0.006214   \n",
       "4566   0   0   0   1 -350.267294  2.865120  -1.558543  306.861095  0.013725   \n",
       "4567   0   0   0   1 -342.254955  2.223729  -3.690804  292.708451  0.013920   \n",
       "4568   0   0   0   0 -392.082451  1.178920  -4.215863  383.563954  0.014734   \n",
       "4569   0   0   0   0 -388.082272  1.669321  -2.490454  375.979685  0.014944   \n",
       "4570   0   0   0   1  -78.396190  2.875243  -3.696979   15.545576  0.006766   \n",
       "4571   0   0   0   0 -301.091918  3.629598  -2.711524  249.258364  0.018833   \n",
       "4572   0   0   0   1 -367.539813  2.928255  -2.352820  337.466183  0.010335   \n",
       "4573   0   0   0   0 -164.521457  4.120263  -2.200715  107.704642  0.018958   \n",
       "4574   0   0   0   0 -216.741954  2.613357  -2.613396  117.300069  0.006846   \n",
       "4575   0   0   0   0 -185.452873  2.932351  -2.072963   86.122797  0.008068   \n",
       "4576   0   0   0   1 -373.144132  1.814027  -1.925366  347.345414  0.008845   \n",
       "4577   0   0   0   0 -395.344232  1.086392  -5.387118  389.856339  0.009869   \n",
       "4578   0   0   0   1 -393.831848  1.336427  -5.731723  386.904205  0.010297   \n",
       "4579   0   0   0   0 -392.943756  0.507873  -9.590259  385.796557  0.030013   \n",
       "4580   0   0   0   1 -395.031790  0.597027  -7.508490  390.195252  0.027614   \n",
       "4581   0   0   0   0 -388.253018  3.220873  -1.805565  376.110018  0.007341   \n",
       "4582   0   0   0   1 -371.090638  3.310164   4.297033  345.459580  0.008189   \n",
       "4583   0   0   0   1 -385.821109  1.639557  -3.585026  371.283755  0.007655   \n",
       "\n",
       "               x10  ...        z215      z216      z217      z218  \\\n",
       "0     3.710000e-05  ...    0.021695  0.010894  0.005242  0.024971   \n",
       "1    -1.420000e-05  ...    0.037434  0.003062  0.001722  0.023595   \n",
       "2    -2.790000e-05  ...   -0.024443  0.029441 -0.010894 -0.036318   \n",
       "3    -2.726060e-04  ...   -0.018837 -0.033223 -0.034184 -0.047734   \n",
       "4     1.260000e-06  ...   -0.010815  0.003117  0.001963  0.004084   \n",
       "5     2.870000e-06  ...   -0.006278 -0.003937 -0.016509 -0.002701   \n",
       "6    -2.535020e-04  ...   -0.038073  0.310532  0.060122  0.181599   \n",
       "7    -6.979360e-04  ...   -0.014172  0.004308  0.026389 -0.001390   \n",
       "8    -1.510000e-05  ...    0.015327  0.014646  0.011750  0.002515   \n",
       "9     3.190000e-06  ...    0.023301  0.002547 -0.016651 -0.034821   \n",
       "10    5.440000e-05  ...   -0.013031 -0.013232 -0.027770  0.001013   \n",
       "11    1.110000e-05  ...   -0.023656  0.040468  0.019214 -0.012835   \n",
       "12    2.750000e-05  ...   -0.008333  0.006965 -0.000672  0.004248   \n",
       "13    3.290000e-05  ...   -0.008382  0.025586 -0.002574 -0.006469   \n",
       "14   -4.190000e-05  ...   -0.013346 -0.011660 -0.018362 -0.021383   \n",
       "15   -1.530000e-05  ...   -0.018965 -0.003831 -0.001417  0.020322   \n",
       "16    1.950000e-05  ...   -0.021187  0.007336  0.005751 -0.032402   \n",
       "17   -8.420000e-05  ...    0.033382 -0.015244  0.026636 -0.010414   \n",
       "18    6.880000e-05  ...    0.002738 -0.008092 -0.024161 -0.008001   \n",
       "19    3.430000e-05  ...   -0.011360  0.020000  0.000372  0.002380   \n",
       "20   -2.790000e-05  ...    0.007207  0.005264  0.002861 -0.003488   \n",
       "21   -4.600000e-05  ...    0.009301 -0.002062 -0.009014  0.010189   \n",
       "22    9.850000e-05  ...   -0.001653 -0.003026  0.007073 -0.000433   \n",
       "23   -6.940000e-05  ...    0.031007  0.020711  0.002172  0.016125   \n",
       "24    8.550000e-05  ...    0.005642  0.008839  0.009318 -0.003543   \n",
       "25    3.750000e-07  ...    0.018528  0.032931  0.013888  0.003958   \n",
       "26   -1.500000e-05  ...   -0.014639 -0.009078 -0.058743  0.005343   \n",
       "27   -4.080000e-05  ...    0.027168 -0.008143 -0.011524  0.003335   \n",
       "28    6.660000e-05  ...   -0.005011  0.029790  0.015736  0.012590   \n",
       "29    2.160000e-07  ...   -0.010051 -0.000046 -0.043944 -0.011340   \n",
       "...            ...  ...         ...       ...       ...       ...   \n",
       "4554 -2.803040e-04  ...    0.106693  0.092422  0.079856  0.079746   \n",
       "4555 -2.896410e-04  ...   -0.021588 -0.007671 -0.024432 -0.008391   \n",
       "4556  1.015286e-03  ...   -0.040594 -0.011133 -0.029792 -0.007169   \n",
       "4557  1.668731e-03  ...   -0.039958 -0.076565 -0.053918 -0.035892   \n",
       "4558 -4.230000e-05  ...   -0.155013 -0.134687 -0.075813 -0.107204   \n",
       "4559 -2.920000e-05  ...   -0.101782 -0.141551 -0.140412 -0.124885   \n",
       "4560  1.282440e-04  ...   -0.006484 -0.009900  0.001354 -0.028366   \n",
       "4561  3.090000e-05  ...    0.003024 -0.003764  0.011938  0.016600   \n",
       "4562 -3.300000e-05  ...    0.005674  0.169802  0.072720  0.055668   \n",
       "4563 -4.460000e-05  ...   -0.011416 -0.007022  0.003961  0.015732   \n",
       "4564 -3.240000e-05  ...   -0.027452 -0.023403 -0.018708 -0.027259   \n",
       "4565  9.130000e-05  ...   -0.005114  0.020844  0.011654 -0.010390   \n",
       "4566  3.501580e-04  ...   -0.036101  0.017297  0.003186 -0.035623   \n",
       "4567  1.010000e-05  ...   -0.038159 -0.001109 -0.010219  0.026940   \n",
       "4568 -8.820000e-05  ...   -0.020680  0.008722  0.014327  0.010010   \n",
       "4569 -1.762680e-04  ...    0.001400 -0.006127  0.021628  0.046537   \n",
       "4570 -1.130000e-05  ...    0.013255  0.009608  0.004277 -0.018599   \n",
       "4571  3.192980e-04  ...   -0.061406 -0.083995 -0.043843 -0.062729   \n",
       "4572  3.960000e-05  ...    0.023610  0.058385  0.022199  0.007174   \n",
       "4573  2.002660e-03  ...    0.106538  0.172712  0.090395  0.154493   \n",
       "4574  3.110000e-05  ...    0.020534 -0.009121  0.017935  0.028810   \n",
       "4575  4.670000e-06  ...   -0.033270  0.025951  0.033993  0.036729   \n",
       "4576  1.969910e-04  ...   -0.005756 -0.007196  0.013007  0.020008   \n",
       "4577 -2.770000e-06  ...    0.010062  0.009449 -0.004931 -0.003810   \n",
       "4578  4.250000e-05  ...   -0.006749  0.014485  0.010438 -0.011261   \n",
       "4579 -2.187110e-04  ...   -0.086613 -0.044379 -0.071424 -0.039891   \n",
       "4580  1.123410e-04  ...   -0.094154 -0.095121 -0.117562 -0.066158   \n",
       "4581  9.810000e-05  ...   -0.029737  0.003684 -0.022551 -0.004467   \n",
       "4582  9.673000e-04  ...    0.012520 -0.003872  0.010352 -0.010393   \n",
       "4583  1.300000e-05  ...   -0.015781 -0.010540 -0.013283 -0.005421   \n",
       "\n",
       "             z219         z220         z221         z222  phase  state  \n",
       "0    -1017.620978  -382.850838   -48.275711    -2.040336      3      B  \n",
       "1       91.229094    24.802230     1.783950     0.022620      3      C  \n",
       "2     -188.232347   -17.474861    -1.005571    -0.021628      3      B  \n",
       "3      185.122907  -549.282067   542.193381  -178.049926      3      A  \n",
       "4       35.207794   -78.143166    57.084208   -13.700212      4      C  \n",
       "5       68.468100  -159.552693   123.355439   -31.642511      4      C  \n",
       "6       -0.509000    -0.322042    -0.268659    -0.033342      4      C  \n",
       "7       -5.203930    -1.018364    -0.267002    -0.015707      4      C  \n",
       "8    -1383.819560 -2535.123020 -1548.717057  -315.499039      4      B  \n",
       "9     -774.085217   401.745970   -70.010427     4.096719      4      C  \n",
       "10      -7.295979     2.209541    -0.194557     0.004856      4      B  \n",
       "11   -1049.941086  2948.006091 -2759.604388   861.232991      1      C  \n",
       "12    -859.068318  2431.811994 -2295.195551   722.261551      1      B  \n",
       "13    -516.889026  1452.627437 -1361.260354   425.362402      1      C  \n",
       "14   -1708.733552  4795.963044 -4487.421937  1399.709392      1      C  \n",
       "15    -368.245353  1046.135636  -991.246713   313.261911      1      D  \n",
       "16    -565.694145  1423.095923 -1193.830335   333.968076      1      C  \n",
       "17    -263.198466   660.643369  -553.280449   154.599716      1      C  \n",
       "18    -238.208081   595.869017  -497.557923   138.683631      1      B  \n",
       "19    -933.809408  2333.259435 -1943.867967   539.969062      1      C  \n",
       "20    -804.383817  2009.981934 -1674.681985   465.245882      1      D  \n",
       "21   -1216.845004  3040.184516 -2532.372860   703.263836      1      C  \n",
       "22    -582.927309  1481.458038 -1255.586204   354.887093      1      B  \n",
       "23    -162.873531   410.483289  -345.428605    97.063473      1      C  \n",
       "24    -145.419857   360.929020  -298.717862    82.436627      1      C  \n",
       "25     295.861953  -726.746745   594.430808  -161.897066      1      B  \n",
       "26    -288.048102   717.472971  -596.325944   165.385666      1      C  \n",
       "27    -442.513749  1126.045736  -955.367958   270.258088      1      C  \n",
       "28   -1102.893410  2738.834070 -2267.775201   626.088526      1      A  \n",
       "29    -283.286471   584.784129  -403.125128    92.805533      1      C  \n",
       "...           ...          ...          ...          ...    ...    ...  \n",
       "4554     0.323928     0.480987     0.225047     0.033521      4      C  \n",
       "4555     0.248860     0.219230     0.047970     0.002163      4      B  \n",
       "4556    -0.124376    -0.299654    -0.238890    -0.062682      4      C  \n",
       "4557    -0.102140    -0.066463     0.018853    -0.000209      4      C  \n",
       "4558    -4.365499    -0.001464    -0.043675     0.005836      4      D  \n",
       "4559    -0.214087    -0.169362    -0.042132    -0.004270      4      B  \n",
       "4560     0.195157     0.400362    -0.161571     0.009536      4      C  \n",
       "4561    -2.736681     2.958135    -1.133447     0.155201      4      B  \n",
       "4562     1.378666    -0.650497     0.032381     0.008894      4      C  \n",
       "4563     8.857164   -17.900030    11.920500    -2.614685      4      B  \n",
       "4564    -0.459238     0.230924    -0.041113     0.003417      4      C  \n",
       "4565   -63.959404   126.383085   -83.385008    18.369093      4      C  \n",
       "4566   -10.702179    16.012665    -7.911601     1.291965      4      C  \n",
       "4567    -5.615761     8.512842    -4.305907     0.727528      4      C  \n",
       "4568    -1.930457     0.616862    -0.059547     0.001707      4      B  \n",
       "4569    -9.263141    -1.249600    -0.040722    -0.000568      4      C  \n",
       "4570  -336.989379   998.343830  -986.379095   325.021192      4      A  \n",
       "4571    -0.124634    -0.191332    -0.085028    -0.010738      4      B  \n",
       "4572    -1.715863    -1.707875    -0.547304    -0.056556      4      B  \n",
       "4573    -0.413508    -0.662663    -0.296251    -0.036656      4      B  \n",
       "4574  -429.754571   995.344978  -768.398262   197.723157      4      B  \n",
       "4575  -219.504612   593.675898  -535.247585   160.862968      4      A  \n",
       "4576   -14.016332   -12.970203    -3.975185    -0.403395      4      B  \n",
       "4577    -1.918749     0.345588    -0.001456    -0.000875      4      C  \n",
       "4578    -1.121097     0.445533    -0.059136     0.003440      4      B  \n",
       "4579    -4.364444     2.504250    -0.606341     0.054899      4      B  \n",
       "4580    -0.184795     0.403598    -0.059706    -0.004628      4      C  \n",
       "4581     0.081567     0.026408    -0.006096    -0.001487      4      B  \n",
       "4582     0.019687    -0.006893    -0.006143    -0.002103      4      C  \n",
       "4583    -4.267607     3.382366    -0.909481     0.082632      4      C  \n",
       "\n",
       "[4584 rows x 668 columns]"
      ]
     },
     "execution_count": 392,
     "metadata": {},
     "output_type": "execute_result"
    }
   ],
   "source": [
    "#Drop the Training subject column from the rest of the dataframe \n",
    "df_train = df_train.drop('subject',1)"
   ]
  },
  {
   "cell_type": "code",
   "execution_count": 473,
   "metadata": {
    "collapsed": true
   },
   "outputs": [],
   "source": [
    "#Drop the Test subject column from the rest of the dataframe \n",
    "df_test = df_test.drop('subject',1)"
   ]
  },
  {
   "cell_type": "code",
   "execution_count": 475,
   "metadata": {},
   "outputs": [
    {
     "data": {
      "text/html": [
       "<div>\n",
       "<style>\n",
       "    .dataframe thead tr:only-child th {\n",
       "        text-align: right;\n",
       "    }\n",
       "\n",
       "    .dataframe thead th {\n",
       "        text-align: left;\n",
       "    }\n",
       "\n",
       "    .dataframe tbody tr th {\n",
       "        vertical-align: top;\n",
       "    }\n",
       "</style>\n",
       "<table border=\"1\" class=\"dataframe\">\n",
       "  <thead>\n",
       "    <tr style=\"text-align: right;\">\n",
       "      <th></th>\n",
       "      <th>state_A</th>\n",
       "      <th>state_B</th>\n",
       "      <th>state_C</th>\n",
       "      <th>state_D</th>\n",
       "      <th>state_E</th>\n",
       "    </tr>\n",
       "  </thead>\n",
       "  <tbody>\n",
       "    <tr>\n",
       "      <th>0</th>\n",
       "      <td>0</td>\n",
       "      <td>1</td>\n",
       "      <td>0</td>\n",
       "      <td>0</td>\n",
       "      <td>0</td>\n",
       "    </tr>\n",
       "    <tr>\n",
       "      <th>1</th>\n",
       "      <td>0</td>\n",
       "      <td>0</td>\n",
       "      <td>1</td>\n",
       "      <td>0</td>\n",
       "      <td>0</td>\n",
       "    </tr>\n",
       "    <tr>\n",
       "      <th>2</th>\n",
       "      <td>0</td>\n",
       "      <td>1</td>\n",
       "      <td>0</td>\n",
       "      <td>0</td>\n",
       "      <td>0</td>\n",
       "    </tr>\n",
       "    <tr>\n",
       "      <th>3</th>\n",
       "      <td>1</td>\n",
       "      <td>0</td>\n",
       "      <td>0</td>\n",
       "      <td>0</td>\n",
       "      <td>0</td>\n",
       "    </tr>\n",
       "    <tr>\n",
       "      <th>4</th>\n",
       "      <td>0</td>\n",
       "      <td>0</td>\n",
       "      <td>1</td>\n",
       "      <td>0</td>\n",
       "      <td>0</td>\n",
       "    </tr>\n",
       "  </tbody>\n",
       "</table>\n",
       "</div>"
      ],
      "text/plain": [
       "   state_A  state_B  state_C  state_D  state_E\n",
       "0        0        1        0        0        0\n",
       "1        0        0        1        0        0\n",
       "2        0        1        0        0        0\n",
       "3        1        0        0        0        0\n",
       "4        0        0        1        0        0"
      ]
     },
     "execution_count": 475,
     "metadata": {},
     "output_type": "execute_result"
    }
   ],
   "source": [
    "#Get dummy variables for Training categorical data: state\n",
    "df_state_train = pd.get_dummies(df_train['state'], prefix = 'state')  \n",
    "df_state_train.head() "
   ]
  },
  {
   "cell_type": "code",
   "execution_count": 481,
   "metadata": {},
   "outputs": [
    {
     "data": {
      "text/html": [
       "<div>\n",
       "<style>\n",
       "    .dataframe thead tr:only-child th {\n",
       "        text-align: right;\n",
       "    }\n",
       "\n",
       "    .dataframe thead th {\n",
       "        text-align: left;\n",
       "    }\n",
       "\n",
       "    .dataframe tbody tr th {\n",
       "        vertical-align: top;\n",
       "    }\n",
       "</style>\n",
       "<table border=\"1\" class=\"dataframe\">\n",
       "  <thead>\n",
       "    <tr style=\"text-align: right;\">\n",
       "      <th></th>\n",
       "      <th>state_A</th>\n",
       "      <th>state_B</th>\n",
       "      <th>state_C</th>\n",
       "      <th>state_D</th>\n",
       "      <th>state_E</th>\n",
       "    </tr>\n",
       "  </thead>\n",
       "  <tbody>\n",
       "    <tr>\n",
       "      <th>0</th>\n",
       "      <td>0</td>\n",
       "      <td>1</td>\n",
       "      <td>0</td>\n",
       "      <td>0</td>\n",
       "      <td>0</td>\n",
       "    </tr>\n",
       "    <tr>\n",
       "      <th>1</th>\n",
       "      <td>0</td>\n",
       "      <td>0</td>\n",
       "      <td>1</td>\n",
       "      <td>0</td>\n",
       "      <td>0</td>\n",
       "    </tr>\n",
       "    <tr>\n",
       "      <th>2</th>\n",
       "      <td>0</td>\n",
       "      <td>0</td>\n",
       "      <td>1</td>\n",
       "      <td>0</td>\n",
       "      <td>0</td>\n",
       "    </tr>\n",
       "    <tr>\n",
       "      <th>3</th>\n",
       "      <td>0</td>\n",
       "      <td>0</td>\n",
       "      <td>1</td>\n",
       "      <td>0</td>\n",
       "      <td>0</td>\n",
       "    </tr>\n",
       "    <tr>\n",
       "      <th>4</th>\n",
       "      <td>0</td>\n",
       "      <td>0</td>\n",
       "      <td>1</td>\n",
       "      <td>0</td>\n",
       "      <td>0</td>\n",
       "    </tr>\n",
       "  </tbody>\n",
       "</table>\n",
       "</div>"
      ],
      "text/plain": [
       "   state_A  state_B  state_C  state_D  state_E\n",
       "0        0        1        0        0        0\n",
       "1        0        0        1        0        0\n",
       "2        0        0        1        0        0\n",
       "3        0        0        1        0        0\n",
       "4        0        0        1        0        0"
      ]
     },
     "execution_count": 481,
     "metadata": {},
     "output_type": "execute_result"
    }
   ],
   "source": [
    "#Get dummy variables for Test categorical data: state\n",
    "df_state_test = pd.get_dummies(df_test['state'], prefix = 'state')  \n",
    "df_state_test.head() "
   ]
  },
  {
   "cell_type": "code",
   "execution_count": 476,
   "metadata": {},
   "outputs": [
    {
     "data": {
      "text/html": [
       "<div>\n",
       "<style>\n",
       "    .dataframe thead tr:only-child th {\n",
       "        text-align: right;\n",
       "    }\n",
       "\n",
       "    .dataframe thead th {\n",
       "        text-align: left;\n",
       "    }\n",
       "\n",
       "    .dataframe tbody tr th {\n",
       "        vertical-align: top;\n",
       "    }\n",
       "</style>\n",
       "<table border=\"1\" class=\"dataframe\">\n",
       "  <thead>\n",
       "    <tr style=\"text-align: right;\">\n",
       "      <th></th>\n",
       "      <th>phase_1</th>\n",
       "      <th>phase_2</th>\n",
       "      <th>phase_3</th>\n",
       "      <th>phase_4</th>\n",
       "    </tr>\n",
       "  </thead>\n",
       "  <tbody>\n",
       "    <tr>\n",
       "      <th>0</th>\n",
       "      <td>0</td>\n",
       "      <td>0</td>\n",
       "      <td>1</td>\n",
       "      <td>0</td>\n",
       "    </tr>\n",
       "    <tr>\n",
       "      <th>1</th>\n",
       "      <td>0</td>\n",
       "      <td>0</td>\n",
       "      <td>1</td>\n",
       "      <td>0</td>\n",
       "    </tr>\n",
       "    <tr>\n",
       "      <th>2</th>\n",
       "      <td>0</td>\n",
       "      <td>0</td>\n",
       "      <td>1</td>\n",
       "      <td>0</td>\n",
       "    </tr>\n",
       "    <tr>\n",
       "      <th>3</th>\n",
       "      <td>0</td>\n",
       "      <td>0</td>\n",
       "      <td>1</td>\n",
       "      <td>0</td>\n",
       "    </tr>\n",
       "    <tr>\n",
       "      <th>4</th>\n",
       "      <td>0</td>\n",
       "      <td>0</td>\n",
       "      <td>0</td>\n",
       "      <td>1</td>\n",
       "    </tr>\n",
       "  </tbody>\n",
       "</table>\n",
       "</div>"
      ],
      "text/plain": [
       "   phase_1  phase_2  phase_3  phase_4\n",
       "0        0        0        1        0\n",
       "1        0        0        1        0\n",
       "2        0        0        1        0\n",
       "3        0        0        1        0\n",
       "4        0        0        0        1"
      ]
     },
     "execution_count": 476,
     "metadata": {},
     "output_type": "execute_result"
    }
   ],
   "source": [
    "#Get dummy variables for Training categorical data: phase\n",
    "df_phase_train = pd.get_dummies(df_train['phase'], prefix = 'phase')   \n",
    "df_phase_train.head() "
   ]
  },
  {
   "cell_type": "code",
   "execution_count": 482,
   "metadata": {},
   "outputs": [
    {
     "data": {
      "text/html": [
       "<div>\n",
       "<style>\n",
       "    .dataframe thead tr:only-child th {\n",
       "        text-align: right;\n",
       "    }\n",
       "\n",
       "    .dataframe thead th {\n",
       "        text-align: left;\n",
       "    }\n",
       "\n",
       "    .dataframe tbody tr th {\n",
       "        vertical-align: top;\n",
       "    }\n",
       "</style>\n",
       "<table border=\"1\" class=\"dataframe\">\n",
       "  <thead>\n",
       "    <tr style=\"text-align: right;\">\n",
       "      <th></th>\n",
       "      <th>phase_1</th>\n",
       "      <th>phase_2</th>\n",
       "      <th>phase_3</th>\n",
       "      <th>phase_4</th>\n",
       "    </tr>\n",
       "  </thead>\n",
       "  <tbody>\n",
       "    <tr>\n",
       "      <th>0</th>\n",
       "      <td>1</td>\n",
       "      <td>0</td>\n",
       "      <td>0</td>\n",
       "      <td>0</td>\n",
       "    </tr>\n",
       "    <tr>\n",
       "      <th>1</th>\n",
       "      <td>1</td>\n",
       "      <td>0</td>\n",
       "      <td>0</td>\n",
       "      <td>0</td>\n",
       "    </tr>\n",
       "    <tr>\n",
       "      <th>2</th>\n",
       "      <td>1</td>\n",
       "      <td>0</td>\n",
       "      <td>0</td>\n",
       "      <td>0</td>\n",
       "    </tr>\n",
       "    <tr>\n",
       "      <th>3</th>\n",
       "      <td>1</td>\n",
       "      <td>0</td>\n",
       "      <td>0</td>\n",
       "      <td>0</td>\n",
       "    </tr>\n",
       "    <tr>\n",
       "      <th>4</th>\n",
       "      <td>1</td>\n",
       "      <td>0</td>\n",
       "      <td>0</td>\n",
       "      <td>0</td>\n",
       "    </tr>\n",
       "  </tbody>\n",
       "</table>\n",
       "</div>"
      ],
      "text/plain": [
       "   phase_1  phase_2  phase_3  phase_4\n",
       "0        1        0        0        0\n",
       "1        1        0        0        0\n",
       "2        1        0        0        0\n",
       "3        1        0        0        0\n",
       "4        1        0        0        0"
      ]
     },
     "execution_count": 482,
     "metadata": {},
     "output_type": "execute_result"
    }
   ],
   "source": [
    "#Get dummy variables for Test categorical data: phase\n",
    "df_phase_test = pd.get_dummies(df_test['phase'], prefix = 'phase')   \n",
    "df_phase_test.head() "
   ]
  },
  {
   "cell_type": "code",
   "execution_count": 477,
   "metadata": {
    "collapsed": true
   },
   "outputs": [],
   "source": [
    "#Drop the original three Training categorical predictor columns (replaced by the dummy variable columns)\n",
    "df_drop_train = df_train.drop(['state', 'phase'], axis=1)"
   ]
  },
  {
   "cell_type": "code",
   "execution_count": 483,
   "metadata": {
    "collapsed": true
   },
   "outputs": [],
   "source": [
    "#Drop the original three Test categorical predictor columns (replaced by the dummy variable columns)\n",
    "df_drop_test = df_test.drop(['state', 'phase'], axis=1)"
   ]
  },
  {
   "cell_type": "code",
   "execution_count": 479,
   "metadata": {
    "collapsed": true
   },
   "outputs": [],
   "source": [
    "#Concatenate the two new Training dummy variable dataframes (minus the subject variable) \n",
    "# with the predictors training dataframe\n",
    "df_dummies_train = pd.concat([df_drop_train, df_state_train, df_phase_train], axis = 1)"
   ]
  },
  {
   "cell_type": "code",
   "execution_count": 485,
   "metadata": {
    "collapsed": true
   },
   "outputs": [],
   "source": [
    "#Concatenate the two new Test dummy variable dataframes (minus the subject variable) \n",
    "# with the predictors test dataframe\n",
    "df_dummies_test = pd.concat([df_drop_test, df_state_test, df_phase_test], axis = 1)"
   ]
  },
  {
   "cell_type": "code",
   "execution_count": 480,
   "metadata": {},
   "outputs": [
    {
     "data": {
      "text/plain": [
       "array([[ 0.,  0.,  0., ...,  0.,  1.,  0.],\n",
       "       [ 0.,  0.,  0., ...,  0.,  1.,  0.],\n",
       "       [ 0.,  0.,  0., ...,  0.,  1.,  0.],\n",
       "       ..., \n",
       "       [ 0.,  0.,  0., ...,  0.,  0.,  1.],\n",
       "       [ 0.,  0.,  0., ...,  0.,  0.,  1.],\n",
       "       [ 0.,  0.,  0., ...,  0.,  0.,  1.]])"
      ]
     },
     "execution_count": 480,
     "metadata": {},
     "output_type": "execute_result"
    }
   ],
   "source": [
    "x = df_dummies_train.as_matrix()\n",
    "x"
   ]
  },
  {
   "cell_type": "code",
   "execution_count": 398,
   "metadata": {},
   "outputs": [
    {
     "name": "stdout",
     "output_type": "stream",
     "text": [
      "Accuracy Score: 0.828155981494\n",
      "F1 Score: 0.903417533432\n"
     ]
    }
   ],
   "source": [
    "#Try Random Forest classification model\n",
    "X_train, X_test, y_train, y_test = train_test_split(x, y, test_size = 0.33, random_state = 101)\n",
    "\n",
    "clf = RandomForestClassifier(random_state = 101)\n",
    "clf.fit(X_train,y_train)\n",
    "\n",
    "print(\"Accuracy Score:\",accuracy_score(y_test, clf.predict(X_test))) #predicting on 33% and getting accuracy\n",
    "print(\"F1 Score:\", f1_score(y_test,clf.predict(X_test))) #Do not try to optimize two metrics - decide on a metrics first\n"
   ]
  },
  {
   "cell_type": "markdown",
   "metadata": {
    "collapsed": true
   },
   "source": [
    "82.8% accuracy seems pretty good for a first try...until we recall that the two output classes are imbalanced for the training data set and roughly 84% of the training observations were classfied as '1'.  Therefore, if we simply classified EVERYTHING as '1', we would get a higher accuracy score!  Not good!  Some tuning is required, and perhaps also some feature engineering."
   ]
  },
  {
   "cell_type": "code",
   "execution_count": 399,
   "metadata": {},
   "outputs": [
    {
     "data": {
      "text/plain": [
       "0.84489528795811519"
      ]
     },
     "execution_count": 399,
     "metadata": {},
     "output_type": "execute_result"
    }
   ],
   "source": [
    "#code to prove the point that we haven't gotten very far on our first try with Random Forest out of the box.\n",
    "#This code simply predicts that all outputs are '1', and still gets 84.5% accuracy\n",
    "accuracy_score(y, np.repeat(1,y.shape))"
   ]
  },
  {
   "cell_type": "code",
   "execution_count": 354,
   "metadata": {
    "collapsed": true
   },
   "outputs": [],
   "source": [
    "#Code from Section 6\n",
    "\n",
    "# scores = []\n",
    "\n",
    "# for ne in range(10,150,10):\n",
    "#     clf = RandomForestClassifier(n_estimators = ne, random_state=82)\n",
    "# #     score_list = cross_val_score(clf, x, y, cv=10,n_jobs=-1) #returns accuracy\n",
    "# #     score_list = cross_val_score(clf, x, y, cv=10, scoring='accuracy') #same as above\n",
    "#     score_list = cross_val_score(clf, x, y, cv=10, scoring='f1')\n",
    "#     scores.append(score_list)"
   ]
  },
  {
   "cell_type": "code",
   "execution_count": 355,
   "metadata": {
    "collapsed": true
   },
   "outputs": [],
   "source": [
    "# plt.figure(figsize=(12,5))\n",
    "# plt.xlabel('Number of trees')\n",
    "# plt.ylabel('Classification score')\n",
    "# plt.title('Classification score as a function of the number of trees')\n",
    "# sns.boxplot(x=np.arange(10,150,10),y=scores)\n",
    "# plt.show()"
   ]
  },
  {
   "cell_type": "code",
   "execution_count": 356,
   "metadata": {
    "collapsed": true
   },
   "outputs": [],
   "source": [
    "##The Random Forest for loop code took longer than a few minutes so I stopped it \n"
   ]
  },
  {
   "cell_type": "code",
   "execution_count": 401,
   "metadata": {
    "collapsed": true
   },
   "outputs": [],
   "source": [
    "#try some number of trees with cross validation manually\n",
    "#number of trees = 10\n",
    "scores = []\n",
    "clf = RandomForestClassifier(n_estimators = 10, random_state = 82)\n",
    "score_list = cross_val_score(clf, x, y, cv = 10, scoring = 'f1')\n",
    "scores.append(score_list)"
   ]
  },
  {
   "cell_type": "code",
   "execution_count": 402,
   "metadata": {
    "collapsed": true
   },
   "outputs": [],
   "source": [
    "#number of trees = 20\n",
    "clf = RandomForestClassifier(n_estimators = 20, random_state = 82)\n",
    "score_list = cross_val_score(clf, x, y, cv = 10, scoring = 'f1')\n",
    "scores.append(score_list)"
   ]
  },
  {
   "cell_type": "code",
   "execution_count": 403,
   "metadata": {
    "collapsed": true
   },
   "outputs": [],
   "source": [
    "#number of trees = 30 (about 18 seconds)\n",
    "clf = RandomForestClassifier(n_estimators = 30, random_state = 82)\n",
    "score_list = cross_val_score(clf, x, y, cv = 10, scoring = 'f1')\n",
    "scores.append(score_list)"
   ]
  },
  {
   "cell_type": "code",
   "execution_count": 404,
   "metadata": {
    "collapsed": true
   },
   "outputs": [],
   "source": [
    "#number of trees = 40 (about 26 seconds)\n",
    "clf = RandomForestClassifier(n_estimators = 40, random_state = 82)\n",
    "score_list = cross_val_score(clf, x, y, cv = 10, scoring = 'f1')\n",
    "scores.append(score_list)"
   ]
  },
  {
   "cell_type": "code",
   "execution_count": 405,
   "metadata": {
    "collapsed": true
   },
   "outputs": [],
   "source": [
    "#number of trees = 50 \n",
    "clf = RandomForestClassifier(n_estimators = 50, random_state = 82)\n",
    "score_list = cross_val_score(clf, x, y, cv = 10, scoring = 'f1')\n",
    "scores.append(score_list)"
   ]
  },
  {
   "cell_type": "code",
   "execution_count": 407,
   "metadata": {},
   "outputs": [
    {
     "data": {
      "image/png": "[encoded data removed]",
      "text/plain": [
       "<matplotlib.figure.Figure at 0x1204942b0>"
      ]
     },
     "metadata": {},
     "output_type": "display_data"
    }
   ],
   "source": [
    "plt.figure(figsize=(12,5))\n",
    "plt.xlabel('Number of trees')\n",
    "plt.ylabel('Classification score')\n",
    "plt.title('Classification score as a function of the number of trees')\n",
    "sns.boxplot(x=np.arange(10,60,10),y=scores)\n",
    "plt.show()"
   ]
  },
  {
   "cell_type": "markdown",
   "metadata": {},
   "source": [
    "After only 5 iterations, it seems that the F1 score is not improving by much for the increasing cost of CPU time, therfore I will say that 50 trees is sufficient to obtain a good prediction with limited computational resources available (to me, anyway)."
   ]
  },
  {
   "cell_type": "code",
   "execution_count": 409,
   "metadata": {},
   "outputs": [
    {
     "name": "stdout",
     "output_type": "stream",
     "text": [
      "{'class_weight': 'balanced', 'max_depth': 10, 'min_samples_split': 6, 'n_estimators': 50} 0.805628272251\n"
     ]
    }
   ],
   "source": [
    "#Now we will try Grid Search\n",
    "param_grid = { \n",
    "    'n_estimators': [10,20,30,40,50],\n",
    "    'max_depth': [2,4,6,8,10],\n",
    "    'class_weight':['balanced'],\n",
    "    'min_samples_split':[2,4,6],\n",
    "}\n",
    "\n",
    "CV_rfc = GridSearchCV(estimator=clf, param_grid=param_grid, cv= 5, n_jobs=-1)\n",
    "CV_rfc.fit(x, y)\n",
    "print (CV_rfc.best_params_, CV_rfc.best_score_)\n",
    "\n",
    "# clf = RandomForestClassifier( class_weight= 'balanced', max_depth= 10, min_samples_split= 4, \n",
    "#                              n_estimators= 50, random_state=82)\n",
    "# clf.fit(X_train,y_train)\n",
    "# f1_score(y_test,clf.predict(X_test))  "
   ]
  },
  {
   "cell_type": "code",
   "execution_count": 410,
   "metadata": {},
   "outputs": [
    {
     "data": {
      "text/plain": [
       "0.91083980762116168"
      ]
     },
     "execution_count": 410,
     "metadata": {},
     "output_type": "execute_result"
    }
   ],
   "source": [
    "#The Grid Search did not improve the F1 score, as the number of trees = 50 plot above had a mean of 0.915\n",
    "\n",
    "clf = RandomForestClassifier( class_weight= 'balanced', max_depth= 10, min_samples_split= 6, \n",
    "                             n_estimators= 50, random_state=82)\n",
    "clf.fit(X_train,y_train)\n",
    "f1_score(y_test,clf.predict(X_test))  "
   ]
  },
  {
   "cell_type": "code",
   "execution_count": 411,
   "metadata": {
    "collapsed": true
   },
   "outputs": [],
   "source": [
    "#Now we try Feature importances\n",
    "\n",
    "clf = RandomForestClassifier( class_weight= 'balanced', max_depth= 10, min_samples_split= 6, \n",
    "                             n_estimators= 50, random_state=82)\n",
    "clf.fit(x,y)\n",
    "importance_list = clf.feature_importances_\n",
    "name_list = df_dummies.columns\n",
    "importance_list, name_list = zip(*sorted(zip(importance_list, name_list)))\n",
    "df1  = pd.DataFrame([name_list,importance_list]).T\n",
    "df1.columns = ['Features','Importances']"
   ]
  },
  {
   "cell_type": "code",
   "execution_count": 416,
   "metadata": {},
   "outputs": [
    {
     "data": {
      "image/png": "[encoded data removed]",
      "text/plain": [
       "<matplotlib.figure.Figure at 0x1149030f0>"
      ]
     },
     "metadata": {},
     "output_type": "display_data"
    }
   ],
   "source": [
    "#Feature Importances Plot (first try)\n",
    "f, ax = plt.subplots(figsize = (12,12))\n",
    "sns.barplot(x='Importances',y='Features',data=df1, ci=None, color='#4286f4')\n",
    "plt.title('Feature Importances Plot')\n",
    "plt.show();"
   ]
  },
  {
   "cell_type": "code",
   "execution_count": 504,
   "metadata": {},
   "outputs": [
    {
     "data": {
      "text/html": [
       "<div>\n",
       "<style>\n",
       "    .dataframe thead tr:only-child th {\n",
       "        text-align: right;\n",
       "    }\n",
       "\n",
       "    .dataframe thead th {\n",
       "        text-align: left;\n",
       "    }\n",
       "\n",
       "    .dataframe tbody tr th {\n",
       "        vertical-align: top;\n",
       "    }\n",
       "</style>\n",
       "<table border=\"1\" class=\"dataframe\">\n",
       "  <thead>\n",
       "    <tr style=\"text-align: right;\">\n",
       "      <th></th>\n",
       "      <th>Features</th>\n",
       "      <th>Importances</th>\n",
       "    </tr>\n",
       "  </thead>\n",
       "  <tbody>\n",
       "    <tr>\n",
       "      <th>610</th>\n",
       "      <td>x33</td>\n",
       "      <td>0.00303253</td>\n",
       "    </tr>\n",
       "    <tr>\n",
       "      <th>611</th>\n",
       "      <td>x60</td>\n",
       "      <td>0.00306292</td>\n",
       "    </tr>\n",
       "    <tr>\n",
       "      <th>612</th>\n",
       "      <td>z7</td>\n",
       "      <td>0.00307634</td>\n",
       "    </tr>\n",
       "    <tr>\n",
       "      <th>613</th>\n",
       "      <td>x5</td>\n",
       "      <td>0.00314605</td>\n",
       "    </tr>\n",
       "    <tr>\n",
       "      <th>614</th>\n",
       "      <td>x187</td>\n",
       "      <td>0.00314721</td>\n",
       "    </tr>\n",
       "    <tr>\n",
       "      <th>615</th>\n",
       "      <td>z198</td>\n",
       "      <td>0.0031575</td>\n",
       "    </tr>\n",
       "    <tr>\n",
       "      <th>616</th>\n",
       "      <td>z179</td>\n",
       "      <td>0.00317195</td>\n",
       "    </tr>\n",
       "    <tr>\n",
       "      <th>617</th>\n",
       "      <td>y34</td>\n",
       "      <td>0.00317781</td>\n",
       "    </tr>\n",
       "    <tr>\n",
       "      <th>618</th>\n",
       "      <td>z157</td>\n",
       "      <td>0.00318915</td>\n",
       "    </tr>\n",
       "    <tr>\n",
       "      <th>619</th>\n",
       "      <td>y70</td>\n",
       "      <td>0.00320759</td>\n",
       "    </tr>\n",
       "    <tr>\n",
       "      <th>620</th>\n",
       "      <td>z158</td>\n",
       "      <td>0.00321088</td>\n",
       "    </tr>\n",
       "    <tr>\n",
       "      <th>621</th>\n",
       "      <td>y18</td>\n",
       "      <td>0.00321639</td>\n",
       "    </tr>\n",
       "    <tr>\n",
       "      <th>622</th>\n",
       "      <td>x199</td>\n",
       "      <td>0.0032194</td>\n",
       "    </tr>\n",
       "    <tr>\n",
       "      <th>623</th>\n",
       "      <td>x202</td>\n",
       "      <td>0.00322475</td>\n",
       "    </tr>\n",
       "    <tr>\n",
       "      <th>624</th>\n",
       "      <td>y19</td>\n",
       "      <td>0.0032451</td>\n",
       "    </tr>\n",
       "    <tr>\n",
       "      <th>625</th>\n",
       "      <td>x112</td>\n",
       "      <td>0.00325633</td>\n",
       "    </tr>\n",
       "    <tr>\n",
       "      <th>626</th>\n",
       "      <td>x12</td>\n",
       "      <td>0.00327676</td>\n",
       "    </tr>\n",
       "    <tr>\n",
       "      <th>627</th>\n",
       "      <td>z51</td>\n",
       "      <td>0.00328651</td>\n",
       "    </tr>\n",
       "    <tr>\n",
       "      <th>628</th>\n",
       "      <td>y80</td>\n",
       "      <td>0.00330253</td>\n",
       "    </tr>\n",
       "    <tr>\n",
       "      <th>629</th>\n",
       "      <td>y56</td>\n",
       "      <td>0.0033191</td>\n",
       "    </tr>\n",
       "    <tr>\n",
       "      <th>630</th>\n",
       "      <td>z208</td>\n",
       "      <td>0.00332292</td>\n",
       "    </tr>\n",
       "    <tr>\n",
       "      <th>631</th>\n",
       "      <td>z183</td>\n",
       "      <td>0.00333629</td>\n",
       "    </tr>\n",
       "    <tr>\n",
       "      <th>632</th>\n",
       "      <td>y88</td>\n",
       "      <td>0.00334229</td>\n",
       "    </tr>\n",
       "    <tr>\n",
       "      <th>633</th>\n",
       "      <td>x184</td>\n",
       "      <td>0.00335716</td>\n",
       "    </tr>\n",
       "    <tr>\n",
       "      <th>634</th>\n",
       "      <td>x219</td>\n",
       "      <td>0.00336061</td>\n",
       "    </tr>\n",
       "    <tr>\n",
       "      <th>635</th>\n",
       "      <td>y94</td>\n",
       "      <td>0.00336523</td>\n",
       "    </tr>\n",
       "    <tr>\n",
       "      <th>636</th>\n",
       "      <td>z16</td>\n",
       "      <td>0.00337051</td>\n",
       "    </tr>\n",
       "    <tr>\n",
       "      <th>637</th>\n",
       "      <td>z59</td>\n",
       "      <td>0.00344942</td>\n",
       "    </tr>\n",
       "    <tr>\n",
       "      <th>638</th>\n",
       "      <td>z109</td>\n",
       "      <td>0.00350751</td>\n",
       "    </tr>\n",
       "    <tr>\n",
       "      <th>639</th>\n",
       "      <td>y8</td>\n",
       "      <td>0.00353344</td>\n",
       "    </tr>\n",
       "    <tr>\n",
       "      <th>...</th>\n",
       "      <td>...</td>\n",
       "      <td>...</td>\n",
       "    </tr>\n",
       "    <tr>\n",
       "      <th>645</th>\n",
       "      <td>z69</td>\n",
       "      <td>0.00371116</td>\n",
       "    </tr>\n",
       "    <tr>\n",
       "      <th>646</th>\n",
       "      <td>x158</td>\n",
       "      <td>0.00372668</td>\n",
       "    </tr>\n",
       "    <tr>\n",
       "      <th>647</th>\n",
       "      <td>y5</td>\n",
       "      <td>0.00372987</td>\n",
       "    </tr>\n",
       "    <tr>\n",
       "      <th>648</th>\n",
       "      <td>z202</td>\n",
       "      <td>0.00377054</td>\n",
       "    </tr>\n",
       "    <tr>\n",
       "      <th>649</th>\n",
       "      <td>x203</td>\n",
       "      <td>0.00380392</td>\n",
       "    </tr>\n",
       "    <tr>\n",
       "      <th>650</th>\n",
       "      <td>y12</td>\n",
       "      <td>0.00381832</td>\n",
       "    </tr>\n",
       "    <tr>\n",
       "      <th>651</th>\n",
       "      <td>z56</td>\n",
       "      <td>0.00383229</td>\n",
       "    </tr>\n",
       "    <tr>\n",
       "      <th>652</th>\n",
       "      <td>y7</td>\n",
       "      <td>0.00385907</td>\n",
       "    </tr>\n",
       "    <tr>\n",
       "      <th>653</th>\n",
       "      <td>phase_2</td>\n",
       "      <td>0.00388776</td>\n",
       "    </tr>\n",
       "    <tr>\n",
       "      <th>654</th>\n",
       "      <td>z54</td>\n",
       "      <td>0.00399147</td>\n",
       "    </tr>\n",
       "    <tr>\n",
       "      <th>655</th>\n",
       "      <td>x56</td>\n",
       "      <td>0.00413429</td>\n",
       "    </tr>\n",
       "    <tr>\n",
       "      <th>656</th>\n",
       "      <td>x58</td>\n",
       "      <td>0.0041381</td>\n",
       "    </tr>\n",
       "    <tr>\n",
       "      <th>657</th>\n",
       "      <td>x205</td>\n",
       "      <td>0.00421439</td>\n",
       "    </tr>\n",
       "    <tr>\n",
       "      <th>658</th>\n",
       "      <td>y55</td>\n",
       "      <td>0.00444382</td>\n",
       "    </tr>\n",
       "    <tr>\n",
       "      <th>659</th>\n",
       "      <td>y53</td>\n",
       "      <td>0.00445749</td>\n",
       "    </tr>\n",
       "    <tr>\n",
       "      <th>660</th>\n",
       "      <td>x35</td>\n",
       "      <td>0.00447498</td>\n",
       "    </tr>\n",
       "    <tr>\n",
       "      <th>661</th>\n",
       "      <td>x34</td>\n",
       "      <td>0.00448323</td>\n",
       "    </tr>\n",
       "    <tr>\n",
       "      <th>662</th>\n",
       "      <td>x55</td>\n",
       "      <td>0.00458969</td>\n",
       "    </tr>\n",
       "    <tr>\n",
       "      <th>663</th>\n",
       "      <td>x191</td>\n",
       "      <td>0.00461296</td>\n",
       "    </tr>\n",
       "    <tr>\n",
       "      <th>664</th>\n",
       "      <td>z209</td>\n",
       "      <td>0.00469372</td>\n",
       "    </tr>\n",
       "    <tr>\n",
       "      <th>665</th>\n",
       "      <td>z52</td>\n",
       "      <td>0.0048737</td>\n",
       "    </tr>\n",
       "    <tr>\n",
       "      <th>666</th>\n",
       "      <td>z8</td>\n",
       "      <td>0.00496188</td>\n",
       "    </tr>\n",
       "    <tr>\n",
       "      <th>667</th>\n",
       "      <td>x59</td>\n",
       "      <td>0.00545765</td>\n",
       "    </tr>\n",
       "    <tr>\n",
       "      <th>668</th>\n",
       "      <td>z110</td>\n",
       "      <td>0.00552439</td>\n",
       "    </tr>\n",
       "    <tr>\n",
       "      <th>669</th>\n",
       "      <td>z206</td>\n",
       "      <td>0.00589474</td>\n",
       "    </tr>\n",
       "    <tr>\n",
       "      <th>670</th>\n",
       "      <td>x51</td>\n",
       "      <td>0.0061915</td>\n",
       "    </tr>\n",
       "    <tr>\n",
       "      <th>671</th>\n",
       "      <td>x53</td>\n",
       "      <td>0.00626677</td>\n",
       "    </tr>\n",
       "    <tr>\n",
       "      <th>672</th>\n",
       "      <td>z205</td>\n",
       "      <td>0.00660585</td>\n",
       "    </tr>\n",
       "    <tr>\n",
       "      <th>673</th>\n",
       "      <td>z207</td>\n",
       "      <td>0.00667388</td>\n",
       "    </tr>\n",
       "    <tr>\n",
       "      <th>674</th>\n",
       "      <td>x50</td>\n",
       "      <td>0.00704506</td>\n",
       "    </tr>\n",
       "  </tbody>\n",
       "</table>\n",
       "<p>65 rows × 2 columns</p>\n",
       "</div>"
      ],
      "text/plain": [
       "    Features Importances\n",
       "610      x33  0.00303253\n",
       "611      x60  0.00306292\n",
       "612       z7  0.00307634\n",
       "613       x5  0.00314605\n",
       "614     x187  0.00314721\n",
       "615     z198   0.0031575\n",
       "616     z179  0.00317195\n",
       "617      y34  0.00317781\n",
       "618     z157  0.00318915\n",
       "619      y70  0.00320759\n",
       "620     z158  0.00321088\n",
       "621      y18  0.00321639\n",
       "622     x199   0.0032194\n",
       "623     x202  0.00322475\n",
       "624      y19   0.0032451\n",
       "625     x112  0.00325633\n",
       "626      x12  0.00327676\n",
       "627      z51  0.00328651\n",
       "628      y80  0.00330253\n",
       "629      y56   0.0033191\n",
       "630     z208  0.00332292\n",
       "631     z183  0.00333629\n",
       "632      y88  0.00334229\n",
       "633     x184  0.00335716\n",
       "634     x219  0.00336061\n",
       "635      y94  0.00336523\n",
       "636      z16  0.00337051\n",
       "637      z59  0.00344942\n",
       "638     z109  0.00350751\n",
       "639       y8  0.00353344\n",
       "..       ...         ...\n",
       "645      z69  0.00371116\n",
       "646     x158  0.00372668\n",
       "647       y5  0.00372987\n",
       "648     z202  0.00377054\n",
       "649     x203  0.00380392\n",
       "650      y12  0.00381832\n",
       "651      z56  0.00383229\n",
       "652       y7  0.00385907\n",
       "653  phase_2  0.00388776\n",
       "654      z54  0.00399147\n",
       "655      x56  0.00413429\n",
       "656      x58   0.0041381\n",
       "657     x205  0.00421439\n",
       "658      y55  0.00444382\n",
       "659      y53  0.00445749\n",
       "660      x35  0.00447498\n",
       "661      x34  0.00448323\n",
       "662      x55  0.00458969\n",
       "663     x191  0.00461296\n",
       "664     z209  0.00469372\n",
       "665      z52   0.0048737\n",
       "666       z8  0.00496188\n",
       "667      x59  0.00545765\n",
       "668     z110  0.00552439\n",
       "669     z206  0.00589474\n",
       "670      x51   0.0061915\n",
       "671      x53  0.00626677\n",
       "672     z205  0.00660585\n",
       "673     z207  0.00667388\n",
       "674      x50  0.00704506\n",
       "\n",
       "[65 rows x 2 columns]"
      ]
     },
     "execution_count": 504,
     "metadata": {},
     "output_type": "execute_result"
    }
   ],
   "source": [
    "# YIKES!  There are simply way too many parameters to even see properly on the plot above, so we will take 0.004 as a first cut\n",
    "df2 = df1[df1['Importances'] > 0.003]\n",
    "df2"
   ]
  },
  {
   "cell_type": "code",
   "execution_count": 505,
   "metadata": {},
   "outputs": [
    {
     "data": {
      "image/png": "[encoded data removed]",
      "text/plain": [
       "<matplotlib.figure.Figure at 0x135b3d2e8>"
      ]
     },
     "metadata": {},
     "output_type": "display_data"
    }
   ],
   "source": [
    "#Feaure Importances plot, second try\n",
    "f, ax = plt.subplots(figsize = (12,12))\n",
    "sns.barplot(x='Importances',y='Features',data=df2, ci=None, color='#4286f4')\n",
    "plt.title('Feature Importances Plot (Importance > 0.003)')\n",
    "plt.show();"
   ]
  },
  {
   "cell_type": "code",
   "execution_count": 419,
   "metadata": {},
   "outputs": [
    {
     "data": {
      "text/plain": [
       "True"
      ]
     },
     "execution_count": 419,
     "metadata": {},
     "output_type": "execute_result"
    }
   ],
   "source": [
    "clf = RandomForestClassifier( class_weight= 'balanced', max_depth= 10, min_samples_split= 6, \n",
    "                             n_estimators= 50, random_state=82)\n",
    "clf.fit(X_train,y_train)\n",
    "#The easiest way to convert predict probabilities into predictions is to simply choose the class with probability > 0.5. \n",
    "#This is the default behavior of classifiers when we call their predict method. \n",
    "\n",
    "preds = (clf.predict_proba(X_test)[:,1]>0.5).astype(int)\n",
    "(preds == clf.predict(X_test)).all()"
   ]
  },
  {
   "cell_type": "code",
   "execution_count": 489,
   "metadata": {},
   "outputs": [
    {
     "data": {
      "text/plain": [
       "0.91083980762116168"
      ]
     },
     "execution_count": 489,
     "metadata": {},
     "output_type": "execute_result"
    }
   ],
   "source": [
    "\"\"\"\n",
    "cutoff_predict(clf, X, cutoff)\n",
    "\n",
    "Inputs:\n",
    "clf: a **trained** classifier object\n",
    "X: a 2D numpy array of features\n",
    "cutoff: a float giving the cutoff value used to convert\n",
    "        predicted probabilities into a 0/1 prediction.\n",
    "\n",
    "Output:\n",
    "a numpy array of 0/1 predictions.\n",
    "\"\"\"\n",
    "def cutoff_predict(clf, X, cutoff):\n",
    "    return (clf.predict_proba(X)[:,1] > cutoff).astype(int)\n",
    "\n",
    "\n",
    "clf = RandomForestClassifier( class_weight= 'balanced', max_depth= 10, min_samples_split= 6, \n",
    "                             n_estimators= 50, random_state=82)\n",
    "clf.fit(X_train,y_train)\n",
    "\n",
    "#Let's try cutoff value of 0.5\n",
    "preds = cutoff_predict(clf,X_test,0.5)\n",
    "f1_score(y_test,preds)"
   ]
  },
  {
   "cell_type": "code",
   "execution_count": 491,
   "metadata": {},
   "outputs": [
    {
     "data": {
      "text/plain": [
       "array([[ 0.,  0.,  0., ...,  0.,  0.,  0.],\n",
       "       [ 0.,  0.,  0., ...,  0.,  0.,  0.],\n",
       "       [ 0.,  0.,  0., ...,  0.,  0.,  0.],\n",
       "       ..., \n",
       "       [ 0.,  0.,  0., ...,  0.,  0.,  1.],\n",
       "       [ 0.,  0.,  0., ...,  0.,  0.,  1.],\n",
       "       [ 0.,  0.,  0., ...,  0.,  0.,  1.]])"
      ]
     },
     "execution_count": 491,
     "metadata": {},
     "output_type": "execute_result"
    }
   ],
   "source": [
    "#Get the matrix form of the TEST data for making prediction\n",
    "x_test = df_dummies_test.as_matrix()\n",
    "x_test"
   ]
  },
  {
   "cell_type": "code",
   "execution_count": 492,
   "metadata": {
    "collapsed": true
   },
   "outputs": [],
   "source": [
    "#Make an initial prediction to submit to Kaggle \n",
    "\n",
    "clf = RandomForestClassifier( class_weight= 'balanced', max_depth= 10, min_samples_split= 6, \n",
    "                             n_estimators= 50, random_state=82)\n",
    "\n",
    "#use 100% of training data for the fit!\n",
    "clf.fit(x,y)\n",
    "\n",
    "#cutoff value of 0.5\n",
    "preds = cutoff_predict(clf,x_test,0.5)"
   ]
  },
  {
   "cell_type": "code",
   "execution_count": 501,
   "metadata": {},
   "outputs": [
    {
     "name": "stdout",
     "output_type": "stream",
     "text": [
      "[0 1 1 ..., 1 1 1]\n"
     ]
    },
    {
     "data": {
      "text/plain": [
       "(1732,)"
      ]
     },
     "execution_count": 501,
     "metadata": {},
     "output_type": "execute_result"
    }
   ],
   "source": [
    "print(preds)\n",
    "preds.shape"
   ]
  },
  {
   "cell_type": "code",
   "execution_count": 488,
   "metadata": {},
   "outputs": [
    {
     "data": {
      "text/plain": [
       "RangeIndex(start=0, stop=1732, step=1)"
      ]
     },
     "execution_count": 488,
     "metadata": {},
     "output_type": "execute_result"
    }
   ],
   "source": [
    "df_dummies_test.index"
   ]
  },
  {
   "cell_type": "code",
   "execution_count": 496,
   "metadata": {},
   "outputs": [
    {
     "data": {
      "text/plain": [
       "RangeIndex(start=0, stop=1732, step=1)"
      ]
     },
     "execution_count": 496,
     "metadata": {},
     "output_type": "execute_result"
    }
   ],
   "source": [
    "#reset the Test data index so that we have a separate column with the index RowID's for Kaggle submission\n",
    "df_dummies_test_index = df_dummies_test.reset_index()"
   ]
  },
  {
   "cell_type": "code",
   "execution_count": 503,
   "metadata": {
    "collapsed": true
   },
   "outputs": [],
   "source": [
    "#FIRST KAGGLE SUBMISSION EVER!!! (seriously, I have not done this before, this is an historic moment...)\n",
    "\n",
    "submission1 = pd.DataFrame( {\n",
    "    \"id\": df_dummies_test_index['index'],\n",
    "    \"output\": preds\n",
    "})\n",
    "submission1.to_csv('McNutt_Jonathan_1.csv', index=False)"
   ]
  },
  {
   "cell_type": "markdown",
   "metadata": {},
   "source": [
    "Ok, so my first Kaggle submission EVER yielded a public leaderboard score of 0.55508.  Not bad (wasn't dead last at least), but time to turn up the heat or get out of the kitchen!"
   ]
  },
  {
   "cell_type": "code",
   "execution_count": 510,
   "metadata": {},
   "outputs": [
    {
     "data": {
      "text/plain": [
       "array(['x33', 'x60', 'z7', 'x5', 'x187', 'z198', 'z179', 'y34', 'z157',\n",
       "       'y70', 'z158', 'y18', 'x199', 'x202', 'y19', 'x112', 'x12', 'z51',\n",
       "       'y80', 'y56', 'z208', 'z183', 'y88', 'x184', 'x219', 'y94', 'z16',\n",
       "       'z59', 'z109', 'y8', 'z61', 'y205', 'y13', 'z80', 'z19', 'z69',\n",
       "       'x158', 'y5', 'z202', 'x203', 'y12', 'z56', 'y7', 'phase_2', 'z54',\n",
       "       'x56', 'x58', 'x205', 'y55', 'y53', 'x35', 'x34', 'x55', 'x191',\n",
       "       'z209', 'z52', 'z8', 'x59', 'z110', 'z206', 'x51', 'x53', 'z205',\n",
       "       'z207', 'x50'], dtype=object)"
      ]
     },
     "execution_count": 510,
     "metadata": {},
     "output_type": "execute_result"
    }
   ],
   "source": [
    "#Let's try to only use the features from our Feature Importance plot above where \n",
    "# Feature Importance > 0.003 and try again!\n",
    "\n",
    "important_features = df2.Features.as_matrix()\n",
    "important_features"
   ]
  },
  {
   "cell_type": "code",
   "execution_count": 511,
   "metadata": {
    "collapsed": true
   },
   "outputs": [],
   "source": [
    "#create a new dataframe with only the Training data columns deemed \"important\" by our Feature Importances plot\n",
    "df_dummies_train_features = df_dummies_train[important_features]"
   ]
  },
  {
   "cell_type": "code",
   "execution_count": 513,
   "metadata": {},
   "outputs": [
    {
     "data": {
      "text/html": [
       "<div>\n",
       "<style>\n",
       "    .dataframe thead tr:only-child th {\n",
       "        text-align: right;\n",
       "    }\n",
       "\n",
       "    .dataframe thead th {\n",
       "        text-align: left;\n",
       "    }\n",
       "\n",
       "    .dataframe tbody tr th {\n",
       "        vertical-align: top;\n",
       "    }\n",
       "</style>\n",
       "<table border=\"1\" class=\"dataframe\">\n",
       "  <thead>\n",
       "    <tr style=\"text-align: right;\">\n",
       "      <th></th>\n",
       "      <th>x33</th>\n",
       "      <th>x60</th>\n",
       "      <th>z7</th>\n",
       "      <th>x5</th>\n",
       "      <th>x187</th>\n",
       "      <th>z198</th>\n",
       "      <th>z179</th>\n",
       "      <th>y34</th>\n",
       "      <th>z157</th>\n",
       "      <th>y70</th>\n",
       "      <th>...</th>\n",
       "      <th>z52</th>\n",
       "      <th>z8</th>\n",
       "      <th>x59</th>\n",
       "      <th>z110</th>\n",
       "      <th>z206</th>\n",
       "      <th>x51</th>\n",
       "      <th>x53</th>\n",
       "      <th>z205</th>\n",
       "      <th>z207</th>\n",
       "      <th>x50</th>\n",
       "    </tr>\n",
       "  </thead>\n",
       "  <tbody>\n",
       "    <tr>\n",
       "      <th>0</th>\n",
       "      <td>2.186521</td>\n",
       "      <td>0.176434</td>\n",
       "      <td>-2.896664</td>\n",
       "      <td>-300.361218</td>\n",
       "      <td>-1.249572</td>\n",
       "      <td>-0.013517</td>\n",
       "      <td>-0.186434</td>\n",
       "      <td>-0.636314</td>\n",
       "      <td>-0.038386</td>\n",
       "      <td>53</td>\n",
       "      <td>...</td>\n",
       "      <td>-0.127339</td>\n",
       "      <td>6.355188</td>\n",
       "      <td>0.237597</td>\n",
       "      <td>0.865625</td>\n",
       "      <td>0.001721</td>\n",
       "      <td>-0.752755</td>\n",
       "      <td>-0.747351</td>\n",
       "      <td>0.275763</td>\n",
       "      <td>0.085922</td>\n",
       "      <td>-0.755435</td>\n",
       "    </tr>\n",
       "    <tr>\n",
       "      <th>1</th>\n",
       "      <td>2.128401</td>\n",
       "      <td>0.052196</td>\n",
       "      <td>-2.463686</td>\n",
       "      <td>-297.126090</td>\n",
       "      <td>-1.208622</td>\n",
       "      <td>-0.003117</td>\n",
       "      <td>-0.165493</td>\n",
       "      <td>-0.645812</td>\n",
       "      <td>-0.034744</td>\n",
       "      <td>54</td>\n",
       "      <td>...</td>\n",
       "      <td>-0.100494</td>\n",
       "      <td>3.896486</td>\n",
       "      <td>0.133186</td>\n",
       "      <td>0.868531</td>\n",
       "      <td>-0.084892</td>\n",
       "      <td>-0.743996</td>\n",
       "      <td>-0.739109</td>\n",
       "      <td>0.407122</td>\n",
       "      <td>-0.001900</td>\n",
       "      <td>-0.746452</td>\n",
       "    </tr>\n",
       "    <tr>\n",
       "      <th>2</th>\n",
       "      <td>2.185301</td>\n",
       "      <td>0.044377</td>\n",
       "      <td>-3.254425</td>\n",
       "      <td>-236.460253</td>\n",
       "      <td>-0.962199</td>\n",
       "      <td>-0.017191</td>\n",
       "      <td>-0.042681</td>\n",
       "      <td>-0.784368</td>\n",
       "      <td>-0.002830</td>\n",
       "      <td>59</td>\n",
       "      <td>...</td>\n",
       "      <td>-0.036312</td>\n",
       "      <td>0.497567</td>\n",
       "      <td>0.024621</td>\n",
       "      <td>0.926839</td>\n",
       "      <td>-0.037701</td>\n",
       "      <td>-0.593254</td>\n",
       "      <td>-0.587828</td>\n",
       "      <td>0.301952</td>\n",
       "      <td>0.075873</td>\n",
       "      <td>-0.595385</td>\n",
       "    </tr>\n",
       "    <tr>\n",
       "      <th>3</th>\n",
       "      <td>1.931538</td>\n",
       "      <td>0.890276</td>\n",
       "      <td>-6.089510</td>\n",
       "      <td>33.411458</td>\n",
       "      <td>0.183524</td>\n",
       "      <td>0.078337</td>\n",
       "      <td>1.601238</td>\n",
       "      <td>0.189910</td>\n",
       "      <td>0.327710</td>\n",
       "      <td>60</td>\n",
       "      <td>...</td>\n",
       "      <td>0.981982</td>\n",
       "      <td>388.858863</td>\n",
       "      <td>0.880749</td>\n",
       "      <td>0.964273</td>\n",
       "      <td>-0.342074</td>\n",
       "      <td>0.066654</td>\n",
       "      <td>0.083630</td>\n",
       "      <td>0.241572</td>\n",
       "      <td>0.254876</td>\n",
       "      <td>0.059469</td>\n",
       "    </tr>\n",
       "    <tr>\n",
       "      <th>4</th>\n",
       "      <td>2.195331</td>\n",
       "      <td>0.598811</td>\n",
       "      <td>-7.225891</td>\n",
       "      <td>-118.125214</td>\n",
       "      <td>-0.531465</td>\n",
       "      <td>0.070366</td>\n",
       "      <td>1.243751</td>\n",
       "      <td>-0.394056</td>\n",
       "      <td>0.263114</td>\n",
       "      <td>53</td>\n",
       "      <td>...</td>\n",
       "      <td>0.763429</td>\n",
       "      <td>235.125039</td>\n",
       "      <td>0.584741</td>\n",
       "      <td>0.934746</td>\n",
       "      <td>-0.159647</td>\n",
       "      <td>-0.301695</td>\n",
       "      <td>-0.291545</td>\n",
       "      <td>0.380735</td>\n",
       "      <td>0.086683</td>\n",
       "      <td>-0.306998</td>\n",
       "    </tr>\n",
       "  </tbody>\n",
       "</table>\n",
       "<p>5 rows × 65 columns</p>\n",
       "</div>"
      ],
      "text/plain": [
       "        x33       x60        z7          x5      x187      z198      z179  \\\n",
       "0  2.186521  0.176434 -2.896664 -300.361218 -1.249572 -0.013517 -0.186434   \n",
       "1  2.128401  0.052196 -2.463686 -297.126090 -1.208622 -0.003117 -0.165493   \n",
       "2  2.185301  0.044377 -3.254425 -236.460253 -0.962199 -0.017191 -0.042681   \n",
       "3  1.931538  0.890276 -6.089510   33.411458  0.183524  0.078337  1.601238   \n",
       "4  2.195331  0.598811 -7.225891 -118.125214 -0.531465  0.070366  1.243751   \n",
       "\n",
       "        y34      z157  y70    ...          z52          z8       x59  \\\n",
       "0 -0.636314 -0.038386   53    ...    -0.127339    6.355188  0.237597   \n",
       "1 -0.645812 -0.034744   54    ...    -0.100494    3.896486  0.133186   \n",
       "2 -0.784368 -0.002830   59    ...    -0.036312    0.497567  0.024621   \n",
       "3  0.189910  0.327710   60    ...     0.981982  388.858863  0.880749   \n",
       "4 -0.394056  0.263114   53    ...     0.763429  235.125039  0.584741   \n",
       "\n",
       "       z110      z206       x51       x53      z205      z207       x50  \n",
       "0  0.865625  0.001721 -0.752755 -0.747351  0.275763  0.085922 -0.755435  \n",
       "1  0.868531 -0.084892 -0.743996 -0.739109  0.407122 -0.001900 -0.746452  \n",
       "2  0.926839 -0.037701 -0.593254 -0.587828  0.301952  0.075873 -0.595385  \n",
       "3  0.964273 -0.342074  0.066654  0.083630  0.241572  0.254876  0.059469  \n",
       "4  0.934746 -0.159647 -0.301695 -0.291545  0.380735  0.086683 -0.306998  \n",
       "\n",
       "[5 rows x 65 columns]"
      ]
     },
     "execution_count": 513,
     "metadata": {},
     "output_type": "execute_result"
    }
   ],
   "source": [
    "df_dummies_train_features.head()"
   ]
  },
  {
   "cell_type": "code",
   "execution_count": 519,
   "metadata": {},
   "outputs": [
    {
     "data": {
      "text/plain": [
       "array([[  2.18652146e+00,   1.76434181e-01,  -2.89666407e+00, ...,\n",
       "          2.75763230e-01,   8.59222530e-02,  -7.55435407e-01],\n",
       "       [  2.12840130e+00,   5.21957260e-02,  -2.46368631e+00, ...,\n",
       "          4.07122081e-01,  -1.89976900e-03,  -7.46451735e-01],\n",
       "       [  2.18530093e+00,   4.43770740e-02,  -3.25442450e+00, ...,\n",
       "          3.01951989e-01,   7.58729560e-02,  -5.95384657e-01],\n",
       "       ..., \n",
       "       [  1.95636360e+00,   8.72610458e-01,  -3.11399812e+00, ...,\n",
       "          7.60300045e-01,   2.26774284e-01,  -9.85998154e-01],\n",
       "       [  1.48409142e+00,   9.79538353e-01,   6.57551130e-02, ...,\n",
       "          8.16176009e-01,   3.40949440e-02,  -9.73420024e-01],\n",
       "       [  2.18541183e+00,   4.78413023e-01,  -3.01946528e+00, ...,\n",
       "          7.89348330e-01,   1.12618530e-01,  -9.73349810e-01]])"
      ]
     },
     "execution_count": 519,
     "metadata": {},
     "output_type": "execute_result"
    }
   ],
   "source": [
    "x_train_features = df_dummies_train_features.as_matrix()\n",
    "x_train_features"
   ]
  },
  {
   "cell_type": "code",
   "execution_count": 520,
   "metadata": {},
   "outputs": [
    {
     "name": "stdout",
     "output_type": "stream",
     "text": [
      "Accuracy Score: 0.841374752148\n",
      "F1 Score: 0.910447761194\n"
     ]
    }
   ],
   "source": [
    "#Try Random Forest again on this new feature-limited matrix\n",
    "X_train, X_test, y_train, y_test = train_test_split(x_train_features, y, test_size = 0.33, random_state = 111)\n",
    "\n",
    "clf = RandomForestClassifier(random_state = 111)\n",
    "clf.fit(X_train,y_train)\n",
    "\n",
    "print(\"Accuracy Score:\",accuracy_score(y_test, clf.predict(X_test))) #predicting on 33% and getting accuracy\n",
    "print(\"F1 Score:\", f1_score(y_test,clf.predict(X_test))) #Do not try to optimize two metrics - decide on a metrics first\n",
    "\n"
   ]
  },
  {
   "cell_type": "markdown",
   "metadata": {},
   "source": [
    "Well, at least the Accuracy and F1 score is improved over our original try without removing features (except for 'subject', of course)."
   ]
  },
  {
   "cell_type": "code",
   "execution_count": 517,
   "metadata": {
    "collapsed": true
   },
   "outputs": [],
   "source": [
    "# now reduce the TEST data down to the same important features we previously defined above.\n",
    "\n",
    "df_dummies_test_features = df_dummies_test[important_features]"
   ]
  },
  {
   "cell_type": "code",
   "execution_count": 518,
   "metadata": {},
   "outputs": [
    {
     "data": {
      "text/html": [
       "<div>\n",
       "<style>\n",
       "    .dataframe thead tr:only-child th {\n",
       "        text-align: right;\n",
       "    }\n",
       "\n",
       "    .dataframe thead th {\n",
       "        text-align: left;\n",
       "    }\n",
       "\n",
       "    .dataframe tbody tr th {\n",
       "        vertical-align: top;\n",
       "    }\n",
       "</style>\n",
       "<table border=\"1\" class=\"dataframe\">\n",
       "  <thead>\n",
       "    <tr style=\"text-align: right;\">\n",
       "      <th></th>\n",
       "      <th>x33</th>\n",
       "      <th>x60</th>\n",
       "      <th>z7</th>\n",
       "      <th>x5</th>\n",
       "      <th>x187</th>\n",
       "      <th>z198</th>\n",
       "      <th>z179</th>\n",
       "      <th>y34</th>\n",
       "      <th>z157</th>\n",
       "      <th>y70</th>\n",
       "      <th>...</th>\n",
       "      <th>z52</th>\n",
       "      <th>z8</th>\n",
       "      <th>x59</th>\n",
       "      <th>z110</th>\n",
       "      <th>z206</th>\n",
       "      <th>x51</th>\n",
       "      <th>x53</th>\n",
       "      <th>z205</th>\n",
       "      <th>z207</th>\n",
       "      <th>x50</th>\n",
       "    </tr>\n",
       "  </thead>\n",
       "  <tbody>\n",
       "    <tr>\n",
       "      <th>0</th>\n",
       "      <td>2.125159</td>\n",
       "      <td>0.829975</td>\n",
       "      <td>-11.235744</td>\n",
       "      <td>-18.839131</td>\n",
       "      <td>-0.142831</td>\n",
       "      <td>0.083006</td>\n",
       "      <td>1.384908</td>\n",
       "      <td>-0.409492</td>\n",
       "      <td>0.268608</td>\n",
       "      <td>53</td>\n",
       "      <td>...</td>\n",
       "      <td>0.831800</td>\n",
       "      <td>278.661107</td>\n",
       "      <td>0.817887</td>\n",
       "      <td>0.997451</td>\n",
       "      <td>-0.124054</td>\n",
       "      <td>-0.060533</td>\n",
       "      <td>-0.041361</td>\n",
       "      <td>0.238412</td>\n",
       "      <td>-0.017312</td>\n",
       "      <td>-0.063972</td>\n",
       "    </tr>\n",
       "    <tr>\n",
       "      <th>1</th>\n",
       "      <td>2.182643</td>\n",
       "      <td>0.686221</td>\n",
       "      <td>-3.940619</td>\n",
       "      <td>-21.203051</td>\n",
       "      <td>-0.043553</td>\n",
       "      <td>0.091490</td>\n",
       "      <td>1.349197</td>\n",
       "      <td>-0.413598</td>\n",
       "      <td>0.276487</td>\n",
       "      <td>50</td>\n",
       "      <td>...</td>\n",
       "      <td>0.829928</td>\n",
       "      <td>277.341634</td>\n",
       "      <td>0.716507</td>\n",
       "      <td>0.842617</td>\n",
       "      <td>-0.095541</td>\n",
       "      <td>-0.062938</td>\n",
       "      <td>-0.050803</td>\n",
       "      <td>0.625594</td>\n",
       "      <td>-0.106681</td>\n",
       "      <td>-0.067825</td>\n",
       "    </tr>\n",
       "    <tr>\n",
       "      <th>2</th>\n",
       "      <td>2.190192</td>\n",
       "      <td>0.723032</td>\n",
       "      <td>-13.264658</td>\n",
       "      <td>-83.843508</td>\n",
       "      <td>-0.382891</td>\n",
       "      <td>0.092381</td>\n",
       "      <td>1.383336</td>\n",
       "      <td>-0.306314</td>\n",
       "      <td>0.266749</td>\n",
       "      <td>47</td>\n",
       "      <td>...</td>\n",
       "      <td>0.845767</td>\n",
       "      <td>288.200244</td>\n",
       "      <td>0.665486</td>\n",
       "      <td>1.011875</td>\n",
       "      <td>-0.098799</td>\n",
       "      <td>-0.218701</td>\n",
       "      <td>-0.206849</td>\n",
       "      <td>0.241595</td>\n",
       "      <td>0.045188</td>\n",
       "      <td>-0.221724</td>\n",
       "    </tr>\n",
       "    <tr>\n",
       "      <th>3</th>\n",
       "      <td>2.217644</td>\n",
       "      <td>-0.068414</td>\n",
       "      <td>-5.516460</td>\n",
       "      <td>-192.522878</td>\n",
       "      <td>-0.798821</td>\n",
       "      <td>0.083035</td>\n",
       "      <td>1.177507</td>\n",
       "      <td>-0.342101</td>\n",
       "      <td>0.238170</td>\n",
       "      <td>48</td>\n",
       "      <td>...</td>\n",
       "      <td>0.702556</td>\n",
       "      <td>199.087062</td>\n",
       "      <td>0.165711</td>\n",
       "      <td>0.975294</td>\n",
       "      <td>-0.109013</td>\n",
       "      <td>-0.484326</td>\n",
       "      <td>-0.477695</td>\n",
       "      <td>0.365952</td>\n",
       "      <td>-0.026862</td>\n",
       "      <td>-0.486826</td>\n",
       "    </tr>\n",
       "    <tr>\n",
       "      <th>4</th>\n",
       "      <td>2.159252</td>\n",
       "      <td>0.091039</td>\n",
       "      <td>-7.363883</td>\n",
       "      <td>-188.095799</td>\n",
       "      <td>-0.768613</td>\n",
       "      <td>0.072397</td>\n",
       "      <td>1.176249</td>\n",
       "      <td>-0.340418</td>\n",
       "      <td>0.240328</td>\n",
       "      <td>59</td>\n",
       "      <td>...</td>\n",
       "      <td>0.713271</td>\n",
       "      <td>205.039452</td>\n",
       "      <td>0.091213</td>\n",
       "      <td>0.920237</td>\n",
       "      <td>-0.162033</td>\n",
       "      <td>-0.472910</td>\n",
       "      <td>-0.466495</td>\n",
       "      <td>0.202589</td>\n",
       "      <td>0.286453</td>\n",
       "      <td>-0.475563</td>\n",
       "    </tr>\n",
       "  </tbody>\n",
       "</table>\n",
       "<p>5 rows × 65 columns</p>\n",
       "</div>"
      ],
      "text/plain": [
       "        x33       x60         z7          x5      x187      z198      z179  \\\n",
       "0  2.125159  0.829975 -11.235744  -18.839131 -0.142831  0.083006  1.384908   \n",
       "1  2.182643  0.686221  -3.940619  -21.203051 -0.043553  0.091490  1.349197   \n",
       "2  2.190192  0.723032 -13.264658  -83.843508 -0.382891  0.092381  1.383336   \n",
       "3  2.217644 -0.068414  -5.516460 -192.522878 -0.798821  0.083035  1.177507   \n",
       "4  2.159252  0.091039  -7.363883 -188.095799 -0.768613  0.072397  1.176249   \n",
       "\n",
       "        y34      z157  y70    ...          z52          z8       x59  \\\n",
       "0 -0.409492  0.268608   53    ...     0.831800  278.661107  0.817887   \n",
       "1 -0.413598  0.276487   50    ...     0.829928  277.341634  0.716507   \n",
       "2 -0.306314  0.266749   47    ...     0.845767  288.200244  0.665486   \n",
       "3 -0.342101  0.238170   48    ...     0.702556  199.087062  0.165711   \n",
       "4 -0.340418  0.240328   59    ...     0.713271  205.039452  0.091213   \n",
       "\n",
       "       z110      z206       x51       x53      z205      z207       x50  \n",
       "0  0.997451 -0.124054 -0.060533 -0.041361  0.238412 -0.017312 -0.063972  \n",
       "1  0.842617 -0.095541 -0.062938 -0.050803  0.625594 -0.106681 -0.067825  \n",
       "2  1.011875 -0.098799 -0.218701 -0.206849  0.241595  0.045188 -0.221724  \n",
       "3  0.975294 -0.109013 -0.484326 -0.477695  0.365952 -0.026862 -0.486826  \n",
       "4  0.920237 -0.162033 -0.472910 -0.466495  0.202589  0.286453 -0.475563  \n",
       "\n",
       "[5 rows x 65 columns]"
      ]
     },
     "execution_count": 518,
     "metadata": {},
     "output_type": "execute_result"
    }
   ],
   "source": [
    "df_dummies_test_features.head()"
   ]
  },
  {
   "cell_type": "code",
   "execution_count": 521,
   "metadata": {},
   "outputs": [
    {
     "data": {
      "text/plain": [
       "array([[  2.12515912,   0.8299752 , -11.23574384, ...,   0.23841189,\n",
       "         -0.01731152,  -0.06397212],\n",
       "       [  2.18264313,   0.68622087,  -3.94061907, ...,   0.62559431,\n",
       "         -0.10668144,  -0.06782513],\n",
       "       [  2.19019201,   0.72303204, -13.26465836, ...,   0.24159491,\n",
       "          0.04518782,  -0.22172393],\n",
       "       ..., \n",
       "       [  1.47631184,   0.87120002,  -3.78540202, ...,   0.58496773,\n",
       "          0.14780209,  -0.99495059],\n",
       "       [  2.12119914,   0.09392554,  -3.15998845, ...,   1.19872319,\n",
       "          0.29355892,  -1.01595068],\n",
       "       [  2.10275356,   0.38112544,  -3.25430819, ...,   1.24881995,\n",
       "          0.37562866,  -0.99812227]])"
      ]
     },
     "execution_count": 521,
     "metadata": {},
     "output_type": "execute_result"
    }
   ],
   "source": [
    "x_test_features = df_dummies_test_features.as_matrix()\n",
    "x_test_features"
   ]
  },
  {
   "cell_type": "code",
   "execution_count": 522,
   "metadata": {
    "collapsed": true
   },
   "outputs": [],
   "source": [
    "#Make a second RandomForest prediction to submit to Kaggle \n",
    "\n",
    "clf = RandomForestClassifier( class_weight= 'balanced', max_depth= 10, min_samples_split= 6, \n",
    "                             n_estimators= 50, random_state=111)\n",
    "\n",
    "#use 100% of training data for the fit!\n",
    "clf.fit(x_train_features,y)\n",
    "\n",
    "#cutoff value of 0.5\n",
    "preds2 = cutoff_predict(clf,x_test_features,0.5)"
   ]
  },
  {
   "cell_type": "code",
   "execution_count": 524,
   "metadata": {
    "collapsed": true
   },
   "outputs": [],
   "source": [
    "#Second Kaggle submission\n",
    "\n",
    "submission2 = pd.DataFrame( {\n",
    "    \"id\": df_dummies_test_index['index'],\n",
    "    \"output\": preds2\n",
    "})\n",
    "submission2.to_csv('McNutt_Jonathan_2.csv', index=False)"
   ]
  },
  {
   "cell_type": "markdown",
   "metadata": {},
   "source": [
    "My second RandomForest submission nailed a 0.57372, which moved me up 6 spots on the Leaderboard to number 11 out of 21!!  Woohoo!! I would take time to celebrate, but there's more work to be done..."
   ]
  },
  {
   "cell_type": "markdown",
   "metadata": {},
   "source": [
    "For now, let's just jump to a Stacked Model so I can also see how several approaches compare against one another, and (if I have the time), come back to those individually and tune them for separate submissions."
   ]
  },
  {
   "cell_type": "code",
   "execution_count": 525,
   "metadata": {},
   "outputs": [
    {
     "name": "stdout",
     "output_type": "stream",
     "text": [
      "(4584, 675) (3667, 675) (917, 675)\n"
     ]
    }
   ],
   "source": [
    "#Split the full Training data (minus the 'subject' column) into training and test set \n",
    "#  - where the test set is 20% of the total \n",
    "X_train, X_test, Y_train, Y_test = train_test_split(x, y, test_size=.20, random_state=50) \n",
    "print (x.shape, X_train.shape, X_test.shape)"
   ]
  },
  {
   "cell_type": "code",
   "execution_count": 536,
   "metadata": {},
   "outputs": [
    {
     "name": "stdout",
     "output_type": "stream",
     "text": [
      "AUC with RandomForest  :  0.704685927842\n",
      "AUC with QDA  :  0.5\n",
      "AUC with KNN  :  0.657938946385\n",
      "AUC with LogisticRegression  :  0.673063101912\n",
      "AUC with Gaussian Naive Bayes  :  0.55980487279\n"
     ]
    }
   ],
   "source": [
    "#From Section 6 notebook plus Gaussian Naive Bayes classifier\n",
    "estimators = [(\"RandomForest\", RandomForestClassifier(n_estimators=50,max_depth=10,min_samples_split= 6,random_state=50)),\n",
    "              (\"QDA\",QuadraticDiscriminantAnalysis()),\n",
    "              (\"KNN\",KNeighborsClassifier(n_neighbors = 15, weights='distance')),\n",
    "              (\"LogisticRegression\",LogisticRegression(random_state=57)),\n",
    "              (\"Gaussian Naive Bayes\",GaussianNB())\n",
    "             ]\n",
    "for (name, estimator) in estimators:\n",
    "    Y_pred_test = estimator.fit(X_train,Y_train).predict_proba(X_test)\n",
    "    #AUC\n",
    "    fpr, tpr, thresholds = roc_curve(Y_test, Y_pred_test[:, 1])\n",
    "    roc_auc = auc(fpr, tpr)\n",
    "    print(\"AUC with\",name, \" : \" ,roc_auc)"
   ]
  },
  {
   "cell_type": "markdown",
   "metadata": {},
   "source": [
    "So our initial comparison of classifiers WITHOUT tuning (except for RandomForest, I used the previously tuned parameters) shows that RandomForest, by itself, performs better than its competitors.  It's worth doubling back to tune each type of classifier explicitly, so that even if I go with a stacked model for my final Kaggle submission, it will be much, much better (we hope)."
   ]
  },
  {
   "cell_type": "code",
   "execution_count": 537,
   "metadata": {
    "collapsed": true
   },
   "outputs": [],
   "source": [
    "#From Section 6 notebook (plus Naive Bayes)\n",
    "\n",
    "# Build Model1 - Level 0\n",
    "Model1 = RandomForestClassifier(n_estimators=50,max_depth=10,min_samples_split= 6,random_state=50).fit(X_train,Y_train)\n",
    "#Predict on X_train, X_test\n",
    "Model1_pred_test = Model1.predict_proba(X_test)\n",
    "Model1_pred_train = Model1.predict_proba(X_train)\n",
    "\n",
    "# Build Model2 - Level 0\n",
    "Model2 = QuadraticDiscriminantAnalysis().fit(X_train,Y_train)\n",
    "#Predict on X_train, X_test\n",
    "Model2_pred_test = Model2.predict_proba(X_test)\n",
    "Model2_pred_train = Model2.predict_proba(X_train)\n",
    "\n",
    "# Build Model3 - Level 0\n",
    "Model3 = KNeighborsClassifier(n_neighbors=15, weights='distance').fit(X_train,Y_train)\n",
    "#Predict on X_train, X_test\n",
    "Model3_pred_test = Model3.predict_proba(X_test)\n",
    "Model3_pred_train = Model3.predict_proba(X_train)\n",
    "\n",
    "#Build Model4 - Level 0\n",
    "Model4 = GaussianNB().fit(X_train,Y_train)\n",
    "#Predict on X_train, X_test\n",
    "Model4_pred_test = Model4.predict_proba(X_test)\n",
    "Model4_pred_train = Model4.predict_proba(X_train)"
   ]
  },
  {
   "cell_type": "code",
   "execution_count": 538,
   "metadata": {
    "collapsed": true
   },
   "outputs": [],
   "source": [
    "#Model 5 - Level 1 \n",
    "#Creating training attributes for Model5 (based on Model1, Model2, Model3, Model4 )\n",
    "FeaturesTrain1 = np.hstack([Model1_pred_train,Model2_pred_train,Model3_pred_train,Model4_pred_train])  \n",
    "Model5 = LogisticRegression(random_state=50).fit(FeaturesTrain1,Y_train)"
   ]
  },
  {
   "cell_type": "code",
   "execution_count": 539,
   "metadata": {},
   "outputs": [
    {
     "data": {
      "text/plain": [
       "(3667, 8)"
      ]
     },
     "execution_count": 539,
     "metadata": {},
     "output_type": "execute_result"
    }
   ],
   "source": [
    "FeaturesTrain1.shape"
   ]
  },
  {
   "cell_type": "code",
   "execution_count": 541,
   "metadata": {},
   "outputs": [
    {
     "name": "stdout",
     "output_type": "stream",
     "text": [
      "AUC with Stacking:  0.681974989219\n"
     ]
    }
   ],
   "source": [
    "#Creating test attributes for Model5 (based on Model1, Model2, Model3, Model4)\n",
    "FeaturesTest1 = np.hstack([Model1_pred_test,Model2_pred_test,Model3_pred_test,Model4_pred_test])\n",
    "\n",
    "#Final predictions\n",
    "final_pred = Model5.predict_proba(FeaturesTest1)\n",
    "\n",
    "#AUC\n",
    "fpr, tpr, thresholds = roc_curve(Y_test, final_pred[:, 1])\n",
    "roc_auc = auc(fpr, tpr)\n",
    "print(\"AUC with Stacking: \" , roc_auc)\n"
   ]
  },
  {
   "cell_type": "markdown",
   "metadata": {},
   "source": [
    "First Stacked Model is not so bad, but not better than RandomForest tuned by itself, although we did not yet tune each individual classifier, so the stacked model has a ways to go before \"maxing\" out as far as our efforts are concerned.  \n",
    "\n",
    "For now, let's next try just the reduced features training data matrix as defined previously \"x_train_features\" and try the \"vanilla\" stacked model approach again."
   ]
  },
  {
   "cell_type": "code",
   "execution_count": 542,
   "metadata": {},
   "outputs": [
    {
     "name": "stdout",
     "output_type": "stream",
     "text": [
      "(4584, 675) (3667, 65) (917, 65)\n"
     ]
    }
   ],
   "source": [
    "#Split the full Training data (minus the 'subject' column) into training and test set \n",
    "#  - where the test set is 20% of the total \n",
    "X_train, X_test, Y_train, Y_test = train_test_split(x_train_features, y, test_size=.20, random_state=50) \n",
    "print (x.shape, X_train.shape, X_test.shape)"
   ]
  },
  {
   "cell_type": "code",
   "execution_count": 543,
   "metadata": {},
   "outputs": [
    {
     "name": "stdout",
     "output_type": "stream",
     "text": [
      "AUC with RandomForest  :  0.748391907431\n",
      "AUC with QDA  :  0.581118837142\n",
      "AUC with KNN  :  0.686722904988\n",
      "AUC with LogisticRegression  :  0.692899238177\n",
      "AUC with Gaussian Naive Bayes  :  0.577040211298\n"
     ]
    }
   ],
   "source": [
    "#From Section 6 notebook plus Gaussian Naive Bayes classifier\n",
    "estimators = [(\"RandomForest\", RandomForestClassifier(n_estimators=50,max_depth=10,min_samples_split= 6,random_state=50)),\n",
    "              (\"QDA\",QuadraticDiscriminantAnalysis()),\n",
    "              (\"KNN\",KNeighborsClassifier(n_neighbors = 15, weights='distance')),\n",
    "              (\"LogisticRegression\",LogisticRegression(random_state=57)),\n",
    "              (\"Gaussian Naive Bayes\",GaussianNB())\n",
    "             ]\n",
    "for (name, estimator) in estimators:\n",
    "    Y_pred_test = estimator.fit(X_train,Y_train).predict_proba(X_test)\n",
    "    #AUC\n",
    "    fpr, tpr, thresholds = roc_curve(Y_test, Y_pred_test[:, 1])\n",
    "    roc_auc = auc(fpr, tpr)\n",
    "    print(\"AUC with\",name, \" : \" ,roc_auc)"
   ]
  },
  {
   "cell_type": "markdown",
   "metadata": {},
   "source": [
    "All individual models did better with only the paired-down feature-importance training data! So then let's continue with this new stacked model and see how we do."
   ]
  },
  {
   "cell_type": "code",
   "execution_count": 544,
   "metadata": {
    "collapsed": true
   },
   "outputs": [],
   "source": [
    "#From Section 6 notebook (plus Naive Bayes)\n",
    "\n",
    "# Build Model1 - Level 0\n",
    "Model1 = RandomForestClassifier(n_estimators=50,max_depth=10,min_samples_split= 6,random_state=50).fit(X_train,Y_train)\n",
    "#Predict on X_train, X_test\n",
    "Model1_pred_test = Model1.predict_proba(X_test)\n",
    "Model1_pred_train = Model1.predict_proba(X_train)\n",
    "\n",
    "# Build Model2 - Level 0\n",
    "Model2 = QuadraticDiscriminantAnalysis().fit(X_train,Y_train)\n",
    "#Predict on X_train, X_test\n",
    "Model2_pred_test = Model2.predict_proba(X_test)\n",
    "Model2_pred_train = Model2.predict_proba(X_train)\n",
    "\n",
    "# Build Model3 - Level 0\n",
    "Model3 = KNeighborsClassifier(n_neighbors=15, weights='distance').fit(X_train,Y_train)\n",
    "#Predict on X_train, X_test\n",
    "Model3_pred_test = Model3.predict_proba(X_test)\n",
    "Model3_pred_train = Model3.predict_proba(X_train)\n",
    "\n",
    "#Build Model4 - Level 0\n",
    "Model4 = GaussianNB().fit(X_train,Y_train)\n",
    "#Predict on X_train, X_test\n",
    "Model4_pred_test = Model4.predict_proba(X_test)\n",
    "Model4_pred_train = Model4.predict_proba(X_train)"
   ]
  },
  {
   "cell_type": "code",
   "execution_count": 545,
   "metadata": {
    "collapsed": true
   },
   "outputs": [],
   "source": [
    "#Model 5 - Level 1 \n",
    "#Creating training attributes for Model5 (based on Model1, Model2, Model3, Model4 )\n",
    "FeaturesTrain1 = np.hstack([Model1_pred_train,Model2_pred_train,Model3_pred_train,Model4_pred_train])  \n",
    "Model5 = LogisticRegression(random_state=50).fit(FeaturesTrain1,Y_train)"
   ]
  },
  {
   "cell_type": "code",
   "execution_count": 546,
   "metadata": {},
   "outputs": [
    {
     "name": "stdout",
     "output_type": "stream",
     "text": [
      "AUC with Stacking:  0.706491663073\n"
     ]
    }
   ],
   "source": [
    "#SECOND stacked model:\n",
    "\n",
    "#Creating test attributes for Model5 (based on Model1, Model2, Model3, Model4)\n",
    "FeaturesTest1 = np.hstack([Model1_pred_test,Model2_pred_test,Model3_pred_test,Model4_pred_test])\n",
    "\n",
    "#Final predictions\n",
    "final_pred = Model5.predict_proba(FeaturesTest1)\n",
    "\n",
    "#AUC\n",
    "fpr, tpr, thresholds = roc_curve(Y_test, final_pred[:, 1])\n",
    "roc_auc = auc(fpr, tpr)\n",
    "print(\"AUC with Stacking: \" , roc_auc)\n",
    "\n"
   ]
  },
  {
   "cell_type": "markdown",
   "metadata": {},
   "source": [
    "Great, we did see some improvement with limiting the feature space, from 68% to 70% AUC. Just for good measure, try stacking again but this time only predicting based on the state and phase dummy variables. Who knows, it might be more useful than the x, y, and z-coordinates?? Only testing will tell."
   ]
  },
  {
   "cell_type": "code",
   "execution_count": 551,
   "metadata": {},
   "outputs": [
    {
     "data": {
      "text/html": [
       "<div>\n",
       "<style>\n",
       "    .dataframe thead tr:only-child th {\n",
       "        text-align: right;\n",
       "    }\n",
       "\n",
       "    .dataframe thead th {\n",
       "        text-align: left;\n",
       "    }\n",
       "\n",
       "    .dataframe tbody tr th {\n",
       "        vertical-align: top;\n",
       "    }\n",
       "</style>\n",
       "<table border=\"1\" class=\"dataframe\">\n",
       "  <thead>\n",
       "    <tr style=\"text-align: right;\">\n",
       "      <th></th>\n",
       "      <th>state_A</th>\n",
       "      <th>state_B</th>\n",
       "      <th>state_C</th>\n",
       "      <th>state_D</th>\n",
       "      <th>state_E</th>\n",
       "      <th>phase_1</th>\n",
       "      <th>phase_2</th>\n",
       "      <th>phase_3</th>\n",
       "      <th>phase_4</th>\n",
       "    </tr>\n",
       "  </thead>\n",
       "  <tbody>\n",
       "    <tr>\n",
       "      <th>0</th>\n",
       "      <td>0</td>\n",
       "      <td>1</td>\n",
       "      <td>0</td>\n",
       "      <td>0</td>\n",
       "      <td>0</td>\n",
       "      <td>0</td>\n",
       "      <td>0</td>\n",
       "      <td>1</td>\n",
       "      <td>0</td>\n",
       "    </tr>\n",
       "    <tr>\n",
       "      <th>1</th>\n",
       "      <td>0</td>\n",
       "      <td>0</td>\n",
       "      <td>1</td>\n",
       "      <td>0</td>\n",
       "      <td>0</td>\n",
       "      <td>0</td>\n",
       "      <td>0</td>\n",
       "      <td>1</td>\n",
       "      <td>0</td>\n",
       "    </tr>\n",
       "    <tr>\n",
       "      <th>2</th>\n",
       "      <td>0</td>\n",
       "      <td>1</td>\n",
       "      <td>0</td>\n",
       "      <td>0</td>\n",
       "      <td>0</td>\n",
       "      <td>0</td>\n",
       "      <td>0</td>\n",
       "      <td>1</td>\n",
       "      <td>0</td>\n",
       "    </tr>\n",
       "    <tr>\n",
       "      <th>3</th>\n",
       "      <td>1</td>\n",
       "      <td>0</td>\n",
       "      <td>0</td>\n",
       "      <td>0</td>\n",
       "      <td>0</td>\n",
       "      <td>0</td>\n",
       "      <td>0</td>\n",
       "      <td>1</td>\n",
       "      <td>0</td>\n",
       "    </tr>\n",
       "    <tr>\n",
       "      <th>4</th>\n",
       "      <td>0</td>\n",
       "      <td>0</td>\n",
       "      <td>1</td>\n",
       "      <td>0</td>\n",
       "      <td>0</td>\n",
       "      <td>0</td>\n",
       "      <td>0</td>\n",
       "      <td>0</td>\n",
       "      <td>1</td>\n",
       "    </tr>\n",
       "  </tbody>\n",
       "</table>\n",
       "</div>"
      ],
      "text/plain": [
       "   state_A  state_B  state_C  state_D  state_E  phase_1  phase_2  phase_3  \\\n",
       "0        0        1        0        0        0        0        0        1   \n",
       "1        0        0        1        0        0        0        0        1   \n",
       "2        0        1        0        0        0        0        0        1   \n",
       "3        1        0        0        0        0        0        0        1   \n",
       "4        0        0        1        0        0        0        0        0   \n",
       "\n",
       "   phase_4  \n",
       "0        0  \n",
       "1        0  \n",
       "2        0  \n",
       "3        0  \n",
       "4        1  "
      ]
     },
     "execution_count": 551,
     "metadata": {},
     "output_type": "execute_result"
    }
   ],
   "source": [
    "#reduce the training data predictors to ONLY state and phase dummy variables\n",
    "df_state_phase_only = df_dummies_train[df_dummies_train.columns[-9:]]\n",
    "df_state_phase_only.head()"
   ]
  },
  {
   "cell_type": "code",
   "execution_count": 552,
   "metadata": {},
   "outputs": [
    {
     "data": {
      "text/plain": [
       "array([[0, 1, 0, ..., 0, 1, 0],\n",
       "       [0, 0, 1, ..., 0, 1, 0],\n",
       "       [0, 1, 0, ..., 0, 1, 0],\n",
       "       ..., \n",
       "       [0, 1, 0, ..., 0, 0, 1],\n",
       "       [0, 0, 1, ..., 0, 0, 1],\n",
       "       [0, 0, 1, ..., 0, 0, 1]], dtype=uint8)"
      ]
     },
     "execution_count": 552,
     "metadata": {},
     "output_type": "execute_result"
    }
   ],
   "source": [
    "#get matrix form of state and phase dummy variable predictor dataframe\n",
    "x_state_phase_only = df_state_phase_only.as_matrix()\n",
    "x_state_phase_only"
   ]
  },
  {
   "cell_type": "code",
   "execution_count": 553,
   "metadata": {},
   "outputs": [
    {
     "name": "stdout",
     "output_type": "stream",
     "text": [
      "(4584, 675) (3667, 9) (917, 9)\n"
     ]
    }
   ],
   "source": [
    "#Try 3rd stacked model approach again with this new reduced state and phase only predictor matrix\n",
    "\n",
    "#Split the full Training data (minus the 'subject' column) into training and test set \n",
    "#  - where the test set is 20% of the total \n",
    "X_train, X_test, Y_train, Y_test = train_test_split(x_state_phase_only, y, test_size=.20, random_state=50) \n",
    "print (x.shape, X_train.shape, X_test.shape)"
   ]
  },
  {
   "cell_type": "code",
   "execution_count": 554,
   "metadata": {},
   "outputs": [
    {
     "name": "stdout",
     "output_type": "stream",
     "text": [
      "AUC with RandomForest  :  0.582906604858\n",
      "AUC with QDA  :  0.509828230559\n",
      "AUC with KNN  :  0.494394135403\n",
      "AUC with LogisticRegression  :  0.573913863734\n",
      "AUC with Gaussian Naive Bayes  :  0.572179998563\n"
     ]
    }
   ],
   "source": [
    "#From Section 6 notebook plus Gaussian Naive Bayes classifier\n",
    "estimators = [(\"RandomForest\", RandomForestClassifier(n_estimators=50,max_depth=10,min_samples_split= 6,random_state=50)),\n",
    "              (\"QDA\",QuadraticDiscriminantAnalysis()),\n",
    "              (\"KNN\",KNeighborsClassifier(n_neighbors = 15, weights='distance')),\n",
    "              (\"LogisticRegression\",LogisticRegression(random_state=57)),\n",
    "              (\"Gaussian Naive Bayes\",GaussianNB())\n",
    "             ]\n",
    "for (name, estimator) in estimators:\n",
    "    Y_pred_test = estimator.fit(X_train,Y_train).predict_proba(X_test)\n",
    "    #AUC\n",
    "    fpr, tpr, thresholds = roc_curve(Y_test, Y_pred_test[:, 1])\n",
    "    roc_auc = auc(fpr, tpr)\n",
    "    print(\"AUC with\",name, \" : \" ,roc_auc)"
   ]
  },
  {
   "cell_type": "markdown",
   "metadata": {},
   "source": [
    "OK, ok, so I'm convinced now that we DO need at least SOME of the x,y,z coordinates for a better model.  No need to go further with the stacked model process for this predictor matrix."
   ]
  },
  {
   "cell_type": "markdown",
   "metadata": {},
   "source": [
    "Let's go for Stacked Model approach try number 4, which will be reducing the types of classifiers used at the base level, culling the underperforming classifiers and seeing how much difference it makes in the end."
   ]
  },
  {
   "cell_type": "code",
   "execution_count": 555,
   "metadata": {},
   "outputs": [
    {
     "name": "stdout",
     "output_type": "stream",
     "text": [
      "(4584, 675) (3667, 675) (917, 675)\n"
     ]
    }
   ],
   "source": [
    "#Stacked approach 4th try: full training predictor space again\n",
    "\n",
    "#Split the full Training data (minus the 'subject' column) into training and test set \n",
    "#  - where the test set is 20% of the total \n",
    "X_train, X_test, Y_train, Y_test = train_test_split(x, y, test_size=.20, random_state=50) \n",
    "print (x.shape, X_train.shape, X_test.shape)"
   ]
  },
  {
   "cell_type": "code",
   "execution_count": 557,
   "metadata": {},
   "outputs": [
    {
     "name": "stdout",
     "output_type": "stream",
     "text": [
      "AUC with RandomForest  :  0.704685927842\n",
      "AUC with KNN  :  0.65549985626\n",
      "AUC with LogisticRegression  :  0.673063101912\n"
     ]
    }
   ],
   "source": [
    "#Remove Gaussian Naive Bayes, and QDA\n",
    "estimators = [(\"RandomForest\", RandomForestClassifier(n_estimators=50,max_depth=10,min_samples_split= 6,random_state=50)),\n",
    "              (\"KNN\",KNeighborsClassifier(n_neighbors = 15, weights='distance')),\n",
    "              (\"LogisticRegression\",LogisticRegression(random_state=57)),\n",
    "             ]\n",
    "for (name, estimator) in estimators:\n",
    "    Y_pred_test = estimator.fit(X_train,Y_train).predict_proba(X_test)\n",
    "    #AUC\n",
    "    fpr, tpr, thresholds = roc_curve(Y_test, Y_pred_test[:, 1])\n",
    "    roc_auc = auc(fpr, tpr)\n",
    "    print(\"AUC with\",name, \" : \" ,roc_auc)"
   ]
  },
  {
   "cell_type": "code",
   "execution_count": 558,
   "metadata": {
    "collapsed": true
   },
   "outputs": [],
   "source": [
    "#Build the Base level model with only two classifiers this time\n",
    "\n",
    "# Build Model1 - Level 0\n",
    "Model1 = RandomForestClassifier(n_estimators=50,max_depth=10,min_samples_split= 6,random_state=50).fit(X_train,Y_train)\n",
    "#Predict on X_train, X_test\n",
    "Model1_pred_test = Model1.predict_proba(X_test)\n",
    "Model1_pred_train = Model1.predict_proba(X_train)\n",
    "\n",
    "# Build Model2 - Level 0\n",
    "Model2 = KNeighborsClassifier(n_neighbors=15, weights='distance').fit(X_train,Y_train)\n",
    "#Predict on X_train, X_test\n",
    "Model2_pred_test = Model2.predict_proba(X_test)\n",
    "Model2_pred_train = Model2.predict_proba(X_train)\n"
   ]
  },
  {
   "cell_type": "code",
   "execution_count": 559,
   "metadata": {
    "collapsed": true
   },
   "outputs": [],
   "source": [
    "#Model 3 - Level 1 \n",
    "#Creating training attributes for Model3 (based on Model1 and Model2 )\n",
    "FeaturesTrain1 = np.hstack([Model1_pred_train,Model2_pred_train])  \n",
    "Model3 = LogisticRegression(random_state=50).fit(FeaturesTrain1,Y_train)"
   ]
  },
  {
   "cell_type": "code",
   "execution_count": 560,
   "metadata": {},
   "outputs": [
    {
     "name": "stdout",
     "output_type": "stream",
     "text": [
      "AUC with Stacking:  0.682136696852\n"
     ]
    }
   ],
   "source": [
    "#Fourth stacked model:\n",
    "\n",
    "#Creating test attributes for Model3 (based on Model1, Model2)\n",
    "FeaturesTest1 = np.hstack([Model1_pred_test,Model2_pred_test])\n",
    "\n",
    "#Final predictions\n",
    "final_pred = Model3.predict_proba(FeaturesTest1)\n",
    "\n",
    "#AUC\n",
    "fpr, tpr, thresholds = roc_curve(Y_test, final_pred[:, 1])\n",
    "roc_auc = auc(fpr, tpr)\n",
    "print(\"AUC with Stacking: \" , roc_auc)\n"
   ]
  },
  {
   "cell_type": "markdown",
   "metadata": {},
   "source": [
    "Clearly, this fourth stacked model is only slightly better than our 1st stacked model utilizing the full training data predictor space (minus 'subject' as always). To me, that means that it is time to try and tune some of the hyperparameters in order to see more significant gains in performance with this approach."
   ]
  },
  {
   "cell_type": "markdown",
   "metadata": {},
   "source": [
    "Let's try XGBoost, maybe that will give us something new and shiny to use in our stacked model (eventually)."
   ]
  },
  {
   "cell_type": "code",
   "execution_count": 561,
   "metadata": {},
   "outputs": [
    {
     "name": "stdout",
     "output_type": "stream",
     "text": [
      "(4584, 675) (3667, 675) (917, 675)\n"
     ]
    }
   ],
   "source": [
    "#Split the full Training data (minus the 'subject' column) into training and test set \n",
    "#  - where the test set is 20% of the total \n",
    "X_train, X_test, Y_train, Y_test = train_test_split(x, y, test_size=.20, random_state=22) \n",
    "print (x.shape, X_train.shape, X_test.shape)"
   ]
  },
  {
   "cell_type": "code",
   "execution_count": 568,
   "metadata": {},
   "outputs": [
    {
     "data": {
      "text/plain": [
       "'0.6'"
      ]
     },
     "execution_count": 568,
     "metadata": {},
     "output_type": "execute_result"
    }
   ],
   "source": [
    "xgb.__version__"
   ]
  },
  {
   "cell_type": "code",
   "execution_count": 569,
   "metadata": {},
   "outputs": [
    {
     "data": {
      "text/plain": [
       "XGBClassifier(base_score=0.5, colsample_bylevel=1, colsample_bytree=1,\n",
       "       gamma=0, learning_rate=0.1, max_delta_step=0, max_depth=3,\n",
       "       min_child_weight=1, missing=None, n_estimators=100, nthread=-1,\n",
       "       objective='binary:logistic', reg_alpha=0, reg_lambda=1,\n",
       "       scale_pos_weight=1, seed=0, silent=True, subsample=1)"
      ]
     },
     "execution_count": 569,
     "metadata": {},
     "output_type": "execute_result"
    }
   ],
   "source": [
    "xb_mod_1 = xgb.XGBClassifier()\n",
    "xb_mod_1.fit(X_train,Y_train)"
   ]
  },
  {
   "cell_type": "code",
   "execution_count": 570,
   "metadata": {},
   "outputs": [
    {
     "name": "stdout",
     "output_type": "stream",
     "text": [
      "Accuracy: 83.75136%\n"
     ]
    }
   ],
   "source": [
    "#accuracy score before tuning XGBoost model\n",
    "y_pred = xb_mod_1.predict(X_test)\n",
    "\n",
    "accuracy = accuracy_score(Y_test,y_pred)\n",
    "print(\"Accuracy: %.5f%%\" %  (accuracy * 100.0))"
   ]
  },
  {
   "cell_type": "markdown",
   "metadata": {},
   "source": [
    "First try for XGBoost is not bad, but again, since 84% of the training observations are '1', this is not exactly impressive yet. Let's continue."
   ]
  },
  {
   "cell_type": "code",
   "execution_count": 571,
   "metadata": {},
   "outputs": [
    {
     "data": {
      "text/plain": [
       "{'learning_rate': [0.1, 0.5, 0.01, 0.05], 'n_estimators': [30, 50, 100, 200]}"
      ]
     },
     "execution_count": 571,
     "metadata": {},
     "output_type": "execute_result"
    }
   ],
   "source": [
    "n_estimators = [ 30, 50, 100, 200]  \n",
    "learning_rate = [0.1, 0.5, 0.01, 0.05]  \n",
    "\n",
    "param_grid1 = {'learning_rate':learning_rate, 'n_estimators':n_estimators}\n",
    "param_grid1"
   ]
  },
  {
   "cell_type": "code",
   "execution_count": 572,
   "metadata": {},
   "outputs": [
    {
     "name": "stdout",
     "output_type": "stream",
     "text": [
      "Fitting 3 folds for each of 16 candidates, totalling 48 fits\n"
     ]
    },
    {
     "name": "stderr",
     "output_type": "stream",
     "text": [
      "[Parallel(n_jobs=1)]: Done  48 out of  48 | elapsed:  3.4min finished\n"
     ]
    },
    {
     "data": {
      "text/plain": [
       "GridSearchCV(cv=None, error_score='raise',\n",
       "       estimator=XGBClassifier(base_score=0.5, colsample_bylevel=1, colsample_bytree=1,\n",
       "       gamma=0, learning_rate=0.1, max_delta_step=0, max_depth=3,\n",
       "       min_child_weight=1, missing=None, n_estimators=100, nthread=-1,\n",
       "       objective='binary:logistic', reg_alpha=0, reg_lambda=1,\n",
       "       scale_pos_weight=1, seed=0, silent=True, subsample=1),\n",
       "       fit_params={}, iid=True, n_jobs=1,\n",
       "       param_grid={'learning_rate': [0.1, 0.5, 0.01, 0.05], 'n_estimators': [30, 50, 100, 200]},\n",
       "       pre_dispatch='2*n_jobs', refit=True, return_train_score=True,\n",
       "       scoring='accuracy', verbose=1)"
      ]
     },
     "execution_count": 572,
     "metadata": {},
     "output_type": "execute_result"
    }
   ],
   "source": [
    "#2nd try XGBoost model ( took 3.4 minutes!!! yikes! )\n",
    "\n",
    "xb_mod_2 = xgb.XGBClassifier()\n",
    "grid_search = GridSearchCV(xb_mod_2,param_grid=param_grid1, scoring=\"accuracy\", verbose=1 )\n",
    "grid_search.fit(X_train, Y_train) #Default 3 folds"
   ]
  },
  {
   "cell_type": "code",
   "execution_count": 573,
   "metadata": {},
   "outputs": [
    {
     "name": "stdout",
     "output_type": "stream",
     "text": [
      "0.851649850014\n",
      "{'learning_rate': 0.05, 'n_estimators': 200}\n"
     ]
    }
   ],
   "source": [
    "print(grid_search.best_score_)\n",
    "print(grid_search.best_params_) "
   ]
  },
  {
   "cell_type": "code",
   "execution_count": 575,
   "metadata": {},
   "outputs": [
    {
     "name": "stdout",
     "output_type": "stream",
     "text": [
      "Accuracy: 83.86041%\n"
     ]
    }
   ],
   "source": [
    "#XGBoost model 3\n",
    "xb_mod_3 = xgb.XGBClassifier(learning_rate=0.05,n_estimators=200,seed=123).fit(X_train,Y_train)\n",
    "\n",
    "y_pred = xb_mod_3.predict(X_test)\n",
    "#evaluate predictions\n",
    "accuracy = accuracy_score(Y_test, y_pred)\n",
    "print(\"Accuracy: %.5f%%\" % (accuracy * 100.0)) "
   ]
  },
  {
   "cell_type": "markdown",
   "metadata": {},
   "source": [
    "Well, 83.86% IS better than 83.75%, but not for stealing 3 and half minutes of my life waiting for GridSearch to complete...\n",
    "\n",
    "Let's just move on for now to the XGBoost Feature Importance plot to see what else we can mess with..."
   ]
  },
  {
   "cell_type": "code",
   "execution_count": 577,
   "metadata": {},
   "outputs": [
    {
     "data": {
      "text/plain": [
       "array([ 0.        ,  0.        ,  0.        ,  0.        ,  0.00152439,\n",
       "        0.00304878,  0.00685976,  0.00838415,  0.        ,  0.00304878,\n",
       "        0.00228659,  0.        ,  0.        ,  0.        ,  0.00228659,\n",
       "        0.        ,  0.        ,  0.00228659,  0.        ,  0.        ,\n",
       "        0.        ,  0.0007622 ,  0.        ,  0.00990854,  0.        ,\n",
       "        0.0007622 ,  0.        ,  0.        ,  0.        ,  0.        ,\n",
       "        0.        ,  0.        ,  0.00685976,  0.0160061 ,  0.00457317,\n",
       "        0.0007622 ,  0.0007622 ,  0.0007622 ,  0.        ,  0.        ,\n",
       "        0.        ,  0.        ,  0.        ,  0.        ,  0.        ,\n",
       "        0.        ,  0.        ,  0.        ,  0.00304878,  0.00457317,\n",
       "        0.00381098,  0.00152439,  0.        ,  0.00152439,  0.00228659,\n",
       "        0.        ,  0.        ,  0.00990854,  0.00762195,  0.        ,\n",
       "        0.00762195,  0.00152439,  0.0007622 ,  0.0007622 ,  0.0007622 ,\n",
       "        0.00457317,  0.        ,  0.        ,  0.0007622 ,  0.        ,\n",
       "        0.        ,  0.        ,  0.        ,  0.        ,  0.00685976,\n",
       "        0.00304878,  0.        ,  0.0007622 ,  0.00228659,  0.        ,\n",
       "        0.        ,  0.00685976,  0.00762195,  0.0007622 ,  0.0007622 ,\n",
       "        0.        ,  0.        ,  0.        ,  0.        ,  0.00457317,\n",
       "        0.        ,  0.        ,  0.        ,  0.        ,  0.        ,\n",
       "        0.        ,  0.        ,  0.        ,  0.        ,  0.00152439,\n",
       "        0.        ,  0.        ,  0.        ,  0.        ,  0.        ,\n",
       "        0.00228659,  0.00228659,  0.0007622 ,  0.0007622 ,  0.        ,\n",
       "        0.00228659,  0.00990854,  0.        ,  0.        ,  0.        ,\n",
       "        0.        ,  0.        ,  0.        ,  0.        ,  0.        ,\n",
       "        0.        ,  0.        ,  0.        ,  0.        ,  0.        ,\n",
       "        0.        ,  0.        ,  0.        ,  0.        ,  0.        ,\n",
       "        0.        ,  0.        ,  0.00381098,  0.        ,  0.        ,\n",
       "        0.        ,  0.        ,  0.0007622 ,  0.        ,  0.00228659,\n",
       "        0.00152439,  0.        ,  0.        ,  0.00381098,  0.00152439,\n",
       "        0.        ,  0.00304878,  0.00152439,  0.00457317,  0.00304878,\n",
       "        0.        ,  0.00152439,  0.0007622 ,  0.0007622 ,  0.0007622 ,\n",
       "        0.0007622 ,  0.00152439,  0.0007622 ,  0.        ,  0.        ,\n",
       "        0.0007622 ,  0.        ,  0.        ,  0.        ,  0.0007622 ,\n",
       "        0.0007622 ,  0.        ,  0.0007622 ,  0.00152439,  0.        ,\n",
       "        0.00228659,  0.        ,  0.00914634,  0.00381098,  0.0007622 ,\n",
       "        0.        ,  0.00228659,  0.        ,  0.00381098,  0.        ,\n",
       "        0.0007622 ,  0.        ,  0.        ,  0.        ,  0.0007622 ,\n",
       "        0.        ,  0.        ,  0.00152439,  0.00152439,  0.        ,\n",
       "        0.0007622 ,  0.00228659,  0.00609756,  0.        ,  0.        ,\n",
       "        0.        ,  0.00304878,  0.        ,  0.00152439,  0.        ,\n",
       "        0.00228659,  0.0007622 ,  0.00533537,  0.00533537,  0.00533537,\n",
       "        0.00228659,  0.0007622 ,  0.00457317,  0.00609756,  0.00152439,\n",
       "        0.0007622 ,  0.00152439,  0.0007622 ,  0.00152439,  0.00152439,\n",
       "        0.00152439,  0.00533537,  0.        ,  0.0007622 ,  0.        ,\n",
       "        0.00685976,  0.00304878,  0.        ,  0.        ,  0.        ,\n",
       "        0.        ,  0.00533537,  0.00152439,  0.00228659,  0.00762195,\n",
       "        0.0007622 ,  0.0007622 ,  0.00457317,  0.        ,  0.        ,\n",
       "        0.        ,  0.        ,  0.        ,  0.00152439,  0.00762195,\n",
       "        0.        ,  0.00152439,  0.        ,  0.00304878,  0.        ,\n",
       "        0.00304878,  0.        ,  0.00381098,  0.        ,  0.        ,\n",
       "        0.        ,  0.        ,  0.        ,  0.        ,  0.        ,\n",
       "        0.00304878,  0.00152439,  0.01143293,  0.        ,  0.        ,\n",
       "        0.        ,  0.        ,  0.        ,  0.        ,  0.        ,\n",
       "        0.        ,  0.        ,  0.        ,  0.        ,  0.        ,\n",
       "        0.00457317,  0.00152439,  0.0007622 ,  0.00152439,  0.00457317,\n",
       "        0.00304878,  0.00228659,  0.00457317,  0.        ,  0.0007622 ,\n",
       "        0.00152439,  0.        ,  0.        ,  0.00685976,  0.00152439,\n",
       "        0.        ,  0.0007622 ,  0.00228659,  0.00152439,  0.        ,\n",
       "        0.00457317,  0.01219512,  0.00457317,  0.        ,  0.        ,\n",
       "        0.        ,  0.00533537,  0.00609756,  0.        ,  0.00685976,\n",
       "        0.00457317,  0.        ,  0.        ,  0.        ,  0.00381098,\n",
       "        0.00457317,  0.00381098,  0.        ,  0.        ,  0.00152439,\n",
       "        0.00533537,  0.        ,  0.        ,  0.        ,  0.        ,\n",
       "        0.0007622 ,  0.        ,  0.        ,  0.        ,  0.        ,\n",
       "        0.        ,  0.00533537,  0.        ,  0.        ,  0.        ,\n",
       "        0.        ,  0.        ,  0.        ,  0.00304878,  0.        ,\n",
       "        0.00228659,  0.00152439,  0.00152439,  0.        ,  0.        ,\n",
       "        0.        ,  0.        ,  0.        ,  0.        ,  0.        ,\n",
       "        0.        ,  0.        ,  0.        ,  0.        ,  0.        ,\n",
       "        0.        ,  0.        ,  0.        ,  0.        ,  0.        ,\n",
       "        0.        ,  0.        ,  0.        ,  0.        ,  0.        ,\n",
       "        0.        ,  0.        ,  0.00152439,  0.0007622 ,  0.0007622 ,\n",
       "        0.        ,  0.0007622 ,  0.0007622 ,  0.00381098,  0.00228659,\n",
       "        0.0007622 ,  0.00457317,  0.        ,  0.        ,  0.        ,\n",
       "        0.        ,  0.0007622 ,  0.        ,  0.        ,  0.        ,\n",
       "        0.00152439,  0.0007622 ,  0.        ,  0.        ,  0.        ,\n",
       "        0.        ,  0.        ,  0.        ,  0.        ,  0.        ,\n",
       "        0.00152439,  0.00304878,  0.        ,  0.        ,  0.        ,\n",
       "        0.00228659,  0.        ,  0.00152439,  0.        ,  0.0007622 ,\n",
       "        0.        ,  0.        ,  0.        ,  0.        ,  0.        ,\n",
       "        0.0007622 ,  0.        ,  0.        ,  0.        ,  0.        ,\n",
       "        0.        ,  0.00152439,  0.        ,  0.        ,  0.        ,\n",
       "        0.0007622 ,  0.        ,  0.        ,  0.        ,  0.        ,\n",
       "        0.00228659,  0.        ,  0.        ,  0.00228659,  0.00457317,\n",
       "        0.        ,  0.        ,  0.        ,  0.00304878,  0.00228659,\n",
       "        0.00228659,  0.00457317,  0.00762195,  0.00152439,  0.00152439,\n",
       "        0.00228659,  0.0007622 ,  0.00304878,  0.        ,  0.00152439,\n",
       "        0.0007622 ,  0.00685976,  0.00152439,  0.        ,  0.00152439,\n",
       "        0.00304878,  0.        ,  0.00762195,  0.00381098,  0.        ,\n",
       "        0.        ,  0.        ,  0.        ,  0.00228659,  0.00152439,\n",
       "        0.01143293,  0.01371951,  0.00152439,  0.00838415,  0.00762195,\n",
       "        0.0007622 ,  0.        ,  0.        ,  0.00152439,  0.        ,\n",
       "        0.00381098,  0.0007622 ,  0.        ,  0.0007622 ,  0.00838415,\n",
       "        0.00228659,  0.        ,  0.00152439,  0.        ,  0.0007622 ,\n",
       "        0.        ,  0.        ,  0.        ,  0.        ,  0.00228659,\n",
       "        0.        ,  0.00457317,  0.00228659,  0.00457317,  0.00533537,\n",
       "        0.00228659,  0.        ,  0.        ,  0.        ,  0.        ,\n",
       "        0.        ,  0.        ,  0.        ,  0.        ,  0.        ,\n",
       "        0.        ,  0.        ,  0.00533537,  0.00152439,  0.        ,\n",
       "        0.0007622 ,  0.        ,  0.00533537,  0.00609756,  0.0007622 ,\n",
       "        0.        ,  0.01371951,  0.00533537,  0.0007622 ,  0.0007622 ,\n",
       "        0.        ,  0.00457317,  0.00457317,  0.        ,  0.00457317,\n",
       "        0.0007622 ,  0.00685976,  0.00838415,  0.00381098,  0.00152439,\n",
       "        0.        ,  0.        ,  0.        ,  0.00685976,  0.00228659,\n",
       "        0.00152439,  0.        ,  0.00228659,  0.        ,  0.        ,\n",
       "        0.00381098,  0.00228659,  0.        ,  0.00533537,  0.        ,\n",
       "        0.        ,  0.00685976,  0.        ,  0.00228659,  0.        ,\n",
       "        0.        ,  0.        ,  0.00457317,  0.00304878,  0.        ,\n",
       "        0.        ,  0.        ,  0.        ,  0.00304878,  0.        ,\n",
       "        0.        ,  0.        ,  0.        ,  0.        ,  0.        ,\n",
       "        0.00914634,  0.        ,  0.00228659,  0.        ,  0.00685976,\n",
       "        0.00304878,  0.        ,  0.        ,  0.        ,  0.        ,\n",
       "        0.        ,  0.        ,  0.        ,  0.        ,  0.        ,\n",
       "        0.        ,  0.        ,  0.        ,  0.        ,  0.        ,\n",
       "        0.        ,  0.        ,  0.        ,  0.        ,  0.        ,\n",
       "        0.        ,  0.        ,  0.0007622 ,  0.0007622 ,  0.0007622 ,\n",
       "        0.0007622 ,  0.        ,  0.        ,  0.0007622 ,  0.0007622 ,\n",
       "        0.        ,  0.00914634,  0.        ,  0.0007622 ,  0.00685976,\n",
       "        0.        ,  0.        ,  0.        ,  0.        ,  0.        ,\n",
       "        0.00152439,  0.00152439,  0.        ,  0.0007622 ,  0.0007622 ,\n",
       "        0.00228659,  0.        ,  0.        ,  0.00228659,  0.00228659,\n",
       "        0.        ,  0.        ,  0.        ,  0.00304878,  0.        ,\n",
       "        0.        ,  0.        ,  0.        ,  0.        ,  0.        ,\n",
       "        0.        ,  0.00228659,  0.        ,  0.        ,  0.        ,\n",
       "        0.        ,  0.        ,  0.        ,  0.        ,  0.0007622 ,\n",
       "        0.        ,  0.        ,  0.0007622 ,  0.00304878,  0.00381098,\n",
       "        0.        ,  0.        ,  0.        ,  0.        ,  0.00228659,\n",
       "        0.        ,  0.0007622 ,  0.        ,  0.        ,  0.        ,\n",
       "        0.0007622 ,  0.00304878,  0.0007622 ,  0.        ,  0.00228659,\n",
       "        0.00228659,  0.00228659,  0.00457317,  0.01067073,  0.02210366,\n",
       "        0.01219512,  0.0007622 ,  0.        ,  0.0007622 ,  0.00457317,\n",
       "        0.00304878,  0.00838415,  0.        ,  0.        ,  0.01067073,\n",
       "        0.        ,  0.00228659,  0.00533537,  0.00609756,  0.00228659,\n",
       "        0.00152439,  0.        ,  0.        ,  0.        ,  0.        ,\n",
       "        0.        ,  0.00762195,  0.0152439 ,  0.00533537,  0.00381098], dtype=float32)"
      ]
     },
     "execution_count": 577,
     "metadata": {},
     "output_type": "execute_result"
    }
   ],
   "source": [
    "xb_mod_3.feature_importances_"
   ]
  },
  {
   "cell_type": "code",
   "execution_count": 578,
   "metadata": {},
   "outputs": [
    {
     "data": {
      "image/png": "[encoded data removed]",
      "text/plain": [
       "<matplotlib.figure.Figure at 0x126f2b6d8>"
      ]
     },
     "metadata": {},
     "output_type": "display_data"
    }
   ],
   "source": [
    "xgb.plot_importance(xb_mod_3)\n",
    "plt.show();"
   ]
  },
  {
   "cell_type": "markdown",
   "metadata": {},
   "source": [
    "Uh oh, this feature importance plot is unreadable!  Time to reduce to the top \"n\" features!"
   ]
  },
  {
   "cell_type": "code",
   "execution_count": 582,
   "metadata": {
    "collapsed": true
   },
   "outputs": [],
   "source": [
    "xgb_importance = pd.DataFrame({'feature': df_dummies_train.columns, 'importance_col': xb_mod_3.feature_importances_})\n",
    "xgb_importance.sort_values(['importance_col', 'feature'], ascending=[0, 1], inplace=True)"
   ]
  },
  {
   "cell_type": "code",
   "execution_count": 601,
   "metadata": {},
   "outputs": [
    {
     "data": {
      "text/html": [
       "<div>\n",
       "<style>\n",
       "    .dataframe thead tr:only-child th {\n",
       "        text-align: right;\n",
       "    }\n",
       "\n",
       "    .dataframe thead th {\n",
       "        text-align: left;\n",
       "    }\n",
       "\n",
       "    .dataframe tbody tr th {\n",
       "        vertical-align: top;\n",
       "    }\n",
       "</style>\n",
       "<table border=\"1\" class=\"dataframe\">\n",
       "  <thead>\n",
       "    <tr style=\"text-align: right;\">\n",
       "      <th></th>\n",
       "      <th>feature</th>\n",
       "      <th>importance_col</th>\n",
       "    </tr>\n",
       "  </thead>\n",
       "  <tbody>\n",
       "    <tr>\n",
       "      <th>649</th>\n",
       "      <td>z206</td>\n",
       "      <td>0.022104</td>\n",
       "    </tr>\n",
       "    <tr>\n",
       "      <th>33</th>\n",
       "      <td>x34</td>\n",
       "      <td>0.016006</td>\n",
       "    </tr>\n",
       "    <tr>\n",
       "      <th>672</th>\n",
       "      <td>phase_2</td>\n",
       "      <td>0.015244</td>\n",
       "    </tr>\n",
       "    <tr>\n",
       "      <th>501</th>\n",
       "      <td>z58</td>\n",
       "      <td>0.013720</td>\n",
       "    </tr>\n",
       "    <tr>\n",
       "      <th>451</th>\n",
       "      <td>z8</td>\n",
       "      <td>0.013720</td>\n",
       "    </tr>\n",
       "    <tr>\n",
       "      <th>291</th>\n",
       "      <td>y70</td>\n",
       "      <td>0.012195</td>\n",
       "    </tr>\n",
       "    <tr>\n",
       "      <th>650</th>\n",
       "      <td>z207</td>\n",
       "      <td>0.012195</td>\n",
       "    </tr>\n",
       "    <tr>\n",
       "      <th>257</th>\n",
       "      <td>y36</td>\n",
       "      <td>0.011433</td>\n",
       "    </tr>\n",
       "    <tr>\n",
       "      <th>450</th>\n",
       "      <td>z7</td>\n",
       "      <td>0.011433</td>\n",
       "    </tr>\n",
       "    <tr>\n",
       "      <th>648</th>\n",
       "      <td>z205</td>\n",
       "      <td>0.010671</td>\n",
       "    </tr>\n",
       "    <tr>\n",
       "      <th>659</th>\n",
       "      <td>z216</td>\n",
       "      <td>0.010671</td>\n",
       "    </tr>\n",
       "    <tr>\n",
       "      <th>111</th>\n",
       "      <td>x112</td>\n",
       "      <td>0.009909</td>\n",
       "    </tr>\n",
       "    <tr>\n",
       "      <th>23</th>\n",
       "      <td>x24</td>\n",
       "      <td>0.009909</td>\n",
       "    </tr>\n",
       "    <tr>\n",
       "      <th>57</th>\n",
       "      <td>x58</td>\n",
       "      <td>0.009909</td>\n",
       "    </tr>\n",
       "    <tr>\n",
       "      <th>172</th>\n",
       "      <td>x173</td>\n",
       "      <td>0.009146</td>\n",
       "    </tr>\n",
       "    <tr>\n",
       "      <th>550</th>\n",
       "      <td>z107</td>\n",
       "      <td>0.009146</td>\n",
       "    </tr>\n",
       "    <tr>\n",
       "      <th>586</th>\n",
       "      <td>z143</td>\n",
       "      <td>0.009146</td>\n",
       "    </tr>\n",
       "    <tr>\n",
       "      <th>7</th>\n",
       "      <td>x8</td>\n",
       "      <td>0.008384</td>\n",
       "    </tr>\n",
       "    <tr>\n",
       "      <th>453</th>\n",
       "      <td>z10</td>\n",
       "      <td>0.008384</td>\n",
       "    </tr>\n",
       "    <tr>\n",
       "      <th>464</th>\n",
       "      <td>z21</td>\n",
       "      <td>0.008384</td>\n",
       "    </tr>\n",
       "    <tr>\n",
       "      <th>656</th>\n",
       "      <td>z213</td>\n",
       "      <td>0.008384</td>\n",
       "    </tr>\n",
       "    <tr>\n",
       "      <th>512</th>\n",
       "      <td>z69</td>\n",
       "      <td>0.008384</td>\n",
       "    </tr>\n",
       "    <tr>\n",
       "      <th>671</th>\n",
       "      <td>phase_1</td>\n",
       "      <td>0.007622</td>\n",
       "    </tr>\n",
       "    <tr>\n",
       "      <th>58</th>\n",
       "      <td>x59</td>\n",
       "      <td>0.007622</td>\n",
       "    </tr>\n",
       "    <tr>\n",
       "      <th>60</th>\n",
       "      <td>x61</td>\n",
       "      <td>0.007622</td>\n",
       "    </tr>\n",
       "    <tr>\n",
       "      <th>82</th>\n",
       "      <td>x83</td>\n",
       "      <td>0.007622</td>\n",
       "    </tr>\n",
       "    <tr>\n",
       "      <th>239</th>\n",
       "      <td>y18</td>\n",
       "      <td>0.007622</td>\n",
       "    </tr>\n",
       "    <tr>\n",
       "      <th>427</th>\n",
       "      <td>y206</td>\n",
       "      <td>0.007622</td>\n",
       "    </tr>\n",
       "    <tr>\n",
       "      <th>442</th>\n",
       "      <td>y221</td>\n",
       "      <td>0.007622</td>\n",
       "    </tr>\n",
       "    <tr>\n",
       "      <th>229</th>\n",
       "      <td>y8</td>\n",
       "      <td>0.007622</td>\n",
       "    </tr>\n",
       "    <tr>\n",
       "      <th>454</th>\n",
       "      <td>z11</td>\n",
       "      <td>0.007622</td>\n",
       "    </tr>\n",
       "    <tr>\n",
       "      <th>220</th>\n",
       "      <td>x221</td>\n",
       "      <td>0.006860</td>\n",
       "    </tr>\n",
       "    <tr>\n",
       "      <th>32</th>\n",
       "      <td>x33</td>\n",
       "      <td>0.006860</td>\n",
       "    </tr>\n",
       "    <tr>\n",
       "      <th>6</th>\n",
       "      <td>x7</td>\n",
       "      <td>0.006860</td>\n",
       "    </tr>\n",
       "    <tr>\n",
       "      <th>74</th>\n",
       "      <td>x75</td>\n",
       "      <td>0.006860</td>\n",
       "    </tr>\n",
       "    <tr>\n",
       "      <th>81</th>\n",
       "      <td>x82</td>\n",
       "      <td>0.006860</td>\n",
       "    </tr>\n",
       "    <tr>\n",
       "      <th>436</th>\n",
       "      <td>y215</td>\n",
       "      <td>0.006860</td>\n",
       "    </tr>\n",
       "    <tr>\n",
       "      <th>283</th>\n",
       "      <td>y62</td>\n",
       "      <td>0.006860</td>\n",
       "    </tr>\n",
       "    <tr>\n",
       "      <th>299</th>\n",
       "      <td>y78</td>\n",
       "      <td>0.006860</td>\n",
       "    </tr>\n",
       "    <tr>\n",
       "      <th>554</th>\n",
       "      <td>z111</td>\n",
       "      <td>0.006860</td>\n",
       "    </tr>\n",
       "    <tr>\n",
       "      <th>589</th>\n",
       "      <td>z146</td>\n",
       "      <td>0.006860</td>\n",
       "    </tr>\n",
       "    <tr>\n",
       "      <th>511</th>\n",
       "      <td>z68</td>\n",
       "      <td>0.006860</td>\n",
       "    </tr>\n",
       "    <tr>\n",
       "      <th>518</th>\n",
       "      <td>z75</td>\n",
       "      <td>0.006860</td>\n",
       "    </tr>\n",
       "    <tr>\n",
       "      <th>531</th>\n",
       "      <td>z88</td>\n",
       "      <td>0.006860</td>\n",
       "    </tr>\n",
       "    <tr>\n",
       "      <th>192</th>\n",
       "      <td>x193</td>\n",
       "      <td>0.006098</td>\n",
       "    </tr>\n",
       "    <tr>\n",
       "      <th>208</th>\n",
       "      <td>x209</td>\n",
       "      <td>0.006098</td>\n",
       "    </tr>\n",
       "    <tr>\n",
       "      <th>297</th>\n",
       "      <td>y76</td>\n",
       "      <td>0.006098</td>\n",
       "    </tr>\n",
       "    <tr>\n",
       "      <th>663</th>\n",
       "      <td>z220</td>\n",
       "      <td>0.006098</td>\n",
       "    </tr>\n",
       "    <tr>\n",
       "      <th>498</th>\n",
       "      <td>z55</td>\n",
       "      <td>0.006098</td>\n",
       "    </tr>\n",
       "    <tr>\n",
       "      <th>673</th>\n",
       "      <td>phase_3</td>\n",
       "      <td>0.005335</td>\n",
       "    </tr>\n",
       "  </tbody>\n",
       "</table>\n",
       "</div>"
      ],
      "text/plain": [
       "     feature  importance_col\n",
       "649     z206        0.022104\n",
       "33       x34        0.016006\n",
       "672  phase_2        0.015244\n",
       "501      z58        0.013720\n",
       "451       z8        0.013720\n",
       "291      y70        0.012195\n",
       "650     z207        0.012195\n",
       "257      y36        0.011433\n",
       "450       z7        0.011433\n",
       "648     z205        0.010671\n",
       "659     z216        0.010671\n",
       "111     x112        0.009909\n",
       "23       x24        0.009909\n",
       "57       x58        0.009909\n",
       "172     x173        0.009146\n",
       "550     z107        0.009146\n",
       "586     z143        0.009146\n",
       "7         x8        0.008384\n",
       "453      z10        0.008384\n",
       "464      z21        0.008384\n",
       "656     z213        0.008384\n",
       "512      z69        0.008384\n",
       "671  phase_1        0.007622\n",
       "58       x59        0.007622\n",
       "60       x61        0.007622\n",
       "82       x83        0.007622\n",
       "239      y18        0.007622\n",
       "427     y206        0.007622\n",
       "442     y221        0.007622\n",
       "229       y8        0.007622\n",
       "454      z11        0.007622\n",
       "220     x221        0.006860\n",
       "32       x33        0.006860\n",
       "6         x7        0.006860\n",
       "74       x75        0.006860\n",
       "81       x82        0.006860\n",
       "436     y215        0.006860\n",
       "283      y62        0.006860\n",
       "299      y78        0.006860\n",
       "554     z111        0.006860\n",
       "589     z146        0.006860\n",
       "511      z68        0.006860\n",
       "518      z75        0.006860\n",
       "531      z88        0.006860\n",
       "192     x193        0.006098\n",
       "208     x209        0.006098\n",
       "297      y76        0.006098\n",
       "663     z220        0.006098\n",
       "498      z55        0.006098\n",
       "673  phase_3        0.005335"
      ]
     },
     "execution_count": 601,
     "metadata": {},
     "output_type": "execute_result"
    }
   ],
   "source": [
    "#Top 50 most important XGBoost features\n",
    "xgb_top_50 = xgb_importance[0:50]\n",
    "xgb_top_50"
   ]
  },
  {
   "cell_type": "code",
   "execution_count": 605,
   "metadata": {},
   "outputs": [
    {
     "data": {
      "image/png": "[encoded data removed]",
      "text/plain": [
       "<matplotlib.figure.Figure at 0x132125160>"
      ]
     },
     "metadata": {},
     "output_type": "display_data"
    }
   ],
   "source": [
    "#Plot the top 50 important features from XGBoost\n",
    "plt.figure(1,figsize=(12, 8))\n",
    "h = plt.bar(range(len(xgb_top_50.importance_col)),xgb_top_50.importance_col,label=xgb_top_50.feature)\n",
    "plt.subplots_adjust(bottom=0.3)\n",
    "xticks_pos = [0.65*patch.get_width() + patch.get_xy()[0] for patch in h]\n",
    "plt.xticks(xticks_pos,xgb_top_50.feature[0:50],  ha='right', rotation=60)\n",
    "plt.title(\"Feature importances - XGBoost\")\n",
    "plt.xlabel(\"Training Data - Column Names\")\n",
    "plt.show()"
   ]
  },
  {
   "cell_type": "markdown",
   "metadata": {},
   "source": [
    "OK now let's try early stopping to see what we can learn there."
   ]
  },
  {
   "cell_type": "code",
   "execution_count": 589,
   "metadata": {
    "collapsed": true
   },
   "outputs": [],
   "source": [
    "eval_set =  [(X_train, Y_train), (X_test, Y_test)]"
   ]
  },
  {
   "cell_type": "code",
   "execution_count": 590,
   "metadata": {},
   "outputs": [
    {
     "name": "stdout",
     "output_type": "stream",
     "text": [
      "[0]\tvalidation_0-auc:0.677112\tvalidation_0-error:0.146169\tvalidation_0-logloss:0.66753\tvalidation_1-auc:0.606603\tvalidation_1-error:0.169029\tvalidation_1-logloss:0.669466\n",
      "Multiple eval metrics have been passed: 'validation_1-logloss' will be used for early stopping.\n",
      "\n",
      "Will train until validation_1-logloss hasn't improved in 10 rounds.\n",
      "[1]\tvalidation_0-auc:0.696226\tvalidation_0-error:0.145896\tvalidation_0-logloss:0.644332\tvalidation_1-auc:0.614952\tvalidation_1-error:0.173391\tvalidation_1-logloss:0.648249\n",
      "[2]\tvalidation_0-auc:0.715928\tvalidation_0-error:0.145078\tvalidation_0-logloss:0.623222\tvalidation_1-auc:0.628157\tvalidation_1-error:0.173391\tvalidation_1-logloss:0.628959\n",
      "[3]\tvalidation_0-auc:0.72512\tvalidation_0-error:0.144532\tvalidation_0-logloss:0.603988\tvalidation_1-auc:0.620765\tvalidation_1-error:0.169029\tvalidation_1-logloss:0.61141\n",
      "[4]\tvalidation_0-auc:0.729458\tvalidation_0-error:0.144532\tvalidation_0-logloss:0.586411\tvalidation_1-auc:0.622318\tvalidation_1-error:0.169029\tvalidation_1-logloss:0.59538\n",
      "[5]\tvalidation_0-auc:0.747946\tvalidation_0-error:0.146441\tvalidation_0-logloss:0.570268\tvalidation_1-auc:0.638992\tvalidation_1-error:0.167939\tvalidation_1-logloss:0.580528\n",
      "[6]\tvalidation_0-auc:0.749433\tvalidation_0-error:0.145078\tvalidation_0-logloss:0.555463\tvalidation_1-auc:0.635339\tvalidation_1-error:0.169029\tvalidation_1-logloss:0.567472\n",
      "[7]\tvalidation_0-auc:0.755045\tvalidation_0-error:0.145078\tvalidation_0-logloss:0.5417\tvalidation_1-auc:0.640125\tvalidation_1-error:0.167939\tvalidation_1-logloss:0.555249\n",
      "[8]\tvalidation_0-auc:0.760978\tvalidation_0-error:0.145623\tvalidation_0-logloss:0.529296\tvalidation_1-auc:0.646319\tvalidation_1-error:0.166848\tvalidation_1-logloss:0.544154\n",
      "[9]\tvalidation_0-auc:0.765125\tvalidation_0-error:0.145896\tvalidation_0-logloss:0.51768\tvalidation_1-auc:0.661577\tvalidation_1-error:0.166848\tvalidation_1-logloss:0.533535\n",
      "[10]\tvalidation_0-auc:0.770159\tvalidation_0-error:0.145623\tvalidation_0-logloss:0.507037\tvalidation_1-auc:0.665794\tvalidation_1-error:0.165758\tvalidation_1-logloss:0.524253\n",
      "[11]\tvalidation_0-auc:0.771822\tvalidation_0-error:0.145623\tvalidation_0-logloss:0.497159\tvalidation_1-auc:0.663527\tvalidation_1-error:0.166848\tvalidation_1-logloss:0.515664\n",
      "[12]\tvalidation_0-auc:0.772437\tvalidation_0-error:0.145623\tvalidation_0-logloss:0.487906\tvalidation_1-auc:0.663784\tvalidation_1-error:0.166848\tvalidation_1-logloss:0.507833\n",
      "[13]\tvalidation_0-auc:0.774024\tvalidation_0-error:0.146441\tvalidation_0-logloss:0.479421\tvalidation_1-auc:0.669947\tvalidation_1-error:0.165758\tvalidation_1-logloss:0.500381\n",
      "[14]\tvalidation_0-auc:0.777529\tvalidation_0-error:0.146714\tvalidation_0-logloss:0.471383\tvalidation_1-auc:0.673318\tvalidation_1-error:0.164667\tvalidation_1-logloss:0.493573\n",
      "[15]\tvalidation_0-auc:0.779684\tvalidation_0-error:0.146441\tvalidation_0-logloss:0.464113\tvalidation_1-auc:0.678511\tvalidation_1-error:0.165758\tvalidation_1-logloss:0.487551\n",
      "[16]\tvalidation_0-auc:0.780685\tvalidation_0-error:0.146987\tvalidation_0-logloss:0.457356\tvalidation_1-auc:0.678977\tvalidation_1-error:0.165758\tvalidation_1-logloss:0.481941\n",
      "[17]\tvalidation_0-auc:0.785891\tvalidation_0-error:0.146714\tvalidation_0-logloss:0.451117\tvalidation_1-auc:0.680427\tvalidation_1-error:0.165758\tvalidation_1-logloss:0.476681\n",
      "[18]\tvalidation_0-auc:0.786432\tvalidation_0-error:0.146714\tvalidation_0-logloss:0.44507\tvalidation_1-auc:0.681492\tvalidation_1-error:0.165758\tvalidation_1-logloss:0.471819\n",
      "[19]\tvalidation_0-auc:0.788731\tvalidation_0-error:0.146714\tvalidation_0-logloss:0.439421\tvalidation_1-auc:0.68479\tvalidation_1-error:0.165758\tvalidation_1-logloss:0.467343\n",
      "[20]\tvalidation_0-auc:0.793125\tvalidation_0-error:0.146714\tvalidation_0-logloss:0.434589\tvalidation_1-auc:0.684611\tvalidation_1-error:0.165758\tvalidation_1-logloss:0.463478\n",
      "[21]\tvalidation_0-auc:0.797003\tvalidation_0-error:0.146714\tvalidation_0-logloss:0.429741\tvalidation_1-auc:0.686668\tvalidation_1-error:0.165758\tvalidation_1-logloss:0.459661\n",
      "[22]\tvalidation_0-auc:0.797417\tvalidation_0-error:0.146714\tvalidation_0-logloss:0.425358\tvalidation_1-auc:0.689453\tvalidation_1-error:0.164667\tvalidation_1-logloss:0.456089\n",
      "[23]\tvalidation_0-auc:0.798586\tvalidation_0-error:0.146441\tvalidation_0-logloss:0.421028\tvalidation_1-auc:0.691027\tvalidation_1-error:0.165758\tvalidation_1-logloss:0.452764\n",
      "[24]\tvalidation_0-auc:0.807234\tvalidation_0-error:0.146987\tvalidation_0-logloss:0.416932\tvalidation_1-auc:0.697507\tvalidation_1-error:0.164667\tvalidation_1-logloss:0.44951\n",
      "[25]\tvalidation_0-auc:0.807815\tvalidation_0-error:0.146987\tvalidation_0-logloss:0.413404\tvalidation_1-auc:0.697576\tvalidation_1-error:0.164667\tvalidation_1-logloss:0.44693\n",
      "[26]\tvalidation_0-auc:0.809926\tvalidation_0-error:0.146987\tvalidation_0-logloss:0.409956\tvalidation_1-auc:0.698209\tvalidation_1-error:0.164667\tvalidation_1-logloss:0.444336\n",
      "[27]\tvalidation_0-auc:0.813619\tvalidation_0-error:0.146987\tvalidation_0-logloss:0.406774\tvalidation_1-auc:0.698829\tvalidation_1-error:0.164667\tvalidation_1-logloss:0.442172\n",
      "[28]\tvalidation_0-auc:0.816238\tvalidation_0-error:0.146441\tvalidation_0-logloss:0.403456\tvalidation_1-auc:0.698063\tvalidation_1-error:0.165758\tvalidation_1-logloss:0.43992\n",
      "[29]\tvalidation_0-auc:0.816092\tvalidation_0-error:0.146441\tvalidation_0-logloss:0.400773\tvalidation_1-auc:0.699402\tvalidation_1-error:0.165758\tvalidation_1-logloss:0.437969\n",
      "[30]\tvalidation_0-auc:0.820154\tvalidation_0-error:0.146441\tvalidation_0-logloss:0.397871\tvalidation_1-auc:0.704971\tvalidation_1-error:0.165758\tvalidation_1-logloss:0.435892\n",
      "[31]\tvalidation_0-auc:0.819504\tvalidation_0-error:0.146987\tvalidation_0-logloss:0.395394\tvalidation_1-auc:0.704792\tvalidation_1-error:0.164667\tvalidation_1-logloss:0.434018\n",
      "[32]\tvalidation_0-auc:0.822062\tvalidation_0-error:0.146441\tvalidation_0-logloss:0.392479\tvalidation_1-auc:0.705523\tvalidation_1-error:0.165758\tvalidation_1-logloss:0.432116\n",
      "[33]\tvalidation_0-auc:0.825081\tvalidation_0-error:0.146441\tvalidation_0-logloss:0.390072\tvalidation_1-auc:0.704548\tvalidation_1-error:0.165758\tvalidation_1-logloss:0.43068\n",
      "[34]\tvalidation_0-auc:0.829521\tvalidation_0-error:0.146169\tvalidation_0-logloss:0.387582\tvalidation_1-auc:0.707063\tvalidation_1-error:0.165758\tvalidation_1-logloss:0.429478\n",
      "[35]\tvalidation_0-auc:0.832246\tvalidation_0-error:0.146169\tvalidation_0-logloss:0.385331\tvalidation_1-auc:0.711101\tvalidation_1-error:0.165758\tvalidation_1-logloss:0.427909\n",
      "[36]\tvalidation_0-auc:0.833669\tvalidation_0-error:0.146169\tvalidation_0-logloss:0.38346\tvalidation_1-auc:0.710746\tvalidation_1-error:0.165758\tvalidation_1-logloss:0.426872\n",
      "[37]\tvalidation_0-auc:0.835862\tvalidation_0-error:0.146169\tvalidation_0-logloss:0.381399\tvalidation_1-auc:0.708894\tvalidation_1-error:0.165758\tvalidation_1-logloss:0.425993\n",
      "[38]\tvalidation_0-auc:0.839072\tvalidation_0-error:0.146169\tvalidation_0-logloss:0.379598\tvalidation_1-auc:0.710344\tvalidation_1-error:0.165758\tvalidation_1-logloss:0.424871\n",
      "[39]\tvalidation_0-auc:0.839969\tvalidation_0-error:0.146169\tvalidation_0-logloss:0.377529\tvalidation_1-auc:0.710203\tvalidation_1-error:0.165758\tvalidation_1-logloss:0.423687\n",
      "[40]\tvalidation_0-auc:0.839541\tvalidation_0-error:0.146441\tvalidation_0-logloss:0.375923\tvalidation_1-auc:0.710737\tvalidation_1-error:0.165758\tvalidation_1-logloss:0.422661\n",
      "[41]\tvalidation_0-auc:0.840116\tvalidation_0-error:0.146169\tvalidation_0-logloss:0.373879\tvalidation_1-auc:0.711319\tvalidation_1-error:0.165758\tvalidation_1-logloss:0.421448\n",
      "[42]\tvalidation_0-auc:0.842542\tvalidation_0-error:0.146169\tvalidation_0-logloss:0.372154\tvalidation_1-auc:0.714202\tvalidation_1-error:0.165758\tvalidation_1-logloss:0.420546\n",
      "[43]\tvalidation_0-auc:0.845102\tvalidation_0-error:0.146441\tvalidation_0-logloss:0.370796\tvalidation_1-auc:0.715331\tvalidation_1-error:0.165758\tvalidation_1-logloss:0.419906\n",
      "[44]\tvalidation_0-auc:0.847014\tvalidation_0-error:0.146169\tvalidation_0-logloss:0.369245\tvalidation_1-auc:0.712739\tvalidation_1-error:0.165758\tvalidation_1-logloss:0.419578\n",
      "[45]\tvalidation_0-auc:0.848355\tvalidation_0-error:0.145896\tvalidation_0-logloss:0.367593\tvalidation_1-auc:0.71131\tvalidation_1-error:0.165758\tvalidation_1-logloss:0.419263\n",
      "[46]\tvalidation_0-auc:0.850284\tvalidation_0-error:0.145896\tvalidation_0-logloss:0.366417\tvalidation_1-auc:0.711815\tvalidation_1-error:0.165758\tvalidation_1-logloss:0.418728\n"
     ]
    },
    {
     "name": "stdout",
     "output_type": "stream",
     "text": [
      "[47]\tvalidation_0-auc:0.852081\tvalidation_0-error:0.145896\tvalidation_0-logloss:0.364936\tvalidation_1-auc:0.713928\tvalidation_1-error:0.165758\tvalidation_1-logloss:0.41807\n",
      "[48]\tvalidation_0-auc:0.852921\tvalidation_0-error:0.145896\tvalidation_0-logloss:0.363701\tvalidation_1-auc:0.714681\tvalidation_1-error:0.165758\tvalidation_1-logloss:0.417627\n",
      "[49]\tvalidation_0-auc:0.853975\tvalidation_0-error:0.145896\tvalidation_0-logloss:0.362425\tvalidation_1-auc:0.71543\tvalidation_1-error:0.165758\tvalidation_1-logloss:0.417064\n",
      "[50]\tvalidation_0-auc:0.856722\tvalidation_0-error:0.145896\tvalidation_0-logloss:0.360907\tvalidation_1-auc:0.716191\tvalidation_1-error:0.166848\tvalidation_1-logloss:0.416394\n",
      "[51]\tvalidation_0-auc:0.857169\tvalidation_0-error:0.145896\tvalidation_0-logloss:0.359731\tvalidation_1-auc:0.718343\tvalidation_1-error:0.166848\tvalidation_1-logloss:0.415743\n",
      "[52]\tvalidation_0-auc:0.858489\tvalidation_0-error:0.145896\tvalidation_0-logloss:0.358354\tvalidation_1-auc:0.71824\tvalidation_1-error:0.166848\tvalidation_1-logloss:0.415175\n",
      "[53]\tvalidation_0-auc:0.860018\tvalidation_0-error:0.145896\tvalidation_0-logloss:0.357166\tvalidation_1-auc:0.716606\tvalidation_1-error:0.165758\tvalidation_1-logloss:0.415063\n",
      "[54]\tvalidation_0-auc:0.859972\tvalidation_0-error:0.145896\tvalidation_0-logloss:0.35614\tvalidation_1-auc:0.718625\tvalidation_1-error:0.165758\tvalidation_1-logloss:0.414493\n",
      "[55]\tvalidation_0-auc:0.861599\tvalidation_0-error:0.145896\tvalidation_0-logloss:0.355246\tvalidation_1-auc:0.718394\tvalidation_1-error:0.165758\tvalidation_1-logloss:0.414297\n",
      "[56]\tvalidation_0-auc:0.862662\tvalidation_0-error:0.146169\tvalidation_0-logloss:0.354249\tvalidation_1-auc:0.718719\tvalidation_1-error:0.165758\tvalidation_1-logloss:0.413971\n",
      "[57]\tvalidation_0-auc:0.865078\tvalidation_0-error:0.145896\tvalidation_0-logloss:0.353017\tvalidation_1-auc:0.717136\tvalidation_1-error:0.165758\tvalidation_1-logloss:0.413923\n",
      "[58]\tvalidation_0-auc:0.865321\tvalidation_0-error:0.145623\tvalidation_0-logloss:0.352013\tvalidation_1-auc:0.717111\tvalidation_1-error:0.165758\tvalidation_1-logloss:0.413596\n",
      "[59]\tvalidation_0-auc:0.866886\tvalidation_0-error:0.145896\tvalidation_0-logloss:0.350857\tvalidation_1-auc:0.718766\tvalidation_1-error:0.165758\tvalidation_1-logloss:0.41319\n",
      "[60]\tvalidation_0-auc:0.867063\tvalidation_0-error:0.145896\tvalidation_0-logloss:0.349959\tvalidation_1-auc:0.7191\tvalidation_1-error:0.165758\tvalidation_1-logloss:0.412849\n",
      "[61]\tvalidation_0-auc:0.869278\tvalidation_0-error:0.145896\tvalidation_0-logloss:0.348855\tvalidation_1-auc:0.717457\tvalidation_1-error:0.164667\tvalidation_1-logloss:0.412923\n",
      "[62]\tvalidation_0-auc:0.869332\tvalidation_0-error:0.145896\tvalidation_0-logloss:0.347994\tvalidation_1-auc:0.717431\tvalidation_1-error:0.164667\tvalidation_1-logloss:0.412701\n",
      "[63]\tvalidation_0-auc:0.870646\tvalidation_0-error:0.145896\tvalidation_0-logloss:0.34688\tvalidation_1-auc:0.716627\tvalidation_1-error:0.164667\tvalidation_1-logloss:0.41263\n",
      "[64]\tvalidation_0-auc:0.870854\tvalidation_0-error:0.145896\tvalidation_0-logloss:0.346035\tvalidation_1-auc:0.717731\tvalidation_1-error:0.164667\tvalidation_1-logloss:0.412207\n",
      "[65]\tvalidation_0-auc:0.873156\tvalidation_0-error:0.145896\tvalidation_0-logloss:0.344828\tvalidation_1-auc:0.719617\tvalidation_1-error:0.164667\tvalidation_1-logloss:0.411817\n",
      "[66]\tvalidation_0-auc:0.874878\tvalidation_0-error:0.145623\tvalidation_0-logloss:0.343727\tvalidation_1-auc:0.718304\tvalidation_1-error:0.165758\tvalidation_1-logloss:0.411898\n",
      "[67]\tvalidation_0-auc:0.875594\tvalidation_0-error:0.14535\tvalidation_0-logloss:0.342613\tvalidation_1-auc:0.718629\tvalidation_1-error:0.164667\tvalidation_1-logloss:0.411688\n",
      "[68]\tvalidation_0-auc:0.876219\tvalidation_0-error:0.145078\tvalidation_0-logloss:0.341849\tvalidation_1-auc:0.718792\tvalidation_1-error:0.164667\tvalidation_1-logloss:0.411448\n",
      "[69]\tvalidation_0-auc:0.878353\tvalidation_0-error:0.145078\tvalidation_0-logloss:0.340797\tvalidation_1-auc:0.718526\tvalidation_1-error:0.164667\tvalidation_1-logloss:0.411307\n",
      "[70]\tvalidation_0-auc:0.879587\tvalidation_0-error:0.144805\tvalidation_0-logloss:0.339577\tvalidation_1-auc:0.719887\tvalidation_1-error:0.164667\tvalidation_1-logloss:0.410947\n",
      "[71]\tvalidation_0-auc:0.880808\tvalidation_0-error:0.144805\tvalidation_0-logloss:0.338971\tvalidation_1-auc:0.719733\tvalidation_1-error:0.164667\tvalidation_1-logloss:0.410996\n",
      "[72]\tvalidation_0-auc:0.882573\tvalidation_0-error:0.144805\tvalidation_0-logloss:0.338029\tvalidation_1-auc:0.719887\tvalidation_1-error:0.164667\tvalidation_1-logloss:0.41089\n",
      "[73]\tvalidation_0-auc:0.883613\tvalidation_0-error:0.144805\tvalidation_0-logloss:0.337274\tvalidation_1-auc:0.720511\tvalidation_1-error:0.164667\tvalidation_1-logloss:0.41053\n",
      "[74]\tvalidation_0-auc:0.885027\tvalidation_0-error:0.144532\tvalidation_0-logloss:0.336359\tvalidation_1-auc:0.719647\tvalidation_1-error:0.164667\tvalidation_1-logloss:0.410581\n",
      "[75]\tvalidation_0-auc:0.886135\tvalidation_0-error:0.14426\tvalidation_0-logloss:0.335436\tvalidation_1-auc:0.71756\tvalidation_1-error:0.164667\tvalidation_1-logloss:0.410874\n",
      "[76]\tvalidation_0-auc:0.886982\tvalidation_0-error:0.14426\tvalidation_0-logloss:0.334786\tvalidation_1-auc:0.718056\tvalidation_1-error:0.164667\tvalidation_1-logloss:0.410647\n",
      "[77]\tvalidation_0-auc:0.887691\tvalidation_0-error:0.14426\tvalidation_0-logloss:0.333875\tvalidation_1-auc:0.718278\tvalidation_1-error:0.164667\tvalidation_1-logloss:0.410442\n",
      "[78]\tvalidation_0-auc:0.888625\tvalidation_0-error:0.14426\tvalidation_0-logloss:0.332954\tvalidation_1-auc:0.71951\tvalidation_1-error:0.165758\tvalidation_1-logloss:0.409927\n",
      "[79]\tvalidation_0-auc:0.890747\tvalidation_0-error:0.14426\tvalidation_0-logloss:0.331981\tvalidation_1-auc:0.719733\tvalidation_1-error:0.165758\tvalidation_1-logloss:0.409855\n",
      "[80]\tvalidation_0-auc:0.891569\tvalidation_0-error:0.14426\tvalidation_0-logloss:0.331379\tvalidation_1-auc:0.719613\tvalidation_1-error:0.164667\tvalidation_1-logloss:0.409808\n",
      "[81]\tvalidation_0-auc:0.892282\tvalidation_0-error:0.14426\tvalidation_0-logloss:0.330984\tvalidation_1-auc:0.720409\tvalidation_1-error:0.164667\tvalidation_1-logloss:0.40963\n",
      "[82]\tvalidation_0-auc:0.894212\tvalidation_0-error:0.143987\tvalidation_0-logloss:0.330011\tvalidation_1-auc:0.721358\tvalidation_1-error:0.165758\tvalidation_1-logloss:0.409371\n",
      "[83]\tvalidation_0-auc:0.89575\tvalidation_0-error:0.143714\tvalidation_0-logloss:0.329083\tvalidation_1-auc:0.722248\tvalidation_1-error:0.164667\tvalidation_1-logloss:0.40908\n",
      "[84]\tvalidation_0-auc:0.895739\tvalidation_0-error:0.143441\tvalidation_0-logloss:0.32846\tvalidation_1-auc:0.722821\tvalidation_1-error:0.164667\tvalidation_1-logloss:0.408818\n",
      "[85]\tvalidation_0-auc:0.897116\tvalidation_0-error:0.143441\tvalidation_0-logloss:0.327708\tvalidation_1-auc:0.722\tvalidation_1-error:0.164667\tvalidation_1-logloss:0.409134\n",
      "[86]\tvalidation_0-auc:0.898935\tvalidation_0-error:0.143441\tvalidation_0-logloss:0.326678\tvalidation_1-auc:0.721606\tvalidation_1-error:0.164667\tvalidation_1-logloss:0.409038\n",
      "[87]\tvalidation_0-auc:0.900016\tvalidation_0-error:0.142896\tvalidation_0-logloss:0.326079\tvalidation_1-auc:0.722077\tvalidation_1-error:0.164667\tvalidation_1-logloss:0.40881\n",
      "[88]\tvalidation_0-auc:0.901756\tvalidation_0-error:0.142623\tvalidation_0-logloss:0.325185\tvalidation_1-auc:0.721743\tvalidation_1-error:0.164667\tvalidation_1-logloss:0.408737\n",
      "[89]\tvalidation_0-auc:0.903358\tvalidation_0-error:0.142896\tvalidation_0-logloss:0.323975\tvalidation_1-auc:0.721512\tvalidation_1-error:0.165758\tvalidation_1-logloss:0.408632\n",
      "[90]\tvalidation_0-auc:0.904234\tvalidation_0-error:0.142351\tvalidation_0-logloss:0.323248\tvalidation_1-auc:0.721102\tvalidation_1-error:0.165758\tvalidation_1-logloss:0.408733\n",
      "[91]\tvalidation_0-auc:0.904692\tvalidation_0-error:0.141805\tvalidation_0-logloss:0.322721\tvalidation_1-auc:0.720648\tvalidation_1-error:0.164667\tvalidation_1-logloss:0.408715\n",
      "[92]\tvalidation_0-auc:0.905146\tvalidation_0-error:0.141533\tvalidation_0-logloss:0.322227\tvalidation_1-auc:0.720135\tvalidation_1-error:0.165758\tvalidation_1-logloss:0.40887\n",
      "[93]\tvalidation_0-auc:0.905839\tvalidation_0-error:0.14126\tvalidation_0-logloss:0.321879\tvalidation_1-auc:0.721179\tvalidation_1-error:0.165758\tvalidation_1-logloss:0.40861\n",
      "[94]\tvalidation_0-auc:0.907059\tvalidation_0-error:0.140987\tvalidation_0-logloss:0.321131\tvalidation_1-auc:0.720323\tvalidation_1-error:0.165758\tvalidation_1-logloss:0.408665\n"
     ]
    },
    {
     "name": "stdout",
     "output_type": "stream",
     "text": [
      "[95]\tvalidation_0-auc:0.908316\tvalidation_0-error:0.140169\tvalidation_0-logloss:0.320254\tvalidation_1-auc:0.719775\tvalidation_1-error:0.165758\tvalidation_1-logloss:0.408887\n",
      "[96]\tvalidation_0-auc:0.909277\tvalidation_0-error:0.140169\tvalidation_0-logloss:0.319598\tvalidation_1-auc:0.719724\tvalidation_1-error:0.165758\tvalidation_1-logloss:0.408787\n",
      "[97]\tvalidation_0-auc:0.910368\tvalidation_0-error:0.140169\tvalidation_0-logloss:0.318697\tvalidation_1-auc:0.719681\tvalidation_1-error:0.165758\tvalidation_1-logloss:0.408806\n",
      "[98]\tvalidation_0-auc:0.910451\tvalidation_0-error:0.139896\tvalidation_0-logloss:0.318243\tvalidation_1-auc:0.719553\tvalidation_1-error:0.165758\tvalidation_1-logloss:0.40886\n",
      "[99]\tvalidation_0-auc:0.911142\tvalidation_0-error:0.139624\tvalidation_0-logloss:0.317733\tvalidation_1-auc:0.721033\tvalidation_1-error:0.165758\tvalidation_1-logloss:0.408604\n",
      "[100]\tvalidation_0-auc:0.911768\tvalidation_0-error:0.139896\tvalidation_0-logloss:0.317158\tvalidation_1-auc:0.720922\tvalidation_1-error:0.165758\tvalidation_1-logloss:0.408563\n",
      "[101]\tvalidation_0-auc:0.912203\tvalidation_0-error:0.139896\tvalidation_0-logloss:0.316835\tvalidation_1-auc:0.721589\tvalidation_1-error:0.165758\tvalidation_1-logloss:0.408369\n",
      "[102]\tvalidation_0-auc:0.91296\tvalidation_0-error:0.139624\tvalidation_0-logloss:0.316127\tvalidation_1-auc:0.720965\tvalidation_1-error:0.165758\tvalidation_1-logloss:0.40853\n",
      "[103]\tvalidation_0-auc:0.914427\tvalidation_0-error:0.139078\tvalidation_0-logloss:0.31507\tvalidation_1-auc:0.720648\tvalidation_1-error:0.165758\tvalidation_1-logloss:0.408463\n",
      "[104]\tvalidation_0-auc:0.915254\tvalidation_0-error:0.138533\tvalidation_0-logloss:0.314372\tvalidation_1-auc:0.720948\tvalidation_1-error:0.165758\tvalidation_1-logloss:0.408423\n",
      "[105]\tvalidation_0-auc:0.915523\tvalidation_0-error:0.138533\tvalidation_0-logloss:0.31369\tvalidation_1-auc:0.720451\tvalidation_1-error:0.165758\tvalidation_1-logloss:0.408459\n",
      "[106]\tvalidation_0-auc:0.915964\tvalidation_0-error:0.13826\tvalidation_0-logloss:0.313169\tvalidation_1-auc:0.720058\tvalidation_1-error:0.165758\tvalidation_1-logloss:0.408471\n",
      "[107]\tvalidation_0-auc:0.917631\tvalidation_0-error:0.138533\tvalidation_0-logloss:0.312333\tvalidation_1-auc:0.719904\tvalidation_1-error:0.165758\tvalidation_1-logloss:0.408453\n",
      "[108]\tvalidation_0-auc:0.91762\tvalidation_0-error:0.138533\tvalidation_0-logloss:0.311753\tvalidation_1-auc:0.719681\tvalidation_1-error:0.165758\tvalidation_1-logloss:0.408552\n",
      "[109]\tvalidation_0-auc:0.918105\tvalidation_0-error:0.138806\tvalidation_0-logloss:0.310972\tvalidation_1-auc:0.71987\tvalidation_1-error:0.165758\tvalidation_1-logloss:0.40845\n",
      "[110]\tvalidation_0-auc:0.918303\tvalidation_0-error:0.13826\tvalidation_0-logloss:0.31068\tvalidation_1-auc:0.71993\tvalidation_1-error:0.165758\tvalidation_1-logloss:0.408443\n",
      "[111]\tvalidation_0-auc:0.91837\tvalidation_0-error:0.138533\tvalidation_0-logloss:0.310209\tvalidation_1-auc:0.719433\tvalidation_1-error:0.165758\tvalidation_1-logloss:0.408387\n",
      "Stopping. Best iteration:\n",
      "[101]\tvalidation_0-auc:0.912203\tvalidation_0-error:0.139896\tvalidation_0-logloss:0.316835\tvalidation_1-auc:0.721589\tvalidation_1-error:0.165758\tvalidation_1-logloss:0.408369\n",
      "\n"
     ]
    },
    {
     "data": {
      "text/plain": [
       "XGBClassifier(base_score=0.5, colsample_bylevel=1, colsample_bytree=1,\n",
       "       gamma=0, learning_rate=0.05, max_delta_step=0, max_depth=3,\n",
       "       min_child_weight=1, missing=None, n_estimators=200, nthread=-1,\n",
       "       objective='binary:logistic', reg_alpha=0, reg_lambda=1,\n",
       "       scale_pos_weight=1, seed=123, silent=True, subsample=1)"
      ]
     },
     "execution_count": 590,
     "metadata": {},
     "output_type": "execute_result"
    }
   ],
   "source": [
    "xb_mod_3.fit(X_train, Y_train, eval_metric=[\"auc\",\"error\",\"logloss\"],\n",
    "          early_stopping_rounds=10, eval_set=eval_set,verbose=True)"
   ]
  },
  {
   "cell_type": "markdown",
   "metadata": {},
   "source": [
    "With early stopping on our 3rd XGBoost model, the model stopped fitting after 111 iterations, with the best iteration at 101.  From 101 to 111 the logloss does not change much so it stopped."
   ]
  },
  {
   "cell_type": "code",
   "execution_count": 591,
   "metadata": {
    "collapsed": true
   },
   "outputs": [],
   "source": [
    "# retrieve performance metrics\n",
    "results = xb_mod_3.evals_result()\n",
    "numrounds = len(results['validation_0']['error'])\n",
    "x_axis = range(0, numrounds)"
   ]
  },
  {
   "cell_type": "code",
   "execution_count": 592,
   "metadata": {},
   "outputs": [
    {
     "data": {
      "image/png": "[encoded data removed]",
      "text/plain": [
       "<matplotlib.figure.Figure at 0x126affb70>"
      ]
     },
     "metadata": {},
     "output_type": "display_data"
    }
   ],
   "source": [
    "#Plot Error\n",
    "fig, ax = plt.subplots(figsize=(12, 4))\n",
    "ax.plot(x_axis, results['validation_0']['error'], label='Train-Error')\n",
    "ax.plot(x_axis, results['validation_1']['error'], label='Test-Error')\n",
    "ax.legend()\n",
    "plt.xlabel('Num of rounds(n_estimators)')\n",
    "plt.ylabel('Error')\n",
    "plt.title('XGBoost Error')\n",
    "plt.show();\n"
   ]
  },
  {
   "cell_type": "code",
   "execution_count": 593,
   "metadata": {},
   "outputs": [
    {
     "data": {
      "image/png": "[encoded data removed]",
      "text/plain": [
       "<matplotlib.figure.Figure at 0x126e41940>"
      ]
     },
     "metadata": {},
     "output_type": "display_data"
    }
   ],
   "source": [
    "#Plot log loss\n",
    "fig, ax = plt.subplots(figsize=(12, 4))\n",
    "ax.plot(x_axis, results['validation_0']['logloss'], label='Train-logloss')\n",
    "ax.plot(x_axis, results['validation_1']['logloss'], label='Test-logloss')\n",
    "ax.legend()\n",
    "plt.xlabel('Num of rounds(n_estimators)')\n",
    "plt.ylabel('Log Loss')\n",
    "plt.title('XGBoost Log Loss')\n",
    "plt.show();"
   ]
  },
  {
   "cell_type": "code",
   "execution_count": 606,
   "metadata": {},
   "outputs": [
    {
     "data": {
      "text/plain": [
       "array(['z206', 'x34', 'phase_2', 'z58', 'z8', 'y70', 'z207', 'y36', 'z7',\n",
       "       'z205', 'z216', 'x112', 'x24', 'x58', 'x173', 'z107', 'z143', 'x8',\n",
       "       'z10', 'z21', 'z213', 'z69', 'phase_1', 'x59', 'x61', 'x83', 'y18',\n",
       "       'y206', 'y221', 'y8', 'z11', 'x221', 'x33', 'x7', 'x75', 'x82',\n",
       "       'y215', 'y62', 'y78', 'z111', 'z146', 'z68', 'z75', 'z88', 'x193',\n",
       "       'x209', 'y76', 'z220', 'z55', 'phase_3'], dtype=object)"
      ]
     },
     "execution_count": 606,
     "metadata": {},
     "output_type": "execute_result"
    }
   ],
   "source": [
    "#Let's try to only use the top 50 features from our Feature Importance plot above where and try XGBoost again!\n",
    "\n",
    "xgb_features = xgb_top_50.feature.as_matrix()\n",
    "xgb_features"
   ]
  },
  {
   "cell_type": "code",
   "execution_count": 607,
   "metadata": {},
   "outputs": [
    {
     "data": {
      "text/html": [
       "<div>\n",
       "<style>\n",
       "    .dataframe thead tr:only-child th {\n",
       "        text-align: right;\n",
       "    }\n",
       "\n",
       "    .dataframe thead th {\n",
       "        text-align: left;\n",
       "    }\n",
       "\n",
       "    .dataframe tbody tr th {\n",
       "        vertical-align: top;\n",
       "    }\n",
       "</style>\n",
       "<table border=\"1\" class=\"dataframe\">\n",
       "  <thead>\n",
       "    <tr style=\"text-align: right;\">\n",
       "      <th></th>\n",
       "      <th>z206</th>\n",
       "      <th>x34</th>\n",
       "      <th>phase_2</th>\n",
       "      <th>z58</th>\n",
       "      <th>z8</th>\n",
       "      <th>y70</th>\n",
       "      <th>z207</th>\n",
       "      <th>y36</th>\n",
       "      <th>z7</th>\n",
       "      <th>z205</th>\n",
       "      <th>...</th>\n",
       "      <th>z146</th>\n",
       "      <th>z68</th>\n",
       "      <th>z75</th>\n",
       "      <th>z88</th>\n",
       "      <th>x193</th>\n",
       "      <th>x209</th>\n",
       "      <th>y76</th>\n",
       "      <th>z220</th>\n",
       "      <th>z55</th>\n",
       "      <th>phase_3</th>\n",
       "    </tr>\n",
       "  </thead>\n",
       "  <tbody>\n",
       "    <tr>\n",
       "      <th>0</th>\n",
       "      <td>0.001721</td>\n",
       "      <td>-0.726331</td>\n",
       "      <td>0</td>\n",
       "      <td>0.522332</td>\n",
       "      <td>6.355188</td>\n",
       "      <td>53</td>\n",
       "      <td>0.085922</td>\n",
       "      <td>0.000006</td>\n",
       "      <td>-2.896664</td>\n",
       "      <td>0.275763</td>\n",
       "      <td>...</td>\n",
       "      <td>-0.038610</td>\n",
       "      <td>37</td>\n",
       "      <td>2.049416</td>\n",
       "      <td>0.001464</td>\n",
       "      <td>0.007174</td>\n",
       "      <td>-13.529656</td>\n",
       "      <td>0.004305</td>\n",
       "      <td>-382.850838</td>\n",
       "      <td>-0.117904</td>\n",
       "      <td>1</td>\n",
       "    </tr>\n",
       "    <tr>\n",
       "      <th>1</th>\n",
       "      <td>-0.084892</td>\n",
       "      <td>-0.720823</td>\n",
       "      <td>0</td>\n",
       "      <td>0.570772</td>\n",
       "      <td>3.896486</td>\n",
       "      <td>54</td>\n",
       "      <td>-0.001900</td>\n",
       "      <td>0.000023</td>\n",
       "      <td>-2.463686</td>\n",
       "      <td>0.407122</td>\n",
       "      <td>...</td>\n",
       "      <td>-0.042187</td>\n",
       "      <td>41</td>\n",
       "      <td>1.925930</td>\n",
       "      <td>0.001799</td>\n",
       "      <td>0.010423</td>\n",
       "      <td>-13.271806</td>\n",
       "      <td>0.005594</td>\n",
       "      <td>24.802230</td>\n",
       "      <td>-0.090667</td>\n",
       "      <td>1</td>\n",
       "    </tr>\n",
       "    <tr>\n",
       "      <th>2</th>\n",
       "      <td>-0.037701</td>\n",
       "      <td>-0.573185</td>\n",
       "      <td>0</td>\n",
       "      <td>0.490339</td>\n",
       "      <td>0.497567</td>\n",
       "      <td>59</td>\n",
       "      <td>0.075873</td>\n",
       "      <td>0.000045</td>\n",
       "      <td>-3.254425</td>\n",
       "      <td>0.301952</td>\n",
       "      <td>...</td>\n",
       "      <td>0.007106</td>\n",
       "      <td>38</td>\n",
       "      <td>1.926429</td>\n",
       "      <td>0.000999</td>\n",
       "      <td>-0.006361</td>\n",
       "      <td>-10.585343</td>\n",
       "      <td>0.004207</td>\n",
       "      <td>-17.474861</td>\n",
       "      <td>-0.027209</td>\n",
       "      <td>1</td>\n",
       "    </tr>\n",
       "    <tr>\n",
       "      <th>3</th>\n",
       "      <td>-0.342074</td>\n",
       "      <td>0.192285</td>\n",
       "      <td>0</td>\n",
       "      <td>0.031987</td>\n",
       "      <td>388.858863</td>\n",
       "      <td>60</td>\n",
       "      <td>0.254876</td>\n",
       "      <td>-0.000016</td>\n",
       "      <td>-6.089510</td>\n",
       "      <td>0.241572</td>\n",
       "      <td>...</td>\n",
       "      <td>0.386663</td>\n",
       "      <td>28</td>\n",
       "      <td>1.957857</td>\n",
       "      <td>0.002657</td>\n",
       "      <td>-0.024576</td>\n",
       "      <td>2.450763</td>\n",
       "      <td>0.006230</td>\n",
       "      <td>-549.282067</td>\n",
       "      <td>0.994891</td>\n",
       "      <td>1</td>\n",
       "    </tr>\n",
       "    <tr>\n",
       "      <th>4</th>\n",
       "      <td>-0.159647</td>\n",
       "      <td>-0.256703</td>\n",
       "      <td>0</td>\n",
       "      <td>0.346458</td>\n",
       "      <td>235.125039</td>\n",
       "      <td>53</td>\n",
       "      <td>0.086683</td>\n",
       "      <td>-0.000007</td>\n",
       "      <td>-7.225891</td>\n",
       "      <td>0.380735</td>\n",
       "      <td>...</td>\n",
       "      <td>0.303931</td>\n",
       "      <td>43</td>\n",
       "      <td>1.827073</td>\n",
       "      <td>0.001526</td>\n",
       "      <td>-0.019066</td>\n",
       "      <td>-5.425387</td>\n",
       "      <td>0.004587</td>\n",
       "      <td>-78.143166</td>\n",
       "      <td>0.772565</td>\n",
       "      <td>0</td>\n",
       "    </tr>\n",
       "  </tbody>\n",
       "</table>\n",
       "<p>5 rows × 50 columns</p>\n",
       "</div>"
      ],
      "text/plain": [
       "       z206       x34  phase_2       z58          z8  y70      z207       y36  \\\n",
       "0  0.001721 -0.726331        0  0.522332    6.355188   53  0.085922  0.000006   \n",
       "1 -0.084892 -0.720823        0  0.570772    3.896486   54 -0.001900  0.000023   \n",
       "2 -0.037701 -0.573185        0  0.490339    0.497567   59  0.075873  0.000045   \n",
       "3 -0.342074  0.192285        0  0.031987  388.858863   60  0.254876 -0.000016   \n",
       "4 -0.159647 -0.256703        0  0.346458  235.125039   53  0.086683 -0.000007   \n",
       "\n",
       "         z7      z205   ...         z146  z68       z75       z88      x193  \\\n",
       "0 -2.896664  0.275763   ...    -0.038610   37  2.049416  0.001464  0.007174   \n",
       "1 -2.463686  0.407122   ...    -0.042187   41  1.925930  0.001799  0.010423   \n",
       "2 -3.254425  0.301952   ...     0.007106   38  1.926429  0.000999 -0.006361   \n",
       "3 -6.089510  0.241572   ...     0.386663   28  1.957857  0.002657 -0.024576   \n",
       "4 -7.225891  0.380735   ...     0.303931   43  1.827073  0.001526 -0.019066   \n",
       "\n",
       "        x209       y76        z220       z55  phase_3  \n",
       "0 -13.529656  0.004305 -382.850838 -0.117904        1  \n",
       "1 -13.271806  0.005594   24.802230 -0.090667        1  \n",
       "2 -10.585343  0.004207  -17.474861 -0.027209        1  \n",
       "3   2.450763  0.006230 -549.282067  0.994891        1  \n",
       "4  -5.425387  0.004587  -78.143166  0.772565        0  \n",
       "\n",
       "[5 rows x 50 columns]"
      ]
     },
     "execution_count": 607,
     "metadata": {},
     "output_type": "execute_result"
    }
   ],
   "source": [
    "#create a new dataframe with only the Training data columns deemed \"important\" by our XGBoost Feature Importances plot\n",
    "df_dummies_train_xgb_features = df_dummies_train[xgb_features]\n",
    "df_dummies_train_xgb_features.head()"
   ]
  },
  {
   "cell_type": "code",
   "execution_count": 608,
   "metadata": {},
   "outputs": [
    {
     "data": {
      "text/plain": [
       "array([[  1.72082200e-03,  -7.26331055e-01,   0.00000000e+00, ...,\n",
       "         -3.82850838e+02,  -1.17903769e-01,   1.00000000e+00],\n",
       "       [ -8.48919660e-02,  -7.20822513e-01,   0.00000000e+00, ...,\n",
       "          2.48022305e+01,  -9.06671060e-02,   1.00000000e+00],\n",
       "       [ -3.77012670e-02,  -5.73185146e-01,   0.00000000e+00, ...,\n",
       "         -1.74748609e+01,  -2.72091290e-02,   1.00000000e+00],\n",
       "       ..., \n",
       "       [  6.24087380e-02,  -8.96029770e-01,   0.00000000e+00, ...,\n",
       "          2.64078610e-02,  -3.17804000e-03,   0.00000000e+00],\n",
       "       [ -3.54247790e-02,  -6.05205655e-01,   0.00000000e+00, ...,\n",
       "         -6.89290200e-03,  -1.26597092e-01,   0.00000000e+00],\n",
       "       [ -1.27244130e-02,  -9.28975582e-01,   0.00000000e+00, ...,\n",
       "          3.38236583e+00,   2.96231329e-01,   0.00000000e+00]])"
      ]
     },
     "execution_count": 608,
     "metadata": {},
     "output_type": "execute_result"
    }
   ],
   "source": [
    "#Get the matrix form of the XGBoost important features\n",
    "x_train_xgb_features = df_dummies_train_xgb_features.as_matrix()\n",
    "x_train_xgb_features"
   ]
  },
  {
   "cell_type": "code",
   "execution_count": 609,
   "metadata": {},
   "outputs": [
    {
     "name": "stdout",
     "output_type": "stream",
     "text": [
      "(4584, 50) (3667, 50) (917, 50)\n"
     ]
    }
   ],
   "source": [
    "#Now we can train-test-split on the new x matrix of predictors deemed \"important\" by XGBoost\n",
    "X_train, X_test, Y_train, Y_test = train_test_split(x_train_xgb_features, y, test_size=.20, random_state=22) \n",
    "print (x_train_xgb_features.shape, X_train.shape, X_test.shape)"
   ]
  },
  {
   "cell_type": "code",
   "execution_count": 613,
   "metadata": {},
   "outputs": [
    {
     "name": "stdout",
     "output_type": "stream",
     "text": [
      "Accuracy: 83.42421%\n"
     ]
    }
   ],
   "source": [
    "#XGBoost model 4: use only 100 estimators and learning rate of 0.05 this time based on our tuning above\n",
    "\n",
    "xb_mod_4 = xgb.XGBClassifier(learning_rate=0.05,n_estimators=100,seed=123).fit(X_train,Y_train)\n",
    "\n",
    "y_pred = xb_mod_4.predict(X_test)\n",
    "#evaluate predictions\n",
    "accuracy = accuracy_score(Y_test, y_pred)\n",
    "print(\"Accuracy: %.5f%%\" % (accuracy * 100.0)) "
   ]
  },
  {
   "cell_type": "markdown",
   "metadata": {},
   "source": [
    "Hmmmm, not sure why the top 50 important features from XGBoost tuning would do WORSE than using ALL available features and no tuning at all (83.42% here compared with our first model with no tuning at 83.75%). Let's check AUC score just to compare directly with our other classifier types as shown in our stacked model approached previously."
   ]
  },
  {
   "cell_type": "code",
   "execution_count": 615,
   "metadata": {},
   "outputs": [
    {
     "name": "stdout",
     "output_type": "stream",
     "text": [
      "AUC with XGBoost :  0.712897375355\n"
     ]
    }
   ],
   "source": [
    "y_pred_proba = xb_mod_4.predict_proba(X_test)\n",
    "fpr, tpr, thresholds = roc_curve(Y_test, y_pred_proba[:,1])\n",
    "roc_auc = auc(fpr, tpr)\n",
    "print(\"AUC with XGBoost : \", roc_auc)"
   ]
  },
  {
   "cell_type": "markdown",
   "metadata": {},
   "source": [
    "Well, according to the AUC score metric, when compared against our other classifiers shown previously in the stacked model approach (also scored by AUC), XGBoost isn't too bad, roughly the same as RandomForest."
   ]
  },
  {
   "cell_type": "markdown",
   "metadata": {},
   "source": [
    "Maybe it's time to try the stacked model once again, but this time with XGBoost thrown into the mix.  Sounds like fun!"
   ]
  },
  {
   "cell_type": "code",
   "execution_count": 619,
   "metadata": {},
   "outputs": [
    {
     "name": "stdout",
     "output_type": "stream",
     "text": [
      "(4584, 50) (3667, 50) (917, 50)\n"
     ]
    }
   ],
   "source": [
    "#Use the 50 most important features as found by XGBoost for the stacked model this time\n",
    "\n",
    "#Split into training and test set - where the latter is 20% of the total \n",
    "X_train, X_test, Y_train, Y_test = train_test_split(x_train_xgb_features, y, test_size=.20, random_state=444) \n",
    "print (x_train_xgb_features.shape, X_train.shape, X_test.shape)"
   ]
  },
  {
   "cell_type": "code",
   "execution_count": 621,
   "metadata": {},
   "outputs": [
    {
     "name": "stdout",
     "output_type": "stream",
     "text": [
      "AUC with RandomForest  :  0.71113579875\n",
      "AUC with QDA  :  0.644224975522\n",
      "AUC with KNN  :  0.59927412066\n",
      "AUC with LogisticRegression  :  0.667790163441\n",
      "AUC with Gaussian Naive Bayes  :  0.598243202531\n",
      "AUC with XGBoost  :  0.726048806206\n"
     ]
    }
   ],
   "source": [
    "#Stacked Model Number 5: add XGBoost to the party\n",
    "\n",
    "estimators = [(\"RandomForest\", RandomForestClassifier(n_estimators=50,max_depth=10,min_samples_split= 6,random_state=50)),\n",
    "              (\"QDA\",QuadraticDiscriminantAnalysis()),\n",
    "              (\"KNN\",KNeighborsClassifier(n_neighbors = 15, weights='distance')),\n",
    "              (\"LogisticRegression\",LogisticRegression(random_state=57)),\n",
    "              (\"Gaussian Naive Bayes\",GaussianNB()),\n",
    "              (\"XGBoost\",xgb.XGBClassifier(learning_rate=0.05,n_estimators=200,seed=123))\n",
    "             ]\n",
    "for (name, estimator) in estimators:\n",
    "    Y_pred_test = estimator.fit(X_train,Y_train).predict_proba(X_test)\n",
    "    #AUC\n",
    "    fpr, tpr, thresholds = roc_curve(Y_test, Y_pred_test[:, 1])\n",
    "    roc_auc = auc(fpr, tpr)\n",
    "    print(\"AUC with\",name, \" : \" ,roc_auc)"
   ]
  },
  {
   "cell_type": "markdown",
   "metadata": {},
   "source": [
    "Nice, so with only the top 50 important features (from XGBoost tuning), XGBoost is actually the best individual classifier in the mix so far!  Let's continue to see the final AUC for this stacked model number 5."
   ]
  },
  {
   "cell_type": "code",
   "execution_count": 624,
   "metadata": {
    "collapsed": true
   },
   "outputs": [],
   "source": [
    "#Stacked Model 5 : Base level will only include RandomForest, QDA, and LogisticRegression\n",
    "\n",
    "#Build Model1 - Level 0\n",
    "Model1 = RandomForestClassifier(n_estimators=100,max_depth=10,min_samples_split=6,random_state=57).fit(X_train,Y_train)\n",
    "#Predict on X_train, X_test\n",
    "Model1_pred_test = Model1.predict_proba(X_test)\n",
    "Model1_pred_train = Model1.predict_proba(X_train)\n",
    "\n",
    "#Build Model2 - Level 0\n",
    "Model2 = QuadraticDiscriminantAnalysis().fit(X_train,Y_train)\n",
    "#Predict on X_train, X_test\n",
    "Model2_pred_test = Model2.predict_proba(X_test)\n",
    "Model2_pred_train = Model2.predict_proba(X_train)\n",
    "\n",
    "#Build Model3 - Level 0\n",
    "Model3 = LogisticRegression(random_state=49).fit(X_train,Y_train)\n",
    "#Predict on X_train, X_test\n",
    "Model3_pred_test = Model3.predict_proba(X_test)\n",
    "Model3_pred_train = Model3.predict_proba(X_train)\n",
    "\n"
   ]
  },
  {
   "cell_type": "code",
   "execution_count": 625,
   "metadata": {
    "collapsed": true
   },
   "outputs": [],
   "source": [
    "#Stacked Model 5 : Level 1 will use XGBoost\n",
    "\n",
    "#Model 4 - Level 1 \n",
    "FeaturesTrain1 = np.hstack([Model1_pred_train,Model2_pred_train,Model3_pred_train])  \n",
    "Model4 = xgb.XGBClassifier(learning_rate=0.05,n_estimators=200,seed=123).fit(FeaturesTrain1,Y_train)"
   ]
  },
  {
   "cell_type": "code",
   "execution_count": 626,
   "metadata": {},
   "outputs": [
    {
     "name": "stdout",
     "output_type": "stream",
     "text": [
      "AUC with Stacking:  0.708833885667\n"
     ]
    }
   ],
   "source": [
    "#Stacked Model 5\n",
    "\n",
    "FeaturesTest1 = np.hstack([Model1_pred_test,Model2_pred_test,Model3_pred_test])\n",
    "\n",
    "#Final predictions\n",
    "final_pred = Model4.predict_proba(FeaturesTest1)\n",
    "\n",
    "#AUC\n",
    "fpr, tpr, thresholds = roc_curve(Y_test, final_pred[:, 1])\n",
    "roc_auc = auc(fpr, tpr)\n",
    "print(\"AUC with Stacking: \" , roc_auc)\n"
   ]
  },
  {
   "cell_type": "markdown",
   "metadata": {},
   "source": [
    "OK, so this is my best Stacked Model so far! \n",
    "\n",
    "Let's try rearranging the models to get better performance (XGBoost still included)."
   ]
  },
  {
   "cell_type": "code",
   "execution_count": null,
   "metadata": {
    "collapsed": true
   },
   "outputs": [],
   "source": [
    "#Use the 50 most important features as found by XGBoost for the stacked model\n",
    "\n",
    "#Split into training and test set - where the latter is 20% of the total \n",
    "X_train, X_test, Y_train, Y_test = train_test_split(x_train_xgb_features, y, test_size=.20, random_state=444) \n",
    "print (x_train_xgb_features.shape, X_train.shape, X_test.shape)"
   ]
  },
  {
   "cell_type": "code",
   "execution_count": 627,
   "metadata": {
    "collapsed": true
   },
   "outputs": [],
   "source": [
    "#Stacked Model 6 : Base level will only include XGBoost, QDA, and KNN\n",
    "\n",
    "#Build Model1 - Level 0\n",
    "Model1 = xgb.XGBClassifier(learning_rate=0.05,n_estimators=200,seed=123).fit(X_train,Y_train)\n",
    "#Predict on X_train, X_test\n",
    "Model1_pred_test = Model1.predict_proba(X_test)\n",
    "Model1_pred_train = Model1.predict_proba(X_train)\n",
    "\n",
    "#Build Model2 - Level 0\n",
    "Model2 = QuadraticDiscriminantAnalysis().fit(X_train,Y_train)\n",
    "#Predict on X_train, X_test\n",
    "Model2_pred_test = Model2.predict_proba(X_test)\n",
    "Model2_pred_train = Model2.predict_proba(X_train)\n",
    "\n",
    "#Build Model3 - Level 0\n",
    "Model3 = KNeighborsClassifier(n_neighbors=15, weights='distance').fit(X_train,Y_train)\n",
    "#Predict on X_train, X_test\n",
    "Model3_pred_test = Model3.predict_proba(X_test)\n",
    "Model3_pred_train = Model3.predict_proba(X_train)\n",
    "\n"
   ]
  },
  {
   "cell_type": "code",
   "execution_count": 628,
   "metadata": {
    "collapsed": true
   },
   "outputs": [],
   "source": [
    "#Stacked Model 6 : Level 1 will use LogisticRegression\n",
    "\n",
    "#Model 4 - Level 1 \n",
    "FeaturesTrain1 = np.hstack([Model1_pred_train,Model2_pred_train,Model3_pred_train])  \n",
    "Model4 = LogisticRegression(random_state=53).fit(FeaturesTrain1,Y_train)"
   ]
  },
  {
   "cell_type": "code",
   "execution_count": 629,
   "metadata": {},
   "outputs": [
    {
     "name": "stdout",
     "output_type": "stream",
     "text": [
      "AUC with Stacking:  0.661764705882\n"
     ]
    }
   ],
   "source": [
    "#Stacked Model 6 :\n",
    "\n",
    "FeaturesTest1 = np.hstack([Model1_pred_test,Model2_pred_test,Model3_pred_test])\n",
    "\n",
    "#Final predictions\n",
    "final_pred = Model4.predict_proba(FeaturesTest1)\n",
    "\n",
    "#AUC\n",
    "fpr, tpr, thresholds = roc_curve(Y_test, final_pred[:, 1])\n",
    "roc_auc = auc(fpr, tpr)\n",
    "print(\"AUC with Stacking: \" , roc_auc)\n"
   ]
  },
  {
   "cell_type": "markdown",
   "metadata": {},
   "source": [
    "OK so we will clearly have to work on this stacked model business.  \n",
    "\n",
    "In the meantime, let's try another Kaggle submission for XGBoost and see how it does!"
   ]
  },
  {
   "cell_type": "code",
   "execution_count": 630,
   "metadata": {},
   "outputs": [
    {
     "data": {
      "text/html": [
       "<div>\n",
       "<style>\n",
       "    .dataframe thead tr:only-child th {\n",
       "        text-align: right;\n",
       "    }\n",
       "\n",
       "    .dataframe thead th {\n",
       "        text-align: left;\n",
       "    }\n",
       "\n",
       "    .dataframe tbody tr th {\n",
       "        vertical-align: top;\n",
       "    }\n",
       "</style>\n",
       "<table border=\"1\" class=\"dataframe\">\n",
       "  <thead>\n",
       "    <tr style=\"text-align: right;\">\n",
       "      <th></th>\n",
       "      <th>z206</th>\n",
       "      <th>x34</th>\n",
       "      <th>phase_2</th>\n",
       "      <th>z58</th>\n",
       "      <th>z8</th>\n",
       "      <th>y70</th>\n",
       "      <th>z207</th>\n",
       "      <th>y36</th>\n",
       "      <th>z7</th>\n",
       "      <th>z205</th>\n",
       "      <th>...</th>\n",
       "      <th>z146</th>\n",
       "      <th>z68</th>\n",
       "      <th>z75</th>\n",
       "      <th>z88</th>\n",
       "      <th>x193</th>\n",
       "      <th>x209</th>\n",
       "      <th>y76</th>\n",
       "      <th>z220</th>\n",
       "      <th>z55</th>\n",
       "      <th>phase_3</th>\n",
       "    </tr>\n",
       "  </thead>\n",
       "  <tbody>\n",
       "    <tr>\n",
       "      <th>0</th>\n",
       "      <td>-0.124054</td>\n",
       "      <td>-0.003840</td>\n",
       "      <td>0</td>\n",
       "      <td>0.229096</td>\n",
       "      <td>278.661107</td>\n",
       "      <td>53</td>\n",
       "      <td>-0.017312</td>\n",
       "      <td>0.000004</td>\n",
       "      <td>-11.235744</td>\n",
       "      <td>0.238412</td>\n",
       "      <td>...</td>\n",
       "      <td>0.317552</td>\n",
       "      <td>39</td>\n",
       "      <td>1.918159</td>\n",
       "      <td>0.001276</td>\n",
       "      <td>0.003965</td>\n",
       "      <td>-1.079066</td>\n",
       "      <td>0.003785</td>\n",
       "      <td>-821.094825</td>\n",
       "      <td>0.839949</td>\n",
       "      <td>0</td>\n",
       "    </tr>\n",
       "    <tr>\n",
       "      <th>1</th>\n",
       "      <td>-0.095541</td>\n",
       "      <td>-0.006949</td>\n",
       "      <td>0</td>\n",
       "      <td>0.570324</td>\n",
       "      <td>277.341634</td>\n",
       "      <td>50</td>\n",
       "      <td>-0.106681</td>\n",
       "      <td>-0.000023</td>\n",
       "      <td>-3.940619</td>\n",
       "      <td>0.625594</td>\n",
       "      <td>...</td>\n",
       "      <td>0.310509</td>\n",
       "      <td>44</td>\n",
       "      <td>1.897441</td>\n",
       "      <td>0.001648</td>\n",
       "      <td>-0.002510</td>\n",
       "      <td>-0.771502</td>\n",
       "      <td>0.006016</td>\n",
       "      <td>-943.446587</td>\n",
       "      <td>0.840098</td>\n",
       "      <td>0</td>\n",
       "    </tr>\n",
       "    <tr>\n",
       "      <th>2</th>\n",
       "      <td>-0.098799</td>\n",
       "      <td>-0.167646</td>\n",
       "      <td>0</td>\n",
       "      <td>0.244050</td>\n",
       "      <td>288.200244</td>\n",
       "      <td>47</td>\n",
       "      <td>0.045188</td>\n",
       "      <td>0.000012</td>\n",
       "      <td>-13.264658</td>\n",
       "      <td>0.241595</td>\n",
       "      <td>...</td>\n",
       "      <td>0.324680</td>\n",
       "      <td>41</td>\n",
       "      <td>2.006402</td>\n",
       "      <td>0.001415</td>\n",
       "      <td>-0.021110</td>\n",
       "      <td>-3.845917</td>\n",
       "      <td>0.003110</td>\n",
       "      <td>-1445.004242</td>\n",
       "      <td>0.853748</td>\n",
       "      <td>0</td>\n",
       "    </tr>\n",
       "    <tr>\n",
       "      <th>3</th>\n",
       "      <td>-0.109013</td>\n",
       "      <td>-0.458929</td>\n",
       "      <td>0</td>\n",
       "      <td>0.340983</td>\n",
       "      <td>199.087062</td>\n",
       "      <td>48</td>\n",
       "      <td>-0.026862</td>\n",
       "      <td>0.000010</td>\n",
       "      <td>-5.516460</td>\n",
       "      <td>0.365952</td>\n",
       "      <td>...</td>\n",
       "      <td>0.265230</td>\n",
       "      <td>34</td>\n",
       "      <td>1.822021</td>\n",
       "      <td>0.001715</td>\n",
       "      <td>-0.015108</td>\n",
       "      <td>-8.705269</td>\n",
       "      <td>0.003483</td>\n",
       "      <td>1163.146256</td>\n",
       "      <td>0.709934</td>\n",
       "      <td>0</td>\n",
       "    </tr>\n",
       "    <tr>\n",
       "      <th>4</th>\n",
       "      <td>-0.162033</td>\n",
       "      <td>-0.450096</td>\n",
       "      <td>0</td>\n",
       "      <td>0.122477</td>\n",
       "      <td>205.039452</td>\n",
       "      <td>59</td>\n",
       "      <td>0.286453</td>\n",
       "      <td>0.000009</td>\n",
       "      <td>-7.363883</td>\n",
       "      <td>0.202589</td>\n",
       "      <td>...</td>\n",
       "      <td>0.271604</td>\n",
       "      <td>35</td>\n",
       "      <td>1.526465</td>\n",
       "      <td>0.000952</td>\n",
       "      <td>0.005128</td>\n",
       "      <td>-8.421385</td>\n",
       "      <td>0.004509</td>\n",
       "      <td>1838.968578</td>\n",
       "      <td>0.721396</td>\n",
       "      <td>0</td>\n",
       "    </tr>\n",
       "  </tbody>\n",
       "</table>\n",
       "<p>5 rows × 50 columns</p>\n",
       "</div>"
      ],
      "text/plain": [
       "       z206       x34  phase_2       z58          z8  y70      z207       y36  \\\n",
       "0 -0.124054 -0.003840        0  0.229096  278.661107   53 -0.017312  0.000004   \n",
       "1 -0.095541 -0.006949        0  0.570324  277.341634   50 -0.106681 -0.000023   \n",
       "2 -0.098799 -0.167646        0  0.244050  288.200244   47  0.045188  0.000012   \n",
       "3 -0.109013 -0.458929        0  0.340983  199.087062   48 -0.026862  0.000010   \n",
       "4 -0.162033 -0.450096        0  0.122477  205.039452   59  0.286453  0.000009   \n",
       "\n",
       "          z7      z205   ...         z146  z68       z75       z88      x193  \\\n",
       "0 -11.235744  0.238412   ...     0.317552   39  1.918159  0.001276  0.003965   \n",
       "1  -3.940619  0.625594   ...     0.310509   44  1.897441  0.001648 -0.002510   \n",
       "2 -13.264658  0.241595   ...     0.324680   41  2.006402  0.001415 -0.021110   \n",
       "3  -5.516460  0.365952   ...     0.265230   34  1.822021  0.001715 -0.015108   \n",
       "4  -7.363883  0.202589   ...     0.271604   35  1.526465  0.000952  0.005128   \n",
       "\n",
       "       x209       y76         z220       z55  phase_3  \n",
       "0 -1.079066  0.003785  -821.094825  0.839949        0  \n",
       "1 -0.771502  0.006016  -943.446587  0.840098        0  \n",
       "2 -3.845917  0.003110 -1445.004242  0.853748        0  \n",
       "3 -8.705269  0.003483  1163.146256  0.709934        0  \n",
       "4 -8.421385  0.004509  1838.968578  0.721396        0  \n",
       "\n",
       "[5 rows x 50 columns]"
      ]
     },
     "execution_count": 630,
     "metadata": {},
     "output_type": "execute_result"
    }
   ],
   "source": [
    "#create a new dataframe with only the Test data columns deemed \"important\" by our XGBoost Feature Importances plot\n",
    "df_dummies_test_xgb_features = df_dummies_test[xgb_features]\n",
    "df_dummies_test_xgb_features.head()"
   ]
  },
  {
   "cell_type": "code",
   "execution_count": 631,
   "metadata": {},
   "outputs": [
    {
     "data": {
      "text/plain": [
       "array([[ -1.24053760e-01,  -3.84040500e-03,   0.00000000e+00, ...,\n",
       "         -8.21094825e+02,   8.39948952e-01,   0.00000000e+00],\n",
       "       [ -9.55408130e-02,  -6.94861200e-03,   0.00000000e+00, ...,\n",
       "         -9.43446587e+02,   8.40097547e-01,   0.00000000e+00],\n",
       "       [ -9.87985210e-02,  -1.67646095e-01,   0.00000000e+00, ...,\n",
       "         -1.44500424e+03,   8.53748024e-01,   0.00000000e+00],\n",
       "       ..., \n",
       "       [ -1.32687192e-01,  -9.00229752e-01,   0.00000000e+00, ...,\n",
       "          3.14852634e-01,   9.87396760e-02,   0.00000000e+00],\n",
       "       [ -6.04286169e-01,  -8.32085192e-01,   0.00000000e+00, ...,\n",
       "          4.76643830e-02,   2.32657745e-01,   0.00000000e+00],\n",
       "       [ -5.95932081e-01,  -8.98858428e-01,   0.00000000e+00, ...,\n",
       "         -2.64237580e-02,   1.55081928e-01,   0.00000000e+00]])"
      ]
     },
     "execution_count": 631,
     "metadata": {},
     "output_type": "execute_result"
    }
   ],
   "source": [
    "#Get the matrix form of the XGBoost important features for the Test data\n",
    "x_test_xgb_features = df_dummies_test_xgb_features.as_matrix()\n",
    "x_test_xgb_features"
   ]
  },
  {
   "cell_type": "code",
   "execution_count": 633,
   "metadata": {
    "collapsed": true
   },
   "outputs": [],
   "source": [
    "#Make an XGBoost prediction (using top 50 important features from XGBoost tuning) to submit to Kaggle \n",
    "\n",
    "#use 100% of training data for the fit!\n",
    "xgb_model = xgb.XGBClassifier(learning_rate=0.05,n_estimators=200,seed=123).fit(x_train_xgb_features,y)\n",
    "\n",
    "#cutoff value of 0.5\n",
    "preds3 = cutoff_predict(xgb_model,x_test_xgb_features,0.5)"
   ]
  },
  {
   "cell_type": "code",
   "execution_count": 635,
   "metadata": {},
   "outputs": [
    {
     "data": {
      "text/plain": [
       "1732"
      ]
     },
     "execution_count": 635,
     "metadata": {},
     "output_type": "execute_result"
    }
   ],
   "source": [
    "#check length of the prediction array to make sure it's 1732\n",
    "len(preds3)"
   ]
  },
  {
   "cell_type": "code",
   "execution_count": 636,
   "metadata": {
    "collapsed": true
   },
   "outputs": [],
   "source": [
    "#Third Kaggle submission\n",
    "\n",
    "submission3 = pd.DataFrame( {\n",
    "    \"id\": df_dummies_test_index['index'],\n",
    "    \"output\": preds3\n",
    "})\n",
    "submission3.to_csv('McNutt_Jonathan_3.csv', index=False)"
   ]
  },
  {
   "cell_type": "markdown",
   "metadata": {},
   "source": [
    "My 3rd Kaggle submission was a lowly 0.51029, which didn't do me any good on the leaderboard :( sadness, I know.  Back to the drawing board it seems.  \n",
    "\n",
    "Perhaps it's time to try submitting one of my stacked models just to see what it does on the public leaderboard?"
   ]
  },
  {
   "cell_type": "code",
   "execution_count": 637,
   "metadata": {},
   "outputs": [
    {
     "name": "stdout",
     "output_type": "stream",
     "text": [
      "(4584, 65) (3667, 65) (917, 65)\n"
     ]
    }
   ],
   "source": [
    "#Let's go back to the top 65 important features found by RandomForest, as opposed to XGBoost, for the stacked model\n",
    "# But this time we will include XGBoost (was not on 'x_train_features')\n",
    "\n",
    "#Split the full Training data (minus the 'subject' column) into training and test set \n",
    "#  - where the test set is 20% of the total \n",
    "X_train, X_test, Y_train, Y_test = train_test_split(x_train_features, y, test_size=.20, random_state=50) \n",
    "print (x_train_features.shape, X_train.shape, X_test.shape)"
   ]
  },
  {
   "cell_type": "code",
   "execution_count": 638,
   "metadata": {},
   "outputs": [
    {
     "name": "stdout",
     "output_type": "stream",
     "text": [
      "AUC with RandomForest  :  0.748391907431\n",
      "AUC with QDA  :  0.581118837142\n",
      "AUC with KNN  :  0.686722904988\n",
      "AUC with LogisticRegression  :  0.693159767141\n",
      "AUC with Gaussian Naive Bayes  :  0.577040211298\n",
      "AUC with XGBoost  :  0.727675362944\n"
     ]
    }
   ],
   "source": [
    "\n",
    "estimators = [(\"RandomForest\", RandomForestClassifier(n_estimators=50,max_depth=10,min_samples_split= 6,random_state=50)),\n",
    "              (\"QDA\",QuadraticDiscriminantAnalysis()),\n",
    "              (\"KNN\",KNeighborsClassifier(n_neighbors = 15, weights='distance')),\n",
    "              (\"LogisticRegression\",LogisticRegression(random_state=57)),\n",
    "              (\"Gaussian Naive Bayes\",GaussianNB()),\n",
    "              (\"XGBoost\",xgb.XGBClassifier(learning_rate=0.05,n_estimators=200,seed=123))\n",
    "             ]\n",
    "for (name, estimator) in estimators:\n",
    "    Y_pred_test = estimator.fit(X_train,Y_train).predict_proba(X_test)\n",
    "    #AUC\n",
    "    fpr, tpr, thresholds = roc_curve(Y_test, Y_pred_test[:, 1])\n",
    "    roc_auc = auc(fpr, tpr)\n",
    "    print(\"AUC with\",name, \" : \" ,roc_auc)"
   ]
  },
  {
   "cell_type": "code",
   "execution_count": 654,
   "metadata": {
    "collapsed": true
   },
   "outputs": [],
   "source": [
    "#Stacked Model Number 7 : using x_train_features found by RandomForest plus XGBoost classifier\n",
    "\n",
    "#Build Model1 - Level 0\n",
    "Model1 = RandomForestClassifier(n_estimators=100,max_depth=5 ,random_state=57).fit(X_train,Y_train)\n",
    "#Predict on X_train, X_test\n",
    "Model1_pred_test = Model1.predict_proba(X_test)\n",
    "Model1_pred_train = Model1.predict_proba(X_train)\n",
    "\n",
    "#Build Model2 - Level 0\n",
    "Model2 = QuadraticDiscriminantAnalysis().fit(X_train,Y_train)\n",
    "#Predict on X_train, X_test\n",
    "Model2_pred_test = Model2.predict_proba(X_test)\n",
    "Model2_pred_train = Model2.predict_proba(X_train)\n",
    "\n",
    "# #Build Model3 - Level 0\n",
    "# Model3 = KNeighborsClassifier(n_neighbors=15, weights='distance').fit(X_train,Y_train)\n",
    "# #Predict on X_train, X_test\n",
    "# Model3_pred_test = Model3.predict_proba(X_test)\n",
    "# Model3_pred_train = Model3.predict_proba(X_train)\n",
    "\n",
    "#Build Model4 - Level 0\n",
    "Model4 = xgb.XGBClassifier(learning_rate=0.05,n_estimators=200,seed=123).fit(X_train,Y_train)\n",
    "#Predict on X_train, X_test\n",
    "Model4_pred_test = Model4.predict_proba(X_test)\n",
    "Model4_pred_train = Model4.predict_proba(X_train)\n"
   ]
  },
  {
   "cell_type": "code",
   "execution_count": 655,
   "metadata": {
    "collapsed": true
   },
   "outputs": [],
   "source": [
    "#Stacked Model Number 7 :\n",
    "\n",
    "#Model 5 - Level 1 \n",
    "\n",
    "# FeaturesTrain1 = np.hstack([Model1_pred_train,Model2_pred_train,Model3_pred_train,Model4_pred_train])\n",
    "# FeaturesTrain1 = np.hstack([Model1_pred_train,Model3_pred_train,Model4_pred_train]) \n",
    "FeaturesTrain1 = np.hstack([Model1_pred_train,Model2_pred_train,Model4_pred_train]) \n",
    "\n",
    "Model5 = LogisticRegression(random_state=49).fit(FeaturesTrain1,Y_train)"
   ]
  },
  {
   "cell_type": "code",
   "execution_count": 656,
   "metadata": {},
   "outputs": [
    {
     "name": "stdout",
     "output_type": "stream",
     "text": [
      "AUC with Stacking:  0.72659731206\n"
     ]
    }
   ],
   "source": [
    "#Stacked Model Number 7 :\n",
    "# FeaturesTest1 = np.hstack([Model1_pred_test,Model2_pred_test,Model3_pred_test,Model4_pred_test])\n",
    "# FeaturesTest1 = np.hstack([Model1_pred_test,Model3_pred_test,Model4_pred_test])\n",
    "FeaturesTest1 = np.hstack([Model1_pred_test,Model2_pred_test,Model4_pred_test])\n",
    "\n",
    "#Final predictions\n",
    "final_pred = Model5.predict_proba(FeaturesTest1)\n",
    "\n",
    "#AUC\n",
    "fpr, tpr, thresholds = roc_curve(Y_test, final_pred[:, 1])\n",
    "roc_auc = auc(fpr, tpr)\n",
    "print(\"AUC with Stacking: \" , roc_auc)"
   ]
  },
  {
   "cell_type": "markdown",
   "metadata": {},
   "source": [
    "OK, not bad, highest AUC stacked model so far.\n",
    "\n",
    "Now let's try to predict using all of the observations with only the 'x_train_features' predictors, but with our shiny, new stacked model."
   ]
  },
  {
   "cell_type": "code",
   "execution_count": 657,
   "metadata": {
    "collapsed": true
   },
   "outputs": [],
   "source": [
    "#Kaggle 4th submission: Stacked Model Number 7\n",
    "\n",
    "#Build Model1 - Level 0\n",
    "Model1 = RandomForestClassifier(n_estimators=100,max_depth=5 ,random_state=57).fit(x_train_features,y)\n",
    "#Predict on X_train, X_test\n",
    "Model1_pred_test = Model1.predict_proba(x_test_features)\n",
    "Model1_pred_train = Model1.predict_proba(x_train_features)\n",
    "\n",
    "#Build Model2 - Level 0\n",
    "Model2 = QuadraticDiscriminantAnalysis().fit(X_train,Y_train)\n",
    "#Predict on X_train, X_test\n",
    "Model2_pred_test = Model2.predict_proba(x_test_features)\n",
    "Model2_pred_train = Model2.predict_proba(x_train_features)\n",
    "\n",
    "#Build Model3 - Level 0\n",
    "Model3 = xgb.XGBClassifier(learning_rate=0.05,n_estimators=200,seed=123).fit(X_train,Y_train)\n",
    "#Predict on X_train, X_test\n",
    "Model3_pred_test = Model3.predict_proba(x_test_features)\n",
    "Model3_pred_train = Model3.predict_proba(x_train_features)\n"
   ]
  },
  {
   "cell_type": "code",
   "execution_count": 658,
   "metadata": {
    "collapsed": true
   },
   "outputs": [],
   "source": [
    "#Stacked Model Number 7 :\n",
    "\n",
    "#Model 4 - Level 1 \n",
    "\n",
    "FeaturesTrain1 = np.hstack([Model1_pred_train,Model2_pred_train,Model3_pred_train]) \n",
    "\n",
    "Model4 = LogisticRegression(random_state=49).fit(FeaturesTrain1,y)"
   ]
  },
  {
   "cell_type": "code",
   "execution_count": 661,
   "metadata": {
    "collapsed": true
   },
   "outputs": [],
   "source": [
    "#Stacked Model Number 7 :\n",
    "\n",
    "FeaturesTest1 = np.hstack([Model1_pred_test,Model2_pred_test,Model3_pred_test])\n",
    "\n",
    "#cutoff value of 0.5\n",
    "preds4 = cutoff_predict(Model4,FeaturesTest1,0.5)"
   ]
  },
  {
   "cell_type": "code",
   "execution_count": 663,
   "metadata": {},
   "outputs": [
    {
     "data": {
      "text/plain": [
       "1732"
      ]
     },
     "execution_count": 663,
     "metadata": {},
     "output_type": "execute_result"
    }
   ],
   "source": [
    "len(preds4)"
   ]
  },
  {
   "cell_type": "code",
   "execution_count": 664,
   "metadata": {
    "collapsed": true
   },
   "outputs": [],
   "source": [
    "#Fourth Kaggle submission\n",
    "\n",
    "submission4 = pd.DataFrame( {\n",
    "    \"id\": df_dummies_test_index['index'],\n",
    "    \"output\": preds4\n",
    "})\n",
    "submission4.to_csv('McNutt_Jonathan_4.csv', index=False)"
   ]
  },
  {
   "cell_type": "markdown",
   "metadata": {},
   "source": [
    "My 4th Kaggle submission scored a 0.53607, which is better than my 3rd, but still not an improvement over my 2nd submission (aw man).\n",
    "\n",
    "Time to try Support Vector Machines anyone??"
   ]
  },
  {
   "cell_type": "markdown",
   "metadata": {},
   "source": [
    "Before I switch over to SVM classifier, I'll try my Stacked Model approach one more time, but this time the features will be \"manually\" limited (i.e. 'eye-balled').\n",
    "\n",
    "What I mean by this is, there are several columns with all the same values (either '0' or '1'), so therefore they will not be very important to the 'output' response variable we are predicting.\n",
    "\n",
    "Anyway, it's worth a shot, right?"
   ]
  },
  {
   "cell_type": "code",
   "execution_count": null,
   "metadata": {
    "collapsed": true
   },
   "outputs": [],
   "source": [
    "#Notes to myself regarding which Test data columns seem to be 'static', that is, not changing in value.\n",
    "\n",
    "# x1,x2,x3,x14,x39,x47,x48,x57,x72,x73,x74,x81,x86,x87,x91,x92,x93,x96,x97,x98,x99,x103,x104,x105\n",
    "\n",
    "# x113,x118,x119,x120,x121,x122,x123,x124,x125,x126,x127,x128,x129,x130,x131,x132\n",
    "\n",
    "# That's 40 unique x-coordinate columns\n",
    "\n",
    "# the y columns seem to match fairly well with the x columns, so I will just drop the same ones\n",
    "\n",
    "# the z columns seem to also match with x and y static columns, so I will drop the same ones\n",
    "\n",
    "# Therefore, I will be dropping 120 total columns, and should check to make sure this is the case.\n"
   ]
  },
  {
   "cell_type": "code",
   "execution_count": 666,
   "metadata": {},
   "outputs": [
    {
     "data": {
      "text/plain": [
       "(4584, 675)"
      ]
     },
     "execution_count": 666,
     "metadata": {},
     "output_type": "execute_result"
    }
   ],
   "source": [
    "df_dummies_train.shape"
   ]
  },
  {
   "cell_type": "code",
   "execution_count": 668,
   "metadata": {},
   "outputs": [
    {
     "data": {
      "text/plain": [
       "['x1', 'x2', 'x3', 'x4', 'x5', 'x6', 'x7', 'x8', 'x9', 'x10']"
      ]
     },
     "execution_count": 668,
     "metadata": {},
     "output_type": "execute_result"
    }
   ],
   "source": [
    "list(df_dummies_train)[0:10]"
   ]
  },
  {
   "cell_type": "code",
   "execution_count": 15,
   "metadata": {
    "collapsed": true
   },
   "outputs": [],
   "source": [
    "#Get a list of x-coordinates to drop, then y-coordinates, then z-coordinates, then combine, then drop from dataframe\n",
    "\n",
    "x_coordinates = ['x1','x2','x3','x14','x39','x47','x48','x57','x72','x73','x74','x81','x86','x87','x91','x92',\n",
    "                 'x93','x96','x97','x98','x99','x103','x104','x105','x113','x118','x119','x120','x121','x122',\n",
    "                 'x123','x124','x125','x126','x127','x128','x129','x130','x131','x132']"
   ]
  },
  {
   "cell_type": "code",
   "execution_count": 16,
   "metadata": {
    "collapsed": true
   },
   "outputs": [],
   "source": [
    "y_coordinates = ['y1','y2','y3','y14','y39','y47','y48','y57','y72','y73','y74','y81','y86','y87','y91','y92',\n",
    "                 'y93','y96','y97','y98','y99','y103','y104','y105','y113','y118','y119','y120','y121','y122',\n",
    "                 'y123','y124','y125','y126','y127','y128','y129','y130','y131','y132']"
   ]
  },
  {
   "cell_type": "code",
   "execution_count": 17,
   "metadata": {
    "collapsed": true
   },
   "outputs": [],
   "source": [
    "z_coordinates = ['z1','z2','z3','z14','z39','z47','z48','z57','z72','z73','z74','z81','z86','z87','z91','z92',\n",
    "                 'z93','z96','z97','z98','z99','z103','z104','z105','z113','z118','z119','z120','z121','z122',\n",
    "                 'z123','z124','z125','z126','z127','z128','z129','z130','z131','z132']"
   ]
  },
  {
   "cell_type": "code",
   "execution_count": 681,
   "metadata": {
    "collapsed": true
   },
   "outputs": [],
   "source": [
    "columns_to_drop = x_coordinates"
   ]
  },
  {
   "cell_type": "code",
   "execution_count": 683,
   "metadata": {
    "collapsed": true
   },
   "outputs": [],
   "source": [
    "columns_to_drop.extend(y_coordinates)"
   ]
  },
  {
   "cell_type": "code",
   "execution_count": 685,
   "metadata": {
    "collapsed": true
   },
   "outputs": [],
   "source": [
    "columns_to_drop.extend(z_coordinates)"
   ]
  },
  {
   "cell_type": "code",
   "execution_count": 686,
   "metadata": {},
   "outputs": [
    {
     "name": "stdout",
     "output_type": "stream",
     "text": [
      "['x1', 'x2', 'x3', 'x14', 'x39', 'x47', 'x48', 'x57', 'x72', 'x73', 'x74', 'x81', 'x86', 'x87', 'x91', 'x92', 'x93', 'x96', 'x97', 'x98', 'x99', 'x103', 'x104', 'x105', 'x113', 'x118', 'x119', 'x120', 'x121', 'x122', 'x123', 'x124', 'x125', 'x126', 'x127', 'x128', 'x129', 'x130', 'x131', 'x132', 'y1', 'y2', 'y3', 'y14', 'y39', 'y47', 'y48', 'y57', 'y72', 'y73', 'y74', 'y81', 'y86', 'y87', 'y91', 'y92', 'y93', 'y96', 'y97', 'y98', 'y99', 'y103', 'y104', 'y105', 'y113', 'y118', 'y119', 'y120', 'y121', 'y122', 'y123', 'y124', 'y125', 'y126', 'y127', 'y128', 'y129', 'y130', 'y131', 'y132', 'y1', 'y2', 'y3', 'y14', 'y39', 'y47', 'y48', 'y57', 'y72', 'y73', 'y74', 'y81', 'y86', 'y87', 'y91', 'y92', 'y93', 'y96', 'y97', 'y98', 'y99', 'y103', 'y104', 'y105', 'y113', 'y118', 'y119', 'y120', 'y121', 'y122', 'y123', 'y124', 'y125', 'y126', 'y127', 'y128', 'y129', 'y130', 'y131', 'y132', 'y1', 'y2', 'y3', 'y14', 'y39', 'y47', 'y48', 'y57', 'y72', 'y73', 'y74', 'y81', 'y86', 'y87', 'y91', 'y92', 'y93', 'y96', 'y97', 'y98', 'y99', 'y103', 'y104', 'y105', 'y113', 'y118', 'y119', 'y120', 'y121', 'y122', 'y123', 'y124', 'y125', 'y126', 'y127', 'y128', 'y129', 'y130', 'y131', 'y132', 'z1', 'z2', 'z3', 'z14', 'z39', 'z47', 'z48', 'z57', 'z72', 'z73', 'z74', 'z81', 'z86', 'z87', 'z91', 'z92', 'z93', 'z96', 'z97', 'z98', 'z99', 'z103', 'z104', 'z105', 'z113', 'z118', 'z119', 'z120', 'z121', 'z122', 'z123', 'z124', 'z125', 'z126', 'z127', 'z128', 'z129', 'z130', 'z131', 'z132']\n"
     ]
    }
   ],
   "source": [
    "#Final list of columns to drop from the training AND test data \n",
    "print(columns_to_drop)"
   ]
  },
  {
   "cell_type": "code",
   "execution_count": 687,
   "metadata": {
    "collapsed": true
   },
   "outputs": [],
   "source": [
    "#Drop the columns found above from the Training data\n",
    "df_dummies_train_dropped_columns = df_dummies_train.drop(columns_to_drop, axis=1)"
   ]
  },
  {
   "cell_type": "code",
   "execution_count": 689,
   "metadata": {},
   "outputs": [
    {
     "data": {
      "text/plain": [
       "(4584, 555)"
      ]
     },
     "execution_count": 689,
     "metadata": {},
     "output_type": "execute_result"
    }
   ],
   "source": [
    "df_dummies_train_dropped_columns.shape"
   ]
  },
  {
   "cell_type": "code",
   "execution_count": 692,
   "metadata": {
    "collapsed": true
   },
   "outputs": [],
   "source": [
    "#Drop the columns found above from the Test data\n",
    "df_dummies_test_dropped_columns = df_dummies_test.drop(columns_to_drop, axis=1)"
   ]
  },
  {
   "cell_type": "code",
   "execution_count": 693,
   "metadata": {},
   "outputs": [
    {
     "data": {
      "text/plain": [
       "(1732, 555)"
      ]
     },
     "execution_count": 693,
     "metadata": {},
     "output_type": "execute_result"
    }
   ],
   "source": [
    "df_dummies_test_dropped_columns.shape"
   ]
  },
  {
   "cell_type": "code",
   "execution_count": 695,
   "metadata": {},
   "outputs": [
    {
     "data": {
      "text/plain": [
       "array([[   1.        , -300.3612177 ,    0.88635993, ...,    0.        ,\n",
       "           1.        ,    0.        ],\n",
       "       [   1.        , -297.12609   ,    0.62221072, ...,    0.        ,\n",
       "           1.        ,    0.        ],\n",
       "       [   1.        , -236.4602528 ,    0.42363992, ...,    0.        ,\n",
       "           1.        ,    0.        ],\n",
       "       ..., \n",
       "       [   0.        , -388.2530177 ,    3.22087347, ...,    0.        ,\n",
       "           0.        ,    1.        ],\n",
       "       [   1.        , -371.0906383 ,    3.31016435, ...,    0.        ,\n",
       "           0.        ,    1.        ],\n",
       "       [   1.        , -385.8211091 ,    1.63955731, ...,    0.        ,\n",
       "           0.        ,    1.        ]])"
      ]
     },
     "execution_count": 695,
     "metadata": {},
     "output_type": "execute_result"
    }
   ],
   "source": [
    "#Get matrix form of the Training data with columns dropped\n",
    "x_train_dropped = df_dummies_train_dropped_columns.as_matrix()\n",
    "x_train_dropped"
   ]
  },
  {
   "cell_type": "code",
   "execution_count": 696,
   "metadata": {},
   "outputs": [
    {
     "data": {
      "text/plain": [
       "array([[   1.        ,  -18.83913086,    2.30658368, ...,    0.        ,\n",
       "           0.        ,    0.        ],\n",
       "       [   1.        ,  -21.20305061,    2.11295605, ...,    0.        ,\n",
       "           0.        ,    0.        ],\n",
       "       [   1.        ,  -83.84350793,    2.09719147, ...,    0.        ,\n",
       "           0.        ,    0.        ],\n",
       "       ..., \n",
       "       [   1.        , -393.4185422 ,    3.14493045, ...,    0.        ,\n",
       "           0.        ,    1.        ],\n",
       "       [   0.        , -393.9763222 ,    0.92173684, ...,    0.        ,\n",
       "           0.        ,    1.        ],\n",
       "       [   0.        , -392.6276484 ,    1.47052734, ...,    0.        ,\n",
       "           0.        ,    1.        ]])"
      ]
     },
     "execution_count": 696,
     "metadata": {},
     "output_type": "execute_result"
    }
   ],
   "source": [
    "#Get matrix form of the Test data with columns dropped\n",
    "x_test_dropped = df_dummies_test_dropped_columns.as_matrix()\n",
    "x_test_dropped"
   ]
  },
  {
   "cell_type": "code",
   "execution_count": 698,
   "metadata": {},
   "outputs": [
    {
     "name": "stdout",
     "output_type": "stream",
     "text": [
      "(4584, 555) (3896, 555) (688, 555)\n"
     ]
    }
   ],
   "source": [
    "#Stacked Model attempt number 8: train on 555 predictors rather than 675\n",
    "\n",
    "#Split the limited Training data from above into training and test set \n",
    "#  - where the test set is 15% of the total \n",
    "X_train, X_test, Y_train, Y_test = train_test_split(x_train_dropped, y, test_size=.15, random_state=50) \n",
    "print (x_train_dropped.shape, X_train.shape, X_test.shape)"
   ]
  },
  {
   "cell_type": "code",
   "execution_count": 699,
   "metadata": {},
   "outputs": [
    {
     "name": "stdout",
     "output_type": "stream",
     "text": [
      "AUC with RandomForest  :  0.689854452055\n",
      "AUC with QDA  :  0.504807692308\n",
      "AUC with KNN  :  0.633619270285\n",
      "AUC with LogisticRegression  :  0.641118940991\n",
      "AUC with Gaussian Naive Bayes  :  0.565702384089\n",
      "AUC with XGBoost  :  0.712674525817\n"
     ]
    }
   ],
   "source": [
    "#Stacked Model attempt number 8: train on 555 predictors rather than 675\n",
    "\n",
    "estimators = [(\"RandomForest\", RandomForestClassifier(n_estimators=50,max_depth=10,min_samples_split= 6,random_state=50)),\n",
    "              (\"QDA\",QuadraticDiscriminantAnalysis()),\n",
    "              (\"KNN\",KNeighborsClassifier(n_neighbors = 15, weights='distance')),\n",
    "              (\"LogisticRegression\",LogisticRegression(random_state=57)),\n",
    "              (\"Gaussian Naive Bayes\",GaussianNB()),\n",
    "              (\"XGBoost\",xgb.XGBClassifier(learning_rate=0.05,n_estimators=200,seed=123))\n",
    "             ]\n",
    "for (name, estimator) in estimators:\n",
    "    Y_pred_test = estimator.fit(X_train,Y_train).predict_proba(X_test)\n",
    "    #AUC\n",
    "    fpr, tpr, thresholds = roc_curve(Y_test, Y_pred_test[:, 1])\n",
    "    roc_auc = auc(fpr, tpr)\n",
    "    print(\"AUC with\",name, \" : \" ,roc_auc)"
   ]
  },
  {
   "cell_type": "code",
   "execution_count": 712,
   "metadata": {
    "collapsed": true
   },
   "outputs": [],
   "source": [
    "#Stacked Model attempt number 8: train on 555 predictors rather than 675\n",
    "\n",
    "#Build Model1 - Level 0\n",
    "Model1 = RandomForestClassifier(n_estimators=100,max_depth=5 ,random_state=57).fit(X_train,Y_train)\n",
    "#Predict on X_train, X_test\n",
    "Model1_pred_test = Model1.predict_proba(X_test)\n",
    "Model1_pred_train = Model1.predict_proba(X_train)\n",
    "\n",
    "#Build Model2 - Level 0\n",
    "Model2 = QuadraticDiscriminantAnalysis().fit(X_train,Y_train)\n",
    "#Predict on X_train, X_test\n",
    "Model2_pred_test = Model2.predict_proba(X_test)\n",
    "Model2_pred_train = Model2.predict_proba(X_train)\n",
    "\n",
    "# #Build Model3 - Level 0\n",
    "# Model3 = KNeighborsClassifier(n_neighbors=15, weights='distance').fit(X_train,Y_train)\n",
    "# #Predict on X_train, X_test\n",
    "# Model3_pred_test = Model3.predict_proba(X_test)\n",
    "# Model3_pred_train = Model3.predict_proba(X_train)\n",
    "\n",
    "#Build Model4 - Level 0\n",
    "Model4 = xgb.XGBClassifier(learning_rate=0.05,n_estimators=200,seed=123).fit(X_train,Y_train)\n",
    "#Predict on X_train, X_test\n",
    "Model4_pred_test = Model4.predict_proba(X_test)\n",
    "Model4_pred_train = Model4.predict_proba(X_train)"
   ]
  },
  {
   "cell_type": "code",
   "execution_count": 713,
   "metadata": {
    "collapsed": true
   },
   "outputs": [],
   "source": [
    "#Stacked Model attempt number 8: train on 555 predictors rather than 675\n",
    "\n",
    "#Model 5 - Level 1 \n",
    "\n",
    "# FeaturesTrain1 = np.hstack([Model1_pred_train,Model2_pred_train,Model3_pred_train,Model4_pred_train])\n",
    "# FeaturesTrain1 = np.hstack([Model2_pred_train,Model3_pred_train,Model4_pred_train]) \n",
    "# FeaturesTrain1 = np.hstack([Model1_pred_train,Model3_pred_train,Model4_pred_train]) \n",
    "FeaturesTrain1 = np.hstack([Model1_pred_train,Model2_pred_train,Model4_pred_train]) \n",
    "\n",
    "Model5 = LogisticRegression(random_state=49).fit(FeaturesTrain1,Y_train)"
   ]
  },
  {
   "cell_type": "code",
   "execution_count": 714,
   "metadata": {},
   "outputs": [
    {
     "name": "stdout",
     "output_type": "stream",
     "text": [
      "AUC with Stacking:  0.715325342466\n"
     ]
    }
   ],
   "source": [
    "#Stacked Model attempt number 8: train on 555 predictors rather than 675\n",
    "\n",
    "# FeaturesTest1 = np.hstack([Model1_pred_test,Model2_pred_test,Model3_pred_test,Model4_pred_test])\n",
    "# FeaturesTest1 = np.hstack([Model2_pred_test,Model3_pred_test,Model4_pred_test])\n",
    "# FeaturesTest1 = np.hstack([Model1_pred_test,Model3_pred_test,Model4_pred_test])\n",
    "FeaturesTest1 = np.hstack([Model1_pred_test,Model2_pred_test,Model4_pred_test])\n",
    "\n",
    "#Final predictions\n",
    "final_pred = Model5.predict_proba(FeaturesTest1)\n",
    "\n",
    "#AUC\n",
    "fpr, tpr, thresholds = roc_curve(Y_test, final_pred[:, 1])\n",
    "roc_auc = auc(fpr, tpr)\n",
    "print(\"AUC with Stacking: \" , roc_auc)"
   ]
  },
  {
   "cell_type": "markdown",
   "metadata": {},
   "source": [
    "OK last Kaggle submission (allowed) for today, will give Stacked Model one more shot, with the manually identified dropped columns as the predictors!"
   ]
  },
  {
   "cell_type": "code",
   "execution_count": null,
   "metadata": {
    "collapsed": true
   },
   "outputs": [],
   "source": [
    "# #Kaggle 5th submission: Stacked Model Number 8\n",
    "\n",
    "# #Build Model1 - Level 0\n",
    "# Model1 = RandomForestClassifier(n_estimators=100,max_depth=5 ,random_state=57).fit(x_train_features,y)\n",
    "# #Predict on X_train, X_test\n",
    "# Model1_pred_test = Model1.predict_proba(x_test_features)\n",
    "# Model1_pred_train = Model1.predict_proba(x_train_features)\n",
    "\n",
    "# #Build Model2 - Level 0\n",
    "# Model2 = QuadraticDiscriminantAnalysis().fit(X_train,Y_train)\n",
    "# #Predict on X_train, X_test\n",
    "# Model2_pred_test = Model2.predict_proba(x_test_features)\n",
    "# Model2_pred_train = Model2.predict_proba(x_train_features)\n",
    "\n",
    "# #Build Model3 - Level 0\n",
    "# Model3 = xgb.XGBClassifier(learning_rate=0.05,n_estimators=200,seed=123).fit(X_train,Y_train)\n",
    "# #Predict on X_train, X_test\n",
    "# Model3_pred_test = Model3.predict_proba(x_test_features)\n",
    "# Model3_pred_train = Model3.predict_proba(x_train_features)\n"
   ]
  },
  {
   "cell_type": "code",
   "execution_count": null,
   "metadata": {
    "collapsed": true
   },
   "outputs": [],
   "source": [
    "# #Stacked Model Number 8 :\n",
    "\n",
    "# #Model 4 - Level 1 \n",
    "\n",
    "# FeaturesTrain1 = np.hstack([Model1_pred_train,Model2_pred_train,Model3_pred_train]) \n",
    "\n",
    "# Model4 = LogisticRegression(random_state=49).fit(FeaturesTrain1,y)"
   ]
  },
  {
   "cell_type": "code",
   "execution_count": null,
   "metadata": {
    "collapsed": true
   },
   "outputs": [],
   "source": [
    "# #Stacked Model Number 8 :\n",
    "\n",
    "# FeaturesTest1 = np.hstack([Model1_pred_test,Model2_pred_test,Model3_pred_test])\n",
    "\n",
    "# #cutoff value of 0.5\n",
    "# preds4 = cutoff_predict(Model4,FeaturesTest1,0.5)"
   ]
  },
  {
   "cell_type": "code",
   "execution_count": null,
   "metadata": {
    "collapsed": true
   },
   "outputs": [],
   "source": [
    "# #Fifth Kaggle submission\n",
    "\n",
    "# submission4 = pd.DataFrame( {\n",
    "#     \"id\": df_dummies_test_index['index'],\n",
    "#     \"output\": preds4\n",
    "# })\n",
    "# submission4.to_csv('McNutt_Jonathan_4.csv', index=False)"
   ]
  },
  {
   "cell_type": "markdown",
   "metadata": {},
   "source": [
    "Trying SVM now!"
   ]
  },
  {
   "cell_type": "code",
   "execution_count": 715,
   "metadata": {
    "collapsed": true
   },
   "outputs": [],
   "source": [
    "# #apply a log transform to the dropped columns data set above\n",
    "# x_train_log = df_dummies_train_dropped_columns.apply(np.log1p).as_matrix()"
   ]
  },
  {
   "cell_type": "code",
   "execution_count": 716,
   "metadata": {},
   "outputs": [
    {
     "data": {
      "text/plain": [
       "array([[ 0.69314718,         nan,  0.63464901, ...,  0.        ,\n",
       "         0.69314718,  0.        ],\n",
       "       [ 0.69314718,         nan,  0.48378986, ...,  0.        ,\n",
       "         0.69314718,  0.        ],\n",
       "       [ 0.69314718,         nan,  0.35321692, ...,  0.        ,\n",
       "         0.69314718,  0.        ],\n",
       "       ..., \n",
       "       [ 0.        ,         nan,  1.44004209, ...,  0.        ,\n",
       "         0.        ,  0.69314718],\n",
       "       [ 0.69314718,         nan,  1.46097604, ...,  0.        ,\n",
       "         0.        ,  0.69314718],\n",
       "       [ 0.69314718,         nan,  0.97061122, ...,  0.        ,\n",
       "         0.        ,  0.69314718]])"
      ]
     },
     "execution_count": 716,
     "metadata": {},
     "output_type": "execute_result"
    }
   ],
   "source": [
    "# x_train_log"
   ]
  },
  {
   "cell_type": "code",
   "execution_count": 719,
   "metadata": {},
   "outputs": [
    {
     "name": "stdout",
     "output_type": "stream",
     "text": [
      "(4584, 555) (3896, 555) (688, 555)\n"
     ]
    }
   ],
   "source": [
    "#Split into training and test set - where the latter is 15% of the total \n",
    "X_train, X_test, Y_train, Y_test = train_test_split(x_train_dropped, y, test_size=.15, random_state=10) \n",
    "print (x_train_dropped.shape, X_train.shape, X_test.shape)"
   ]
  },
  {
   "cell_type": "code",
   "execution_count": 720,
   "metadata": {
    "collapsed": true
   },
   "outputs": [],
   "source": [
    "#From Section 6 Notebook\n",
    "#Scale to standard normal\n",
    "from sklearn.preprocessing import StandardScaler\n",
    "\n",
    "std_scale = StandardScaler().fit(X_train)\n",
    "X_train = std_scale.transform(X_train)\n",
    "X_test = std_scale.transform(X_test)"
   ]
  },
  {
   "cell_type": "code",
   "execution_count": 721,
   "metadata": {
    "collapsed": true
   },
   "outputs": [],
   "source": [
    "#Function from Section 6 notebook, altered by me for HW3\n",
    "\n",
    "target_names = ['0', '1']\n",
    "\n",
    "def show_confusion_matrix(cm):\n",
    "    plt.figure(figsize=(5, 5))\n",
    "    plt.imshow(cm, interpolation='nearest', cmap=plt.cm.binary)\n",
    "    plt.title('Confusion matrix')\n",
    "    plt.set_cmap('Blues')\n",
    "    plt.colorbar()\n",
    "    tick_marks = np.arange(len(target_names))\n",
    "    plt.xticks(tick_marks, target_names, rotation=60)\n",
    "    plt.yticks(tick_marks, target_names)\n",
    "    plt.ylabel('True label')\n",
    "    plt.xlabel('Predicted label')\n",
    "    plt.show()"
   ]
  },
  {
   "cell_type": "code",
   "execution_count": 722,
   "metadata": {},
   "outputs": [
    {
     "name": "stdout",
     "output_type": "stream",
     "text": [
      "\n",
      "Accuracy score: \n",
      " 0.84011627907 \n",
      "\n",
      "Confusion_matrix: \n",
      " [[  0 110]\n",
      " [  0 578]]\n"
     ]
    },
    {
     "data": {
      "image/png": "[encoded data removed]",
      "text/plain": [
       "<matplotlib.figure.Figure at 0x114f21a58>"
      ]
     },
     "metadata": {},
     "output_type": "display_data"
    }
   ],
   "source": [
    "clf = SVC(\n",
    "        C=10, # Penalty parameter C of the error term; default = 1.0\n",
    "        cache_size=200, # The size of the kernel cache (in MB).\n",
    "        class_weight=None, # Set the parameter C of class i to class_weight[i]*C for SVC\n",
    "        coef0=0.0,  # Independent term in kernel function. Only significant in ‘poly’ and ‘sigmoid’.\n",
    "        degree=3, # Degree of the polynomial kernel function (‘poly’); default = 3. Ignored by all other kernels.\n",
    "        gamma=0.1, # Kernel coefficient for ‘rbf’, ‘poly’ and ‘sigmoid’; auto = 1/n_features\n",
    "#Higher the value of gamma, will try to exact fit the as per training data set, cause over-fitting problem.\n",
    "        kernel='rbf',  # Specifies the kernel type to be used in the algorithm; default = \"rbf\"\n",
    "        max_iter=-1, # Hard limit on iterations within solver, or -1 for no limit; default = -1\n",
    "        probability=True, # Whether to enable probability estimates; default = False\n",
    "        random_state=101, # To set a random state for replicability\n",
    "        shrinking=True, # Whether to use the shrinking heuristic; default = True\n",
    "        tol=0.001, # Tolerance for stopping criterion; default = 0.001\n",
    "        verbose=False  # Enable verbose output; default = False\n",
    "    )\n",
    "\n",
    "clf.fit(X_train, Y_train)\n",
    "\n",
    "Y_pred_svm = clf.predict(X_test)\n",
    "print()\n",
    "\n",
    "SVM_predprobability = clf.predict_proba(X_test)\n",
    "print ('Accuracy score: \\n', metrics.accuracy_score(Y_test, Y_pred_svm), '\\n')\n",
    "\n",
    "# Print out confusion matrix\n",
    "confusion_matrix = metrics.confusion_matrix(Y_test, Y_pred_svm)\n",
    "print ('Confusion_matrix: \\n', confusion_matrix)\n",
    "show_confusion_matrix(confusion_matrix)"
   ]
  },
  {
   "cell_type": "markdown",
   "metadata": {},
   "source": [
    "So SVM took a while...but got 84%.  This is misleading, because it predicted ALL test observations to be '1'!! Therefore, the accuracy simply matches the underlying distribution of the output, between '0' and '1'.  Let's see if tuning SVM does any better."
   ]
  },
  {
   "cell_type": "code",
   "execution_count": 724,
   "metadata": {
    "collapsed": true
   },
   "outputs": [],
   "source": [
    "# penalties = [0.1,0.5, 1.0, 5, 10, 100]\n",
    "# cv = 10 \n",
    "# acc_scores = np.zeros((len(penalties),cv))\n",
    "# scores_list = []\n",
    "# for i, k in enumerate (penalties):\n",
    "#     clf = SVC(C=k, gamma=0.1, probability=True, random_state=55 )\n",
    "#     acc_scores[i,:] = cross_val_score(clf, X_train, Y_train, cv=cv, scoring='f1')  \n",
    "#     scores_list.append(acc_scores[i,:])\n",
    "# #print (acc_scores)"
   ]
  },
  {
   "cell_type": "markdown",
   "metadata": {},
   "source": [
    "So the Cost parameter tuning took waaaay too long, so I stopped the kernel.  Maybe I will try running this tomorrow and see if it actually completes after an hour or more. For now I will try a few different parameters manually to see if there are any drastic performance increases."
   ]
  },
  {
   "cell_type": "code",
   "execution_count": 785,
   "metadata": {
    "collapsed": true
   },
   "outputs": [],
   "source": [
    "#Try Cost=100, degree=3, kernel='poly', gamma=0.01\n",
    "\n",
    "clf = SVC(C=100,degree=3,kernel='poly',max_iter=20,gamma=0.01, probability=True, random_state=123)\n",
    "probas_ = clf.fit(X_train, Y_train).predict_proba(X_test)\n",
    "Y_pred_svm = clf.predict(X_test)"
   ]
  },
  {
   "cell_type": "code",
   "execution_count": 786,
   "metadata": {
    "collapsed": true
   },
   "outputs": [],
   "source": [
    "# Compute ROC curve and area the curve\n",
    "fpr, tpr, thresholds = roc_curve(Y_test, probas_[:, 1])"
   ]
  },
  {
   "cell_type": "code",
   "execution_count": 787,
   "metadata": {},
   "outputs": [
    {
     "name": "stdout",
     "output_type": "stream",
     "text": [
      "AUC with SVM:  0.549307958478\n"
     ]
    }
   ],
   "source": [
    "roc_auc = auc(fpr, tpr)\n",
    "print(\"AUC with SVM: \" , roc_auc)"
   ]
  },
  {
   "cell_type": "code",
   "execution_count": 788,
   "metadata": {},
   "outputs": [
    {
     "name": "stdout",
     "output_type": "stream",
     "text": [
      "Confusion_matrix: \n",
      " [[  4 106]\n",
      " [ 22 556]]\n"
     ]
    }
   ],
   "source": [
    "# Print out confusion matrix\n",
    "confusion_matrix = metrics.confusion_matrix(Y_test, Y_pred_svm)\n",
    "print ('Confusion_matrix: \\n', confusion_matrix)"
   ]
  },
  {
   "cell_type": "code",
   "execution_count": 790,
   "metadata": {},
   "outputs": [
    {
     "name": "stdout",
     "output_type": "stream",
     "text": [
      "Accuracy score: \n",
      " 0.813953488372 \n",
      "\n"
     ]
    }
   ],
   "source": [
    "print ('Accuracy score: \\n', metrics.accuracy_score(Y_test, Y_pred_svm), '\\n')"
   ]
  },
  {
   "cell_type": "markdown",
   "metadata": {},
   "source": [
    "Hmmmm, so it looks like SVM, as tuned thus far, has a very high \"FPR\", or False Positive Rate.  \n",
    "\n",
    "That is, SVM model predicted 106 '1's that were actually '0's.  How to remedy this?  That is the question."
   ]
  },
  {
   "cell_type": "code",
   "execution_count": 793,
   "metadata": {},
   "outputs": [
    {
     "name": "stdout",
     "output_type": "stream",
     "text": [
      "(4584, 65) (3667, 65) (917, 65)\n"
     ]
    }
   ],
   "source": [
    "#Try train_test_split on the 'x_train_features' subset of training data, from the RandomForest tuning in the beginning\n",
    "\n",
    "#Split into training and test set - where the latter is 15% of the total \n",
    "X_train, X_test, Y_train, Y_test = train_test_split(x_train_features, y, test_size=.20, random_state=10) \n",
    "print (x_train_features.shape, X_train.shape, X_test.shape)"
   ]
  },
  {
   "cell_type": "code",
   "execution_count": 794,
   "metadata": {
    "collapsed": true
   },
   "outputs": [],
   "source": [
    "#Scale to standard normal\n",
    "std_scale = StandardScaler().fit(X_train)\n",
    "X_train = std_scale.transform(X_train)\n",
    "X_test = std_scale.transform(X_test)"
   ]
  },
  {
   "cell_type": "code",
   "execution_count": 805,
   "metadata": {},
   "outputs": [
    {
     "name": "stdout",
     "output_type": "stream",
     "text": [
      "AUC with SVM:  0.52832309717\n",
      "Confusion_matrix: \n",
      " [[  1 140]\n",
      " [ 16 760]]\n",
      "Accuracy score: \n",
      " 0.829880043621 \n",
      "\n"
     ]
    }
   ],
   "source": [
    "#cost = 10\n",
    "clf = SVC(C=10,degree=3,kernel='poly',max_iter=20,gamma=0.01, probability=True, random_state=123)\n",
    "probas_ = clf.fit(X_train, Y_train).predict_proba(X_test)\n",
    "Y_pred_svm = clf.predict(X_test)\n",
    "\n",
    "# Compute ROC curve and area the curve\n",
    "fpr, tpr, thresholds = roc_curve(Y_test, probas_[:, 1])\n",
    "roc_auc = auc(fpr, tpr)\n",
    "print(\"AUC with SVM: \" , roc_auc)\n",
    "# Print out confusion matrix\n",
    "confusion_matrix = metrics.confusion_matrix(Y_test, Y_pred_svm)\n",
    "print ('Confusion_matrix: \\n', confusion_matrix)\n",
    "# Print out accuracy\n",
    "print ('Accuracy score: \\n', metrics.accuracy_score(Y_test, Y_pred_svm), '\\n')"
   ]
  },
  {
   "cell_type": "code",
   "execution_count": 806,
   "metadata": {},
   "outputs": [
    {
     "name": "stdout",
     "output_type": "stream",
     "text": [
      "AUC with SVM:  0.460060685823\n",
      "Confusion_matrix: \n",
      " [[  1 140]\n",
      " [  7 769]]\n",
      "Accuracy score: \n",
      " 0.839694656489 \n",
      "\n"
     ]
    }
   ],
   "source": [
    "#degrees = 4\n",
    "clf = SVC(C=10,degree=4,kernel='poly',max_iter=20,gamma=0.01, probability=True, random_state=123)\n",
    "probas_ = clf.fit(X_train, Y_train).predict_proba(X_test)\n",
    "Y_pred_svm = clf.predict(X_test)\n",
    "\n",
    "# Compute ROC curve and area the curve\n",
    "fpr, tpr, thresholds = roc_curve(Y_test, probas_[:, 1])\n",
    "roc_auc = auc(fpr, tpr)\n",
    "print(\"AUC with SVM: \" , roc_auc)\n",
    "# Print out confusion matrix\n",
    "confusion_matrix = metrics.confusion_matrix(Y_test, Y_pred_svm)\n",
    "print ('Confusion_matrix: \\n', confusion_matrix)\n",
    "# Print out accuracy\n",
    "print ('Accuracy score: \\n', metrics.accuracy_score(Y_test, Y_pred_svm), '\\n')"
   ]
  },
  {
   "cell_type": "code",
   "execution_count": 807,
   "metadata": {},
   "outputs": [
    {
     "name": "stdout",
     "output_type": "stream",
     "text": [
      "AUC with SVM:  0.433885354976\n",
      "Confusion_matrix: \n",
      " [[  0 141]\n",
      " [  3 773]]\n",
      "Accuracy score: \n",
      " 0.842966194111 \n",
      "\n"
     ]
    }
   ],
   "source": [
    "#gamma = 0.001\n",
    "clf = SVC(C=10,degree=4,kernel='poly',max_iter=20,gamma=0.001, probability=True, random_state=123)\n",
    "probas_ = clf.fit(X_train, Y_train).predict_proba(X_test)\n",
    "Y_pred_svm = clf.predict(X_test)\n",
    "\n",
    "# Compute ROC curve and area the curve\n",
    "fpr, tpr, thresholds = roc_curve(Y_test, probas_[:, 1])\n",
    "roc_auc = auc(fpr, tpr)\n",
    "print(\"AUC with SVM: \" , roc_auc)\n",
    "# Print out confusion matrix\n",
    "confusion_matrix = metrics.confusion_matrix(Y_test, Y_pred_svm)\n",
    "print ('Confusion_matrix: \\n', confusion_matrix)\n",
    "# Print out accuracy\n",
    "print ('Accuracy score: \\n', metrics.accuracy_score(Y_test, Y_pred_svm), '\\n')"
   ]
  },
  {
   "cell_type": "code",
   "execution_count": 837,
   "metadata": {},
   "outputs": [
    {
     "name": "stdout",
     "output_type": "stream",
     "text": [
      "AUC with SVM:  0.595196314981\n",
      "Confusion_matrix: \n",
      " [[ 25 116]\n",
      " [102 674]]\n",
      "Accuracy score: \n",
      " 0.762268266085 \n",
      "\n"
     ]
    }
   ],
   "source": [
    "#cost = 1000, kernel = 'rbf', gamma = 0.0001\n",
    "clf = SVC(C=1000,degree=3,kernel='rbf',max_iter=20,gamma=0.0001, probability=True, random_state=123)\n",
    "probas_ = clf.fit(X_train, Y_train).predict_proba(X_test)\n",
    "Y_pred_svm = clf.predict(X_test)\n",
    "\n",
    "# Compute ROC curve and area the curve\n",
    "fpr, tpr, thresholds = roc_curve(Y_test, probas_[:, 1])\n",
    "roc_auc = auc(fpr, tpr)\n",
    "print(\"AUC with SVM: \" , roc_auc)\n",
    "# Print out confusion matrix\n",
    "confusion_matrix = metrics.confusion_matrix(Y_test, Y_pred_svm)\n",
    "print ('Confusion_matrix: \\n', confusion_matrix)\n",
    "# Print out accuracy\n",
    "print ('Accuracy score: \\n', metrics.accuracy_score(Y_test, Y_pred_svm), '\\n')"
   ]
  },
  {
   "cell_type": "code",
   "execution_count": 843,
   "metadata": {},
   "outputs": [
    {
     "name": "stdout",
     "output_type": "stream",
     "text": [
      "AUC with SVM:  0.481666301089\n",
      "Confusion_matrix: \n",
      " [[  3 138]\n",
      " [ 36 740]]\n",
      "Accuracy score: \n",
      " 0.810250817884 \n",
      "\n"
     ]
    }
   ],
   "source": [
    "#cost = 1000, kernel = 'sigmoid', gamma = 0.0001\n",
    "clf = SVC(C=100,degree=3,kernel='sigmoid',max_iter=20,gamma=0.001, probability=True, random_state=123)\n",
    "probas_ = clf.fit(X_train, Y_train).predict_proba(X_test)\n",
    "Y_pred_svm = clf.predict(X_test)\n",
    "\n",
    "# Compute ROC curve and area the curve\n",
    "fpr, tpr, thresholds = roc_curve(Y_test, probas_[:, 1])\n",
    "roc_auc = auc(fpr, tpr)\n",
    "print(\"AUC with SVM: \" , roc_auc)\n",
    "# Print out confusion matrix\n",
    "confusion_matrix = metrics.confusion_matrix(Y_test, Y_pred_svm)\n",
    "print ('Confusion_matrix: \\n', confusion_matrix)\n",
    "# Print out accuracy\n",
    "print ('Accuracy score: \\n', metrics.accuracy_score(Y_test, Y_pred_svm), '\\n')"
   ]
  },
  {
   "cell_type": "markdown",
   "metadata": {},
   "source": [
    "Let's try an ensemble method called 'VotingClassifier'. \n",
    "\n",
    "We'll try a few different SVM kernels to see if the ensemble is better than any one of the kernels so far.\n"
   ]
  },
  {
   "cell_type": "code",
   "execution_count": 844,
   "metadata": {
    "collapsed": true
   },
   "outputs": [],
   "source": [
    "#polynomial SVM kernel\n",
    "clf1 = SVC(C=10,degree=4,kernel='poly',max_iter=20,gamma=0.001, probability=True, random_state=123)\n",
    "\n",
    "#rbf SVM kernel\n",
    "clf2 = SVC(C=1000,degree=3,kernel='rbf',max_iter=20,gamma=0.0001, probability=True, random_state=123)\n",
    "\n",
    "#sigmoid SVM kernel\n",
    "clf3 = SVC(C=100,degree=3,kernel='sigmoid',max_iter=20,gamma=0.001, probability=True, random_state=123)\n"
   ]
  },
  {
   "cell_type": "code",
   "execution_count": 845,
   "metadata": {
    "collapsed": true
   },
   "outputs": [],
   "source": [
    "clf_SVM_ensemble_1 = VotingClassifier(estimators=[('poly', clf1), ('rbf', clf2), ('sigmoid', clf3)], voting='hard')"
   ]
  },
  {
   "cell_type": "code",
   "execution_count": 849,
   "metadata": {},
   "outputs": [
    {
     "name": "stdout",
     "output_type": "stream",
     "text": [
      "Confusion_matrix: \n",
      " [[  3 138]\n",
      " [ 17 759]]\n",
      "Accuracy score: \n",
      " 0.830970556161 \n",
      "\n"
     ]
    }
   ],
   "source": [
    "clf_SVM_ensemble_1.fit(X_train, Y_train)\n",
    "\n",
    "Y_pred_svm = clf_SVM_ensemble_1.predict(X_test)\n",
    "\n",
    "# Print out confusion matrix\n",
    "confusion_matrix = metrics.confusion_matrix(Y_test, Y_pred_svm)\n",
    "print ('Confusion_matrix: \\n', confusion_matrix)\n",
    "# Print out accuracy\n",
    "print ('Accuracy score: \\n', metrics.accuracy_score(Y_test, Y_pred_svm), '\\n')"
   ]
  },
  {
   "cell_type": "code",
   "execution_count": 850,
   "metadata": {
    "collapsed": true
   },
   "outputs": [],
   "source": [
    "clf_SVM_ensemble_2 = VotingClassifier(estimators=[('poly', clf1), ('rbf', clf2), ('sigmoid', clf3)], voting='soft')"
   ]
  },
  {
   "cell_type": "code",
   "execution_count": 851,
   "metadata": {},
   "outputs": [
    {
     "name": "stdout",
     "output_type": "stream",
     "text": [
      "Confusion_matrix: \n",
      " [[  0 141]\n",
      " [  0 776]]\n",
      "Accuracy score: \n",
      " 0.846237731734 \n",
      "\n"
     ]
    }
   ],
   "source": [
    "clf_SVM_ensemble_2.fit(X_train, Y_train)\n",
    "\n",
    "Y_pred_svm = clf_SVM_ensemble_2.predict(X_test)\n",
    "\n",
    "# Print out confusion matrix\n",
    "confusion_matrix = metrics.confusion_matrix(Y_test, Y_pred_svm)\n",
    "print ('Confusion_matrix: \\n', confusion_matrix)\n",
    "# Print out accuracy\n",
    "print ('Accuracy score: \\n', metrics.accuracy_score(Y_test, Y_pred_svm), '\\n')"
   ]
  },
  {
   "cell_type": "markdown",
   "metadata": {},
   "source": [
    "As far as False Positive Rate, the 'rbf' SVM kernel had the best performance, so I will try a Kaggle submission with this model, after standardizing both the training data and the test data."
   ]
  },
  {
   "cell_type": "code",
   "execution_count": 859,
   "metadata": {
    "collapsed": true
   },
   "outputs": [],
   "source": [
    "#prepare the training and test data - get the reduced feature subset from RandomForest tuning at top of notebook\n",
    "\n",
    "X_train = x_train_features\n",
    "X_test = x_test_features"
   ]
  },
  {
   "cell_type": "code",
   "execution_count": 860,
   "metadata": {
    "collapsed": true
   },
   "outputs": [],
   "source": [
    "#Scale to standard normal\n",
    "std_scale = StandardScaler().fit(X_train)\n",
    "X_train = std_scale.transform(X_train)\n",
    "X_test = std_scale.transform(X_test)"
   ]
  },
  {
   "cell_type": "code",
   "execution_count": 868,
   "metadata": {
    "collapsed": true
   },
   "outputs": [],
   "source": [
    "#Try the 'rbf' SVM kernel with previously tuned parameters\n",
    "clf = SVC(C=1000,degree=3,kernel='rbf',max_iter=20,gamma=0.0001, probability=True, random_state=123).fit(X_train,y)\n",
    "\n",
    "preds5 = clf.predict(X_test)\n"
   ]
  },
  {
   "cell_type": "code",
   "execution_count": 870,
   "metadata": {},
   "outputs": [
    {
     "data": {
      "text/plain": [
       "1732"
      ]
     },
     "execution_count": 870,
     "metadata": {},
     "output_type": "execute_result"
    }
   ],
   "source": [
    "len(preds5)"
   ]
  },
  {
   "cell_type": "code",
   "execution_count": 871,
   "metadata": {
    "collapsed": true
   },
   "outputs": [],
   "source": [
    "#Fifth Kaggle submission\n",
    "\n",
    "submission5 = pd.DataFrame( {\n",
    "    \"id\": df_dummies_test_index['index'],\n",
    "    \"output\": preds5\n",
    "})\n",
    "submission5.to_csv('McNutt_Jonathan_5.csv', index=False)"
   ]
  },
  {
   "cell_type": "markdown",
   "metadata": {},
   "source": [
    "My 5th Kaggle submission yielded an AUC score of 0.47614, worst yet!  Oh, boy."
   ]
  },
  {
   "cell_type": "code",
   "execution_count": 872,
   "metadata": {
    "collapsed": true
   },
   "outputs": [],
   "source": [
    "#may really have to log+1 all data first, like in Section 6 notebook, and then remove the nan's somehow..."
   ]
  },
  {
   "cell_type": "code",
   "execution_count": 877,
   "metadata": {},
   "outputs": [
    {
     "name": "stdout",
     "output_type": "stream",
     "text": [
      "(4584, 555) (3896, 555) (688, 555)\n"
     ]
    }
   ],
   "source": [
    "#Try the manually x,y,z coordinates dropped dataframe 'x_train_dropped'\n",
    "\n",
    "#This time we will tune the SVM parameters with GridSearchCV\n",
    "\n",
    "#Split into training and test set - where the latter is 15% of the total \n",
    "X_train, X_test, Y_train, Y_test = train_test_split(x_train_dropped, y, test_size=.15, random_state=10) \n",
    "print (x_train_dropped.shape, X_train.shape, X_test.shape)"
   ]
  },
  {
   "cell_type": "code",
   "execution_count": 878,
   "metadata": {
    "collapsed": true
   },
   "outputs": [],
   "source": [
    "std_scale = StandardScaler().fit(X_train)\n",
    "X_train = std_scale.transform(X_train)\n",
    "X_test = std_scale.transform(X_test)"
   ]
  },
  {
   "cell_type": "code",
   "execution_count": 883,
   "metadata": {
    "collapsed": true
   },
   "outputs": [],
   "source": [
    "#I ran the GridSearchCV with the below parameters for over 2 hours!!! My CPU was at 100% the entire time\n",
    "#and began to get very hot, so I finally stopped this cell manually.  \n",
    "\n",
    "\n",
    "# from sklearn.model_selection import GridSearchCV   #Performing grid search\n",
    "\n",
    "# param_test1 = {'C':[0.1,0.5, 1.0, 5, 10, 100], 'gamma':[0.001,0.01, 0.1, 1.0, 2.0], \n",
    "#               'kernel':['linear', 'poly', 'rbf', 'sigmoid'],'degree':[2,3,4], 'random_state': [37]}\n",
    "# gsearch1 = GridSearchCV(estimator = SVC(), \n",
    "#                        param_grid = param_test1, scoring='accuracy',n_jobs=4, cv=10)\n",
    "# gsearch1.fit(X_train, Y_train)\n",
    "\n",
    "# gsearch1.best_params_, gsearch1.best_score_"
   ]
  },
  {
   "cell_type": "markdown",
   "metadata": {},
   "source": [
    "Unfortunately, I had to stop GridSearchCV on SVM because it ran for more than 2 hours at 100% CPU and my computer was getting VERY hot!  I didn't want to sacrifice my computer for the sake of GridSearchCV, so I will stick with my manually tuned SVM kernels for future usage (in ensemble methods, for example)."
   ]
  },
  {
   "cell_type": "markdown",
   "metadata": {},
   "source": [
    "Since we had the best Kaggle success so far with RandomForest, and specifically on a reduced feature subset found with Feature Importances plot, let's try again, but starting with my manually reduced feature dataset (with 120 columns removed due to having \"static\" values)."
   ]
  },
  {
   "cell_type": "code",
   "execution_count": 896,
   "metadata": {},
   "outputs": [
    {
     "name": "stdout",
     "output_type": "stream",
     "text": [
      "(4584, 555) (3667, 555) (917, 555)\n"
     ]
    }
   ],
   "source": [
    "#Split into training and test set - where the latter is 20% of the total \n",
    "X_train, X_test, Y_train, Y_test = train_test_split(x_train_dropped, y, test_size=.20, random_state=10) \n",
    "print (x_train_dropped.shape, X_train.shape, X_test.shape)"
   ]
  },
  {
   "cell_type": "code",
   "execution_count": 899,
   "metadata": {},
   "outputs": [
    {
     "name": "stdout",
     "output_type": "stream",
     "text": [
      "f1 score is:  0.918429003021\n",
      "AUC with RandomForest:  0.733740951963\n",
      "Confusion_matrix: \n",
      " [[ 22 119]\n",
      " [ 16 760]]\n",
      "Accuracy score: \n",
      " 0.852780806979 \n",
      "\n"
     ]
    }
   ],
   "source": [
    "#Trying 'balanced_subsample' for 'class_weight' parameter of RandomForest\n",
    "\n",
    "clf = RandomForestClassifier( class_weight= 'balanced_subsample', max_depth= 10, min_samples_split= 6, \n",
    "                             n_estimators= 50, random_state=101)\n",
    "clf.fit(X_train,Y_train) \n",
    "\n",
    "probas_ = clf.fit(X_train, Y_train).predict_proba(X_test)\n",
    "\n",
    "Y_pred = clf.predict(X_test)\n",
    "\n",
    "print(\"f1 score is: \", f1_score(Y_test,Y_pred)) \n",
    "\n",
    "# Compute ROC curve and area the curve\n",
    "fpr, tpr, thresholds = roc_curve(Y_test, probas_[:, 1])\n",
    "roc_auc = auc(fpr, tpr)\n",
    "print(\"AUC with RandomForest: \" , roc_auc)\n",
    "# Print out confusion matrix\n",
    "confusion_matrix = metrics.confusion_matrix(Y_test, Y_pred)\n",
    "print ('Confusion_matrix: \\n', confusion_matrix)\n",
    "# Print out accuracy\n",
    "print ('Accuracy score: \\n', metrics.accuracy_score(Y_test, Y_pred), '\\n')"
   ]
  },
  {
   "cell_type": "code",
   "execution_count": 900,
   "metadata": {},
   "outputs": [
    {
     "name": "stdout",
     "output_type": "stream",
     "text": [
      "f1 score is:  0.918886198547\n",
      "AUC with RandomForest:  0.711870293193\n",
      "Confusion_matrix: \n",
      " [[ 24 117]\n",
      " [ 17 759]]\n",
      "Accuracy score: \n",
      " 0.85387131952 \n",
      "\n"
     ]
    }
   ],
   "source": [
    "#compare with 'balanced' class_weight\n",
    "\n",
    "clf = RandomForestClassifier( class_weight= 'balanced', max_depth= 10, min_samples_split= 6, \n",
    "                             n_estimators= 50, random_state=101)\n",
    "clf.fit(X_train,Y_train)\n",
    "\n",
    "probas_ = clf.fit(X_train, Y_train).predict_proba(X_test)\n",
    "\n",
    "Y_pred = clf.predict(X_test)\n",
    "\n",
    "print(\"f1 score is: \", f1_score(Y_test,Y_pred)) \n",
    "\n",
    "# Compute ROC curve and area the curve\n",
    "fpr, tpr, thresholds = roc_curve(Y_test, probas_[:, 1])\n",
    "roc_auc = auc(fpr, tpr)\n",
    "print(\"AUC with RandomForest: \" , roc_auc)\n",
    "# Print out confusion matrix\n",
    "confusion_matrix = metrics.confusion_matrix(Y_test, Y_pred)\n",
    "print ('Confusion_matrix: \\n', confusion_matrix)\n",
    "# Print out accuracy\n",
    "print ('Accuracy score: \\n', metrics.accuracy_score(Y_test, Y_pred), '\\n')"
   ]
  },
  {
   "cell_type": "code",
   "execution_count": 901,
   "metadata": {},
   "outputs": [
    {
     "name": "stdout",
     "output_type": "stream",
     "text": [
      "f1 score is:  0.921241050119\n",
      "AUC with RandomForest:  0.744689990495\n",
      "Confusion_matrix: \n",
      " [[ 13 128]\n",
      " [  4 772]]\n",
      "Accuracy score: \n",
      " 0.856052344602 \n",
      "\n"
     ]
    }
   ],
   "source": [
    "#Trying min_samples_split = 10, max_depth=15 and n_estimators = 100\n",
    "\n",
    "clf = RandomForestClassifier( class_weight= 'balanced_subsample', max_depth= 15, min_samples_split= 10, \n",
    "                             n_estimators= 100, random_state=101)\n",
    "clf.fit(X_train,Y_train) \n",
    "\n",
    "probas_ = clf.fit(X_train, Y_train).predict_proba(X_test)\n",
    "\n",
    "Y_pred = clf.predict(X_test)\n",
    "\n",
    "print(\"f1 score is: \", f1_score(Y_test,Y_pred)) \n",
    "\n",
    "# Compute ROC curve and area the curve\n",
    "fpr, tpr, thresholds = roc_curve(Y_test, probas_[:, 1])\n",
    "roc_auc = auc(fpr, tpr)\n",
    "print(\"AUC with RandomForest: \" , roc_auc)\n",
    "# Print out confusion matrix\n",
    "confusion_matrix = metrics.confusion_matrix(Y_test, Y_pred)\n",
    "print ('Confusion_matrix: \\n', confusion_matrix)\n",
    "# Print out accuracy\n",
    "print ('Accuracy score: \\n', metrics.accuracy_score(Y_test, Y_pred), '\\n')"
   ]
  },
  {
   "cell_type": "code",
   "execution_count": 904,
   "metadata": {},
   "outputs": [
    {
     "name": "stdout",
     "output_type": "stream",
     "text": [
      "f1 score is:  0.921241050119\n",
      "AUC with RandomForest:  0.746892593405\n",
      "Confusion_matrix: \n",
      " [[ 13 128]\n",
      " [  4 772]]\n",
      "Accuracy score: \n",
      " 0.856052344602 \n",
      "\n"
     ]
    }
   ],
   "source": [
    "#Trying min_samples_split = 20, max_depth=20 and n_estimators = 100, class_weight = 'balanced'\n",
    "\n",
    "clf = RandomForestClassifier( class_weight= 'balanced', max_depth= 20, min_samples_split= 20, \n",
    "                             n_estimators= 100, random_state=101)\n",
    "clf.fit(X_train,Y_train) \n",
    "\n",
    "probas_ = clf.fit(X_train, Y_train).predict_proba(X_test)\n",
    "\n",
    "Y_pred = clf.predict(X_test)\n",
    "\n",
    "print(\"f1 score is: \", f1_score(Y_test,Y_pred)) \n",
    "\n",
    "# Compute ROC curve and area the curve\n",
    "fpr, tpr, thresholds = roc_curve(Y_test, probas_[:, 1])\n",
    "roc_auc = auc(fpr, tpr)\n",
    "print(\"AUC with RandomForest: \" , roc_auc)\n",
    "# Print out confusion matrix\n",
    "confusion_matrix = metrics.confusion_matrix(Y_test, Y_pred)\n",
    "print ('Confusion_matrix: \\n', confusion_matrix)\n",
    "# Print out accuracy\n",
    "print ('Accuracy score: \\n', metrics.accuracy_score(Y_test, Y_pred), '\\n')"
   ]
  },
  {
   "cell_type": "code",
   "execution_count": 908,
   "metadata": {
    "collapsed": true
   },
   "outputs": [],
   "source": [
    "clf = RandomForestClassifier( class_weight= 'balanced', max_depth= 20, min_samples_split= 20, \n",
    "                             n_estimators= 100, random_state=101)\n",
    "clf.fit(x_train_dropped,y)\n",
    "importance_list = clf.feature_importances_\n",
    "name_list = df_dummies_train_dropped_columns.columns\n",
    "importance_list, name_list = zip(*sorted(zip(importance_list, name_list)))\n",
    "df3  = pd.DataFrame([name_list,importance_list]).T\n",
    "df3.columns = ['Features','Importances']"
   ]
  },
  {
   "cell_type": "code",
   "execution_count": 910,
   "metadata": {},
   "outputs": [
    {
     "data": {
      "image/png": "[encoded data removed]",
      "text/plain": [
       "<matplotlib.figure.Figure at 0x11551d470>"
      ]
     },
     "metadata": {},
     "output_type": "display_data"
    }
   ],
   "source": [
    "#Feature Importances Plot (first try)\n",
    "f, ax = plt.subplots(figsize = (12,12))\n",
    "sns.barplot(x='Importances',y='Features',data=df3, ci=None, color='#4476f4')\n",
    "plt.title('Feature Importances Plot')\n",
    "plt.show();"
   ]
  },
  {
   "cell_type": "code",
   "execution_count": 915,
   "metadata": {
    "scrolled": true
   },
   "outputs": [
    {
     "data": {
      "text/plain": [
       "(90, 2)"
      ]
     },
     "execution_count": 915,
     "metadata": {},
     "output_type": "execute_result"
    }
   ],
   "source": [
    "# we will take 0.002 as a first cut\n",
    "df4 = df3[df3['Importances'] > 0.0025]\n",
    "df4.shape"
   ]
  },
  {
   "cell_type": "code",
   "execution_count": 913,
   "metadata": {
    "collapsed": true
   },
   "outputs": [],
   "source": [
    "#Our first feature importances cut yields 90 remaining \"important\" features. Let's cut the previous dataframe\n",
    "#  (555 predictors) so that only these 90 remain and then try our RandomForest again."
   ]
  },
  {
   "cell_type": "code",
   "execution_count": 930,
   "metadata": {},
   "outputs": [
    {
     "data": {
      "text/plain": [
       "array(['y33', 'y75', 'y34', 'z198', 'z109', 'x58', 'x187', 'z76', 'x212',\n",
       "       'x7', 'y94', 'x18', 'x208', 'x204', 'x206', 'x191', 'y206', 'y108',\n",
       "       'x207', 'y112', 'z210', 'z193', 'z15', 'z143', 'x112', 'z80',\n",
       "       'z107', 'y221', 'y17', 'y9', 'y36', 'z12', 'z50', 'y13', 'z150',\n",
       "       'y139', 'y219', 'x60', 'y109', 'z54', 'x5', 'y204', 'x202', 'x182',\n",
       "       'z192', 'y202', 'z49', 'z38', 'y203', 'z75', 'z53', 'z13', 'z5',\n",
       "       'x55', 'z202', 'z52', 'y55', 'z219', 'y220', 'x8', 'y205', 'y50',\n",
       "       'y70', 'z18', 'z8', 'x153', 'x56', 'x152', 'z111', 'x203', 'y208',\n",
       "       'y5', 'x205', 'y54', 'z51', 'x34', 'z55', 'z110', 'y8', 'x49',\n",
       "       'x54', 'x51', 'z56', 'z58', 'z69', 'y56', 'z206', 'z207', 'x50',\n",
       "       'z205'], dtype=object)"
      ]
     },
     "execution_count": 930,
     "metadata": {},
     "output_type": "execute_result"
    }
   ],
   "source": [
    "#Let's only use the features from our Feature Importance plot above where \n",
    "# Feature Importance > 0.0025\n",
    "\n",
    "important_features2 = df4.Features.as_matrix()\n",
    "important_features2"
   ]
  },
  {
   "cell_type": "code",
   "execution_count": 931,
   "metadata": {},
   "outputs": [
    {
     "data": {
      "text/plain": [
       "(4584, 90)"
      ]
     },
     "execution_count": 931,
     "metadata": {},
     "output_type": "execute_result"
    }
   ],
   "source": [
    "#create a new dataframe with only the 90 Training data columns deemed \"important\" by our Feature Importances plot\n",
    "df_dummies_train_features2 = df_dummies_train_dropped_columns[important_features2]\n",
    "df_dummies_train_features2.shape"
   ]
  },
  {
   "cell_type": "code",
   "execution_count": 932,
   "metadata": {},
   "outputs": [
    {
     "data": {
      "text/plain": [
       "array([[  2.16390798e+00,   1.87474629e+00,  -6.36314332e-01, ...,\n",
       "          8.59222530e-02,  -7.55435407e-01,   2.75763230e-01],\n",
       "       [  2.15021726e+00,   1.77395036e+00,  -6.45812154e-01, ...,\n",
       "         -1.89976900e-03,  -7.46451735e-01,   4.07122081e-01],\n",
       "       [  2.16662523e+00,   1.80257981e+00,  -7.84367979e-01, ...,\n",
       "          7.58729560e-02,  -5.95384657e-01,   3.01951989e-01],\n",
       "       ..., \n",
       "       [  2.15343442e+00,   2.06142402e+00,  -5.74660260e-02, ...,\n",
       "          2.26774284e-01,  -9.85998154e-01,   7.60300045e-01],\n",
       "       [  2.06823277e+00,   2.19522175e+00,   9.73724870e-02, ...,\n",
       "          3.40949440e-02,  -9.73420024e-01,   8.16176009e-01],\n",
       "       [  2.18663249e+00,   2.19964819e+00,   1.64759000e-04, ...,\n",
       "          1.12618530e-01,  -9.73349810e-01,   7.89348330e-01]])"
      ]
     },
     "execution_count": 932,
     "metadata": {},
     "output_type": "execute_result"
    }
   ],
   "source": [
    "x_train_features2 = df_dummies_train_features2.as_matrix()\n",
    "x_train_features2"
   ]
  },
  {
   "cell_type": "code",
   "execution_count": 933,
   "metadata": {},
   "outputs": [
    {
     "name": "stdout",
     "output_type": "stream",
     "text": [
      "(4584, 90) (3667, 90) (917, 90)\n"
     ]
    }
   ],
   "source": [
    "#Split into training and test set - where the latter is 20% of the total \n",
    "X_train, X_test, Y_train, Y_test = train_test_split(x_train_features2, y, test_size=.20, random_state=10) \n",
    "print (x_train_features2.shape, X_train.shape, X_test.shape)"
   ]
  },
  {
   "cell_type": "code",
   "execution_count": 934,
   "metadata": {},
   "outputs": [
    {
     "name": "stdout",
     "output_type": "stream",
     "text": [
      "f1 score is:  0.91917973462\n",
      "AUC with RandomForest:  0.760519485267\n",
      "Confusion_matrix: \n",
      " [[ 21 120]\n",
      " [ 14 762]]\n",
      "Accuracy score: \n",
      " 0.85387131952 \n",
      "\n"
     ]
    }
   ],
   "source": [
    "#Try our \"best\" RandomForest model yet on this new subset of training features:\n",
    "\n",
    "#Trying min_samples_split = 20, max_depth=20 and n_estimators = 100, class_weight = 'balanced'\n",
    "\n",
    "clf = RandomForestClassifier( class_weight= 'balanced', max_depth= 20, min_samples_split= 20, \n",
    "                             n_estimators= 100, random_state=101)\n",
    "clf.fit(X_train,Y_train) \n",
    "\n",
    "probas_ = clf.fit(X_train, Y_train).predict_proba(X_test)\n",
    "\n",
    "Y_pred = clf.predict(X_test)\n",
    "\n",
    "print(\"f1 score is: \", f1_score(Y_test,Y_pred)) \n",
    "\n",
    "# Compute ROC curve and area the curve\n",
    "fpr, tpr, thresholds = roc_curve(Y_test, probas_[:, 1])\n",
    "roc_auc = auc(fpr, tpr)\n",
    "print(\"AUC with RandomForest: \" , roc_auc)\n",
    "# Print out confusion matrix\n",
    "confusion_matrix = metrics.confusion_matrix(Y_test, Y_pred)\n",
    "print ('Confusion_matrix: \\n', confusion_matrix)\n",
    "# Print out accuracy\n",
    "print ('Accuracy score: \\n', metrics.accuracy_score(Y_test, Y_pred), '\\n')"
   ]
  },
  {
   "cell_type": "code",
   "execution_count": 935,
   "metadata": {},
   "outputs": [
    {
     "data": {
      "text/plain": [
       "(1732, 90)"
      ]
     },
     "execution_count": 935,
     "metadata": {},
     "output_type": "execute_result"
    }
   ],
   "source": [
    "#do the same for test data\n",
    "df_dummies_test_features2 = df_dummies_test_dropped_columns[important_features2]\n",
    "df_dummies_test_features2.shape"
   ]
  },
  {
   "cell_type": "code",
   "execution_count": 936,
   "metadata": {},
   "outputs": [
    {
     "data": {
      "text/plain": [
       "(1732, 90)"
      ]
     },
     "execution_count": 936,
     "metadata": {},
     "output_type": "execute_result"
    }
   ],
   "source": [
    "#get matrix form of the new test data subset of 90 \"important\" features\n",
    "x_test_features2 = df_dummies_test_features2.as_matrix()\n",
    "x_test_features2.shape"
   ]
  },
  {
   "cell_type": "code",
   "execution_count": 938,
   "metadata": {
    "collapsed": true
   },
   "outputs": [],
   "source": [
    "# #Make a sixth RandomForest prediction to submit to Kaggle \n",
    "\n",
    "# clf = RandomForestClassifier( class_weight= 'balanced', max_depth= 20, min_samples_split= 20, \n",
    "#                              n_estimators= 100, random_state=101)\n",
    "\n",
    "# #use 100% of training data for the fit!\n",
    "# clf.fit(x_train_features2,y)\n",
    "\n",
    "# #cutoff value of 0.5\n",
    "# preds6 = cutoff_predict(clf,x_test_features2,0.5)"
   ]
  },
  {
   "cell_type": "code",
   "execution_count": 942,
   "metadata": {
    "collapsed": true
   },
   "outputs": [],
   "source": [
    "# #Sixth Kaggle submission\n",
    "\n",
    "# submission6 = pd.DataFrame( {\n",
    "#     \"id\": df_dummies_test_index['index'],\n",
    "#     \"output\": preds6\n",
    "# })\n",
    "# submission6.to_csv('McNutt_Jonathan_6.csv', index=False)"
   ]
  },
  {
   "cell_type": "markdown",
   "metadata": {},
   "source": [
    "Hmmmm, Kaggle says I have 'no more remaining submissions for today' until roughly 5 hours from now.....\n",
    "\n",
    "I guess I'll move on to try other methods in the meantime?"
   ]
  },
  {
   "cell_type": "code",
   "execution_count": 943,
   "metadata": {
    "collapsed": true
   },
   "outputs": [],
   "source": [
    "#We can see from our previous subject versus output plots in the training data that Subject 'K' is always output = '1'.\n",
    "\n",
    "#So the question is, how to make sure that the probability for subject K equals '1'.\n",
    "\n",
    "# we want: preds = model.predict_proba(x_test)\n",
    "# but ACTUALLY submit preds[:,1] as the Kaggle submission!!!!\n",
    "\n",
    "#try feature engineering from Section 7 \n"
   ]
  },
  {
   "cell_type": "code",
   "execution_count": 4,
   "metadata": {
    "collapsed": true
   },
   "outputs": [],
   "source": [
    "train = pd.read_csv('train_data.csv')\n",
    "test = pd.read_csv('test_data.csv')"
   ]
  },
  {
   "cell_type": "code",
   "execution_count": 5,
   "metadata": {},
   "outputs": [
    {
     "data": {
      "text/plain": [
       "(4584, 670)"
      ]
     },
     "execution_count": 5,
     "metadata": {},
     "output_type": "execute_result"
    }
   ],
   "source": [
    "train.shape"
   ]
  },
  {
   "cell_type": "code",
   "execution_count": 6,
   "metadata": {},
   "outputs": [
    {
     "data": {
      "text/plain": [
       "(1732, 669)"
      ]
     },
     "execution_count": 6,
     "metadata": {},
     "output_type": "execute_result"
    }
   ],
   "source": [
    "test.shape"
   ]
  },
  {
   "cell_type": "code",
   "execution_count": 7,
   "metadata": {
    "collapsed": true
   },
   "outputs": [],
   "source": [
    "#code from Section 7\n",
    "\n",
    "train['indicator']='train'\n",
    "test['indicator']='test'\n",
    "\n",
    "Y = train.output\n",
    "train.drop('output',inplace=True, axis=1)\n"
   ]
  },
  {
   "cell_type": "code",
   "execution_count": 8,
   "metadata": {},
   "outputs": [
    {
     "data": {
      "text/plain": [
       "(6316, 670)"
      ]
     },
     "execution_count": 8,
     "metadata": {},
     "output_type": "execute_result"
    }
   ],
   "source": [
    "#code from Section 7\n",
    "\n",
    "train_test = pd.concat([train,test])\n",
    "train_test.reset_index(inplace=True, drop=True) #drop index\n",
    "train_test.shape"
   ]
  },
  {
   "cell_type": "code",
   "execution_count": 9,
   "metadata": {
    "collapsed": true
   },
   "outputs": [],
   "source": [
    "#code from Section 7\n",
    "\n",
    "#Creating Features\n",
    "train_test['SubjectK'] = 0\n",
    "train_test.loc[train_test[train_test.subject=='K'].index,'SubjectK']=1"
   ]
  },
  {
   "cell_type": "code",
   "execution_count": 10,
   "metadata": {
    "collapsed": true
   },
   "outputs": [],
   "source": [
    "#code from Section 7\n",
    "\n",
    "#Step by step\n",
    "i1 = train_test[((train_test.phase==1) & (train_test.subject=='A'))].index\n",
    "arr = np.zeros(train_test.shape[0],dtype=int)\n",
    "arr[i1]=1\n",
    "train_test['SubA_Phase1']=arr\n",
    "\n",
    "#concise\n",
    "train_test['SubI_Phase1'] = 0\n",
    "train_test.loc[train_test[((train_test.phase==1) & (train_test.subject=='I'))].index,'SubI_Phase1'] = 1\n",
    "\n",
    "train_test['SubM_Phase1'] = 0\n",
    "train_test.loc[train_test[((train_test.phase==1) & (train_test.subject=='M'))].index,'SubM_Phase1'] = 1\n",
    "\n",
    "train_test['SubA_Phase2'] = 0\n",
    "train_test.loc[train_test[((train_test.phase==2) & (train_test.subject=='A'))].index,'SubA_Phase2'] = 1\n",
    "\n",
    "train_test['SubF_Phase2'] = 0\n",
    "train_test.loc[train_test[((train_test.phase==2) & (train_test.subject=='F'))].index,'SubF_Phase2'] = 1\n",
    "\n",
    "train_test['SubI_Phase3'] = 0\n",
    "train_test.loc[train_test[((train_test.phase==3) & (train_test.subject=='I'))].index,'SubI_Phase3'] = 1\n",
    "\n",
    "train_test['SubL_Phase3'] = 0\n",
    "train_test.loc[train_test[((train_test.phase==3) & (train_test.subject=='L'))].index,'SubL_Phase3'] = 1\n",
    "\n",
    "train_test['SubL_Phase4'] = 0\n",
    "train_test.loc[train_test[((train_test.phase==4) & (train_test.subject=='L'))].index,'SubL_Phase4'] = 1"
   ]
  },
  {
   "cell_type": "code",
   "execution_count": 11,
   "metadata": {
    "collapsed": true
   },
   "outputs": [],
   "source": [
    "#code from Section 7 \n",
    "\n",
    "train_1 = train_test[train_test.indicator=='train']\n",
    "test_1 = train_test[train_test.indicator=='test']\n",
    "train_1.reset_index(inplace=True,drop=True)\n",
    "test_1.reset_index(inplace=True,drop=True)"
   ]
  },
  {
   "cell_type": "code",
   "execution_count": 12,
   "metadata": {
    "collapsed": true
   },
   "outputs": [],
   "source": [
    "#Get dummy variables for Training and Test categorical data: state\n",
    "df_state_train = pd.get_dummies(train_1['state'], prefix = 'state')  \n",
    "df_state_test = pd.get_dummies(test_1['state'], prefix = 'state') "
   ]
  },
  {
   "cell_type": "code",
   "execution_count": 13,
   "metadata": {
    "collapsed": true
   },
   "outputs": [],
   "source": [
    "#Get dummy variables for Training and Test categorical data: phase\n",
    "df_phase_train = pd.get_dummies(train_1['phase'], prefix = 'phase')\n",
    "df_phase_test = pd.get_dummies(test_1['phase'], prefix = 'phase') "
   ]
  },
  {
   "cell_type": "code",
   "execution_count": 14,
   "metadata": {
    "collapsed": true
   },
   "outputs": [],
   "source": [
    "#Get dummy variables for Training and Test categorical data: subject\n",
    "df_subject_train = pd.get_dummies(train_1['subject'], prefix = 'subject')\n",
    "df_subject_test = pd.get_dummies(test_1['subject'], prefix = 'subject') "
   ]
  },
  {
   "cell_type": "code",
   "execution_count": 15,
   "metadata": {},
   "outputs": [
    {
     "data": {
      "text/html": [
       "<div>\n",
       "<style>\n",
       "    .dataframe thead tr:only-child th {\n",
       "        text-align: right;\n",
       "    }\n",
       "\n",
       "    .dataframe thead th {\n",
       "        text-align: left;\n",
       "    }\n",
       "\n",
       "    .dataframe tbody tr th {\n",
       "        vertical-align: top;\n",
       "    }\n",
       "</style>\n",
       "<table border=\"1\" class=\"dataframe\">\n",
       "  <thead>\n",
       "    <tr style=\"text-align: right;\">\n",
       "      <th></th>\n",
       "      <th>subject_A</th>\n",
       "      <th>subject_B</th>\n",
       "      <th>subject_C</th>\n",
       "      <th>subject_D</th>\n",
       "      <th>subject_F</th>\n",
       "      <th>subject_G</th>\n",
       "      <th>subject_H</th>\n",
       "      <th>subject_I</th>\n",
       "      <th>subject_K</th>\n",
       "      <th>subject_L</th>\n",
       "      <th>subject_M</th>\n",
       "    </tr>\n",
       "  </thead>\n",
       "  <tbody>\n",
       "    <tr>\n",
       "      <th>0</th>\n",
       "      <td>1</td>\n",
       "      <td>0</td>\n",
       "      <td>0</td>\n",
       "      <td>0</td>\n",
       "      <td>0</td>\n",
       "      <td>0</td>\n",
       "      <td>0</td>\n",
       "      <td>0</td>\n",
       "      <td>0</td>\n",
       "      <td>0</td>\n",
       "      <td>0</td>\n",
       "    </tr>\n",
       "    <tr>\n",
       "      <th>1</th>\n",
       "      <td>1</td>\n",
       "      <td>0</td>\n",
       "      <td>0</td>\n",
       "      <td>0</td>\n",
       "      <td>0</td>\n",
       "      <td>0</td>\n",
       "      <td>0</td>\n",
       "      <td>0</td>\n",
       "      <td>0</td>\n",
       "      <td>0</td>\n",
       "      <td>0</td>\n",
       "    </tr>\n",
       "    <tr>\n",
       "      <th>2</th>\n",
       "      <td>1</td>\n",
       "      <td>0</td>\n",
       "      <td>0</td>\n",
       "      <td>0</td>\n",
       "      <td>0</td>\n",
       "      <td>0</td>\n",
       "      <td>0</td>\n",
       "      <td>0</td>\n",
       "      <td>0</td>\n",
       "      <td>0</td>\n",
       "      <td>0</td>\n",
       "    </tr>\n",
       "    <tr>\n",
       "      <th>3</th>\n",
       "      <td>1</td>\n",
       "      <td>0</td>\n",
       "      <td>0</td>\n",
       "      <td>0</td>\n",
       "      <td>0</td>\n",
       "      <td>0</td>\n",
       "      <td>0</td>\n",
       "      <td>0</td>\n",
       "      <td>0</td>\n",
       "      <td>0</td>\n",
       "      <td>0</td>\n",
       "    </tr>\n",
       "    <tr>\n",
       "      <th>4</th>\n",
       "      <td>1</td>\n",
       "      <td>0</td>\n",
       "      <td>0</td>\n",
       "      <td>0</td>\n",
       "      <td>0</td>\n",
       "      <td>0</td>\n",
       "      <td>0</td>\n",
       "      <td>0</td>\n",
       "      <td>0</td>\n",
       "      <td>0</td>\n",
       "      <td>0</td>\n",
       "    </tr>\n",
       "  </tbody>\n",
       "</table>\n",
       "</div>"
      ],
      "text/plain": [
       "   subject_A  subject_B  subject_C  subject_D  subject_F  subject_G  \\\n",
       "0          1          0          0          0          0          0   \n",
       "1          1          0          0          0          0          0   \n",
       "2          1          0          0          0          0          0   \n",
       "3          1          0          0          0          0          0   \n",
       "4          1          0          0          0          0          0   \n",
       "\n",
       "   subject_H  subject_I  subject_K  subject_L  subject_M  \n",
       "0          0          0          0          0          0  \n",
       "1          0          0          0          0          0  \n",
       "2          0          0          0          0          0  \n",
       "3          0          0          0          0          0  \n",
       "4          0          0          0          0          0  "
      ]
     },
     "execution_count": 15,
     "metadata": {},
     "output_type": "execute_result"
    }
   ],
   "source": [
    "df_subject_train.head()"
   ]
  },
  {
   "cell_type": "code",
   "execution_count": 16,
   "metadata": {},
   "outputs": [
    {
     "data": {
      "text/html": [
       "<div>\n",
       "<style>\n",
       "    .dataframe thead tr:only-child th {\n",
       "        text-align: right;\n",
       "    }\n",
       "\n",
       "    .dataframe thead th {\n",
       "        text-align: left;\n",
       "    }\n",
       "\n",
       "    .dataframe tbody tr th {\n",
       "        vertical-align: top;\n",
       "    }\n",
       "</style>\n",
       "<table border=\"1\" class=\"dataframe\">\n",
       "  <thead>\n",
       "    <tr style=\"text-align: right;\">\n",
       "      <th></th>\n",
       "      <th>subject_A</th>\n",
       "      <th>subject_B</th>\n",
       "      <th>subject_C</th>\n",
       "      <th>subject_D</th>\n",
       "      <th>subject_E</th>\n",
       "      <th>subject_F</th>\n",
       "      <th>subject_G</th>\n",
       "      <th>subject_H</th>\n",
       "      <th>subject_I</th>\n",
       "      <th>subject_J</th>\n",
       "      <th>subject_K</th>\n",
       "      <th>subject_L</th>\n",
       "      <th>subject_M</th>\n",
       "    </tr>\n",
       "  </thead>\n",
       "  <tbody>\n",
       "    <tr>\n",
       "      <th>0</th>\n",
       "      <td>0</td>\n",
       "      <td>1</td>\n",
       "      <td>0</td>\n",
       "      <td>0</td>\n",
       "      <td>0</td>\n",
       "      <td>0</td>\n",
       "      <td>0</td>\n",
       "      <td>0</td>\n",
       "      <td>0</td>\n",
       "      <td>0</td>\n",
       "      <td>0</td>\n",
       "      <td>0</td>\n",
       "      <td>0</td>\n",
       "    </tr>\n",
       "    <tr>\n",
       "      <th>1</th>\n",
       "      <td>0</td>\n",
       "      <td>1</td>\n",
       "      <td>0</td>\n",
       "      <td>0</td>\n",
       "      <td>0</td>\n",
       "      <td>0</td>\n",
       "      <td>0</td>\n",
       "      <td>0</td>\n",
       "      <td>0</td>\n",
       "      <td>0</td>\n",
       "      <td>0</td>\n",
       "      <td>0</td>\n",
       "      <td>0</td>\n",
       "    </tr>\n",
       "    <tr>\n",
       "      <th>2</th>\n",
       "      <td>0</td>\n",
       "      <td>1</td>\n",
       "      <td>0</td>\n",
       "      <td>0</td>\n",
       "      <td>0</td>\n",
       "      <td>0</td>\n",
       "      <td>0</td>\n",
       "      <td>0</td>\n",
       "      <td>0</td>\n",
       "      <td>0</td>\n",
       "      <td>0</td>\n",
       "      <td>0</td>\n",
       "      <td>0</td>\n",
       "    </tr>\n",
       "    <tr>\n",
       "      <th>3</th>\n",
       "      <td>0</td>\n",
       "      <td>1</td>\n",
       "      <td>0</td>\n",
       "      <td>0</td>\n",
       "      <td>0</td>\n",
       "      <td>0</td>\n",
       "      <td>0</td>\n",
       "      <td>0</td>\n",
       "      <td>0</td>\n",
       "      <td>0</td>\n",
       "      <td>0</td>\n",
       "      <td>0</td>\n",
       "      <td>0</td>\n",
       "    </tr>\n",
       "    <tr>\n",
       "      <th>4</th>\n",
       "      <td>0</td>\n",
       "      <td>1</td>\n",
       "      <td>0</td>\n",
       "      <td>0</td>\n",
       "      <td>0</td>\n",
       "      <td>0</td>\n",
       "      <td>0</td>\n",
       "      <td>0</td>\n",
       "      <td>0</td>\n",
       "      <td>0</td>\n",
       "      <td>0</td>\n",
       "      <td>0</td>\n",
       "      <td>0</td>\n",
       "    </tr>\n",
       "  </tbody>\n",
       "</table>\n",
       "</div>"
      ],
      "text/plain": [
       "   subject_A  subject_B  subject_C  subject_D  subject_E  subject_F  \\\n",
       "0          0          1          0          0          0          0   \n",
       "1          0          1          0          0          0          0   \n",
       "2          0          1          0          0          0          0   \n",
       "3          0          1          0          0          0          0   \n",
       "4          0          1          0          0          0          0   \n",
       "\n",
       "   subject_G  subject_H  subject_I  subject_J  subject_K  subject_L  subject_M  \n",
       "0          0          0          0          0          0          0          0  \n",
       "1          0          0          0          0          0          0          0  \n",
       "2          0          0          0          0          0          0          0  \n",
       "3          0          0          0          0          0          0          0  \n",
       "4          0          0          0          0          0          0          0  "
      ]
     },
     "execution_count": 16,
     "metadata": {},
     "output_type": "execute_result"
    }
   ],
   "source": [
    "df_subject_test.head()"
   ]
  },
  {
   "cell_type": "code",
   "execution_count": 17,
   "metadata": {
    "collapsed": true
   },
   "outputs": [],
   "source": [
    "#since the Test data has two more subjects than Training: subject 'E' and 'J', let's drop these two from the test df\n",
    "df_subject_test.drop('subject_E',inplace=True, axis=1)\n",
    "df_subject_test.drop('subject_J',inplace=True, axis=1)"
   ]
  },
  {
   "cell_type": "code",
   "execution_count": 18,
   "metadata": {
    "collapsed": true
   },
   "outputs": [],
   "source": [
    "#Drop the three categorical columns plus the added indicator column\n",
    "train_1 = train_1.drop(['state','subject','phase','indicator'], axis=1)\n",
    "test_1 = test_1.drop(['state','subject','phase','indicator'], axis=1)"
   ]
  },
  {
   "cell_type": "code",
   "execution_count": 19,
   "metadata": {
    "collapsed": true
   },
   "outputs": [],
   "source": [
    "#Concatenate the new Training dummy variable dataframes with the predictors training dataframe\n",
    "train_1 = pd.concat([train_1, df_state_train, df_phase_train, df_subject_train], axis = 1)\n",
    "test_1 = pd.concat([test_1, df_state_test, df_phase_test, df_subject_test], axis = 1)"
   ]
  },
  {
   "cell_type": "code",
   "execution_count": 20,
   "metadata": {},
   "outputs": [
    {
     "data": {
      "text/plain": [
       "(4584, 695)"
      ]
     },
     "execution_count": 20,
     "metadata": {},
     "output_type": "execute_result"
    }
   ],
   "source": [
    "train_1.shape"
   ]
  },
  {
   "cell_type": "code",
   "execution_count": 21,
   "metadata": {},
   "outputs": [
    {
     "data": {
      "text/plain": [
       "(1732, 695)"
      ]
     },
     "execution_count": 21,
     "metadata": {},
     "output_type": "execute_result"
    }
   ],
   "source": [
    "test_1.shape"
   ]
  },
  {
   "cell_type": "code",
   "execution_count": 987,
   "metadata": {},
   "outputs": [
    {
     "name": "stdout",
     "output_type": "stream",
     "text": [
      "(4584, 695) (3667, 695) (917, 695)\n"
     ]
    }
   ],
   "source": [
    "#Split into training and test set - where the latter is 20% of the total \n",
    "X_train, X_test, Y_train, Y_test = train_test_split(train_1, Y, test_size=.20, random_state=10) \n",
    "print (train_1.shape, X_train.shape, X_test.shape)"
   ]
  },
  {
   "cell_type": "code",
   "execution_count": 988,
   "metadata": {},
   "outputs": [
    {
     "name": "stdout",
     "output_type": "stream",
     "text": [
      "f1 score is:  0.87741046832\n",
      "AUC with XGBoost:  0.867953498574\n",
      "Confusion_matrix: \n",
      " [[102  39]\n",
      " [139 637]]\n",
      "Accuracy score: \n",
      " 0.805888767721 \n",
      "\n"
     ]
    }
   ],
   "source": [
    "#Create a model on complete training set \n",
    "model = xgb.XGBClassifier(seed=82, n_estimators=1100 , max_depth=3, colsample_bylevel=0.8,\n",
    "                          colsample_bytree=0.7,learning_rate=0.01, reg_lambda=0.1 , \n",
    "                           scale_pos_weight = 0.18357862) #missing = -999\n",
    "\n",
    "model.fit(X_train,Y_train, eval_metric='auc')\n",
    "probas_ = model.predict_proba(X_test) #submit these predictions\n",
    "\n",
    "Y_pred = model.predict(X_test)\n",
    "\n",
    "print(\"f1 score is: \", f1_score(Y_test,Y_pred)) \n",
    "\n",
    "# Compute ROC curve and area the curve\n",
    "fpr, tpr, thresholds = roc_curve(Y_test, probas_[:, 1])\n",
    "roc_auc = auc(fpr, tpr)\n",
    "print(\"AUC with XGBoost: \" , roc_auc)\n",
    "# Print out confusion matrix\n",
    "confusion_matrix = metrics.confusion_matrix(Y_test, Y_pred)\n",
    "print ('Confusion_matrix: \\n', confusion_matrix)\n",
    "# Print out accuracy\n",
    "print ('Accuracy score: \\n', metrics.accuracy_score(Y_test, Y_pred), '\\n')"
   ]
  },
  {
   "cell_type": "markdown",
   "metadata": {},
   "source": [
    "WOW!  Highest AUC score yet!! (for me, anyway)  \n",
    "\n",
    "So let's try our best RandomForest model against this XGBoost model before submitting one of them (whichever wins) on Kaggle leaderboard."
   ]
  },
  {
   "cell_type": "code",
   "execution_count": 989,
   "metadata": {},
   "outputs": [
    {
     "name": "stdout",
     "output_type": "stream",
     "text": [
      "f1 score is:  0.923169267707\n",
      "AUC with RandomForest:  0.823572420853\n",
      "Confusion_matrix: \n",
      " [[ 20 121]\n",
      " [  7 769]]\n",
      "Accuracy score: \n",
      " 0.860414394766 \n",
      "\n"
     ]
    }
   ],
   "source": [
    "#Try our \"best\" RandomForest model yet on this new subset of training features:\n",
    "\n",
    "#Trying min_samples_split = 20, max_depth=20 and n_estimators = 100, class_weight = 'balanced'\n",
    "\n",
    "clf = RandomForestClassifier( class_weight= 'balanced', max_depth= 20, min_samples_split= 20, \n",
    "                             n_estimators= 100, random_state=101)\n",
    "clf.fit(X_train,Y_train) \n",
    "\n",
    "probas_ = clf.fit(X_train, Y_train).predict_proba(X_test)\n",
    "\n",
    "Y_pred = clf.predict(X_test)\n",
    "\n",
    "print(\"f1 score is: \", f1_score(Y_test,Y_pred)) \n",
    "\n",
    "# Compute ROC curve and area the curve\n",
    "fpr, tpr, thresholds = roc_curve(Y_test, probas_[:, 1])\n",
    "roc_auc = auc(fpr, tpr)\n",
    "print(\"AUC with RandomForest: \" , roc_auc)\n",
    "# Print out confusion matrix\n",
    "confusion_matrix = metrics.confusion_matrix(Y_test, Y_pred)\n",
    "print ('Confusion_matrix: \\n', confusion_matrix)\n",
    "# Print out accuracy\n",
    "print ('Accuracy score: \\n', metrics.accuracy_score(Y_test, Y_pred), '\\n')"
   ]
  },
  {
   "cell_type": "markdown",
   "metadata": {},
   "source": [
    "OK, looks like I would need to get an \"Important Features\" subset in order to maximize RandomForest, even with the feature engineering. Let's submit the XGBoost model to see the results on Kaggle."
   ]
  },
  {
   "cell_type": "code",
   "execution_count": 991,
   "metadata": {
    "collapsed": true
   },
   "outputs": [],
   "source": [
    "#Create a model on complete training set \n",
    "model = xgb.XGBClassifier(seed=82, n_estimators=1100 , max_depth=3, colsample_bylevel=0.8,\n",
    "                          colsample_bytree=0.7,learning_rate=0.01, reg_lambda=0.1 , \n",
    "                           scale_pos_weight = 0.18357862)\n",
    "\n",
    "model.fit(train_1,Y, eval_metric='auc')\n",
    "preds = model.predict_proba(test_1) #submit these predictions"
   ]
  },
  {
   "cell_type": "code",
   "execution_count": 992,
   "metadata": {
    "collapsed": true
   },
   "outputs": [],
   "source": [
    "submission6 = pd.DataFrame([test_1.index,preds[:,1]]).T\n",
    "submission6.columns = ['id','output']\n",
    "submission6.id = submission6.id.astype(int)\n",
    "submission6.to_csv('McNutt_Jonathan_6.csv',index=False)"
   ]
  },
  {
   "cell_type": "markdown",
   "metadata": {},
   "source": [
    "YEEEEEEEESSSSSSS!!! My 6th Kaggle submission moved me up to 4th overall, with an AUC score of 0.74444!!  \n",
    "\n",
    "So clearly, something crazy must be done in order to break into the 0.8 range.  Let's try the feature importances to reduce the number of variables and try again."
   ]
  },
  {
   "cell_type": "code",
   "execution_count": 1016,
   "metadata": {},
   "outputs": [
    {
     "name": "stdout",
     "output_type": "stream",
     "text": [
      "(4584, 695) (3896, 695) (688, 695)\n"
     ]
    }
   ],
   "source": [
    "#Split into training and test set - where the latter is 20% of the total \n",
    "X_train, X_test, Y_train, Y_test = train_test_split(train_1, Y, test_size=.15, random_state=10) \n",
    "print (train_1.shape, X_train.shape, X_test.shape)"
   ]
  },
  {
   "cell_type": "code",
   "execution_count": 1017,
   "metadata": {},
   "outputs": [
    {
     "name": "stdout",
     "output_type": "stream",
     "text": [
      "f1 score is:  0.908462867012\n",
      "AUC with XGBoost:  0.860537574405\n",
      "Confusion_matrix: \n",
      " [[ 56  56]\n",
      " [ 50 526]]\n",
      "Accuracy score: \n",
      " 0.845930232558 \n",
      "\n"
     ]
    }
   ],
   "source": [
    "#Create an XGBoost model based on parameters above:\n",
    "\n",
    "model = xgb.XGBClassifier(seed=82, n_estimators=1000 , max_depth=5, min_child_weight=6,\n",
    "                          gamma=0, colsample_bylevel=0.8, objective= 'binary:logistic',nthread=4,\n",
    "                          colsample_bytree=0.8,learning_rate=0.01, reg_lambda=0.1 , \n",
    "                           scale_pos_weight = 0.18357862)\n",
    "\n",
    "model.fit(X_train,Y_train, eval_metric='auc')\n",
    "probas_ = model.predict_proba(X_test) #submit these predictions\n",
    "\n",
    "Y_pred = model.predict(X_test)\n",
    "\n",
    "print(\"f1 score is: \", f1_score(Y_test,Y_pred)) \n",
    "\n",
    "# Compute ROC curve and area the curve\n",
    "fpr, tpr, thresholds = roc_curve(Y_test, probas_[:, 1])\n",
    "roc_auc = auc(fpr, tpr)\n",
    "print(\"AUC with XGBoost: \" , roc_auc)\n",
    "# Print out confusion matrix\n",
    "confusion_matrix = metrics.confusion_matrix(Y_test, Y_pred)\n",
    "print ('Confusion_matrix: \\n', confusion_matrix)\n",
    "# Print out accuracy\n",
    "print ('Accuracy score: \\n', metrics.accuracy_score(Y_test, Y_pred), '\\n')"
   ]
  },
  {
   "cell_type": "code",
   "execution_count": null,
   "metadata": {
    "collapsed": true
   },
   "outputs": [],
   "source": [
    "#next try dropping those 120 columns I found 'manually' by verifying in Excel that those columns had 'static' values"
   ]
  },
  {
   "cell_type": "code",
   "execution_count": 1032,
   "metadata": {
    "collapsed": true
   },
   "outputs": [],
   "source": [
    "x_coordinates = []\n",
    "y_coordinates = []\n",
    "z_coordinates = []"
   ]
  },
  {
   "cell_type": "code",
   "execution_count": 1035,
   "metadata": {
    "collapsed": true
   },
   "outputs": [],
   "source": [
    "#Get a list of x-coordinates to drop, then y-coordinates, then z-coordinates, then combine, then drop from dataframe\n",
    "\n",
    "x_coordinates = ['x1','x2','x3','x14','x39','x47','x48','x57','x72','x73','x74','x81','x86','x87','x91','x92',\n",
    "                 'x93','x96','x97','x98','x99','x103','x104','x105','x113','x118','x119','x120','x121','x122',\n",
    "                 'x123','x124','x125','x126','x127','x128','x129','x130','x131','x132']"
   ]
  },
  {
   "cell_type": "code",
   "execution_count": 1037,
   "metadata": {
    "collapsed": true
   },
   "outputs": [],
   "source": [
    "y_coordinates = ['y1','y2','y3','y14','y39','y47','y48','y57','y72','y73','y74','y81','y86','y87','y91','y92',\n",
    "                 'y93','y96','y97','y98','y99','y103','y104','y105','y113','y118','y119','y120','y121','y122',\n",
    "                 'y123','y124','y125','y126','y127','y128','y129','y130','y131','y132']"
   ]
  },
  {
   "cell_type": "code",
   "execution_count": 1038,
   "metadata": {
    "collapsed": true
   },
   "outputs": [],
   "source": [
    "z_coordinates = ['z1','z2','z3','z14','z39','z47','z48','z57','z72','z73','z74','z81','z86','z87','z91','z92',\n",
    "                 'z93','z96','z97','z98','z99','z103','z104','z105','z113','z118','z119','z120','z121','z122',\n",
    "                 'z123','z124','z125','z126','z127','z128','z129','z130','z131','z132']"
   ]
  },
  {
   "cell_type": "code",
   "execution_count": 18,
   "metadata": {
    "collapsed": true
   },
   "outputs": [],
   "source": [
    "columns_to_drop = []\n",
    "columns_to_drop.extend(x_coordinates)"
   ]
  },
  {
   "cell_type": "code",
   "execution_count": 19,
   "metadata": {
    "collapsed": true
   },
   "outputs": [],
   "source": [
    "columns_to_drop.extend(y_coordinates)"
   ]
  },
  {
   "cell_type": "code",
   "execution_count": 20,
   "metadata": {
    "collapsed": true
   },
   "outputs": [],
   "source": [
    "columns_to_drop.extend(z_coordinates)"
   ]
  },
  {
   "cell_type": "code",
   "execution_count": 21,
   "metadata": {},
   "outputs": [
    {
     "name": "stdout",
     "output_type": "stream",
     "text": [
      "Length of array of columns to drop:  120 \n",
      "\n",
      "['x1', 'x2', 'x3', 'x14', 'x39', 'x47', 'x48', 'x57', 'x72', 'x73', 'x74', 'x81', 'x86', 'x87', 'x91', 'x92', 'x93', 'x96', 'x97', 'x98', 'x99', 'x103', 'x104', 'x105', 'x113', 'x118', 'x119', 'x120', 'x121', 'x122', 'x123', 'x124', 'x125', 'x126', 'x127', 'x128', 'x129', 'x130', 'x131', 'x132', 'y1', 'y2', 'y3', 'y14', 'y39', 'y47', 'y48', 'y57', 'y72', 'y73', 'y74', 'y81', 'y86', 'y87', 'y91', 'y92', 'y93', 'y96', 'y97', 'y98', 'y99', 'y103', 'y104', 'y105', 'y113', 'y118', 'y119', 'y120', 'y121', 'y122', 'y123', 'y124', 'y125', 'y126', 'y127', 'y128', 'y129', 'y130', 'y131', 'y132', 'z1', 'z2', 'z3', 'z14', 'z39', 'z47', 'z48', 'z57', 'z72', 'z73', 'z74', 'z81', 'z86', 'z87', 'z91', 'z92', 'z93', 'z96', 'z97', 'z98', 'z99', 'z103', 'z104', 'z105', 'z113', 'z118', 'z119', 'z120', 'z121', 'z122', 'z123', 'z124', 'z125', 'z126', 'z127', 'z128', 'z129', 'z130', 'z131', 'z132']\n"
     ]
    }
   ],
   "source": [
    "#Final list of columns to drop from the training AND test data \n",
    "print(\"Length of array of columns to drop: \",len(columns_to_drop),\"\\n\")\n",
    "print(columns_to_drop)"
   ]
  },
  {
   "cell_type": "code",
   "execution_count": 1050,
   "metadata": {
    "collapsed": true
   },
   "outputs": [],
   "source": [
    "#drop the columns from train and test data\n",
    "train_1 = train_1.drop(columns_to_drop, axis=1)\n",
    "test_1 = test_1.drop(columns_to_drop, axis=1)"
   ]
  },
  {
   "cell_type": "code",
   "execution_count": 1051,
   "metadata": {},
   "outputs": [
    {
     "data": {
      "text/plain": [
       "(4584, 575)"
      ]
     },
     "execution_count": 1051,
     "metadata": {},
     "output_type": "execute_result"
    }
   ],
   "source": [
    "train_1.shape"
   ]
  },
  {
   "cell_type": "code",
   "execution_count": 1052,
   "metadata": {},
   "outputs": [
    {
     "data": {
      "text/plain": [
       "(1732, 575)"
      ]
     },
     "execution_count": 1052,
     "metadata": {},
     "output_type": "execute_result"
    }
   ],
   "source": [
    "test_1.shape"
   ]
  },
  {
   "cell_type": "code",
   "execution_count": 1053,
   "metadata": {},
   "outputs": [
    {
     "name": "stdout",
     "output_type": "stream",
     "text": [
      "(4584, 575) (3667, 575) (917, 575)\n"
     ]
    }
   ],
   "source": [
    "#Now try the same XGBoost model to see if the AUC score increased:\n",
    "\n",
    "#Split into training and test set - where the latter is 20% of the total \n",
    "X_train, X_test, Y_train, Y_test = train_test_split(train_1, Y, test_size=.20, random_state=10) \n",
    "print (train_1.shape, X_train.shape, X_test.shape)"
   ]
  },
  {
   "cell_type": "code",
   "execution_count": 1054,
   "metadata": {},
   "outputs": [
    {
     "name": "stdout",
     "output_type": "stream",
     "text": [
      "f1 score is:  0.878015161957\n",
      "AUC with XGBoost:  0.867231483512\n",
      "Confusion_matrix: \n",
      " [[103  38]\n",
      " [139 637]]\n",
      "Accuracy score: \n",
      " 0.806979280262 \n",
      "\n"
     ]
    }
   ],
   "source": [
    "#Create a model on complete training set \n",
    "model = xgb.XGBClassifier(seed=82, n_estimators=1100 , max_depth=3, colsample_bylevel=0.8,\n",
    "                          colsample_bytree=0.7,learning_rate=0.01, reg_lambda=0.1 , \n",
    "                           scale_pos_weight = 0.18357862) #missing = -999\n",
    "\n",
    "model.fit(X_train,Y_train, eval_metric='auc')\n",
    "probas_ = model.predict_proba(X_test) #submit these predictions\n",
    "\n",
    "Y_pred = model.predict(X_test)\n",
    "\n",
    "print(\"f1 score is: \", f1_score(Y_test,Y_pred)) \n",
    "\n",
    "# Compute ROC curve and area the curve\n",
    "fpr, tpr, thresholds = roc_curve(Y_test, probas_[:, 1])\n",
    "roc_auc = auc(fpr, tpr)\n",
    "print(\"AUC with XGBoost: \" , roc_auc)\n",
    "# Print out confusion matrix\n",
    "confusion_matrix = metrics.confusion_matrix(Y_test, Y_pred)\n",
    "print ('Confusion_matrix: \\n', confusion_matrix)\n",
    "# Print out accuracy\n",
    "print ('Accuracy score: \\n', metrics.accuracy_score(Y_test, Y_pred), '\\n')"
   ]
  },
  {
   "cell_type": "code",
   "execution_count": 1056,
   "metadata": {},
   "outputs": [
    {
     "name": "stdout",
     "output_type": "stream",
     "text": [
      "f1 score is:  0.92380952381\n",
      "AUC with XGBoost:  0.822210645609\n",
      "Confusion_matrix: \n",
      " [[ 13 128]\n",
      " [  0 776]]\n",
      "Accuracy score: \n",
      " 0.860414394766 \n",
      "\n"
     ]
    }
   ],
   "source": [
    "#Try VotingClassifier without XGBoost first\n",
    "\n",
    "clf1 = RandomForestClassifier( class_weight= 'balanced', max_depth= 20, min_samples_split= 20, \n",
    "                             n_estimators= 100, random_state=101)\n",
    "\n",
    "clf2 = LogisticRegression(random_state=1)\n",
    "\n",
    "clf3 = KNeighborsClassifier(n_neighbors = 15, weights='distance')\n",
    "\n",
    "eclf = VotingClassifier(estimators=[('rf',clf1),('lr',clf2),('knn',clf3)], voting='soft')\n",
    "\n",
    "eclf = eclf.fit(X_train,Y_train)\n",
    "\n",
    "probas_ = eclf.predict_proba(X_test) #submit these predictions\n",
    "\n",
    "Y_pred = eclf.predict(X_test)\n",
    "\n",
    "print(\"f1 score is: \", f1_score(Y_test,Y_pred)) \n",
    "\n",
    "# Compute ROC curve and area the curve\n",
    "fpr, tpr, thresholds = roc_curve(Y_test, probas_[:, 1])\n",
    "roc_auc = auc(fpr, tpr)\n",
    "print(\"AUC with VotingClassifier: \" , roc_auc)\n",
    "# Print out confusion matrix\n",
    "confusion_matrix = metrics.confusion_matrix(Y_test, Y_pred)\n",
    "print ('Confusion_matrix: \\n', confusion_matrix)\n",
    "# Print out accuracy\n",
    "print ('Accuracy score: \\n', metrics.accuracy_score(Y_test, Y_pred), '\\n')\n",
    "\n"
   ]
  },
  {
   "cell_type": "code",
   "execution_count": 1057,
   "metadata": {},
   "outputs": [
    {
     "name": "stdout",
     "output_type": "stream",
     "text": [
      "f1 score is:  0.915604128719\n",
      "AUC with XGBoost:  0.849811727718\n",
      "Confusion_matrix: \n",
      " [[ 24 117]\n",
      " [ 22 754]]\n",
      "Accuracy score: \n",
      " 0.848418756816 \n",
      "\n"
     ]
    }
   ],
   "source": [
    "#Try VotingClassifier with XGBoost\n",
    "\n",
    "clf1 = xgb.XGBClassifier(seed=82, n_estimators=1100 , max_depth=3, colsample_bylevel=0.8,\n",
    "                          colsample_bytree=0.7,learning_rate=0.01, reg_lambda=0.1 , \n",
    "                           scale_pos_weight = 0.18357862)\n",
    "\n",
    "clf2 = LogisticRegression(random_state=1)\n",
    "\n",
    "clf3 = KNeighborsClassifier(n_neighbors = 15, weights='distance')\n",
    "\n",
    "eclf = VotingClassifier(estimators=[('xgb',clf1),('lr',clf2),('knn',clf3)], voting='soft')\n",
    "\n",
    "eclf = eclf.fit(X_train,Y_train)\n",
    "\n",
    "probas_ = eclf.predict_proba(X_test) #submit these predictions\n",
    "\n",
    "Y_pred = eclf.predict(X_test)\n",
    "\n",
    "print(\"f1 score is: \", f1_score(Y_test,Y_pred)) \n",
    "\n",
    "# Compute ROC curve and area the curve\n",
    "fpr, tpr, thresholds = roc_curve(Y_test, probas_[:, 1])\n",
    "roc_auc = auc(fpr, tpr)\n",
    "print(\"AUC with VotingClassifier: \" , roc_auc)\n",
    "# Print out confusion matrix\n",
    "confusion_matrix = metrics.confusion_matrix(Y_test, Y_pred)\n",
    "print ('Confusion_matrix: \\n', confusion_matrix)\n",
    "# Print out accuracy\n",
    "print ('Accuracy score: \\n', metrics.accuracy_score(Y_test, Y_pred), '\\n')\n",
    "\n"
   ]
  },
  {
   "cell_type": "code",
   "execution_count": 1058,
   "metadata": {
    "collapsed": true
   },
   "outputs": [],
   "source": [
    "#Let's try sending another prediction to Kaggle, this time with the 120 dropped columns from the training/test data\n",
    "\n",
    "#Create a model on complete training set \n",
    "model = xgb.XGBClassifier(seed=82, n_estimators=1100 , max_depth=3, colsample_bylevel=0.8,\n",
    "                          colsample_bytree=0.7,learning_rate=0.01, reg_lambda=0.1 , \n",
    "                           scale_pos_weight = 0.18357862)\n",
    "\n",
    "model.fit(train_1,Y, eval_metric='auc')\n",
    "preds = model.predict_proba(test_1) #submit these predictions"
   ]
  },
  {
   "cell_type": "code",
   "execution_count": 1059,
   "metadata": {
    "collapsed": true
   },
   "outputs": [],
   "source": [
    "submission7 = pd.DataFrame([test_1.index,preds[:,1]]).T\n",
    "submission7.columns = ['id','output']\n",
    "submission7.id = submission7.id.astype(int)\n",
    "submission7.to_csv('McNutt_Jonathan_7.csv',index=False)"
   ]
  },
  {
   "cell_type": "markdown",
   "metadata": {},
   "source": [
    "7th Kaggle submission: 0.74125 so it went down actually from my previous submission with XGBoost! \n",
    "\n",
    "Next, we'll try feature selection with 'SelectFromModel', adapted from https://machinelearningmastery.com/feature-importance-and-feature-selection-with-xgboost-in-python/\n"
   ]
  },
  {
   "cell_type": "code",
   "execution_count": 1121,
   "metadata": {},
   "outputs": [
    {
     "name": "stdout",
     "output_type": "stream",
     "text": [
      "(4584, 575) (3667, 575) (917, 575)\n"
     ]
    }
   ],
   "source": [
    "#Split into training and test set - where the latter is 20% of the total \n",
    "X_train, X_test, Y_train, Y_test = train_test_split(train_1, Y, test_size=.20, random_state=10) \n",
    "print (train_1.shape, X_train.shape, X_test.shape)"
   ]
  },
  {
   "cell_type": "code",
   "execution_count": 1122,
   "metadata": {},
   "outputs": [
    {
     "data": {
      "text/plain": [
       "XGBClassifier(base_score=0.5, colsample_bylevel=0.8, colsample_bytree=0.7,\n",
       "       gamma=0, learning_rate=0.01, max_delta_step=0, max_depth=3,\n",
       "       min_child_weight=1, missing=None, n_estimators=1100, nthread=-1,\n",
       "       objective='binary:logistic', reg_alpha=0, reg_lambda=0.1,\n",
       "       scale_pos_weight=0.18357862, seed=82, silent=True, subsample=1)"
      ]
     },
     "execution_count": 1122,
     "metadata": {},
     "output_type": "execute_result"
    }
   ],
   "source": [
    "model = xgb.XGBClassifier(seed=82, n_estimators=1100 , max_depth=3, colsample_bylevel=0.8,\n",
    "                          colsample_bytree=0.7,learning_rate=0.01, reg_lambda=0.1 , \n",
    "                           scale_pos_weight = 0.18357862)\n",
    "\n",
    "model.fit(X_train,Y_train)\n"
   ]
  },
  {
   "cell_type": "code",
   "execution_count": 1137,
   "metadata": {},
   "outputs": [
    {
     "data": {
      "text/plain": [
       "575"
      ]
     },
     "execution_count": 1137,
     "metadata": {},
     "output_type": "execute_result"
    }
   ],
   "source": [
    "thresholds = model.feature_importances_\n",
    "len(thresholds)"
   ]
  },
  {
   "cell_type": "code",
   "execution_count": 1123,
   "metadata": {
    "collapsed": true
   },
   "outputs": [],
   "source": [
    "selection = SelectFromModel(model, threshold=0.005, prefit=True)"
   ]
  },
  {
   "cell_type": "code",
   "execution_count": 1124,
   "metadata": {},
   "outputs": [
    {
     "data": {
      "text/plain": [
       "SelectFromModel(estimator=XGBClassifier(base_score=0.5, colsample_bylevel=0.8, colsample_bytree=0.7,\n",
       "       gamma=0, learning_rate=0.01, max_delta_step=0, max_depth=3,\n",
       "       min_child_weight=1, missing=None, n_estimators=1100, nthread=-1,\n",
       "       objective='binary:logistic', reg_alpha=0, reg_lambda=0.1,\n",
       "       scale_pos_weight=0.18357862, seed=82, silent=True, subsample=1),\n",
       "        prefit=True, threshold=0.005)"
      ]
     },
     "execution_count": 1124,
     "metadata": {},
     "output_type": "execute_result"
    }
   ],
   "source": [
    "selection"
   ]
  },
  {
   "cell_type": "code",
   "execution_count": 1125,
   "metadata": {},
   "outputs": [
    {
     "data": {
      "text/plain": [
       "(3667, 44)"
      ]
     },
     "execution_count": 1125,
     "metadata": {},
     "output_type": "execute_result"
    }
   ],
   "source": [
    "selection_X_train = selection.transform(X_train)\n",
    "selection_X_train.shape"
   ]
  },
  {
   "cell_type": "code",
   "execution_count": 1126,
   "metadata": {},
   "outputs": [
    {
     "data": {
      "text/plain": [
       "array([[-1.28895891,  0.01209581,  0.01066089, ...,  0.        ,\n",
       "         0.        ,  0.        ],\n",
       "       [-0.20934409,  0.004095  ,  0.00490321, ...,  0.        ,\n",
       "         0.        ,  0.        ],\n",
       "       [-0.0068422 ,  0.00472206,  0.0051444 , ...,  0.        ,\n",
       "         0.        ,  0.        ],\n",
       "       ..., \n",
       "       [-1.73107755,  0.07014763,  0.04527746, ...,  0.        ,\n",
       "         1.        ,  0.        ],\n",
       "       [-0.94403845,  0.00372402,  0.002624  , ...,  0.        ,\n",
       "         0.        ,  0.        ],\n",
       "       [-1.62815726,  0.08281768,  0.09770894, ...,  0.        ,\n",
       "         0.        ,  0.        ]])"
      ]
     },
     "execution_count": 1126,
     "metadata": {},
     "output_type": "execute_result"
    }
   ],
   "source": [
    "selection_X_train"
   ]
  },
  {
   "cell_type": "code",
   "execution_count": 1130,
   "metadata": {},
   "outputs": [
    {
     "data": {
      "text/plain": [
       "XGBClassifier(base_score=0.5, colsample_bylevel=1, colsample_bytree=1,\n",
       "       gamma=0, learning_rate=0.1, max_delta_step=0, max_depth=3,\n",
       "       min_child_weight=1, missing=None, n_estimators=100, nthread=-1,\n",
       "       objective='binary:logistic', reg_alpha=0, reg_lambda=1,\n",
       "       scale_pos_weight=1, seed=0, silent=True, subsample=1)"
      ]
     },
     "execution_count": 1130,
     "metadata": {},
     "output_type": "execute_result"
    }
   ],
   "source": [
    "selection_model = XGBClassifier()\n",
    "selection_model.fit(selection_X_train, Y_train)"
   ]
  },
  {
   "cell_type": "code",
   "execution_count": 1132,
   "metadata": {},
   "outputs": [
    {
     "data": {
      "text/plain": [
       "(917, 575)"
      ]
     },
     "execution_count": 1132,
     "metadata": {},
     "output_type": "execute_result"
    }
   ],
   "source": [
    "X_test.shape\n"
   ]
  },
  {
   "cell_type": "code",
   "execution_count": 1133,
   "metadata": {},
   "outputs": [
    {
     "data": {
      "text/plain": [
       "(917, 44)"
      ]
     },
     "execution_count": 1133,
     "metadata": {},
     "output_type": "execute_result"
    }
   ],
   "source": [
    "selection_X_test = selection.transform(X_test)\n",
    "selection_X_test.shape"
   ]
  },
  {
   "cell_type": "code",
   "execution_count": 1134,
   "metadata": {},
   "outputs": [
    {
     "data": {
      "text/plain": [
       "(917,)"
      ]
     },
     "execution_count": 1134,
     "metadata": {},
     "output_type": "execute_result"
    }
   ],
   "source": [
    "Y_test.shape"
   ]
  },
  {
   "cell_type": "code",
   "execution_count": 1135,
   "metadata": {},
   "outputs": [
    {
     "name": "stdout",
     "output_type": "stream",
     "text": [
      "f1 score is:  0.921770770164\n",
      "AUC with VotingClassifier:  0.856364699861\n",
      "Confusion_matrix: \n",
      " [[ 28 113]\n",
      " [ 16 760]]\n",
      "Accuracy score: \n",
      " 0.859323882225 \n",
      "\n"
     ]
    }
   ],
   "source": [
    "\n",
    "probas_ = selection_model.predict_proba(selection_X_test) #submit these predictions\n",
    "\n",
    "Y_pred = selection_model.predict(selection_X_test)\n",
    "\n",
    "print(\"f1 score is: \", f1_score(Y_test,Y_pred)) \n",
    "\n",
    "# Compute ROC curve and area the curve\n",
    "fpr, tpr, thresholds = roc_curve(Y_test, probas_[:, 1])\n",
    "roc_auc = auc(fpr, tpr)\n",
    "print(\"AUC with XGBoost: \" , roc_auc)\n",
    "# Print out confusion matrix\n",
    "confusion_matrix = metrics.confusion_matrix(Y_test, Y_pred)\n",
    "print ('Confusion_matrix: \\n', confusion_matrix)\n",
    "# Print out accuracy\n",
    "print ('Accuracy score: \\n', metrics.accuracy_score(Y_test, Y_pred), '\\n')"
   ]
  },
  {
   "cell_type": "markdown",
   "metadata": {},
   "source": [
    "This was a pretty good results, but I manually decided on a threshold, so now let's programatically find the best threshold."
   ]
  },
  {
   "cell_type": "code",
   "execution_count": 1147,
   "metadata": {},
   "outputs": [
    {
     "data": {
      "text/plain": [
       "44"
      ]
     },
     "execution_count": 1147,
     "metadata": {},
     "output_type": "execute_result"
    }
   ],
   "source": [
    "selection_X_train.shape[1]"
   ]
  },
  {
   "cell_type": "code",
   "execution_count": 1144,
   "metadata": {},
   "outputs": [
    {
     "name": "stdout",
     "output_type": "stream",
     "text": [
      "[ 0.          0.          0.          0.          0.          0.          0.\n",
      "  0.          0.          0.          0.          0.          0.          0.\n",
      "  0.          0.          0.          0.          0.          0.          0.\n",
      "  0.          0.          0.          0.          0.          0.          0.\n",
      "  0.          0.          0.          0.          0.          0.          0.\n",
      "  0.          0.          0.          0.          0.          0.          0.\n",
      "  0.          0.          0.          0.          0.          0.          0.\n",
      "  0.          0.          0.          0.          0.          0.          0.\n",
      "  0.          0.          0.          0.          0.          0.          0.\n",
      "  0.          0.          0.          0.          0.          0.          0.\n",
      "  0.          0.          0.          0.          0.          0.          0.\n",
      "  0.          0.          0.          0.          0.          0.          0.\n",
      "  0.          0.          0.          0.          0.          0.          0.\n",
      "  0.          0.          0.          0.          0.          0.          0.\n",
      "  0.          0.          0.          0.          0.          0.          0.\n",
      "  0.          0.          0.          0.          0.          0.          0.\n",
      "  0.          0.          0.          0.          0.          0.          0.\n",
      "  0.          0.          0.          0.          0.          0.          0.\n",
      "  0.          0.          0.          0.          0.          0.          0.\n",
      "  0.          0.          0.          0.          0.          0.          0.\n",
      "  0.          0.          0.          0.          0.          0.          0.\n",
      "  0.          0.          0.          0.          0.          0.          0.\n",
      "  0.          0.          0.          0.          0.          0.          0.\n",
      "  0.          0.          0.          0.          0.          0.          0.\n",
      "  0.00019662  0.00019662  0.00019662  0.00019662  0.00019662  0.00019662\n",
      "  0.00019662  0.00019662  0.00019662  0.00019662  0.00019662  0.00019662\n",
      "  0.00019662  0.00019662  0.00019662  0.00019662  0.00019662  0.00019662\n",
      "  0.00019662  0.00019662  0.00019662  0.00019662  0.00019662  0.00019662\n",
      "  0.00019662  0.00019662  0.00019662  0.00019662  0.00019662  0.00019662\n",
      "  0.00019662  0.00019662  0.00019662  0.00019662  0.00019662  0.00019662\n",
      "  0.00019662  0.00019662  0.00019662  0.00019662  0.00019662  0.00019662\n",
      "  0.00019662  0.00019662  0.00019662  0.00019662  0.00019662  0.00019662\n",
      "  0.00019662  0.00019662  0.00019662  0.00019662  0.00019662  0.00019662\n",
      "  0.00019662  0.00019662  0.00019662  0.00019662  0.00019662  0.00019662\n",
      "  0.00019662  0.00019662  0.00019662  0.00019662  0.00019662  0.00019662\n",
      "  0.00019662  0.00019662  0.00019662  0.00019662  0.00039324  0.00039324\n",
      "  0.00039324  0.00039324  0.00039324  0.00039324  0.00039324  0.00039324\n",
      "  0.00039324  0.00039324  0.00039324  0.00039324  0.00039324  0.00039324\n",
      "  0.00039324  0.00039324  0.00039324  0.00039324  0.00039324  0.00039324\n",
      "  0.00039324  0.00039324  0.00039324  0.00039324  0.00039324  0.00039324\n",
      "  0.00039324  0.00039324  0.00039324  0.00039324  0.00039324  0.00039324\n",
      "  0.00039324  0.00039324  0.00039324  0.00039324  0.00039324  0.00039324\n",
      "  0.00039324  0.00039324  0.00039324  0.00039324  0.00039324  0.00039324\n",
      "  0.00039324  0.00039324  0.00039324  0.00039324  0.00039324  0.00039324\n",
      "  0.00039324  0.00058985  0.00058985  0.00058985  0.00058985  0.00058985\n",
      "  0.00058985  0.00058985  0.00058985  0.00058985  0.00058985  0.00058985\n",
      "  0.00058985  0.00058985  0.00058985  0.00058985  0.00058985  0.00058985\n",
      "  0.00058985  0.00058985  0.00058985  0.00058985  0.00058985  0.00058985\n",
      "  0.00058985  0.00058985  0.00058985  0.00058985  0.00058985  0.00058985\n",
      "  0.00058985  0.00058985  0.00058985  0.00058985  0.00058985  0.00058985\n",
      "  0.00058985  0.00058985  0.00058985  0.00058985  0.00078647  0.00078647\n",
      "  0.00078647  0.00078647  0.00078647  0.00078647  0.00078647  0.00078647\n",
      "  0.00078647  0.00078647  0.00078647  0.00078647  0.00078647  0.00078647\n",
      "  0.00078647  0.00078647  0.00078647  0.00078647  0.00078647  0.00078647\n",
      "  0.00078647  0.00078647  0.00078647  0.00078647  0.00078647  0.00078647\n",
      "  0.00078647  0.00078647  0.00098309  0.00098309  0.00098309  0.00098309\n",
      "  0.00098309  0.00098309  0.00098309  0.00098309  0.00098309  0.00098309\n",
      "  0.00098309  0.00098309  0.00098309  0.00098309  0.00098309  0.00098309\n",
      "  0.00098309  0.00098309  0.00098309  0.00098309  0.00098309  0.00117971\n",
      "  0.00117971  0.00117971  0.00117971  0.00117971  0.00117971  0.00117971\n",
      "  0.00117971  0.00117971  0.00117971  0.00117971  0.00117971  0.00117971\n",
      "  0.00117971  0.00117971  0.00117971  0.00117971  0.00117971  0.00117971\n",
      "  0.00117971  0.00117971  0.00137633  0.00137633  0.00137633  0.00137633\n",
      "  0.00137633  0.00137633  0.00137633  0.00137633  0.00137633  0.00137633\n",
      "  0.00137633  0.00137633  0.00137633  0.00137633  0.00137633  0.00137633\n",
      "  0.00137633  0.00157295  0.00157295  0.00157295  0.00157295  0.00157295\n",
      "  0.00157295  0.00157295  0.00157295  0.00157295  0.00157295  0.00157295\n",
      "  0.00157295  0.00157295  0.00157295  0.00157295  0.00157295  0.00157295\n",
      "  0.00176956  0.00176956  0.00176956  0.00176956  0.00176956  0.00176956\n",
      "  0.00176956  0.00176956  0.00176956  0.00176956  0.00176956  0.00176956\n",
      "  0.00196618  0.00196618  0.00196618  0.00196618  0.00196618  0.00196618\n",
      "  0.00196618  0.00196618  0.00196618  0.00196618  0.00196618  0.0021628\n",
      "  0.0021628   0.0021628   0.0021628   0.0021628   0.0021628   0.0021628\n",
      "  0.0021628   0.0021628   0.0021628   0.00235942  0.00235942  0.00235942\n",
      "  0.00235942  0.00235942  0.00235942  0.00255604  0.00255604  0.00255604\n",
      "  0.00255604  0.00255604  0.00255604  0.00255604  0.00255604  0.00255604\n",
      "  0.00255604  0.00275265  0.00275265  0.00275265  0.00275265  0.00275265\n",
      "  0.00275265  0.00275265  0.00294927  0.00294927  0.00294927  0.00294927\n",
      "  0.00294927  0.00314589  0.00314589  0.00314589  0.00314589  0.00314589\n",
      "  0.00314589  0.00314589  0.00334251  0.00334251  0.00334251  0.00334251\n",
      "  0.00334251  0.00353913  0.00353913  0.00353913  0.00373575  0.00373575\n",
      "  0.00373575  0.00393236  0.00412898  0.00412898  0.00412898  0.00412898\n",
      "  0.00412898  0.00412898  0.0043256   0.0043256   0.0043256   0.0043256\n",
      "  0.00452222  0.00452222  0.00471884  0.00471884  0.00471884  0.00471884\n",
      "  0.00491545  0.00491545  0.00491545  0.00511207  0.00511207  0.00550531\n",
      "  0.00550531  0.00550531  0.00570193  0.00609516  0.00629178  0.0064884\n",
      "  0.00668502  0.00668502  0.00668502  0.00668502  0.00688164  0.00707825\n",
      "  0.00707825  0.00707825  0.00786473  0.00786473  0.00825796  0.0086512\n",
      "  0.00884782  0.00884782  0.00904444  0.01002753  0.01002753  0.01022414\n",
      "  0.01022414  0.01140385  0.01179709  0.01317342  0.01415651  0.0151396\n",
      "  0.01533622  0.01533622  0.01651593  0.01926858  0.02064491  0.02516713\n",
      "  0.02575698  0.02634683  0.03126229  0.03224538  0.03853716]\n"
     ]
    }
   ],
   "source": [
    "thresholds = np.sort(model.feature_importances_)\n",
    "print(thresholds)\n",
    "\n",
    "#looks like 0.001 would be a good threshold, but still, let's just run"
   ]
  },
  {
   "cell_type": "code",
   "execution_count": 1149,
   "metadata": {},
   "outputs": [
    {
     "data": {
      "text/plain": [
       "198"
      ]
     },
     "execution_count": 1149,
     "metadata": {},
     "output_type": "execute_result"
    }
   ],
   "source": [
    "#just get the thresholds higher than 0.001 for the for loop (otherwise will take too long)\n",
    "thresholds = np.sort([i for i in thresholds if i >= 0.001])\n",
    "len(thresholds)\n",
    "#down to 198 important features from 575...great!"
   ]
  },
  {
   "cell_type": "code",
   "execution_count": 1151,
   "metadata": {},
   "outputs": [
    {
     "name": "stdout",
     "output_type": "stream",
     "text": [
      "(4584, 575) (3667, 575) (917, 575)\n"
     ]
    }
   ],
   "source": [
    "#Split into training and test set - where the latter is 20% of the total \n",
    "X_train, X_test, Y_train, Y_test = train_test_split(train_1, Y, test_size=.20, random_state=10) \n",
    "print (train_1.shape, X_train.shape, X_test.shape)"
   ]
  },
  {
   "cell_type": "code",
   "execution_count": 1156,
   "metadata": {},
   "outputs": [
    {
     "data": {
      "text/plain": [
       "XGBClassifier(base_score=0.5, colsample_bylevel=0.8, colsample_bytree=0.7,\n",
       "       gamma=0, learning_rate=0.01, max_delta_step=0, max_depth=3,\n",
       "       min_child_weight=1, missing=None, n_estimators=1100, nthread=-1,\n",
       "       objective='binary:logistic', reg_alpha=0, reg_lambda=0.1,\n",
       "       scale_pos_weight=0.18357862, seed=82, silent=True, subsample=1)"
      ]
     },
     "execution_count": 1156,
     "metadata": {},
     "output_type": "execute_result"
    }
   ],
   "source": [
    "#Create a model on complete training set \n",
    "model = xgb.XGBClassifier(seed=82, n_estimators=1100 , max_depth=3, colsample_bylevel=0.8,\n",
    "                          colsample_bytree=0.7,learning_rate=0.01, reg_lambda=0.1 , \n",
    "                           scale_pos_weight = 0.18357862)\n",
    "\n",
    "model.fit(X_train,Y_train, eval_metric='auc')"
   ]
  },
  {
   "cell_type": "code",
   "execution_count": 1157,
   "metadata": {
    "collapsed": true
   },
   "outputs": [],
   "source": [
    "selection = SelectFromModel(model, threshold=0.001, prefit=True)"
   ]
  },
  {
   "cell_type": "code",
   "execution_count": 1158,
   "metadata": {},
   "outputs": [
    {
     "data": {
      "text/plain": [
       "(3667, 198)"
      ]
     },
     "execution_count": 1158,
     "metadata": {},
     "output_type": "execute_result"
    }
   ],
   "source": [
    "selection_X_train = selection.transform(X_train)\n",
    "selection_X_train.shape"
   ]
  },
  {
   "cell_type": "code",
   "execution_count": 1159,
   "metadata": {},
   "outputs": [
    {
     "data": {
      "text/plain": [
       "XGBClassifier(base_score=0.5, colsample_bylevel=0.8, colsample_bytree=0.7,\n",
       "       gamma=0, learning_rate=0.01, max_delta_step=0, max_depth=3,\n",
       "       min_child_weight=1, missing=None, n_estimators=1100, nthread=-1,\n",
       "       objective='binary:logistic', reg_alpha=0, reg_lambda=0.1,\n",
       "       scale_pos_weight=0.18357862, seed=82, silent=True, subsample=1)"
      ]
     },
     "execution_count": 1159,
     "metadata": {},
     "output_type": "execute_result"
    }
   ],
   "source": [
    "selection_model = xgb.XGBClassifier(seed=82, n_estimators=1100 , max_depth=3, colsample_bylevel=0.8,\n",
    "                          colsample_bytree=0.7,learning_rate=0.01, reg_lambda=0.1 , \n",
    "                           scale_pos_weight = 0.18357862)\n",
    "selection_model.fit(selection_X_train, Y_train, eval_metric='auc')"
   ]
  },
  {
   "cell_type": "code",
   "execution_count": 1160,
   "metadata": {},
   "outputs": [
    {
     "data": {
      "text/plain": [
       "(917, 198)"
      ]
     },
     "execution_count": 1160,
     "metadata": {},
     "output_type": "execute_result"
    }
   ],
   "source": [
    "selection_X_test = selection.transform(X_test)\n",
    "selection_X_test.shape"
   ]
  },
  {
   "cell_type": "code",
   "execution_count": 1161,
   "metadata": {},
   "outputs": [
    {
     "name": "stdout",
     "output_type": "stream",
     "text": [
      "f1 score is:  0.882191780822\n",
      "AUC with XGBoost:  0.865476712729\n",
      "Confusion_matrix: \n",
      " [[101  40]\n",
      " [132 644]]\n",
      "Accuracy score: \n",
      " 0.812431842966 \n",
      "\n"
     ]
    }
   ],
   "source": [
    "probas_ = selection_model.predict_proba(selection_X_test) #submit these predictions\n",
    "\n",
    "Y_pred = selection_model.predict(selection_X_test)\n",
    "\n",
    "print(\"f1 score is: \", f1_score(Y_test,Y_pred)) \n",
    "\n",
    "# Compute ROC curve and area the curve\n",
    "fpr, tpr, thresholds = roc_curve(Y_test, probas_[:, 1])\n",
    "roc_auc = auc(fpr, tpr)\n",
    "print(\"AUC with XGBoost: \" , roc_auc)\n",
    "# Print out confusion matrix\n",
    "confusion_matrix = metrics.confusion_matrix(Y_test, Y_pred)\n",
    "print ('Confusion_matrix: \\n', confusion_matrix)\n",
    "# Print out accuracy\n",
    "print ('Accuracy score: \\n', metrics.accuracy_score(Y_test, Y_pred), '\\n')"
   ]
  },
  {
   "cell_type": "markdown",
   "metadata": {},
   "source": [
    "Not highest AUC yet, but still very high.  Let's try Kaggle again with the features we found important through SelectFromModel with threshold = 0.001."
   ]
  },
  {
   "cell_type": "code",
   "execution_count": 1162,
   "metadata": {},
   "outputs": [
    {
     "data": {
      "text/plain": [
       "XGBClassifier(base_score=0.5, colsample_bylevel=0.8, colsample_bytree=0.7,\n",
       "       gamma=0, learning_rate=0.01, max_delta_step=0, max_depth=3,\n",
       "       min_child_weight=1, missing=None, n_estimators=1100, nthread=-1,\n",
       "       objective='binary:logistic', reg_alpha=0, reg_lambda=0.1,\n",
       "       scale_pos_weight=0.18357862, seed=82, silent=True, subsample=1)"
      ]
     },
     "execution_count": 1162,
     "metadata": {},
     "output_type": "execute_result"
    }
   ],
   "source": [
    "#Create a model on complete training set for Kaggle submission\n",
    "\n",
    "model = xgb.XGBClassifier(seed=82, n_estimators=1100 , max_depth=3, colsample_bylevel=0.8,\n",
    "                          colsample_bytree=0.7,learning_rate=0.01, reg_lambda=0.1 , \n",
    "                           scale_pos_weight = 0.18357862)\n",
    "\n",
    "model.fit(train_1,Y, eval_metric='auc')"
   ]
  },
  {
   "cell_type": "code",
   "execution_count": 1163,
   "metadata": {
    "collapsed": true
   },
   "outputs": [],
   "source": [
    "selection = SelectFromModel(model, threshold=0.001, prefit=True)"
   ]
  },
  {
   "cell_type": "code",
   "execution_count": 1164,
   "metadata": {},
   "outputs": [
    {
     "data": {
      "text/plain": [
       "(4584, 163)"
      ]
     },
     "execution_count": 1164,
     "metadata": {},
     "output_type": "execute_result"
    }
   ],
   "source": [
    "selection_X_train = selection.transform(train_1)\n",
    "selection_X_train.shape"
   ]
  },
  {
   "cell_type": "code",
   "execution_count": 1165,
   "metadata": {},
   "outputs": [
    {
     "data": {
      "text/plain": [
       "XGBClassifier(base_score=0.5, colsample_bylevel=0.8, colsample_bytree=0.7,\n",
       "       gamma=0, learning_rate=0.01, max_delta_step=0, max_depth=3,\n",
       "       min_child_weight=1, missing=None, n_estimators=1100, nthread=-1,\n",
       "       objective='binary:logistic', reg_alpha=0, reg_lambda=0.1,\n",
       "       scale_pos_weight=0.18357862, seed=82, silent=True, subsample=1)"
      ]
     },
     "execution_count": 1165,
     "metadata": {},
     "output_type": "execute_result"
    }
   ],
   "source": [
    "selection_model = xgb.XGBClassifier(seed=82, n_estimators=1100 , max_depth=3, colsample_bylevel=0.8,\n",
    "                          colsample_bytree=0.7,learning_rate=0.01, reg_lambda=0.1 , \n",
    "                           scale_pos_weight = 0.18357862)\n",
    "selection_model.fit(selection_X_train, Y, eval_metric='auc')"
   ]
  },
  {
   "cell_type": "code",
   "execution_count": 1166,
   "metadata": {},
   "outputs": [
    {
     "data": {
      "text/plain": [
       "(1732, 163)"
      ]
     },
     "execution_count": 1166,
     "metadata": {},
     "output_type": "execute_result"
    }
   ],
   "source": [
    "selection_X_test = selection.transform(test_1)\n",
    "selection_X_test.shape"
   ]
  },
  {
   "cell_type": "code",
   "execution_count": 1167,
   "metadata": {
    "collapsed": true
   },
   "outputs": [],
   "source": [
    "preds = selection_model.predict_proba(selection_X_test) #submit these predictions"
   ]
  },
  {
   "cell_type": "code",
   "execution_count": 1168,
   "metadata": {
    "collapsed": true
   },
   "outputs": [],
   "source": [
    "submission8 = pd.DataFrame([test_1.index,preds[:,1]]).T\n",
    "submission8.columns = ['id','output']\n",
    "submission8.id = submission7.id.astype(int)\n",
    "submission8.to_csv('McNutt_Jonathan_8.csv',index=False)"
   ]
  },
  {
   "cell_type": "markdown",
   "metadata": {},
   "source": [
    "8th Kaggle submission was 0.74323, my second highest score so far.  Not bad, but still in 7th place on the leaderboard!  Need to pull out all the stops to keep moving up..."
   ]
  },
  {
   "cell_type": "markdown",
   "metadata": {},
   "source": [
    "time to check some of the data again to see if we can do any more feature engineering like in Section 7."
   ]
  },
  {
   "cell_type": "code",
   "execution_count": 1195,
   "metadata": {
    "collapsed": true
   },
   "outputs": [],
   "source": [
    "#read in the data again (because we dropped the output column)\n",
    "train_2 = pd.read_csv('train_data.csv')"
   ]
  },
  {
   "cell_type": "code",
   "execution_count": 1206,
   "metadata": {},
   "outputs": [
    {
     "data": {
      "image/png": "[encoded data removed]",
      "text/plain": [
       "<matplotlib.figure.Figure at 0x135e71320>"
      ]
     },
     "metadata": {},
     "output_type": "display_data"
    }
   ],
   "source": [
    "#try some Seaborn for a change:\n",
    "\n",
    "sns.boxplot(x='output',y='x5', data = train_2).set_title('Boxplot of x5 versus Output');"
   ]
  },
  {
   "cell_type": "markdown",
   "metadata": {},
   "source": [
    "I actually ran the code in the cell below, but it took several minutes to run, so I'll leave it commented out here in case computation power (and time) is limited for the grader.  I made some comments though to summarize."
   ]
  },
  {
   "cell_type": "code",
   "execution_count": 1213,
   "metadata": {
    "collapsed": true
   },
   "outputs": [],
   "source": [
    "# # this code loops through the entire training data, and plots a barplot of each column against output, \n",
    "#   so that I could visualize the distribution of the continuous variables per output outcome ('0' or '1').\n",
    "#   As it turns out, they all looked very similar, so not very helpful from that standpoint, unfortunately.\n",
    "#   Looks like I will need to go back to some sort of ensemble method to squeeze out a bit more AUC 'juice'.\n",
    "\n",
    "# for i, column in enumerate(train_2.columns):\n",
    "#     plt.figure(i)\n",
    "#     sns.boxplot(x='output',y=column,data=train_2).set_title('Boxplot of '+column+' versus Output')"
   ]
  },
  {
   "cell_type": "code",
   "execution_count": 1250,
   "metadata": {},
   "outputs": [
    {
     "name": "stdout",
     "output_type": "stream",
     "text": [
      "(4584, 575) (3667, 575) (917, 575)\n"
     ]
    }
   ],
   "source": [
    "#Split into training and test set - where the latter is 20% of the total \n",
    "X_train, X_test, Y_train, Y_test = train_test_split(train_1, Y, test_size=.20, random_state=10) \n",
    "print (train_1.shape, X_train.shape, X_test.shape)"
   ]
  },
  {
   "cell_type": "code",
   "execution_count": 1254,
   "metadata": {},
   "outputs": [
    {
     "name": "stdout",
     "output_type": "stream",
     "text": [
      "f1 score is:  0.918590522479\n",
      "AUC with Adaboost:  0.808236455363\n",
      "Confusion_matrix: \n",
      " [[ 27 114]\n",
      " [ 20 756]]\n",
      "Accuracy score: \n",
      " 0.85387131952 \n",
      "\n"
     ]
    }
   ],
   "source": [
    "# Try Adaboost Classifier\n",
    "\n",
    "clf = AdaBoostClassifier(n_estimators=100,learning_rate=1,random_state=101)\n",
    "\n",
    "clf.fit(X_train, Y_train)\n",
    "\n",
    "probas_ = clf.predict_proba(X_test)\n",
    "\n",
    "Y_pred = clf.predict(X_test)\n",
    "\n",
    "print(\"f1 score is: \", f1_score(Y_test,Y_pred)) \n",
    "\n",
    "# Compute ROC curve and area the curve\n",
    "fpr, tpr, thresholds = roc_curve(Y_test, probas_[:, 1])\n",
    "roc_auc = auc(fpr, tpr)\n",
    "print(\"AUC with Adaboost: \" , roc_auc)\n",
    "# Print out confusion matrix\n",
    "confusion_matrix = metrics.confusion_matrix(Y_test, Y_pred)\n",
    "print ('Confusion_matrix: \\n', confusion_matrix)\n",
    "# Print out accuracy\n",
    "print ('Accuracy score: \\n', metrics.accuracy_score(Y_test, Y_pred), '\\n')"
   ]
  },
  {
   "cell_type": "code",
   "execution_count": 1256,
   "metadata": {},
   "outputs": [
    {
     "name": "stdout",
     "output_type": "stream",
     "text": [
      "f1 score is:  0.92206235012\n",
      "AUC with Adaboost:  0.840160488411\n",
      "Confusion_matrix: \n",
      " [[ 18 123]\n",
      " [  7 769]]\n",
      "Accuracy score: \n",
      " 0.858233369684 \n",
      "\n"
     ]
    }
   ],
   "source": [
    "# Try RandomForest Classifier\n",
    "\n",
    "clf = RandomForestClassifier( class_weight= 'balanced', max_depth= 20, min_samples_split= 20, \n",
    "                             n_estimators= 100, random_state=101)\n",
    "\n",
    "clf.fit(X_train, Y_train)\n",
    "\n",
    "probas_ = clf.predict_proba(X_test)\n",
    "\n",
    "Y_pred = clf.predict(X_test)\n",
    "\n",
    "print(\"f1 score is: \", f1_score(Y_test,Y_pred)) \n",
    "\n",
    "# Compute ROC curve and area the curve\n",
    "fpr, tpr, thresholds = roc_curve(Y_test, probas_[:, 1])\n",
    "roc_auc = auc(fpr, tpr)\n",
    "print(\"AUC with RandomForest: \" , roc_auc)\n",
    "# Print out confusion matrix\n",
    "confusion_matrix = metrics.confusion_matrix(Y_test, Y_pred)\n",
    "print ('Confusion_matrix: \\n', confusion_matrix)\n",
    "# Print out accuracy\n",
    "print ('Accuracy score: \\n', metrics.accuracy_score(Y_test, Y_pred), '\\n')"
   ]
  },
  {
   "cell_type": "code",
   "execution_count": 1258,
   "metadata": {
    "collapsed": true
   },
   "outputs": [],
   "source": [
    "scaler = StandardScaler()\n",
    "X_train_std = scaler.fit_transform(X_train)\n",
    "X_test_std = scaler.fit_transform(X_test)"
   ]
  },
  {
   "cell_type": "code",
   "execution_count": 1259,
   "metadata": {},
   "outputs": [
    {
     "name": "stdout",
     "output_type": "stream",
     "text": [
      "f1 score is:  0.847075405215\n",
      "AUC with RandomForest:  0.81969730204\n",
      "Confusion_matrix: \n",
      " [[ 99  42]\n",
      " [175 601]]\n",
      "Accuracy score: \n",
      " 0.763358778626 \n",
      "\n"
     ]
    }
   ],
   "source": [
    "# Try Logistic Classifier\n",
    "\n",
    "clf = LogisticRegression(random_state=101,class_weight='balanced')\n",
    "\n",
    "clf.fit(X_train_std, Y_train)\n",
    "\n",
    "probas_ = clf.predict_proba(X_test_std)\n",
    "\n",
    "Y_pred = clf.predict(X_test_std)\n",
    "\n",
    "print(\"f1 score is: \", f1_score(Y_test,Y_pred)) \n",
    "\n",
    "# Compute ROC curve and area the curve\n",
    "fpr, tpr, thresholds = roc_curve(Y_test, probas_[:, 1])\n",
    "roc_auc = auc(fpr, tpr)\n",
    "print(\"AUC with RandomForest: \" , roc_auc)\n",
    "# Print out confusion matrix\n",
    "confusion_matrix = metrics.confusion_matrix(Y_test, Y_pred)\n",
    "print ('Confusion_matrix: \\n', confusion_matrix)\n",
    "# Print out accuracy\n",
    "print ('Accuracy score: \\n', metrics.accuracy_score(Y_test, Y_pred), '\\n')"
   ]
  },
  {
   "cell_type": "code",
   "execution_count": 1266,
   "metadata": {
    "collapsed": true
   },
   "outputs": [],
   "source": [
    "from sklearn.pipeline import Pipeline, FeatureUnion\n",
    "\n",
    "clf = KNeighborsClassifier(n_neighbors = 10, metric='euclidean', weights='distance', n_jobs=-1)\n",
    "\n",
    "clf.fit(X_train_std, Y_train)\n",
    "\n",
    "# Create a pipeline\n",
    "pipe = Pipeline([('standardizer', scaler), ('knn', clf)])\n",
    "\n",
    "# Create space of candidate values\n",
    "search_space = [{'knn__n_neighbors': [1, 2, 3, 4, 5, 6, 7, 8, 9, 10]}]"
   ]
  },
  {
   "cell_type": "code",
   "execution_count": 1267,
   "metadata": {
    "collapsed": true
   },
   "outputs": [],
   "source": [
    "# Create grid search \n",
    "clf = GridSearchCV(pipe, search_space, cv=5, verbose=0).fit(X_train_std, Y_train)"
   ]
  },
  {
   "cell_type": "code",
   "execution_count": 1268,
   "metadata": {},
   "outputs": [
    {
     "data": {
      "text/plain": [
       "8"
      ]
     },
     "execution_count": 1268,
     "metadata": {},
     "output_type": "execute_result"
    }
   ],
   "source": [
    "# Best neighborhood size (k)\n",
    "clf.best_estimator_.get_params()['knn__n_neighbors']"
   ]
  },
  {
   "cell_type": "markdown",
   "metadata": {},
   "source": [
    "GREAT!  GridSearchCV FINALLY gave me something to work with (previously took over 2 hours at 100% CPU and did not finish).  So let's try n_neighbors = 8 and then throw KNN back into the ensemble afterwards."
   ]
  },
  {
   "cell_type": "code",
   "execution_count": 1269,
   "metadata": {},
   "outputs": [
    {
     "name": "stdout",
     "output_type": "stream",
     "text": [
      "f1 score is:  0.91591046582\n",
      "AUC with RandomForest:  0.743177414638\n",
      "Confusion_matrix: \n",
      " [[ 21 120]\n",
      " [ 19 757]]\n",
      "Accuracy score: \n",
      " 0.848418756816 \n",
      "\n"
     ]
    }
   ],
   "source": [
    "#K Nearest Neighbors\n",
    "\n",
    "clf = KNeighborsClassifier(n_neighbors = 8, metric='euclidean', weights='distance', n_jobs=-1)\n",
    "\n",
    "clf.fit(X_train_std, Y_train)\n",
    "\n",
    "probas_ = clf.predict_proba(X_test_std)\n",
    "\n",
    "Y_pred = clf.predict(X_test_std)\n",
    "\n",
    "print(\"f1 score is: \", f1_score(Y_test,Y_pred)) \n",
    "\n",
    "# Compute ROC curve and area the curve\n",
    "fpr, tpr, thresholds = roc_curve(Y_test, probas_[:, 1])\n",
    "roc_auc = auc(fpr, tpr)\n",
    "print(\"AUC with RandomForest: \" , roc_auc)\n",
    "# Print out confusion matrix\n",
    "confusion_matrix = metrics.confusion_matrix(Y_test, Y_pred)\n",
    "print ('Confusion_matrix: \\n', confusion_matrix)\n",
    "# Print out accuracy\n",
    "print ('Accuracy score: \\n', metrics.accuracy_score(Y_test, Y_pred), '\\n')"
   ]
  },
  {
   "cell_type": "code",
   "execution_count": 1270,
   "metadata": {},
   "outputs": [
    {
     "name": "stdout",
     "output_type": "stream",
     "text": [
      "f1 score is:  0.897418927862\n",
      "AUC with VotingClassifier:  0.854335746143\n",
      "Confusion_matrix: \n",
      " [[ 84  57]\n",
      " [ 98 678]]\n",
      "Accuracy score: \n",
      " 0.830970556161 \n",
      "\n"
     ]
    }
   ],
   "source": [
    "#Try VotingClassifier with XGBoost, Log, and KNN\n",
    "\n",
    "clf1 = xgb.XGBClassifier(seed=82, n_estimators=1100 , max_depth=3, colsample_bylevel=0.8,\n",
    "                          colsample_bytree=0.7,learning_rate=0.01, reg_lambda=0.1 , \n",
    "                           scale_pos_weight = 0.18357862)\n",
    "\n",
    "clf2 = LogisticRegression(random_state=101,class_weight='balanced')\n",
    "\n",
    "clf3 = KNeighborsClassifier(n_neighbors = 8, weights='distance')\n",
    "\n",
    "eclf = VotingClassifier(estimators=[('xgb',clf1),('lr',clf2),('knn',clf3)], voting='soft')\n",
    "\n",
    "eclf = eclf.fit(X_train_std,Y_train)\n",
    "\n",
    "probas_ = eclf.predict_proba(X_test_std) #submit these predictions\n",
    "\n",
    "Y_pred = eclf.predict(X_test_std)\n",
    "\n",
    "print(\"f1 score is: \", f1_score(Y_test,Y_pred)) \n",
    "\n",
    "# Compute ROC curve and area the curve\n",
    "fpr, tpr, thresholds = roc_curve(Y_test, probas_[:, 1])\n",
    "roc_auc = auc(fpr, tpr)\n",
    "print(\"AUC with VotingClassifier: \" , roc_auc)\n",
    "# Print out confusion matrix\n",
    "confusion_matrix = metrics.confusion_matrix(Y_test, Y_pred)\n",
    "print ('Confusion_matrix: \\n', confusion_matrix)\n",
    "# Print out accuracy\n",
    "print ('Accuracy score: \\n', metrics.accuracy_score(Y_test, Y_pred), '\\n')"
   ]
  },
  {
   "cell_type": "code",
   "execution_count": 1275,
   "metadata": {},
   "outputs": [
    {
     "name": "stdout",
     "output_type": "stream",
     "text": [
      "f1 score is:  0.917197452229\n",
      "AUC with VotingClassifier:  0.879432624113\n",
      "Confusion_matrix: \n",
      " [[ 67  74]\n",
      " [ 56 720]]\n",
      "Accuracy score: \n",
      " 0.858233369684 \n",
      "\n"
     ]
    }
   ],
   "source": [
    "#Try VotingClassifier with XGBoost, RandomForest, and AdaBoost\n",
    "\n",
    "clf1 = xgb.XGBClassifier(seed=82, n_estimators=1100 , max_depth=3, colsample_bylevel=0.8,\n",
    "                          colsample_bytree=0.7,learning_rate=0.01, reg_lambda=0.1 , \n",
    "                           scale_pos_weight = 0.18357862)\n",
    "\n",
    "clf2 = RandomForestClassifier( class_weight= 'balanced', max_depth= 20, min_samples_split= 20, \n",
    "                             n_estimators= 100, random_state=101)\n",
    "\n",
    "clf3 = AdaBoostClassifier(n_estimators=100,learning_rate=1,random_state=101)\n",
    "\n",
    "eclf = VotingClassifier(estimators=[('xgb',clf1),('rf',clf2),('ada',clf3)], voting='soft')\n",
    "\n",
    "eclf = eclf.fit(X_train,Y_train)\n",
    "\n",
    "probas_ = eclf.predict_proba(X_test) #submit these predictions\n",
    "\n",
    "Y_pred = eclf.predict(X_test)\n",
    "\n",
    "print(\"f1 score is: \", f1_score(Y_test,Y_pred)) \n",
    "\n",
    "# Compute ROC curve and area the curve\n",
    "fpr, tpr, thresholds = roc_curve(Y_test, probas_[:, 1])\n",
    "roc_auc = auc(fpr, tpr)\n",
    "print(\"AUC with VotingClassifier: \" , roc_auc)\n",
    "# Print out confusion matrix\n",
    "confusion_matrix = metrics.confusion_matrix(Y_test, Y_pred)\n",
    "print ('Confusion_matrix: \\n', confusion_matrix)\n",
    "# Print out accuracy\n",
    "print ('Accuracy score: \\n', metrics.accuracy_score(Y_test, Y_pred), '\\n')"
   ]
  },
  {
   "cell_type": "markdown",
   "metadata": {},
   "source": [
    "GREAT! AUC of 0.8794 is my best yet, so let's submit to Kaggle"
   ]
  },
  {
   "cell_type": "code",
   "execution_count": 1277,
   "metadata": {
    "collapsed": true
   },
   "outputs": [],
   "source": [
    "#Kaggle Model 9: VotingClassifier with XGBoost, RandomForest, and AdaBoost\n",
    "\n",
    "clf1 = xgb.XGBClassifier(seed=82, n_estimators=1100 , max_depth=3, colsample_bylevel=0.8,\n",
    "                          colsample_bytree=0.7,learning_rate=0.01, reg_lambda=0.1 , \n",
    "                           scale_pos_weight = 0.18357862)\n",
    "\n",
    "clf2 = RandomForestClassifier( class_weight= 'balanced', max_depth= 20, min_samples_split= 20, \n",
    "                             n_estimators= 100, random_state=101)\n",
    "\n",
    "clf3 = AdaBoostClassifier(n_estimators=100,learning_rate=1,random_state=101)\n",
    "\n",
    "eclf = VotingClassifier(estimators=[('xgb',clf1),('rf',clf2),('ada',clf3)], voting='soft')\n",
    "\n",
    "eclf = eclf.fit(train_1,Y)\n",
    "\n",
    "preds = eclf.predict_proba(test_1) #submit these predictions"
   ]
  },
  {
   "cell_type": "code",
   "execution_count": 1278,
   "metadata": {
    "collapsed": true
   },
   "outputs": [],
   "source": [
    "submission9 = pd.DataFrame([test_1.index,preds[:,1]]).T\n",
    "submission9.columns = ['id','output']\n",
    "submission9.id = submission7.id.astype(int)\n",
    "submission9.to_csv('McNutt_Jonathan_9.csv',index=False)"
   ]
  },
  {
   "cell_type": "markdown",
   "metadata": {},
   "source": [
    "9th submission got a 0.71180.  Not so hot. :(  Hmmmm....something drastically different must be tried.  Stand back.  This could get ugly...."
   ]
  },
  {
   "cell_type": "code",
   "execution_count": 22,
   "metadata": {},
   "outputs": [
    {
     "name": "stdout",
     "output_type": "stream",
     "text": [
      "(4584, 695) (3667, 695) (917, 695)\n"
     ]
    }
   ],
   "source": [
    "#Split into training and test set - where the latter is 20% of the total \n",
    "X_train, X_test, Y_train, Y_test = train_test_split(train_1, Y, test_size=.20, random_state=10) \n",
    "print (train_1.shape, X_train.shape, X_test.shape)"
   ]
  },
  {
   "cell_type": "code",
   "execution_count": 23,
   "metadata": {},
   "outputs": [
    {
     "name": "stdout",
     "output_type": "stream",
     "text": [
      "f1 score is:  0.879795396419\n",
      "AUC with VotingClassifier:  0.726452255612\n",
      "Confusion_matrix: \n",
      " [[ 41 100]\n",
      " [ 88 688]]\n",
      "Accuracy score: \n",
      " 0.794983642312 \n",
      "\n"
     ]
    }
   ],
   "source": [
    "#trying StackingClassifier from mlxtend package\n",
    "\n",
    "clf1 = GaussianNB()\n",
    "clf2 = RandomForestClassifier(random_state=101)\n",
    "clf3 = KNeighborsClassifier(n_neighbors=1)\n",
    "lr = LogisticRegression()\n",
    "sclf = StackingClassifier(classifiers=[clf1, clf2, clf3], meta_classifier=lr)\n",
    "\n",
    "sclf = sclf.fit(X_train,Y_train)\n",
    "\n",
    "probas_ = sclf.predict_proba(X_test) #submit these predictions\n",
    "\n",
    "Y_pred = sclf.predict(X_test)\n",
    "\n",
    "print(\"f1 score is: \", f1_score(Y_test,Y_pred)) \n",
    "\n",
    "# Compute ROC curve and area the curve\n",
    "fpr, tpr, thresholds = roc_curve(Y_test, probas_[:, 1])\n",
    "roc_auc = auc(fpr, tpr)\n",
    "print(\"AUC with StackingClassifier: \" , roc_auc)\n",
    "# Print out confusion matrix\n",
    "confusion_matrix = metrics.confusion_matrix(Y_test, Y_pred)\n",
    "print ('Confusion_matrix: \\n', confusion_matrix)\n",
    "# Print out accuracy\n",
    "print ('Accuracy score: \\n', metrics.accuracy_score(Y_test, Y_pred), '\\n')"
   ]
  },
  {
   "cell_type": "code",
   "execution_count": 26,
   "metadata": {
    "collapsed": true
   },
   "outputs": [],
   "source": [
    "scaler = StandardScaler()\n",
    "X_train_std = scaler.fit_transform(X_train)\n",
    "X_test_std = scaler.fit_transform(X_test)"
   ]
  },
  {
   "cell_type": "code",
   "execution_count": 27,
   "metadata": {},
   "outputs": [
    {
     "name": "stdout",
     "output_type": "stream",
     "text": [
      "f1 score is:  0.920238095238\n",
      "AUC with StackingClassifier:  0.533528003217\n",
      "Confusion_matrix: \n",
      " [[ 10 131]\n",
      " [  3 773]]\n",
      "Accuracy score: \n",
      " 0.85387131952 \n",
      "\n"
     ]
    }
   ],
   "source": [
    "#same three classifiers stacked with StackingClassifier rather than VotingClassifer as before\n",
    "\n",
    "clf1 = xgb.XGBClassifier(seed=82, n_estimators=1100 , max_depth=3, colsample_bylevel=0.8,\n",
    "                          colsample_bytree=0.7,learning_rate=0.01, reg_lambda=0.1 , \n",
    "                           scale_pos_weight = 0.18357862)\n",
    "\n",
    "clf2 = RandomForestClassifier( class_weight= 'balanced', max_depth= 20, min_samples_split= 20, \n",
    "                             n_estimators= 100, random_state=101)\n",
    "\n",
    "clf3 = AdaBoostClassifier(n_estimators=100,learning_rate=1,random_state=101)\n",
    "\n",
    "knn = KNeighborsClassifier(n_neighbors=8,metric='euclidean',n_jobs=-1)\n",
    "\n",
    "sclf = StackingClassifier(classifiers=[clf1, clf2, clf3], meta_classifier=knn)\n",
    "\n",
    "sclf = sclf.fit(X_train_std,Y_train)\n",
    "\n",
    "probas_ = sclf.predict_proba(X_test_std) #submit these predictions\n",
    "\n",
    "Y_pred = sclf.predict(X_test_std)\n",
    "\n",
    "print(\"f1 score is: \", f1_score(Y_test,Y_pred)) \n",
    "\n",
    "# Compute ROC curve and area the curve\n",
    "fpr, tpr, thresholds = roc_curve(Y_test, probas_[:, 1])\n",
    "roc_auc = auc(fpr, tpr)\n",
    "print(\"AUC with StackingClassifier: \" , roc_auc)\n",
    "# Print out confusion matrix\n",
    "confusion_matrix = metrics.confusion_matrix(Y_test, Y_pred)\n",
    "print ('Confusion_matrix: \\n', confusion_matrix)\n",
    "# Print out accuracy\n",
    "print ('Accuracy score: \\n', metrics.accuracy_score(Y_test, Y_pred), '\\n')"
   ]
  },
  {
   "cell_type": "code",
   "execution_count": 122,
   "metadata": {
    "collapsed": true
   },
   "outputs": [],
   "source": [
    "#try XGBoost again\n",
    "\n",
    "#use DMatrix on the training data before passing to model for fitting\n",
    "train_matrix = xgb.DMatrix(X_train.as_matrix(), label=Y_train.tolist())\n",
    "test_matrix = xgb.DMatrix(X_test.as_matrix())"
   ]
  },
  {
   "cell_type": "code",
   "execution_count": 123,
   "metadata": {
    "collapsed": true
   },
   "outputs": [],
   "source": [
    "parameters = {'max_depth': 3,\n",
    "              'objective': 'multi:softprob',\n",
    "              'eval_metric': 'auc',\n",
    "              'num_class': 2,\n",
    "              'n_estimators': 1000,\n",
    "              'learning_weight': 0.01\n",
    "             }\n"
   ]
  },
  {
   "cell_type": "code",
   "execution_count": 124,
   "metadata": {
    "collapsed": true
   },
   "outputs": [],
   "source": [
    "model = xgb.train(parameters, train_matrix, 100)"
   ]
  },
  {
   "cell_type": "code",
   "execution_count": 125,
   "metadata": {},
   "outputs": [
    {
     "data": {
      "text/plain": [
       "array([  9.99146461e-01,   9.99607980e-01,   9.99788105e-01,\n",
       "         9.18371201e-01,   9.90989923e-01,   9.59613919e-01,\n",
       "         9.69444275e-01,   2.55102426e-01,   9.99981165e-01,\n",
       "         9.85837877e-01,   9.99540567e-01,   9.46889341e-01,\n",
       "         9.99487758e-01,   8.82500172e-01,   9.99891162e-01,\n",
       "         9.99991775e-01,   9.99752939e-01,   9.49111164e-01,\n",
       "         9.99977112e-01,   9.67344701e-01,   9.99891877e-01,\n",
       "         9.32148635e-01,   9.99073505e-01,   9.58672285e-01,\n",
       "         3.62856865e-01,   9.98946726e-01,   7.89755225e-01,\n",
       "         5.41769683e-01,   9.99527812e-01,   9.99872327e-01,\n",
       "         8.59876335e-01,   9.89423931e-01,   9.99490619e-01,\n",
       "         9.81985688e-01,   9.99337256e-01,   9.95946109e-01,\n",
       "         5.84220171e-01,   9.99894619e-01,   9.21978772e-01,\n",
       "         9.76881087e-01,   9.99903798e-01,   9.95204926e-01,\n",
       "         6.30583823e-01,   9.92823005e-01,   9.76470828e-01,\n",
       "         9.06519294e-01,   9.04586434e-01,   9.96734917e-01,\n",
       "         8.96422327e-01,   9.92847919e-01,   9.96876478e-01,\n",
       "         9.99551237e-01,   9.77399588e-01,   9.94176269e-01,\n",
       "         1.59985502e-03,   9.52787399e-01,   9.28650141e-01,\n",
       "         9.89702463e-01,   9.08891439e-01,   9.98664021e-01,\n",
       "         9.80667114e-01,   9.99311447e-01,   9.99455750e-01,\n",
       "         9.99626517e-01,   9.94484484e-01,   9.98944819e-01,\n",
       "         9.99197900e-01,   9.99461353e-01,   9.91336226e-01,\n",
       "         9.34935212e-01,   9.99839544e-01,   9.99369085e-01,\n",
       "         9.43905711e-01,   9.99915838e-01,   9.99551237e-01,\n",
       "         9.98828351e-01,   9.99773324e-01,   9.99311447e-01,\n",
       "         9.99992609e-01,   9.99991536e-01,   9.99592364e-01,\n",
       "         9.99854565e-01,   6.99932754e-01,   9.96553779e-01,\n",
       "         9.96789336e-01,   9.99432981e-01,   9.78619277e-01,\n",
       "         8.39305878e-01,   8.44688118e-01,   8.94478798e-01,\n",
       "         9.99869823e-01,   9.89298582e-01,   9.86440122e-01,\n",
       "         9.94033158e-01,   9.49824333e-01,   9.99947667e-01,\n",
       "         9.99540567e-01,   9.99291182e-01,   9.99967217e-01,\n",
       "         9.99789655e-01,   9.93231773e-01,   9.98869121e-01,\n",
       "         9.93921041e-01,   5.89572847e-01,   9.99975204e-01,\n",
       "         9.95955229e-01,   7.07422495e-01,   9.64246273e-01,\n",
       "         9.97036815e-01,   9.98693049e-01,   6.40476823e-01,\n",
       "         9.89674270e-01,   9.99870539e-01,   8.68289292e-01,\n",
       "         9.99913335e-01,   9.99988556e-01,   8.64341497e-01,\n",
       "         9.99678969e-01,   9.96825337e-01,   9.98945773e-01,\n",
       "         9.98931468e-01,   9.99867797e-01,   9.97773588e-01,\n",
       "         9.80937898e-01,   9.99914050e-01,   9.33205783e-01,\n",
       "         9.98610854e-01,   9.89101589e-01,   9.97333169e-01,\n",
       "         9.92263079e-01,   9.99615312e-01,   9.96562898e-01,\n",
       "         9.90453482e-01,   9.98127759e-01,   7.77925491e-01,\n",
       "         9.99701798e-01,   3.23741347e-01,   9.39044476e-01,\n",
       "         9.94795501e-01,   9.96431231e-01,   9.97873425e-01,\n",
       "         9.57807779e-01,   5.89262545e-01,   9.99263108e-01,\n",
       "         9.99460638e-01,   9.99889731e-01,   9.38575089e-01,\n",
       "         9.94516671e-01,   9.99956608e-01,   9.98932302e-01,\n",
       "         9.93449628e-01,   5.84438503e-01,   9.99712288e-01,\n",
       "         9.98122275e-01,   9.93433118e-01,   8.54071379e-01,\n",
       "         3.62494200e-01,   3.66997302e-01,   9.97881949e-01,\n",
       "         9.99774516e-01,   9.68713105e-01,   9.98292148e-01,\n",
       "         9.29988384e-01,   9.97935414e-01,   9.99956012e-01,\n",
       "         9.99953270e-01,   9.99984860e-01,   9.99774039e-01,\n",
       "         8.78926575e-01,   9.99835968e-01,   9.99851108e-01,\n",
       "         9.99536276e-01,   9.99724567e-01,   9.99935150e-01,\n",
       "         9.91137683e-01,   9.96847570e-01,   9.94790673e-01,\n",
       "         9.99625444e-01,   9.99994159e-01,   9.99976039e-01,\n",
       "         9.98441279e-01,   9.95899975e-01,   9.98560250e-01,\n",
       "         9.99983191e-01,   1.18132925e-03,   9.76394355e-01,\n",
       "         9.88199830e-01,   9.99072313e-01,   9.96693850e-01,\n",
       "         9.71595168e-01,   9.99974847e-01,   9.99742329e-01,\n",
       "         9.99970078e-01,   9.99918103e-01,   9.96917248e-01,\n",
       "         9.99978185e-01,   9.98683155e-01,   9.91577148e-01,\n",
       "         3.08092535e-01,   9.94096518e-01,   9.88751233e-01,\n",
       "         9.99042094e-01,   9.99999046e-01,   3.74204844e-01,\n",
       "         9.97764111e-01,   9.93736506e-01,   8.06865752e-01,\n",
       "         9.98270869e-01,   9.84983265e-01,   9.11859810e-01,\n",
       "         9.19003785e-01,   9.98431861e-01,   9.99990582e-01,\n",
       "         9.38268781e-01,   9.42824423e-01,   9.96900916e-01,\n",
       "         9.97780383e-01,   9.84522581e-01,   9.88665462e-01,\n",
       "         9.96418238e-01,   9.93689656e-01,   9.74159241e-01,\n",
       "         9.95604277e-01,   9.99087811e-01,   2.47066483e-01,\n",
       "         2.47037709e-01,   9.99243379e-01,   9.94255483e-01,\n",
       "         9.99974728e-01,   9.98680413e-01,   9.91290927e-01,\n",
       "         9.99928355e-01,   5.68483025e-02,   9.99985218e-01,\n",
       "         9.99233961e-01,   9.91879642e-01,   9.99915481e-01,\n",
       "         9.98541951e-01,   9.99045432e-01,   9.99972582e-01,\n",
       "         9.99952316e-01,   9.98502493e-01,   9.89806831e-01,\n",
       "         9.86594558e-01,   9.83787537e-01,   9.97922957e-01,\n",
       "         7.84437478e-01,   9.95464385e-01,   9.88308787e-01,\n",
       "         9.87371922e-01,   9.99940157e-01,   9.97774541e-01,\n",
       "         9.99295831e-01,   9.99770463e-01,   9.98256147e-01,\n",
       "         9.99816358e-01,   9.99807537e-01,   9.67217982e-01,\n",
       "         6.86747849e-01,   9.91843641e-01,   9.95919824e-01,\n",
       "         3.24965835e-01,   9.99954462e-01,   6.93985522e-01,\n",
       "         4.05680895e-01,   9.99625325e-01,   9.65685070e-01,\n",
       "         9.98934925e-01,   9.95670438e-01,   9.92272258e-01,\n",
       "         9.97465253e-01,   9.99984026e-01,   9.57447767e-01,\n",
       "         9.16992903e-01,   9.87273455e-01,   9.96654510e-01,\n",
       "         9.99317288e-01,   9.96007264e-01,   9.99532938e-01,\n",
       "         9.99544084e-01,   9.99995828e-01,   9.61035073e-01,\n",
       "         9.97981131e-01,   9.99981403e-01,   9.98481929e-01,\n",
       "         9.99441206e-01,   9.99576628e-01,   9.79817212e-01,\n",
       "         9.89376545e-01,   9.99983430e-01,   9.91926014e-01,\n",
       "         9.99993205e-01,   6.09551430e-01,   9.71278846e-01,\n",
       "         9.99671698e-01,   9.89221811e-01,   9.96031582e-01,\n",
       "         9.98315096e-01,   9.89841998e-01,   2.70191014e-01,\n",
       "         9.99981403e-01,   9.92129505e-01,   9.99987364e-01,\n",
       "         9.98627305e-01,   7.88151324e-01,   9.99981284e-01,\n",
       "         9.96727347e-01,   9.95152950e-01,   6.04871195e-03,\n",
       "         9.06128407e-01,   9.99865413e-01,   9.99996543e-01,\n",
       "         9.34885383e-01,   9.80463803e-01,   9.98824060e-01,\n",
       "         9.99494910e-01,   2.80658692e-01,   9.99302745e-01,\n",
       "         8.38380337e-01,   7.41258264e-01,   9.85717297e-01,\n",
       "         2.53703911e-04,   9.99443829e-01,   9.98516023e-01,\n",
       "         9.99948621e-01,   6.21530890e-01,   9.93264437e-01,\n",
       "         9.98731673e-01,   9.99581873e-01,   9.81084287e-01,\n",
       "         7.90414453e-01,   9.48608756e-01,   9.98760223e-01,\n",
       "         9.61321115e-01,   9.99883652e-01,   9.91476715e-01,\n",
       "         9.99959707e-01,   9.99198139e-01,   9.98898983e-01,\n",
       "         7.70969689e-02,   9.99984145e-01,   9.86403465e-01,\n",
       "         5.12771845e-01,   9.96649563e-01,   9.94470239e-01,\n",
       "         2.51834750e-01,   9.85704541e-01,   8.22613657e-01,\n",
       "         9.99967813e-01,   9.31551039e-01,   9.98177767e-01,\n",
       "         9.99778688e-01,   9.97956634e-01,   7.65131414e-01,\n",
       "         9.99938846e-01,   9.99766529e-01,   9.96240616e-01,\n",
       "         9.99675512e-01,   9.99775708e-01,   9.99678373e-01,\n",
       "         9.99653935e-01,   9.99925017e-01,   9.99998093e-01,\n",
       "         9.85632777e-01,   1.26304060e-01,   9.99958873e-01,\n",
       "         8.25379789e-01,   9.93251383e-01,   9.99841094e-01,\n",
       "         9.98835385e-01,   9.94244635e-01,   9.99812782e-01,\n",
       "         9.99876857e-01,   9.91495848e-01,   9.97964382e-01,\n",
       "         9.99845266e-01,   9.90696669e-01,   9.98480856e-01,\n",
       "         9.99023199e-01,   1.56000361e-03,   9.99915838e-01,\n",
       "         3.23037535e-01,   9.98764992e-01,   9.99192894e-01,\n",
       "         9.99198616e-01,   9.94645715e-01,   9.99749362e-01,\n",
       "         9.48520720e-01,   3.20634432e-03,   9.97377634e-01,\n",
       "         9.99912500e-01,   9.99935627e-01,   9.99126971e-01,\n",
       "         9.63926256e-01,   3.41342241e-02,   9.99479592e-01,\n",
       "         9.38854218e-01,   7.29715347e-01,   9.93433237e-01,\n",
       "         7.35106051e-01,   9.98327076e-01,   9.98995006e-01,\n",
       "         9.98690069e-01,   9.73557115e-01,   3.54703277e-01,\n",
       "         8.55795801e-01,   9.97658491e-01,   9.99760211e-01,\n",
       "         9.96611536e-01,   9.93409812e-01,   6.59556031e-01,\n",
       "         4.62420642e-01,   9.69483674e-01,   9.96413767e-01,\n",
       "         9.99448240e-01,   9.99986291e-01,   9.99987602e-01,\n",
       "         8.04166198e-01,   9.47999418e-01,   9.99153852e-01,\n",
       "         9.15695131e-01,   9.22650456e-01,   9.55510676e-01,\n",
       "         9.99979854e-01,   9.99868870e-01,   9.96480525e-01,\n",
       "         8.31574976e-01,   9.99957442e-01,   9.98344183e-01,\n",
       "         9.99932408e-01,   9.99599755e-01,   9.99992609e-01,\n",
       "         7.64535725e-01,   9.43274379e-01,   9.96015728e-01,\n",
       "         9.97414708e-01,   9.95792747e-01,   9.82716084e-01,\n",
       "         9.99551833e-01,   9.99954700e-01,   9.57687259e-01,\n",
       "         9.99265850e-01,   9.21407282e-01,   9.98788059e-01,\n",
       "         9.94206786e-01,   7.55288184e-01,   9.99968410e-01,\n",
       "         9.99993205e-01,   9.86407101e-01,   9.98299181e-01,\n",
       "         9.63968277e-01,   9.99944448e-01,   9.84194100e-01,\n",
       "         9.99864459e-01,   9.99892592e-01,   9.99550164e-01,\n",
       "         9.99946475e-01,   9.93774414e-01,   9.92982268e-01,\n",
       "         9.84563589e-01,   9.99993324e-01,   9.87955213e-01,\n",
       "         9.98165190e-01,   9.84289944e-01,   9.40350771e-01,\n",
       "         9.99981880e-01,   9.35273647e-01,   9.97126520e-01,\n",
       "         9.68041599e-01,   9.99820888e-01,   9.96308863e-01,\n",
       "         9.99556363e-01,   9.50026095e-01,   9.99606192e-01,\n",
       "         8.29420328e-01,   7.43731201e-01,   9.99424696e-01,\n",
       "         9.93170619e-01,   9.99046504e-01,   9.99982834e-01,\n",
       "         9.99718964e-01,   9.24098134e-01,   9.99920249e-01,\n",
       "         9.99997735e-01,   9.99968290e-01,   9.99841452e-01,\n",
       "         9.98896241e-01,   9.93150830e-01,   9.99967694e-01,\n",
       "         9.99815047e-01,   9.96948302e-01,   9.99991655e-01,\n",
       "         9.97647464e-01,   9.24940348e-01,   9.99865770e-01,\n",
       "         9.11844373e-01,   9.99973655e-01,   9.97025192e-01,\n",
       "         9.99997258e-01,   9.73380387e-01,   9.30438697e-01,\n",
       "         7.41977170e-02,   9.56032634e-01,   9.52280879e-01,\n",
       "         9.89555240e-01,   9.49585855e-01,   9.79793727e-01,\n",
       "         9.62021947e-01,   9.79653001e-01,   9.56424475e-01,\n",
       "         1.80846691e-01,   8.67546499e-01,   9.99940515e-01,\n",
       "         9.98894036e-01,   3.46444935e-01,   9.97634053e-01,\n",
       "         9.99395251e-01,   9.23286617e-01,   9.99596179e-01,\n",
       "         9.99893188e-01,   9.99986768e-01,   9.98466790e-01,\n",
       "         9.94762242e-01,   7.09520206e-02,   8.13960433e-01,\n",
       "         6.18779242e-01,   6.03235245e-01,   2.99263988e-02,\n",
       "         9.97997582e-01,   8.83605421e-01,   9.99869585e-01,\n",
       "         9.99841690e-01,   9.98562872e-01,   9.99770582e-01,\n",
       "         9.40604031e-01,   9.99921560e-01,   8.23871434e-01,\n",
       "         9.99925494e-01,   9.99339283e-01,   9.94009376e-01,\n",
       "         9.99976039e-01,   9.86542225e-01,   9.24290597e-01,\n",
       "         9.99995470e-01,   8.44017506e-01,   9.99928474e-01,\n",
       "         9.79479909e-01,   9.98833835e-01,   9.05612111e-01,\n",
       "         9.99458253e-01,   9.99917507e-01,   9.56380785e-01,\n",
       "         8.99216652e-01,   9.97333884e-01,   9.95345294e-01,\n",
       "         5.10214806e-01,   9.97965336e-01,   9.53558862e-01,\n",
       "         9.99987960e-01,   9.95249033e-01,   8.06392252e-01,\n",
       "         9.89746571e-01,   9.99186695e-01,   9.98864770e-01,\n",
       "         9.66626704e-01,   9.99980450e-01,   9.92084622e-01,\n",
       "         9.99882936e-01,   9.99774516e-01,   8.75790238e-01,\n",
       "         9.14986610e-01,   9.44832146e-01,   4.64598566e-01,\n",
       "         6.32373318e-02,   9.99990702e-01,   9.99882221e-01,\n",
       "         9.99496341e-01,   9.98691738e-01,   1.67689135e-03,\n",
       "         9.99898076e-01,   9.99451458e-01,   9.99946713e-01,\n",
       "         9.88700569e-01,   9.98538852e-01,   9.99901891e-01,\n",
       "         9.99784887e-01,   9.98497248e-01,   9.99997616e-01,\n",
       "         9.98677671e-01,   9.97430146e-01,   9.99628305e-01,\n",
       "         4.34845835e-01,   9.99572814e-01,   9.99906301e-01,\n",
       "         9.87191439e-01,   9.99915361e-01,   9.98534799e-01,\n",
       "         9.98134196e-01,   9.99431431e-01,   9.99409318e-01,\n",
       "         9.99161005e-01,   4.96280551e-01,   9.36193883e-01,\n",
       "         9.99516964e-01,   9.96784687e-01,   6.08544052e-01,\n",
       "         9.99423385e-01,   9.92282569e-01,   6.85638070e-01,\n",
       "         9.99145269e-01,   9.93278086e-01,   9.93813157e-01,\n",
       "         9.99786556e-01,   9.99976754e-01,   9.99249756e-01,\n",
       "         9.94140565e-01,   9.93654609e-01,   9.99389052e-01,\n",
       "         8.85258973e-01,   9.99841928e-01,   9.72392917e-01,\n",
       "         7.36164629e-01,   8.60658586e-02,   8.08355331e-01,\n",
       "         2.12916881e-01,   5.01768947e-01,   9.98971462e-01,\n",
       "         9.30216730e-01,   9.95883763e-01,   9.99844790e-01,\n",
       "         9.99388695e-01,   7.53147483e-01,   9.99961853e-01,\n",
       "         9.99117315e-01,   9.99178350e-01,   9.95925426e-01,\n",
       "         1.73640162e-01,   9.99638796e-01,   9.22252536e-01,\n",
       "         9.99901891e-01,   9.25157547e-01,   9.21348572e-01,\n",
       "         9.99989271e-01,   9.99671102e-01,   9.99889016e-01,\n",
       "         9.99961972e-01,   9.99502778e-01,   9.19026494e-01,\n",
       "         9.99919295e-01,   9.99280989e-01,   9.99935865e-01,\n",
       "         9.99752581e-01,   9.96460259e-01,   9.99954462e-01,\n",
       "         9.99132574e-01,   9.06629562e-01,   9.99936342e-01,\n",
       "         9.70404685e-01,   9.99831676e-01,   9.45876718e-01,\n",
       "         7.71479547e-01,   9.37011778e-01,   9.97628033e-01,\n",
       "         9.99845982e-01,   9.99316573e-01,   9.99789655e-01,\n",
       "         9.95068550e-01,   9.99231696e-01,   7.60231316e-01,\n",
       "         6.19219065e-01,   9.98402655e-01,   9.91843641e-01,\n",
       "         7.72419035e-01,   1.57214552e-01,   9.99576628e-01,\n",
       "         9.61934209e-01,   9.94028330e-01,   7.61946261e-01,\n",
       "         9.70848441e-01,   9.99955893e-01,   9.77272153e-01,\n",
       "         9.99909043e-01,   9.97846961e-01,   9.95125949e-01,\n",
       "         9.99579489e-01,   9.98832166e-01,   9.66130853e-01,\n",
       "         9.98998106e-01,   9.99732912e-01,   9.98376250e-01,\n",
       "         9.98879254e-01,   9.99990344e-01,   9.99474943e-01,\n",
       "         9.98711467e-01,   1.59166660e-02,   9.79171097e-01,\n",
       "         9.55281615e-01,   9.40985680e-01,   9.82861280e-01,\n",
       "         9.93235886e-01,   9.75501776e-01,   9.99748766e-01,\n",
       "         9.99966979e-01,   4.42963958e-01,   9.87625778e-01,\n",
       "         9.99933362e-01,   9.16670263e-01,   9.99378800e-01,\n",
       "         9.99964118e-01,   8.47204745e-01,   9.99953032e-01,\n",
       "         9.97226655e-01,   9.73921955e-01,   9.96616900e-01,\n",
       "         9.99926805e-01,   9.99982238e-01,   9.87643838e-01,\n",
       "         9.97714758e-01,   9.74477589e-01,   9.99995708e-01,\n",
       "         9.93108153e-01,   9.99731481e-01,   9.99981761e-01,\n",
       "         9.89368260e-01,   9.99918699e-01,   9.99572098e-01,\n",
       "         2.41621863e-02,   9.97413337e-01,   9.82901216e-01,\n",
       "         9.98211622e-01,   9.98708487e-01,   4.93535548e-01,\n",
       "         9.99423981e-01,   9.15875971e-01,   9.99784529e-01,\n",
       "         9.98790920e-01,   9.99900699e-01,   9.99861002e-01,\n",
       "         9.99735892e-01,   9.99920607e-01,   9.98495936e-01,\n",
       "         9.97787952e-01,   9.99649644e-01,   9.98130858e-01,\n",
       "         9.99956846e-01,   9.93349850e-01,   9.99594271e-01,\n",
       "         9.99957085e-01,   9.99874711e-01,   9.99675989e-01,\n",
       "         9.81006145e-01,   9.99739826e-01,   9.97264266e-01,\n",
       "         9.87034857e-01,   9.99996424e-01,   7.59952664e-01,\n",
       "         9.92448568e-01,   9.99327779e-01,   5.51159143e-01,\n",
       "         2.58156896e-01,   9.98776495e-01,   9.24628913e-01,\n",
       "         9.82696414e-01,   9.99906301e-01,   9.99606192e-01,\n",
       "         9.96366024e-01,   9.99907613e-01,   4.06709194e-01,\n",
       "         8.06482673e-01,   2.07770132e-02,   9.65602636e-01,\n",
       "         8.61069798e-01,   9.95863199e-01,   9.98978496e-01,\n",
       "         9.89475489e-01,   9.98470724e-01,   9.99751985e-01,\n",
       "         9.99904156e-01,   9.42822993e-01,   9.99575317e-01,\n",
       "         3.90062988e-01,   9.86748219e-01,   9.99975204e-01,\n",
       "         9.99974489e-01,   9.99995708e-01,   9.99339879e-01,\n",
       "         9.99157548e-01,   9.99972701e-01,   9.99908566e-01,\n",
       "         9.98976469e-01,   9.99450147e-01,   9.96741712e-01,\n",
       "         9.99795377e-01,   9.94102061e-01,   9.99771893e-01,\n",
       "         9.99934793e-01,   9.99757946e-01,   9.99172330e-01,\n",
       "         3.35979578e-03,   9.97658491e-01,   8.81320357e-01,\n",
       "         9.99966502e-01,   9.99992251e-01,   6.19556963e-01,\n",
       "         9.98972535e-01,   8.76690149e-01,   9.99442756e-01,\n",
       "         9.99175966e-01,   9.16843474e-01,   9.99424577e-01,\n",
       "         9.94856238e-01,   9.96096671e-01,   9.99830723e-01,\n",
       "         9.98715878e-01,   9.91249323e-01,   9.99879122e-01,\n",
       "         9.99902129e-01,   3.73869002e-01,   9.63215053e-01,\n",
       "         5.52369773e-01,   9.89284456e-01,   9.99467790e-01,\n",
       "         9.99898076e-01,   9.89325762e-01,   9.99805510e-01,\n",
       "         9.96779621e-01,   9.91702259e-01,   9.97029543e-01,\n",
       "         9.99168277e-01,   9.97598231e-01,   9.99998212e-01,\n",
       "         9.99689937e-01,   8.53210807e-01,   9.99407649e-01,\n",
       "         9.89095271e-01,   9.99871969e-01,   9.99817669e-01,\n",
       "         6.23511434e-01,   9.99126136e-01,   9.94892120e-01,\n",
       "         9.37491596e-01,   9.99732077e-01,   9.98635471e-01,\n",
       "         9.99330878e-01,   9.89267886e-01,   9.92175400e-01,\n",
       "         9.74954367e-01,   9.99755085e-01,   9.97455657e-01,\n",
       "         9.95377779e-01,   9.99566734e-01,   9.97638822e-01,\n",
       "         9.98804569e-01,   9.83104110e-01,   9.99027014e-01,\n",
       "         9.99950051e-01,   9.91141438e-01,   9.99559104e-01,\n",
       "         9.99910593e-01,   9.99669433e-01,   7.23926187e-01,\n",
       "         9.97270405e-01,   9.88823056e-01,   9.97149885e-01,\n",
       "         8.36413383e-01,   9.97752368e-01,   9.99969006e-01,\n",
       "         9.91238892e-01,   9.98264968e-01,   9.99986768e-01,\n",
       "         6.20987475e-01,   9.99921679e-01,   9.97250259e-01,\n",
       "         9.99999642e-01,   8.88778210e-01,   9.99975681e-01,\n",
       "         9.99781549e-01,   9.99938846e-01,   9.99730051e-01,\n",
       "         9.99927163e-01,   9.98265445e-01,   9.99623418e-01,\n",
       "         9.97505844e-01,   9.99996185e-01,   9.99954581e-01,\n",
       "         9.99867558e-01,   9.99267757e-01,   9.93889093e-01,\n",
       "         9.98310685e-01,   9.97575462e-01,   1.62934378e-01,\n",
       "         9.97309566e-01,   9.30231392e-01,   9.99429882e-01,\n",
       "         9.84094083e-01,   9.15924370e-01,   9.99420285e-01,\n",
       "         9.87775207e-01,   9.90931153e-01,   9.89824831e-01,\n",
       "         9.99999285e-01,   9.85662639e-01,   9.99989152e-01,\n",
       "         4.35306668e-01,   9.99997854e-01,   9.99962687e-01,\n",
       "         9.95904267e-01,   9.99589026e-01,   9.97852683e-01,\n",
       "         9.99999762e-01,   9.99940157e-01,   7.24363565e-01,\n",
       "         9.99981642e-01,   9.95966077e-01,   9.99991655e-01,\n",
       "         9.97251451e-01,   9.26183105e-01], dtype=float32)"
      ]
     },
     "execution_count": 125,
     "metadata": {},
     "output_type": "execute_result"
    }
   ],
   "source": [
    "Y_pred = model.predict(test_matrix)\n",
    "Y_pred[:,1]"
   ]
  },
  {
   "cell_type": "code",
   "execution_count": 126,
   "metadata": {},
   "outputs": [
    {
     "name": "stdout",
     "output_type": "stream",
     "text": [
      "AUC with XGBoost:  0.847558857937\n"
     ]
    }
   ],
   "source": [
    "# Compute ROC curve and area the curve\n",
    "fpr, tpr, thresholds = roc_curve(Y_test, Y_pred[:, 1])\n",
    "roc_auc = auc(fpr, tpr)\n",
    "print(\"AUC with XGBoost: \" , roc_auc)"
   ]
  },
  {
   "cell_type": "code",
   "execution_count": 142,
   "metadata": {
    "collapsed": true
   },
   "outputs": [],
   "source": [
    "#tune the RandomForest n_estimators parameter:\n",
    "\n",
    "min_estimators = 40\n",
    "max_estimators = 80\n",
    "\n",
    "clf = RandomForestClassifier(criterion='entropy', warm_start=True, oob_score=True, random_state=101)\n",
    "\n",
    "# for i in range(min_estimators, max_estimators+1):\n",
    "#     clf.set_params(n_estimators=i)\n",
    "#     clf.fit(X_train,Y_train)\n",
    "#     oob_score = clf.oob_score_\n",
    "#     print(i, oob_score)\n",
    "\n",
    "#best Out-Of-Bag score was n_estimators = 70"
   ]
  },
  {
   "cell_type": "code",
   "execution_count": 174,
   "metadata": {},
   "outputs": [
    {
     "name": "stdout",
     "output_type": "stream",
     "text": [
      "f1 score is:  0.923536439665\n",
      "AUC with StackingClassifier:  0.888736565036\n",
      "Confusion_matrix: \n",
      " [[ 16 125]\n",
      " [  3 773]]\n",
      "Accuracy score: \n",
      " 0.860414394766 \n",
      "\n"
     ]
    }
   ],
   "source": [
    "#Let's switch gears and try an all tree boosting ensemble\n",
    "\n",
    "clf1 = RandomForestClassifier(n_estimators=100, n_jobs=-1, criterion='gini')\n",
    "clf2 = RandomForestClassifier(n_estimators=100, n_jobs=-1, criterion='entropy')\n",
    "clf3 = ExtraTreesClassifier(n_estimators=100, n_jobs=-1, criterion='gini')\n",
    "clf4 = ExtraTreesClassifier(n_estimators=100, n_jobs=-1, criterion='entropy')\n",
    "clf5 = GradientBoostingClassifier(learning_rate=0.01, subsample=0.5, max_depth=6, n_estimators=100)\n",
    "clf6 = xgb.XGBClassifier(seed=82, n_estimators=1100 , max_depth=3, colsample_bylevel=0.8,\n",
    "                          colsample_bytree=0.7,learning_rate=0.01, reg_lambda=0.1 , \n",
    "                           scale_pos_weight = 0.18357862)\n",
    "clf7 = AdaBoostClassifier(n_estimators=100,learning_rate=1,random_state=101)\n",
    "\n",
    "vclf = VotingClassifier(estimators=[('rfgini',clf1),('rfentropy',clf2),('extgini',clf3),\n",
    "                                   ('extentropy',clf4), ('gbc',clf5), ('xgb',clf6), ('ada',clf7)\n",
    "                                   ], voting='soft')\n",
    "\n",
    "vclf = vclf.fit(X_train_std,Y_train)\n",
    "\n",
    "probas_ = vclf.predict_proba(X_test_std) #submit these predictions\n",
    "\n",
    "Y_pred = vclf.predict(X_test_std)\n",
    "\n",
    "print(\"f1 score is: \", f1_score(Y_test,Y_pred)) \n",
    "\n",
    "# Compute ROC curve and area the curve\n",
    "fpr, tpr, thresholds = roc_curve(Y_test, probas_[:, 1])\n",
    "roc_auc = auc(fpr, tpr)\n",
    "print(\"AUC with StackingClassifier: \" , roc_auc)\n",
    "# Print out confusion matrix\n",
    "confusion_matrix = metrics.confusion_matrix(Y_test, Y_pred)\n",
    "print ('Confusion_matrix: \\n', confusion_matrix)\n",
    "# Print out accuracy\n",
    "print ('Accuracy score: \\n', metrics.accuracy_score(Y_test, Y_pred), '\\n')\n"
   ]
  },
  {
   "cell_type": "markdown",
   "metadata": {},
   "source": [
    "AUC score of 0.88873! best score so far (before Kaggle submission).\n",
    "\n",
    "Let's try it."
   ]
  },
  {
   "cell_type": "code",
   "execution_count": 177,
   "metadata": {
    "collapsed": true
   },
   "outputs": [],
   "source": [
    "clf1 = RandomForestClassifier(n_estimators=100, n_jobs=-1, criterion='gini')\n",
    "clf2 = RandomForestClassifier(n_estimators=100, n_jobs=-1, criterion='entropy')\n",
    "clf3 = ExtraTreesClassifier(n_estimators=100, n_jobs=-1, criterion='gini')\n",
    "clf4 = ExtraTreesClassifier(n_estimators=100, n_jobs=-1, criterion='entropy')\n",
    "clf5 = GradientBoostingClassifier(learning_rate=0.01, subsample=0.5, max_depth=6, n_estimators=100)\n",
    "clf6 = xgb.XGBClassifier(seed=82, n_estimators=1100 , max_depth=3, colsample_bylevel=0.8,\n",
    "                          colsample_bytree=0.7,learning_rate=0.01, reg_lambda=0.1 , \n",
    "                           scale_pos_weight = 0.18357862)\n",
    "clf7 = AdaBoostClassifier(n_estimators=100,learning_rate=1,random_state=101)\n",
    "\n",
    "vclf = VotingClassifier(estimators=[('rfgini',clf1),('rfentropy',clf2),('extgini',clf3),\n",
    "                                   ('extentropy',clf4), ('gbc',clf5), ('xgb',clf6), ('ada',clf7)\n",
    "                                   ], voting='soft')\n",
    "\n",
    "vclf = vclf.fit(train_1,Y)\n",
    "\n",
    "preds = vclf.predict_proba(test_1) #submit these predictions"
   ]
  },
  {
   "cell_type": "code",
   "execution_count": 178,
   "metadata": {
    "collapsed": true
   },
   "outputs": [],
   "source": [
    "submission10 = pd.DataFrame([test_1.index,preds[:,1]]).T\n",
    "submission10.columns = ['id','output']\n",
    "submission10.id = submission10.id.astype(int)\n",
    "submission10.to_csv('McNutt_Jonathan_10.csv',index=False)"
   ]
  },
  {
   "cell_type": "markdown",
   "metadata": {},
   "source": [
    "10th Kaggle submission was a humble 0.69342.  I have no idea what happened here. This ensemble method got my best AUC score yet on my own X_test data!  And yet the Kaggle score went DOWN!??  \n",
    "\n",
    "I'm seriously at a loss for how to improve the Kaggle score now, since it seems inversely proportional to my notebook AUC score.\n"
   ]
  },
  {
   "cell_type": "code",
   "execution_count": 182,
   "metadata": {},
   "outputs": [
    {
     "name": "stdout",
     "output_type": "stream",
     "text": [
      "f1 score is:  0.915466499687\n",
      "AUC with StackingClassifier:  0.862360166703\n",
      "Confusion_matrix: \n",
      " [[ 51  90]\n",
      " [ 45 731]]\n",
      "Accuracy score: \n",
      " 0.852780806979 \n",
      "\n"
     ]
    }
   ],
   "source": [
    "#Let's switch gears and try an all tree boosting ensemble\n",
    "\n",
    "clf1 = GradientBoostingClassifier(learning_rate=.1, subsample=0.5, max_depth=6, n_estimators=100)\n",
    "clf2 = xgb.XGBClassifier(seed=82, n_estimators=100 , max_depth=3, colsample_bylevel=0.8,\n",
    "                          colsample_bytree=0.7,learning_rate=0.1, reg_lambda=0.1 , \n",
    "                           scale_pos_weight = 0.18357862)\n",
    "clf3 = AdaBoostClassifier(n_estimators=100,learning_rate=.1,random_state=101)\n",
    "\n",
    "vclf = VotingClassifier(estimators=[('gbc',clf1), ('xgb',clf2), ('ada',clf3)\n",
    "                                   ], voting='soft')\n",
    "\n",
    "vclf = vclf.fit(X_train,Y_train)\n",
    "\n",
    "probas_ = vclf.predict_proba(X_test) #submit these predictions\n",
    "\n",
    "Y_pred = vclf.predict(X_test)\n",
    "\n",
    "print(\"f1 score is: \", f1_score(Y_test,Y_pred)) \n",
    "\n",
    "# Compute ROC curve and area the curve\n",
    "fpr, tpr, thresholds = roc_curve(Y_test, probas_[:, 1])\n",
    "roc_auc = auc(fpr, tpr)\n",
    "print(\"AUC with StackingClassifier: \" , roc_auc)\n",
    "# Print out confusion matrix\n",
    "confusion_matrix = metrics.confusion_matrix(Y_test, Y_pred)\n",
    "print ('Confusion_matrix: \\n', confusion_matrix)\n",
    "# Print out accuracy\n",
    "print ('Accuracy score: \\n', metrics.accuracy_score(Y_test, Y_pred), '\\n')"
   ]
  },
  {
   "cell_type": "code",
   "execution_count": 185,
   "metadata": {},
   "outputs": [
    {
     "name": "stdout",
     "output_type": "stream",
     "text": [
      "f1 score is:  0.923076923077\n",
      "AUC with StackingClassifier:  0.851347152153\n",
      "Confusion_matrix: \n",
      " [[ 28 113]\n",
      " [ 14 762]]\n",
      "Accuracy score: \n",
      " 0.861504907306 \n",
      "\n"
     ]
    }
   ],
   "source": [
    "clf = GradientBoostingClassifier(learning_rate=.01, subsample = 1, max_depth = 3, \n",
    "                                 n_estimators=1000, min_samples_split=2)\n",
    "\n",
    "clf = clf.fit(X_train,Y_train)\n",
    "\n",
    "probas_ = clf.predict_proba(X_test) #submit these predictions\n",
    "\n",
    "Y_pred = clf.predict(X_test)\n",
    "\n",
    "print(\"f1 score is: \", f1_score(Y_test,Y_pred)) \n",
    "\n",
    "# Compute ROC curve and area the curve\n",
    "fpr, tpr, thresholds = roc_curve(Y_test, probas_[:, 1])\n",
    "roc_auc = auc(fpr, tpr)\n",
    "print(\"AUC with StackingClassifier: \" , roc_auc)\n",
    "# Print out confusion matrix\n",
    "confusion_matrix = metrics.confusion_matrix(Y_test, Y_pred)\n",
    "print ('Confusion_matrix: \\n', confusion_matrix)\n",
    "# Print out accuracy\n",
    "print ('Accuracy score: \\n', metrics.accuracy_score(Y_test, Y_pred), '\\n')"
   ]
  },
  {
   "cell_type": "code",
   "execution_count": 204,
   "metadata": {},
   "outputs": [
    {
     "name": "stdout",
     "output_type": "stream",
     "text": [
      "(4584, 695) (3071, 695) (1513, 695)\n"
     ]
    }
   ],
   "source": [
    "#Split into training and test set - where the latter is 20% of the total \n",
    "X_train, X_test, Y_train, Y_test = train_test_split(train_1, Y, test_size=.33, random_state=20) \n",
    "print (train_1.shape, X_train.shape, X_test.shape)"
   ]
  },
  {
   "cell_type": "code",
   "execution_count": 211,
   "metadata": {
    "collapsed": true
   },
   "outputs": [],
   "source": [
    "from sklearn import svm\n",
    "\n",
    "clf = svm.SVC(C=1.0, cache_size=200, class_weight='balanced', coef0=0.5,\n",
    "  decision_function_shape=None, degree=3, gamma=0.001, kernel='rbf',\n",
    "  max_iter=100, probability=True, random_state=101, shrinking=True,\n",
    "  tol=0.001, verbose=False)\n",
    "\n",
    "clf = clf.fit(train_1,Y)\n",
    "\n",
    "preds = clf.predict_proba(test_1) #submit these predictions\n"
   ]
  },
  {
   "cell_type": "code",
   "execution_count": 212,
   "metadata": {
    "collapsed": true
   },
   "outputs": [],
   "source": [
    "submission11 = pd.DataFrame([test_1.index,preds[:,1]]).T\n",
    "submission11.columns = ['id','output']\n",
    "submission11.id = submission11.id.astype(int)\n",
    "submission11.to_csv('McNutt_Jonathan_11.csv',index=False)"
   ]
  },
  {
   "cell_type": "code",
   "execution_count": 3,
   "metadata": {},
   "outputs": [],
   "source": [
    "#try plotting some continuous variables against categorical, colored by the output\n",
    "\n",
    "train3 = pd.read_csv('train_data.csv')\n",
    "test3 = pd.read_csv('test_data.csv')"
   ]
  },
  {
   "cell_type": "code",
   "execution_count": 8,
   "metadata": {},
   "outputs": [
    {
     "data": {
      "image/png": "[encoded data removed]",
      "text/plain": [
       "<matplotlib.figure.Figure at 0x10dd5ae80>"
      ]
     },
     "metadata": {},
     "output_type": "display_data"
    }
   ],
   "source": [
    "sns.boxplot(x=\"phase\", y=\"x5\", hue=\"output\", data=train3);"
   ]
  },
  {
   "cell_type": "code",
   "execution_count": 9,
   "metadata": {},
   "outputs": [
    {
     "data": {
      "image/png": "[encoded data removed]",
      "text/plain": [
       "<matplotlib.figure.Figure at 0x10dc75198>"
      ]
     },
     "metadata": {},
     "output_type": "display_data"
    }
   ],
   "source": [
    "sns.boxplot(x=\"state\", y=\"x5\", hue=\"output\", data=train3);"
   ]
  },
  {
   "cell_type": "code",
   "execution_count": 23,
   "metadata": {},
   "outputs": [],
   "source": [
    "#drop the columns from train and test data\n",
    "train3 = train3.drop(columns_to_drop, axis=1)\n",
    "test3 = test3.drop(columns_to_drop, axis=1)"
   ]
  },
  {
   "cell_type": "code",
   "execution_count": 24,
   "metadata": {},
   "outputs": [
    {
     "data": {
      "text/plain": [
       "(4584, 550)"
      ]
     },
     "execution_count": 24,
     "metadata": {},
     "output_type": "execute_result"
    }
   ],
   "source": [
    "train3.shape"
   ]
  },
  {
   "cell_type": "code",
   "execution_count": 25,
   "metadata": {},
   "outputs": [
    {
     "data": {
      "text/plain": [
       "(1732, 549)"
      ]
     },
     "execution_count": 25,
     "metadata": {},
     "output_type": "execute_result"
    }
   ],
   "source": [
    "test3.shape"
   ]
  },
  {
   "cell_type": "code",
   "execution_count": 36,
   "metadata": {},
   "outputs": [],
   "source": [
    "# for i, column in enumerate(train3.columns):\n",
    "#     plt.figure(i)\n",
    "#     sns.violinplot(x='state',y=column,hue='output', data=train3, split=True).set_title('Boxplot of '+column+' versus State')\n",
    "#     plt.show()"
   ]
  },
  {
   "cell_type": "markdown",
   "metadata": {},
   "source": [
    "State Versus Columns, Colored by Output:\n",
    "\n",
    "State B: x5 > 0 then '1'\n",
    "State A: x8 < -50 then '0'\n",
    "State A: x12 > 0.5 then '1'\n",
    "State A: x13 > 0.5 then '1'\n",
    "State B: x24 < -0.15 then '0'\n",
    "State C: x24 < -0.15 then '0'\n",
    "State A: x24 < -0.2 then '0'\n",
    "State B: x41 > 1.1 then '0'  #X41 important\n",
    "State C: x41 > 1.1 then '0'\n",
    "State D: x41 > 1.1 then '0'\n",
    "State A: x41 > 1.08 then '0'\n",
    "State D: x76 < -0.025 then '0'\n",
    "\n",
    "KEY:\n",
    "State B: x106 > 440 then '0'\n",
    "State C: x106 > 440 then '0'\n",
    "State A: x106 > 440 then '0'\n",
    "State D: x106 > 440 then '0'\n",
    "\n",
    "KEY:\n",
    "State C: x116 > 1.05 then '0'\n",
    "KEY:\n",
    "State B: x117 > 1.05 then '0'\n",
    "State C: x117 > 1.05 then '0'\n",
    "KEY:\n",
    "State B: x201 < -0.5 then '0'\n",
    "State C: x201 < -0.5 then '0'\n",
    "KEY:\n",
    "State B: x202 < -0.1 then '0'\n",
    "State D: x202 < -0.1 then '1'\n",
    "KEY:\n",
    "State B: x203 < -0.1 then '0'\n",
    "KEY:\n",
    "State A: x205 > 1.0 then '1'\n"
   ]
  },
  {
   "cell_type": "code",
   "execution_count": 37,
   "metadata": {},
   "outputs": [],
   "source": [
    "# for i, column in enumerate(train3.columns):\n",
    "#     plt.figure(i)\n",
    "#     sns.violinplot(x='phase',y=column,hue='output', data=train3, split=True).set_title('Boxplot of '+column+' versus Phase')\n",
    "#     plt.show()"
   ]
  },
  {
   "cell_type": "markdown",
   "metadata": {
    "collapsed": true
   },
   "source": [
    "Phase 2: x145 > .25 then '1' \n",
    "Phase 2: x146 > .25 then '1' \n",
    "Phase 2: x147 > .25 then '1' \n",
    "Phase 2: x148 > .1 then '1' \n",
    "Phase 2: x149 > .5 then '1' \n",
    "Phase 2: x150 > .5 then '1' \n",
    "Phase 2: x151 > .25 then '1' \n",
    "Phase 2: x152 > .25 then '1' \n",
    "Phase 2: x153 > .25 then '1' \n",
    "Phase 2: x154 > .25 then '1' \n",
    "Phase 2: x155 > .25 then '1' \n",
    "Phase 2: x156 > .25 then '1' \n",
    "Phase 2: x157 > .1 then '1' \n",
    "Phase 2: x158 > .25 then '1' \n",
    "Phase 2: x159 > .25 then '1'\n",
    "Phase 2: x160 > .25 then '1' \n",
    "Phase 2: x162 > .25 then '1'  \n",
    "x163 same \n",
    "x164 same\n",
    "x166 same\n",
    "x167 same\n",
    "x168 same\n",
    "x170 same\n",
    "x171 same\n",
    "x172 same\n",
    "x174 same\n",
    "x175 same\n",
    "x176 same\n",
    "x178 same\n",
    "x179 same\n",
    "x180 same\n",
    "x182 same\n",
    "x183 same\n",
    "x184 same\n",
    "x186 same\n",
    "x187 same\n",
    "x188 same\n",
    "x190 same\n",
    "x191 same\n",
    "\n",
    "\n",
    "\n",
    "\n"
   ]
  },
  {
   "cell_type": "markdown",
   "metadata": {
    "collapsed": true
   },
   "source": [
    "phase 2: x35 > 0.5 then '1'\n",
    "phase 1: x35 < -1.75 then '1'\n",
    "phase 4: x35 < -1.75 then '0'\n",
    "\n",
    "phase 1: x41 > 1.1 then '0'\n",
    "phase 2: x41 > 1.1 then '0'\n",
    "phase 3: x41 > 1.1 then '0'\n",
    "phase 4: x41 > 1.1 then '0'\n",
    "\n",
    "phase 2: x49 > .25 then '1'\n",
    "phase 2: x50 > .25 then '1'\n",
    "phase 2: x51 > .25 then '1'\n",
    "phase 2: x52 > .25 then '1'\n",
    "phase 2: x53 > .25 then '1'\n",
    "x54 same\n",
    "x55 same\n",
    "x56 same\n",
    "\n",
    "phase 4: x76 < -0.02 then '0'\n",
    "x77 same\n",
    "x78 same\n",
    "x79 same\n",
    "x80 same\n",
    "\n",
    "KEY:\n",
    "Phase 3: x106 > 450 then '0'\n",
    "Phase 1: x106 > 440 then '1'\n",
    "Phase 2: x106 > 440 then '0'\n",
    "Phase 4: x106 > 440 then '0'\n",
    "\n",
    "KEY:\n",
    "Phase 1: x114 > 1.15 then '0'\n",
    "Phase 2: x114 > 1.15 then '0'\n",
    "\n",
    "KEY:\n",
    "Phase 1: x115 > 1.1 then '0'\n",
    "Phase 3: x115 > 1.1 then '0'\n",
    "\n",
    "KEY:\n",
    "Phase 3: x116 > 1.1 then '0'\n",
    "\n",
    "KEY:\n",
    "Phase 1: x117 > 1.05 then '0'\n",
    "Phase 3: x117 > 1.05 then '0'\n",
    "\n",
    "\n"
   ]
  },
  {
   "cell_type": "code",
   "execution_count": null,
   "metadata": {
    "collapsed": true
   },
   "outputs": [],
   "source": []
  },
  {
   "cell_type": "code",
   "execution_count": null,
   "metadata": {
    "collapsed": true
   },
   "outputs": [],
   "source": []
  },
  {
   "cell_type": "code",
   "execution_count": null,
   "metadata": {
    "collapsed": true
   },
   "outputs": [],
   "source": []
  },
  {
   "cell_type": "code",
   "execution_count": null,
   "metadata": {
    "collapsed": true
   },
   "outputs": [],
   "source": []
  },
  {
   "cell_type": "code",
   "execution_count": null,
   "metadata": {
    "collapsed": true
   },
   "outputs": [],
   "source": []
  },
  {
   "cell_type": "code",
   "execution_count": null,
   "metadata": {
    "collapsed": true
   },
   "outputs": [],
   "source": []
  },
  {
   "cell_type": "code",
   "execution_count": null,
   "metadata": {
    "collapsed": true
   },
   "outputs": [],
   "source": []
  }
 ],
 "metadata": {
  "kernelspec": {
   "display_name": "Python 3",
   "language": "python",
   "name": "python3"
  },
  "language_info": {
   "codemirror_mode": {
    "name": "ipython",
    "version": 3
   },
   "file_extension": ".py",
   "mimetype": "text/x-python",
   "name": "python",
   "nbconvert_exporter": "python",
   "pygments_lexer": "ipython3",
   "version": "3.6.1"
  }
 },
 "nbformat": 4,
 "nbformat_minor": 2
}
